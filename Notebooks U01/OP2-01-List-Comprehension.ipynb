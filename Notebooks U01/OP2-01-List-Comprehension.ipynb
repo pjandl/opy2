{
 "cells": [
  {
   "cell_type": "markdown",
   "metadata": {},
   "source": [
    "<img src='op2-u01.png'/>\n",
    "<h2><font color='#7F0000'>OP2-01-List Comprehension</font></h2>"
   ]
  },
  {
   "cell_type": "markdown",
   "metadata": {},
   "source": [
    "## Definição"
   ]
  },
  {
   "cell_type": "code",
   "execution_count": null,
   "metadata": {},
   "outputs": [],
   "source": [
    "# List Comprehension é um mecanismo que permite a definição dos elementos\n",
    "# de uma lista por meio de uma expressão contida na própria definição da\n",
    "# lista.\n",
    "# É uma forma compacta, elegante e muito versátil para criar listas cujo\n",
    "# conteúdo é determinado por alguma regra de formação ou função."
   ]
  },
  {
   "cell_type": "markdown",
   "metadata": {},
   "source": [
    "### Revisão de listas\n",
    "<ul>\n",
    "    <li><a href=\"https://github.com/pjandl/opy1/blob/master/Notebooks%20U04/OP1-16-Listas.ipynb\">Notebook OP1-16-Listas</a></li>\n",
    "</ul>"
   ]
  },
  {
   "cell_type": "markdown",
   "metadata": {},
   "source": [
    "## Criação de listas"
   ]
  },
  {
   "cell_type": "code",
   "execution_count": null,
   "metadata": {},
   "outputs": [],
   "source": [
    "# Criamos uma lista com o uso de colchetes\n",
    "listaVazia = []\n",
    "listaComNumeros = [1, 10, 100]\n",
    "# Na list comprehension, indicamos um gerador de elementos no interior dos colchetes\n",
    "# que tem duas partes:\n",
    "# - uma expressão para calcular o valor de cada elemento e \n",
    "# um laço for que dá valor a uma variável presente na expressão."
   ]
  },
  {
   "cell_type": "code",
   "execution_count": null,
   "metadata": {},
   "outputs": [],
   "source": [
    "# Cria lista com valores de 0 a 9 com uso de for e range\n",
    "lista1 = []\n",
    "for n in range(10):\n",
    "    lista1.append(n)\n",
    "print(lista1)"
   ]
  },
  {
   "cell_type": "code",
   "execution_count": null,
   "metadata": {},
   "outputs": [],
   "source": [
    "# Cria lista com valores de 0 a 9 com uso de list comprehension onde:\n",
    "# n é a expressão (que tem a variável n apenas)\n",
    "# for n in range(10) é o laço que dá valores para n\n",
    "lista1 = [n for n in range(10)]\n",
    "print(lista1)"
   ]
  },
  {
   "cell_type": "code",
   "execution_count": null,
   "metadata": {},
   "outputs": [],
   "source": [
    "# Cria lista com valores pares de 0 a 20  com uso de for e range\n",
    "lista2 = []\n",
    "for n in range(10+1):\n",
    "    lista2.append(2*n)\n",
    "print(lista2)"
   ]
  },
  {
   "cell_type": "code",
   "execution_count": null,
   "metadata": {},
   "outputs": [],
   "source": [
    "# Cria lista com valores pares de 0 a 20 com uso de list comprehension onde:\n",
    "# 2*n é a expressão (que tem a variável n apenas)\n",
    "# for n in range(10+1) é o laço que dá valores para n\n",
    "lista2 = [2*n for n in range(10+1)]\n",
    "print(lista2)"
   ]
  },
  {
   "cell_type": "markdown",
   "metadata": {},
   "source": [
    "## Usos de list comprehension"
   ]
  },
  {
   "cell_type": "code",
   "execution_count": null,
   "metadata": {},
   "outputs": [],
   "source": [
    "# A expressão usada na list comprehension pode ser mais complexa:\n",
    "lista3 = [(9/5)*c + 32 for c in range(0, 101, 10)]\n",
    "print(lista3)"
   ]
  },
  {
   "cell_type": "code",
   "execution_count": null,
   "metadata": {},
   "outputs": [],
   "source": [
    "# Uma lista existente pode fornecer os valores para a expressão da list comprehension\n",
    "lista4 = [x + 1 for x in lista2]\n",
    "print(lista4)"
   ]
  },
  {
   "cell_type": "code",
   "execution_count": null,
   "metadata": {},
   "outputs": [],
   "source": [
    "# Strings podem se transformar numa lista de seus caracteres\n",
    "lista5 = [c for c in 'Oficina Python 2']\n",
    "print(lista5)"
   ]
  },
  {
   "cell_type": "code",
   "execution_count": null,
   "metadata": {},
   "outputs": [],
   "source": [
    "# Pode ser aplicado um condicional para filtrar os elementos do for\n",
    "dados = [78, -91, 15, 0, -5, 88 , 97]\n",
    "lista6 = [x/2 for x in dados if x > 0]\n",
    "print(lista6)"
   ]
  },
  {
   "cell_type": "code",
   "execution_count": null,
   "metadata": {},
   "outputs": [],
   "source": [
    "# É possível aninhar operações de list comprehension\n",
    "lista7 = [f/2 for f in [(9/5)*c + 32 for c in range(0, 101, 10)]]\n",
    "print(lista7)"
   ]
  },
  {
   "cell_type": "code",
   "execution_count": null,
   "metadata": {},
   "outputs": [],
   "source": [
    "# Funções podem ser usadas na list comprehension\n",
    "# Uma função\n",
    "def fahrenheit_para_celsius(f):\n",
    "    return 5*(f - 32)/9\n",
    "# List comprehension com função\n",
    "lista8 = [fahrenheit_para_celsius(f) + 273 for f in lista7]\n",
    "print(lista8)"
   ]
  },
  {
   "cell_type": "markdown",
   "metadata": {},
   "source": [
    "### FIM\n",
    "### <a href=\"http://github.com/pjandl/opy2\">Oficina Python Intermediário</a>"
   ]
  }
 ],
 "metadata": {
  "kernelspec": {
   "display_name": "Python 3",
   "language": "python",
   "name": "python3"
  },
  "language_info": {
   "codemirror_mode": {
    "name": "ipython",
    "version": 3
   },
   "file_extension": ".py",
   "mimetype": "text/x-python",
   "name": "python",
   "nbconvert_exporter": "python",
   "pygments_lexer": "ipython3",
   "version": "3.8.5"
  }
 },
 "nbformat": 4,
 "nbformat_minor": 4
}
