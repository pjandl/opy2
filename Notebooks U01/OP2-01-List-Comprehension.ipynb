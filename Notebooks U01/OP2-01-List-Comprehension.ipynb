{
 "cells": [
  {
   "cell_type": "markdown",
   "metadata": {},
   "source": [
    "<img src='op2-u01.png'/>\n",
    "<h2><font color='#7F0000'>OP2-01-List Comprehension</font></h2>"
   ]
  },
  {
   "cell_type": "markdown",
   "metadata": {},
   "source": [
    "<table width='100%'>\n",
    "    <tbody>\n",
    "        <tr>\n",
    "            <td width='33%' style='text-align: left; background-color: #DDDDDD; vertical-align: top;'><!-- Notebook Anterior -->&nbsp;<br></td>\n",
    "            <td width='34%' style='text-align: left; background-color: #DDDDDD; vertical-align: top;'>Revisão<br/><a href=\"https://github.com/pjandl/opy1/blob/master/Notebooks%20U04/OP1-16-Listas.ipynb\">OP1-16-Listas</a></td>\n",
    "            <td width='33%' style='text-align: left; background-color: #DDDDDD; vertical-align: top;'>Próximo Notebook<br/><a href=\"OP2-02-Lambdas.ipynb\">OP2-02-Lambdas</a></td>\n",
    "        </tr>\n",
    "    </tbody>    \n",
    "</table>"
   ]
  },
  {
   "cell_type": "markdown",
   "metadata": {},
   "source": [
    "## Definição"
   ]
  },
  {
   "cell_type": "markdown",
   "metadata": {},
   "source": [
    "<p><b><i>List Comprehension</i></b> (ou <i>compreensão de listas</i>) é um mecanismo que permite a definição dos elementos de uma lista por meio de uma expressão contida na própria definição da lista.</p>\n",
    "<p>É uma forma compacta, elegante e muito versátil para criar listas cujo conteúdo é determinado por alguma regra de formação ou função.</p>\n",
    "<p><b>Referência</b>:<br/>\n",
    "<a href='https://docs.python.org/pt-br/3/tutorial/datastructures.html#list-comprehensions'>https://docs.python.org/pt-br/3/tutorial/datastructures.html#list-comprehensions</a></p>"
   ]
  },
  {
   "cell_type": "markdown",
   "metadata": {},
   "source": [
    "## Criação de listas"
   ]
  },
  {
   "cell_type": "code",
   "execution_count": null,
   "metadata": {},
   "outputs": [],
   "source": [
    "# Criação de uma lista com o uso de colchetes\n",
    "listaVazia = []\n",
    "listaComNumeros = [1, 10, 100]"
   ]
  },
  {
   "cell_type": "code",
   "execution_count": null,
   "metadata": {},
   "outputs": [],
   "source": [
    "# Criação de  lista com valores de 0 a 9 com uso de for e range\n",
    "lista1 = []\n",
    "for n in range(10):\n",
    "    lista1.append(n)\n",
    "print(lista1)"
   ]
  },
  {
   "cell_type": "markdown",
   "metadata": {},
   "source": [
    "<p>Na <i>list comprehension</i>, indicamos um gerador de elementos no interior dos colchete que tem duas partes:</p>\n",
    "<ul>\n",
    "    <li>uma expressão para calcular o valor de cada elemento e</li> \n",
    "    <li>um laço <tt>for</tt> que dá valor a uma variável presente na expressão.</li>\n",
    "</ul>\n",
    "<img src='op2-01-list-comprehension-01.png' alt='list comprehension'/>"
   ]
  },
  {
   "cell_type": "code",
   "execution_count": null,
   "metadata": {},
   "outputs": [],
   "source": [
    "# Cria lista com valores de 0 a 9 com uso de list comprehension onde:\n",
    "# n é a expressão (que tem a variável n apenas)\n",
    "# for n in range(10) é o laço que dá valores para n\n",
    "lista1 = [n for n in range(10)]\n",
    "print(lista1)"
   ]
  },
  {
   "cell_type": "code",
   "execution_count": null,
   "metadata": {},
   "outputs": [],
   "source": [
    "# Cria lista com valores pares de 0 a 20  com uso de for e range\n",
    "lista2 = []\n",
    "for n in range(10+1):\n",
    "    lista2.append(2*n)\n",
    "print(lista2)"
   ]
  },
  {
   "cell_type": "code",
   "execution_count": null,
   "metadata": {},
   "outputs": [],
   "source": [
    "# Cria lista com valores pares de 0 a 20 com uso de list comprehension onde:\n",
    "# 2*n é a expressão (que tem a variável n apenas)\n",
    "# for n in range(10+1) é o laço que dá valores para n\n",
    "lista2 = [2*n for n in range(10+1)]\n",
    "print(lista2)"
   ]
  },
  {
   "cell_type": "markdown",
   "metadata": {},
   "source": [
    "<img src='op2-01-list-comprehension-02.png' alt='list comprehension'/>"
   ]
  },
  {
   "cell_type": "markdown",
   "metadata": {},
   "source": [
    "## Usos de list comprehension"
   ]
  },
  {
   "cell_type": "code",
   "execution_count": null,
   "metadata": {},
   "outputs": [],
   "source": [
    "# A expressão usada na list comprehension pode ser mais complexa:\n",
    "lista3 = [(9/5)*c + 32 for c in range(0, 101, 10)]\n",
    "print(lista3)"
   ]
  },
  {
   "cell_type": "code",
   "execution_count": null,
   "metadata": {},
   "outputs": [],
   "source": [
    "# Uma lista existente pode fornecer os valores para a expressão da list comprehension\n",
    "lista4 = [x + 1 for x in lista2]\n",
    "print(lista4)"
   ]
  },
  {
   "cell_type": "code",
   "execution_count": null,
   "metadata": {},
   "outputs": [],
   "source": [
    "# Strings podem se transformar numa lista de seus caracteres\n",
    "lista5 = [c for c in 'Oficina Python 2']\n",
    "print(lista5)"
   ]
  },
  {
   "cell_type": "code",
   "execution_count": null,
   "metadata": {},
   "outputs": [],
   "source": [
    "# Lista de valores aleatórios (randômicos)\n",
    "import random as rnd\n",
    "lista6 = [rnd.randrange(10) for x in range(10)]\n",
    "print(lista6)"
   ]
  },
  {
   "cell_type": "markdown",
   "metadata": {},
   "source": [
    "## List comprehension com condicional"
   ]
  },
  {
   "cell_type": "markdown",
   "metadata": {},
   "source": [
    "<img src='op2-01-list-comprehension-03.png' alt='list comprehension'/>"
   ]
  },
  {
   "cell_type": "code",
   "execution_count": null,
   "metadata": {},
   "outputs": [],
   "source": [
    "# Pode ser aplicado um condicional para filtrar os elementos do for\n",
    "dados = [78, -91, 15, 0, -5, 88 , 97]\n",
    "lista7 = [x/2 for x in dados if x > 0]\n",
    "# Devido o condicional, alguns elementos de dados não são inclusos no resultado\n",
    "print(lista7)"
   ]
  },
  {
   "cell_type": "markdown",
   "metadata": {},
   "source": [
    "<img src='op2-01-list-comprehension-04.png' alt='list comprehension'/>"
   ]
  },
  {
   "cell_type": "code",
   "execution_count": null,
   "metadata": {},
   "outputs": [],
   "source": [
    "# Se necessário um condicional if/else, a sintaxe é bem diferente\n",
    "lista7 = [x/2 if x > 0 else -x for x in dados]\n",
    "# Devido o condicional, a inclusão de elementos obedece duas regras/formas x/2 ou -x\n",
    "print(lista7)"
   ]
  },
  {
   "cell_type": "code",
   "execution_count": null,
   "metadata": {},
   "outputs": [],
   "source": [
    "# Uma lista contendo 'F's e 'V's para a qual se desejam os 0's e 1's correspondentes\n",
    "listaIn = ['F', 'V', 'V', 'F', 'F', 'V', 'F']\n",
    "# Outro exemplo com condicional if/else e uso de constantes como expressões\n",
    "listaOut = [ 1 if elem == 'V' else 0 for elem in listaIn ]\n",
    "print(listaOut)"
   ]
  },
  {
   "cell_type": "markdown",
   "metadata": {},
   "source": [
    "## List comprehension aninhada"
   ]
  },
  {
   "cell_type": "code",
   "execution_count": null,
   "metadata": {},
   "outputs": [],
   "source": [
    "# É possível aninhar operações de list comprehension\n",
    "lista9 = [f/2 for f in [(9/5)*c + 32 for c in range(0, 101, 10)]]\n",
    "print(lista9)"
   ]
  },
  {
   "cell_type": "code",
   "execution_count": null,
   "metadata": {},
   "outputs": [],
   "source": [
    "# Uso de list comprehension aninhadas para geração de combinações\n",
    "elementos = [e for e in range(3)]\n",
    "print('elementos:', elementos)\n",
    "tuplas = [(e, f) for e in elementos for f in elementos ]\n",
    "print('tuplas   :', tuplas)\n",
    "somas = [e + f for e in elementos for f in elementos ]\n",
    "print('somas    :', somas)\n",
    "produtos = [e * f for e in elementos for f in elementos ]\n",
    "print('produtos :', produtos)"
   ]
  },
  {
   "cell_type": "markdown",
   "metadata": {},
   "source": [
    "## List comprehension com funções"
   ]
  },
  {
   "cell_type": "code",
   "execution_count": null,
   "metadata": {},
   "outputs": [],
   "source": [
    "# Funções podem ser usadas na list comprehension\n",
    "# Uma função\n",
    "def fahrenheit_para_celsius(f):\n",
    "    return 5*(f - 32)/9\n",
    "# List comprehension com função\n",
    "lista10 = [fahrenheit_para_celsius(f) + 273 for f in lista9]\n",
    "print(lista10)"
   ]
  },
  {
   "cell_type": "markdown",
   "metadata": {},
   "source": [
    "### FIM\n",
    "### <a href=\"http://github.com/pjandl/opy2\">Oficina Python Intermediário</a>"
   ]
  }
 ],
 "metadata": {
  "kernelspec": {
   "display_name": "Python 3",
   "language": "python",
   "name": "python3"
  },
  "language_info": {
   "codemirror_mode": {
    "name": "ipython",
    "version": 3
   },
   "file_extension": ".py",
   "mimetype": "text/x-python",
   "name": "python",
   "nbconvert_exporter": "python",
   "pygments_lexer": "ipython3",
   "version": "3.8.5"
  }
 },
 "nbformat": 4,
 "nbformat_minor": 4
}
