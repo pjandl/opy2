{
 "cells": [
  {
   "cell_type": "markdown",
   "metadata": {},
   "source": [
    "<img src='op2-u01.png'/>\n",
    "<h2><font color='#7F0000'>OP2-02-Lambdas</font></h2>"
   ]
  },
  {
   "cell_type": "markdown",
   "metadata": {},
   "source": [
    "<table width='100%'>\n",
    "    <tbody>\n",
    "        <tr>\n",
    "            <td width='33%' style='text-align: left; background-color: #DDDDDD; vertical-align: top;'>Notebook Anterior<br><a href=\"OP2-01-List-Comprehension.ipynb\">OP2-01-List-Comprehension</a></td>\n",
    "            <td width='34%' style='text-align: left; background-color: #DDDDDD; vertical-align: top;'>Notebooks de Revisão<br/>\n",
    "                <a href=\"https://github.com/pjandl/opy1/blob/master/Notebooks%20U03/OP1-12-Funcoes.ipynb\">OP1-12-Funções</a><br/>\n",
    "                <a href=\"https://github.com/pjandl/opy1/blob/master/Notebooks%20U03/OP1-13-Passagem-de-Parametros.ipynb\">OP1-13-Passagem-de-Parametros</a>\n",
    "            </td>\n",
    "            <td width='33%'style='text-align: left; background-color: #DDDDDD; vertical-align: top;'>Próximo Notebook<br/><a href=\"OP2-03-Map-Reduce-Filter.ipynb\">OP2-03-Map-Reduce-Filter</a></td>\n",
    "        </tr>\n",
    "    </tbody>    \n",
    "</table>"
   ]
  },
  {
   "cell_type": "markdown",
   "metadata": {},
   "source": [
    "## Definição"
   ]
  },
  {
   "cell_type": "markdown",
   "metadata": {},
   "source": [
    "<p>As expressões lambda, ou apenas lambdas, são funções anônimas que podem ser declaradas com maior simplicidade e usadas imediatamente no local de sua definição.</p>\n",
    "<p>Tal como funções comuns, podem ser parametrizadas e usualmente retornam\n",
    "um valor como resultado.</p>\n",
    "<p><b>Referência</b>:<br/>\n",
    "<a href='https://docs.python.org/3/reference/expressions.html#lambda'>https://docs.python.org/3/reference/expressions.html#lambda</a></p>"
   ]
  },
  {
   "cell_type": "code",
   "execution_count": null,
   "metadata": {},
   "outputs": [],
   "source": [
    "# Considere a definição de uma função para calcular o triplo de um valor\n",
    "def triplo(v):\n",
    "    resultado = 3 * v\n",
    "    return resultado"
   ]
  },
  {
   "cell_type": "code",
   "execution_count": null,
   "metadata": {},
   "outputs": [],
   "source": [
    "# Uso da função\n",
    "print(triplo(3))\n",
    "print(triplo('X'))"
   ]
  },
  {
   "cell_type": "code",
   "execution_count": null,
   "metadata": {},
   "outputs": [],
   "source": [
    "# Esta função pode ser reduzida, com o retorno direto do resultado do cálculo\n",
    "def triplo(v):\n",
    "    return 3 * v"
   ]
  },
  {
   "cell_type": "code",
   "execution_count": null,
   "metadata": {},
   "outputs": [],
   "source": [
    "# Uso da função (como antes)\n",
    "print(triplo(3))\n",
    "print(triplo('X'))"
   ]
  },
  {
   "cell_type": "code",
   "execution_count": null,
   "metadata": {},
   "outputs": [],
   "source": [
    "# Também é possível definir a função em uma linha\n",
    "def triplo(v): return 3 * v"
   ]
  },
  {
   "cell_type": "code",
   "execution_count": null,
   "metadata": {},
   "outputs": [],
   "source": [
    "# Uso da função (não muda)\n",
    "print(triplo(3))\n",
    "print(triplo('X'))"
   ]
  },
  {
   "cell_type": "markdown",
   "metadata": {},
   "source": [
    "<p>Nestes casos observamos que:</p>\n",
    "<ul>\n",
    "    <li>a função deve ser definida antes do local de sua utilização</li>\n",
    "    <li>para seu uso ocorra em local distinto da definição</li>\n",
    "</ul>"
   ]
  },
  {
   "cell_type": "code",
   "execution_count": null,
   "metadata": {},
   "outputs": [],
   "source": [
    "# Uma expressão lambda define uma função in-line, isto é, no local de uso\n",
    "# Observe o uso da palavra-reservada lambda\n",
    "triplo = lambda x : 3 * x"
   ]
  },
  {
   "cell_type": "code",
   "execution_count": null,
   "metadata": {},
   "outputs": [],
   "source": [
    "# Uso da função é o mesmo, independente de ter definição típica ou como lambda\n",
    "print(triplo(123))\n",
    "print(triplo('\\o/'))"
   ]
  },
  {
   "cell_type": "markdown",
   "metadata": {},
   "source": [
    "## Uso de lambdas"
   ]
  },
  {
   "cell_type": "code",
   "execution_count": null,
   "metadata": {},
   "outputs": [],
   "source": [
    "# Expressões lambda são apropriadas para criar funções simples\n",
    "first = lambda lista : lista[0]\n",
    "last = lambda lista : lista[-1]"
   ]
  },
  {
   "cell_type": "markdown",
   "metadata": {},
   "source": [
    "<table width='100%'>\n",
    "    <tr>\n",
    "        <td width='50%' style='text-align: left; background-color: #CCDDFF;'>\n",
    "            <tt><pre># Função comum\n",
    "def first(lista):\n",
    "    return lista[0]</pre></tt></td>\n",
    "        <td width='50%' style='text-align: left; background-color: #CCDDFF;'>\n",
    "            <tt><pre># Função lambda\n",
    "first = lambda lista : lista[0]\n",
    "            </pre></tt></td>\n",
    "    </tr>\n",
    "</table>"
   ]
  },
  {
   "cell_type": "code",
   "execution_count": null,
   "metadata": {},
   "outputs": [],
   "source": [
    "import random as rnd\n",
    "# Uso de list comprehension para criar lista com conteúdo aleatório\n",
    "lista = [rnd.randint(0, 11) for x in range(5)]\n",
    "\n",
    "# Exibe lista e usa funções criadas como lambdas\n",
    "print(lista)\n",
    "print(first(lista), '...', last(lista))"
   ]
  },
  {
   "cell_type": "code",
   "execution_count": null,
   "metadata": {},
   "outputs": [],
   "source": [
    "# Definição de lambda com dois parâmetros\n",
    "razao = lambda x, y : (x*y)/(x+y)"
   ]
  },
  {
   "cell_type": "code",
   "execution_count": null,
   "metadata": {},
   "outputs": [],
   "source": [
    "# uso da função lambda com laços for\n",
    "dados = []\n",
    "for x in range(1, 4):\n",
    "    for y in range(1, 4):\n",
    "        dados.append(razao(x, y))\n",
    "print(dados)"
   ]
  },
  {
   "cell_type": "code",
   "execution_count": null,
   "metadata": {},
   "outputs": [],
   "source": [
    "# uso da função lambda em list comprehension\n",
    "dados = [razao(x, y) for x in range(1,4) for y in range(1,4)]\n",
    "print(dados)"
   ]
  },
  {
   "cell_type": "markdown",
   "metadata": {},
   "source": [
    "## Lambdas com condicionais"
   ]
  },
  {
   "cell_type": "markdown",
   "metadata": {},
   "source": [
    "<p>Expressoes lambdas podem conter condicionais, ou seja, construções\n",
    "    <tt>if/else</tt> com a seguinte sintaxe:</p>\n",
    "<p><tt>lambda &lt;var_list&gt; : &lt;true_result&gt; if condition else &lt;false_result&gt;</tt></p>\n",
    "<p>onde:</p>\n",
    "<ul>\n",
    "    <li><tt>&lt;var_list&gt;</tt> lista de variáveis de entrada da expressão lambda</li>\n",
    "    <li><tt>&lt;true_result&gt;</tt> expressão cujo resultado é retornado quando a condição é <tt>True</tt>\n",
    "    <li><tt>condition</tt> expressão lógica que determina qual resultado é retornado\n",
    "    <li><tt>&lt;false_result&gt;</tt> expressão cujo resultado é retornado quando a condição é <tt>False</tt>\n",
    "</ul>    "
   ]
  },
  {
   "cell_type": "code",
   "execution_count": null,
   "metadata": {},
   "outputs": [],
   "source": [
    "# Definição de lambda contendo condicional\n",
    "menor = lambda x, y : x if x < y else y\n",
    "\n",
    "a = 100\n",
    "b = 33\n",
    "\n",
    "print(f'O menor valor entre {a} e {b} é {menor(a, b)}.')"
   ]
  },
  {
   "cell_type": "markdown",
   "metadata": {},
   "source": [
    "<p>Deve ser observado que nas expressões <tt>&lt;true_result&gt;</tt> e <tt>&lt;false_result&gt;</tt> não\n",
    "podem ser usadas funções de entrada e saída, tão pouco o lançamento de\n",
    "exceções; no entanto, podem utilizar outras funções previamente definidas.</p>"
   ]
  },
  {
   "cell_type": "code",
   "execution_count": null,
   "metadata": {},
   "outputs": [],
   "source": [
    "# Expressões lambda com condicionais\n",
    "first = lambda lista : lista[0] if len(lista) > 0 else None\n",
    "last = lambda lista : lista[-1] if len(lista) > 0 else None"
   ]
  },
  {
   "cell_type": "markdown",
   "metadata": {},
   "source": [
    "<table width='100%'>\n",
    "    <tr>\n",
    "        <td width='100%' style='text-align: left; background-color: #CCDDFF;'>\n",
    "            <tt><pre># Função comum\n",
    "def last(lista):\n",
    "    if len(lista) > 0:\n",
    "        return lista[-1]\n",
    "    else:\n",
    "        return None</pre></tt></td>\n",
    "    </tr>\n",
    "    <tr>\n",
    "        <td width='100%' style='text-align: left; background-color: #CCDDFF;'>\n",
    "            <tt><pre># Função lambda\n",
    "last = lambda lista : lista[-1] if len(lista) > 0 else None\n",
    "            </pre></tt></td>\n",
    "    </tr>\n",
    "</table>"
   ]
  },
  {
   "cell_type": "code",
   "execution_count": null,
   "metadata": {},
   "outputs": [],
   "source": [
    "lista = []\n",
    "print(lista, ':', first(lista), '...', last(lista))\n",
    "lista = ['único']\n",
    "print(lista, ':', first(lista), '...', last(lista))\n",
    "lista = ['primeiro', 2, 3, 4, 5, 'último']\n",
    "print(lista, ':', first(lista), '...', last(lista))"
   ]
  },
  {
   "cell_type": "markdown",
   "metadata": {},
   "source": [
    "## Bônus: list comprehension, lambda e gráficos"
   ]
  },
  {
   "cell_type": "code",
   "execution_count": null,
   "metadata": {},
   "outputs": [],
   "source": [
    "# importação do pacote matplotlib\n",
    "import matplotlib as mpl\n",
    "mpl.__version__"
   ]
  },
  {
   "cell_type": "code",
   "execution_count": null,
   "metadata": {},
   "outputs": [],
   "source": [
    "# importação do subpacote pyplot\n",
    "import matplotlib.pyplot as plt\n",
    "# comando 'mágico' para exibição do gráfico como conteúdo do notebook\n",
    "%matplotlib inline"
   ]
  },
  {
   "cell_type": "code",
   "execution_count": null,
   "metadata": {},
   "outputs": [],
   "source": [
    "# Função lambda que define um polinômio de 2o grau\n",
    "polinomio = lambda x : -1.5*x**2 + 3.7*x + 4.5\n",
    "\n",
    "# List comprehension para definir valores de x (abcissa)\n",
    "x = [v/10 for v in range(-50, 101, 5)]\n",
    "print('x\\n', x)\n",
    "\n",
    "# List comprehension para definir valores de y (ordenada) com uso de função (lambda)\n",
    "y = [polinomio(v) for v in x]\n",
    "print('y\\n', y)"
   ]
  },
  {
   "cell_type": "code",
   "execution_count": null,
   "metadata": {},
   "outputs": [],
   "source": [
    "# O método plot() cria gráfico de linha.\n",
    "# Autodefine as escalas dos eixos do gráfico\n",
    "plt.plot(x, y)\n",
    "# Rótulos dos eixos\n",
    "plt.xlabel('X')\n",
    "plt.ylabel('Y')\n",
    "# Título do gráfico\n",
    "plt.title('Polinômio')\n",
    "# O método scatter cria gráfico de pontos\n",
    "# Gráficos de linha e de pontos serão sobrepostos (combinados)\n",
    "plt.scatter(x, y, color = 'r', marker = 'o', s = 10)\n",
    "# Exibição do gráfico\n",
    "plt.show()"
   ]
  },
  {
   "cell_type": "markdown",
   "metadata": {},
   "source": [
    "### FIM\n",
    "### <a href=\"http://github.com/pjandl/opy2\">Oficina Python Intermediário</a>"
   ]
  }
 ],
 "metadata": {
  "kernelspec": {
   "display_name": "Python 3",
   "language": "python",
   "name": "python3"
  },
  "language_info": {
   "codemirror_mode": {
    "name": "ipython",
    "version": 3
   },
   "file_extension": ".py",
   "mimetype": "text/x-python",
   "name": "python",
   "nbconvert_exporter": "python",
   "pygments_lexer": "ipython3",
   "version": "3.8.5"
  }
 },
 "nbformat": 4,
 "nbformat_minor": 4
}
