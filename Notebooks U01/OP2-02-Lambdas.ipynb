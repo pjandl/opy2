{
 "cells": [
  {
   "cell_type": "markdown",
   "metadata": {},
   "source": [
    "<img src='op2-u01.png'/>\n",
    "<h2><font color='#7F0000'>OP2-02-Lambdas</font></h2>"
   ]
  },
  {
   "cell_type": "markdown",
   "metadata": {},
   "source": [
    "## Definição"
   ]
  },
  {
   "cell_type": "code",
   "execution_count": null,
   "metadata": {},
   "outputs": [],
   "source": [
    "# As expressões lambda, ou apenas lambdas, são funções anônimas que podem\n",
    "# ser declaradas com maior simplicidade e usadas imediatamente no local de \n",
    "# sua definição.\n",
    "# Tal como funções comuns, podem ser parametrizadas e usualmente retornam\n",
    "# um valor como resultado."
   ]
  },
  {
   "cell_type": "markdown",
   "metadata": {},
   "source": [
    "### Revisão de funções\n",
    "<ul>\n",
    "    <li><a href=\"https://github.com/pjandl/opy1/blob/master/Notebooks%20U03/OP1-12-Funcoes.ipynb\n",
    "\">Notebook OP1-12-Funções</a></li>\n",
    "    <li><a href=\"https://github.com/pjandl/opy1/blob/master/Notebooks%20U03/OP1-13-Passagem-de-Parametros.ipynb\n",
    "\">Notebook OP1-13-Passagem-de-Parametros</a></li>\n",
    "</ul>"
   ]
  },
  {
   "cell_type": "code",
   "execution_count": null,
   "metadata": {},
   "outputs": [],
   "source": [
    "# Considere a definição de uma função para calcular o triplo de um valor\n",
    "def triplo(v):\n",
    "    resultado = 3 * v\n",
    "    return resultado"
   ]
  },
  {
   "cell_type": "code",
   "execution_count": null,
   "metadata": {},
   "outputs": [],
   "source": [
    "# Uso da função\n",
    "print(triplo(3))\n",
    "print(triplo('X'))"
   ]
  },
  {
   "cell_type": "code",
   "execution_count": null,
   "metadata": {},
   "outputs": [],
   "source": [
    "# Esta função pode ser reduzida, com o retorno direto do resultado do cálculo\n",
    "def triplo(v):\n",
    "    return 3 * v"
   ]
  },
  {
   "cell_type": "code",
   "execution_count": null,
   "metadata": {},
   "outputs": [],
   "source": [
    "# Uso da função (como antes)\n",
    "print(triplo(3))\n",
    "print(triplo('X'))"
   ]
  },
  {
   "cell_type": "code",
   "execution_count": null,
   "metadata": {},
   "outputs": [],
   "source": [
    "# Também é possível definir a função em uma linha\n",
    "def triplo(v): return 3 * v"
   ]
  },
  {
   "cell_type": "code",
   "execution_count": null,
   "metadata": {},
   "outputs": [],
   "source": [
    "# Uso da função (não muda)\n",
    "print(triplo(3))\n",
    "print(triplo('X'))"
   ]
  },
  {
   "cell_type": "code",
   "execution_count": null,
   "metadata": {},
   "outputs": [],
   "source": [
    "# Nestes casos observamos que\n",
    "# -- a função deve ser definida antes do local de sua utilização\n",
    "# -- o uso da função em local distinto da definição"
   ]
  },
  {
   "cell_type": "code",
   "execution_count": null,
   "metadata": {},
   "outputs": [],
   "source": [
    "# Uma expressão lambda define uma função in-line, isto é, no local de uso\n",
    "# Observe o uso da palavra-reservada lambda\n",
    "triplo = lambda x : 3 * x"
   ]
  },
  {
   "cell_type": "code",
   "execution_count": null,
   "metadata": {},
   "outputs": [],
   "source": [
    "# Uso da função é o mesmo, independente de ter definição típica ou como lâmbda\n",
    "print(triplo(123))\n",
    "print(triplo('\\o/'))"
   ]
  },
  {
   "cell_type": "markdown",
   "metadata": {},
   "source": [
    "## Uso de lambdas"
   ]
  },
  {
   "cell_type": "code",
   "execution_count": null,
   "metadata": {},
   "outputs": [],
   "source": [
    "# Expressões lambda são apropriadas para criar funções simples\n",
    "first = lambda lista : lista[0]\n",
    "last = lambda lista : lista[-1]"
   ]
  },
  {
   "cell_type": "code",
   "execution_count": null,
   "metadata": {},
   "outputs": [],
   "source": [
    "import random as rnd\n",
    "# Uso de list comprehension para criar lista com conteúdo aleatório\n",
    "lista = [rnd.randint(0, 11) for x in range(5)]\n",
    "\n",
    "# Exibe lista e usa funções criadas como lambdas\n",
    "print(lista)\n",
    "print(first(lista), '...', last(lista))"
   ]
  },
  {
   "cell_type": "code",
   "execution_count": null,
   "metadata": {},
   "outputs": [],
   "source": [
    "# Definição de lambda com dois parâmetros\n",
    "razao = lambda x, y : (x*y)/(x+y)"
   ]
  },
  {
   "cell_type": "code",
   "execution_count": null,
   "metadata": {},
   "outputs": [],
   "source": [
    "# uso da função lambda com laços for\n",
    "dados = []\n",
    "for x in range(1, 4):\n",
    "    for y in range(1, 4):\n",
    "        dados.append(razao(x, y))\n",
    "print(dados)"
   ]
  },
  {
   "cell_type": "code",
   "execution_count": null,
   "metadata": {},
   "outputs": [],
   "source": [
    "# uso da função lambda em list comprehension\n",
    "dados = [razao(x, y) for x in range(1,4) for y in range(1,4)]\n",
    "print(dados)"
   ]
  },
  {
   "cell_type": "code",
   "execution_count": 5,
   "metadata": {},
   "outputs": [
    {
     "name": "stdout",
     "output_type": "stream",
     "text": [
      "O menor valor entre 100 e 33 é 33.\n"
     ]
    }
   ],
   "source": [
    "# Definição de lambda contendo condicional\n",
    "menor = lambda x, y : x if (x < y) else y\n",
    "\n",
    "a = 100\n",
    "b = 33\n",
    "\n",
    "print(f'O menor valor entre {a} e {b} é {menor(a, b)}.')"
   ]
  },
  {
   "cell_type": "markdown",
   "metadata": {},
   "source": [
    "## Bônus: list comprehension, lambda e gráficos"
   ]
  },
  {
   "cell_type": "code",
   "execution_count": null,
   "metadata": {},
   "outputs": [],
   "source": [
    "import matplotlib as mpl\n",
    "mpl.__version__"
   ]
  },
  {
   "cell_type": "code",
   "execution_count": null,
   "metadata": {},
   "outputs": [],
   "source": [
    "import matplotlib.pyplot as plt\n",
    "%matplotlib inline"
   ]
  },
  {
   "cell_type": "code",
   "execution_count": null,
   "metadata": {},
   "outputs": [],
   "source": [
    "# Pode ser aplicado um condicional para filtrar os elementos do for\n",
    "polinomio = lambda x : -1.5*x**2 + 3.7*x + 4.5\n",
    "x = [v/10 for v in range(-50, 101, 5)]\n",
    "print('x\\n', x)\n",
    "y = [polinomio(v) for v in x]\n",
    "print('y\\n', y)"
   ]
  },
  {
   "cell_type": "code",
   "execution_count": null,
   "metadata": {},
   "outputs": [],
   "source": [
    "# O método plot() autodefine as escalas dos eixos do gráfico\n",
    "plt.plot(x, y)\n",
    "plt.xlabel('X')\n",
    "plt.ylabel('Y')\n",
    "plt.title('Polinômio')\n",
    "plt.scatter(x, y, color = 'r', marker = 'o', s = 10)\n",
    "plt.show()"
   ]
  },
  {
   "cell_type": "markdown",
   "metadata": {},
   "source": [
    "### FIM\n",
    "### <a href=\"http://github.com/pjandl/opy2\">Oficina Python Intermediário</a>"
   ]
  }
 ],
 "metadata": {
  "kernelspec": {
   "display_name": "Python 3",
   "language": "python",
   "name": "python3"
  },
  "language_info": {
   "codemirror_mode": {
    "name": "ipython",
    "version": 3
   },
   "file_extension": ".py",
   "mimetype": "text/x-python",
   "name": "python",
   "nbconvert_exporter": "python",
   "pygments_lexer": "ipython3",
   "version": "3.8.5"
  }
 },
 "nbformat": 4,
 "nbformat_minor": 4
}
