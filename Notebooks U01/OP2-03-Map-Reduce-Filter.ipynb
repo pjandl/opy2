{
 "cells": [
  {
   "cell_type": "markdown",
   "metadata": {},
   "source": [
    "<img src='op2-u01.png'/>\n",
    "<h2><font color='#7F0000'>OP2-03-Map-Reduce-Filter</font></h2>"
   ]
  },
  {
   "cell_type": "markdown",
   "metadata": {},
   "source": [
    "<table width='100%'>\n",
    "    <tbody>\n",
    "        <tr>\n",
    "            <td width='33%' style='text-align: left; background-color: #DDDDDD; vertical-align: top;'>Notebook Anterior<br><a href=\"OP2-02-Lambdas.ipynb\">OP2-02-Lambdas</a></td>\n",
    "            <td width='34%' style='text-align: left; background-color: #DDDDDD; vertical-align: top;'>&nbsp;<br/>\n",
    "            </td>\n",
    "            <td width='33%'style='text-align: left; background-color: #DDDDDD; vertical-align: top;'>Próximo Notebook<br/><a href=\"OP2-04-Tratamento-de-Excecoes.ipynb\">OP2-04-Tratamento-de-Excecoes</a></td>\n",
    "        </tr>\n",
    "    </tbody>    \n",
    "</table>"
   ]
  },
  {
   "cell_type": "markdown",
   "metadata": {},
   "source": [
    "## Mapeamento (map)"
   ]
  },
  {
   "cell_type": "markdown",
   "metadata": {},
   "source": [
    "O mapeamento permite a aplicação automática de uma função à todos os elementos de uma lista, retornando um iterator para a série de resultados produzidos.\n",
    "\n",
    "<img src='op2-03-map-01.png' alt='mapeamento'/>\n",
    "\n",
    "Isto significa que uma função (aqui representada por <tt>f()</tt>) será aplicada à todos os elementos do objeto *iterable* fornecido. Os objetos *iterable* são sequências que podem ser percorridas por <tt>for</tt>, tais como <tt>list</tt>, <tt>tuple</tt>, <tt>set</tt> ou <tt>str</tt>.\n",
    "\n",
    "**Referências**\n",
    "\n",
    "- https://docs.python.org/3/library/functions.html\n",
    "- https://docs.python.org/3/library/functions.html#map\n",
    "\n",
    "O mapeamento é realizado pela função *built-in* <tt>map()</tt>, cuja sintaxe é como segue:\n",
    "\n",
    "<img src='op2-03-map-02.png' alt='Sintaxe map'/>\n",
    "\n",
    "Podemos criar uma função <tt>volume</tt> como segue, para calcular o volume de uma esfera a partir do parâmetro <tt>raio</tt>."
   ]
  },
  {
   "cell_type": "code",
   "execution_count": 1,
   "metadata": {},
   "outputs": [],
   "source": [
    "import math\n",
    "# Dada a definição da função que segue\n",
    "def volume(raio):\n",
    "    volumeEsfera = (4 / 3) * math.pi * raio**3\n",
    "    return volumeEsfera"
   ]
  },
  {
   "cell_type": "markdown",
   "metadata": {},
   "source": [
    "Considere a lista contendo medidas dos raios de várias esferas como segue:"
   ]
  },
  {
   "cell_type": "code",
   "execution_count": 2,
   "metadata": {},
   "outputs": [],
   "source": [
    "# Lista com medidas de raios de esferas\n",
    "raios = [1.6, 2.8, 6.5, 1.0, 3.7]"
   ]
  },
  {
   "cell_type": "markdown",
   "metadata": {},
   "source": [
    "Para aplicar a função <tt>volume(raio)</tt> a todos os elementos da lista <tt>raios</tt>, criando uma nova lista com os volumes das respectivas esferas, poderíamos escrever:"
   ]
  },
  {
   "cell_type": "code",
   "execution_count": 3,
   "metadata": {},
   "outputs": [
    {
     "name": "stdout",
     "output_type": "stream",
     "text": [
      "[17.15728467880506, 91.95232257547082, 1150.3465099894624, 4.1887902047863905, 212.17479024304507]\n"
     ]
    }
   ],
   "source": [
    "volumes = []\n",
    "for r in raios:\n",
    "    volumes.append(volume(r))\n",
    "print(volumes)"
   ]
  },
  {
   "cell_type": "markdown",
   "metadata": {},
   "source": [
    "O uso da função <i>built-in</i> <tt>map</tt> permite simplificar esta tarefa, pois possibilita a aplicação da função <tt>volume(raio)</tt> aos elementos da lista <tt>raios</tt>, ou seja, seu <i>mapeamento</i>, retornando um objeto <i>iterator</i>, o qual pode ser percorrido por um <tt>for</tt>, convertido numa lista ou utilizado por outra função que aceite um objeto deste tipo."
   ]
  },
  {
   "cell_type": "code",
   "execution_count": 4,
   "metadata": {},
   "outputs": [
    {
     "data": {
      "text/plain": [
       "<map at 0x1d5f4daea90>"
      ]
     },
     "execution_count": 4,
     "metadata": {},
     "output_type": "execute_result"
    }
   ],
   "source": [
    "# Map aplica função volume(raio) aos elementos da lista raio\n",
    "map(volume, raios)"
   ]
  },
  {
   "cell_type": "code",
   "execution_count": 5,
   "metadata": {},
   "outputs": [
    {
     "data": {
      "text/plain": [
       "[17.15728467880506,\n",
       " 91.95232257547082,\n",
       " 1150.3465099894624,\n",
       " 4.1887902047863905,\n",
       " 212.17479024304507]"
      ]
     },
     "execution_count": 5,
     "metadata": {},
     "output_type": "execute_result"
    }
   ],
   "source": [
    "# Iterator retornado por map pode ser transformado em uma lista\n",
    "list(map(volume, raios))"
   ]
  },
  {
   "cell_type": "code",
   "execution_count": 6,
   "metadata": {},
   "outputs": [],
   "source": [
    "# A lista pode ser atribuída e ter outros usos\n",
    "volumes = list(map(volume, raios))"
   ]
  },
  {
   "cell_type": "code",
   "execution_count": 7,
   "metadata": {},
   "outputs": [
    {
     "name": "stdout",
     "output_type": "stream",
     "text": [
      "Raio       | Volume    \n",
      "Raio       | Volume    \n",
      "     1.600 |     17.157\n",
      "     2.800 |     91.952\n",
      "     6.500 |   1150.347\n",
      "     1.000 |      4.189\n",
      "     3.700 |    212.175\n"
     ]
    }
   ],
   "source": [
    "# Laço de repetição for para exibir conteúdo da lista\n",
    "print('{:10s} | {:10s}'.format(\"Raio\", \"Volume\"))\n",
    "print(f'{\"Raio\":10s} | {\"Volume\":10s}')\n",
    "for i in range(len(volumes)):\n",
    "    print(f'{raios[i]:10.3f} | {volumes[i]:10.3f}')"
   ]
  },
  {
   "cell_type": "markdown",
   "metadata": {},
   "source": [
    "A função utilizada pelo mapeamento pode ser definida por meio de um <i>lambda</i>, ou seja, como uma função anônima <i>in-line</i>."
   ]
  },
  {
   "cell_type": "code",
   "execution_count": 8,
   "metadata": {},
   "outputs": [
    {
     "data": {
      "text/plain": [
       "[17.15728467880506,\n",
       " 91.95232257547082,\n",
       " 1150.3465099894624,\n",
       " 4.1887902047863905,\n",
       " 212.17479024304507]"
      ]
     },
     "execution_count": 8,
     "metadata": {},
     "output_type": "execute_result"
    }
   ],
   "source": [
    "volumes = list(map(lambda r : (4 / 3) * math.pi * r**3, raios))\n",
    "volumes"
   ]
  },
  {
   "cell_type": "markdown",
   "metadata": {},
   "source": [
    "> É necessário **destacar** que a função utilizada no mapeamento deve ser compatível com os elementos existentes no objeto *iterable*, ou seja, a função deve ser capaz de lidar com os tipos de dados presentes na sequência fornecida, caso contrário, exceções lançadas impedirão que o mapeamento possa ser concluído."
   ]
  },
  {
   "cell_type": "markdown",
   "metadata": {},
   "source": [
    "Caso a função utilizada no mapeamento tome dois ou mais parâmetros, **devem** ser fornecidos objetos *iterable* na mesma quantidade, ou seja, um para cada parâmetro exigido pela função de mapeando."
   ]
  },
  {
   "cell_type": "code",
   "execution_count": 9,
   "metadata": {},
   "outputs": [],
   "source": [
    "# Consideremos agora duas listas (com tamanhos diferentes)\n",
    "listaA = [23, 54, 4, 35, 49, 19]\n",
    "listaB = [63, 16, 6, 28, 19, 30, 99, 103]"
   ]
  },
  {
   "cell_type": "code",
   "execution_count": 10,
   "metadata": {},
   "outputs": [
    {
     "name": "stdout",
     "output_type": "stream",
     "text": [
      "[86, 70, 10, 63, 68, 49]\n"
     ]
    }
   ],
   "source": [
    "# Os elementos destas listas podem ser somados gerando uma nova lista\n",
    "listaC = list(map(lambda x,y : x + y, listaA, listaB))\n",
    "print(listaC)"
   ]
  },
  {
   "cell_type": "markdown",
   "metadata": {},
   "source": [
    "Observe que quando são utilizados objetos *iterable* de tamanhos diferentes no mapeamento de uma função que toma diversos parâmetros, a aplicação da função considerará o tamanho da *menor sequência*, ou seja, serão produzidos resultados apenas quando existem valores para suprir todos os parâmetros da função."
   ]
  },
  {
   "cell_type": "code",
   "execution_count": 11,
   "metadata": {},
   "outputs": [
    {
     "name": "stdout",
     "output_type": "stream",
     "text": [
      "[86, 70, 10, 63, 68, 49]\n"
     ]
    }
   ],
   "source": [
    "# Soma dos elementos das listas indicadas em ordem diferente\n",
    "listaC = list(map(lambda x,y : x + y, listaB, listaA))\n",
    "print(listaC)"
   ]
  },
  {
   "cell_type": "markdown",
   "metadata": {},
   "source": [
    "<h4>Considerações adicionais:</h4>\n",
    "<ul>\n",
    "    <li>O uso de map equivale ao uso de lista comprehension para o processamento de uma lista contendo dados</li>\n",
    "    <li>O uso de map permite processar 2 ou mais listas de dados <i><b>linearmente</b></i>, ou seja, para listas <tt>A</tt> e <tt>B</tt>, a função é aplicada para <tt>(A[0],B[0])</tt>, <tt>(A[1],B[1])</tt> e assim por diante, até que a menor lista seja esgotada.</li>\n",
    "    <li>O uso de list comprehension permite processar 2 ou mais listas de dados <i><b>matricialmente</b></i>, ou seja, para listas <tt>A</tt> e <tt>B</tt>, a função é aplicada para <tt>(A[0],B[0])</tt> até <tt>(A[0],B[n])</tt>, <tt>(A[1],B[0])</tt> até <tt>(A[1],B[n])</tt>, produzindo todas as combinações entre os elementos de <tt>A</tt> e <tt>B</tt>.</li>\n",
    "</ul>"
   ]
  },
  {
   "cell_type": "markdown",
   "metadata": {},
   "source": [
    "## Redução (reduce)"
   ]
  },
  {
   "cell_type": "markdown",
   "metadata": {},
   "source": [
    "A redução permite a aplicação de uma função que recebe dois argumentos, à todos os elementos de uma lista, iniciando da esquerda (início) para direita (fim), para produzir um resultado final simples, tal como uma soma, um mínimo ou um produto, que agrega todos os dados da lista.\n",
    "\n",
    "<img src=\"op2-03-reduce-01.png\" alt=\"Redução\" />\n",
    "\n",
    "A operação de redução começa aplicando a função indicada aos dois primeiros valores da sequência, prosseguindo com a aplicação da função ao resultado obtido da aplicação anterior ao próximo valor da sequência, até que não existam mais valores na sequência. Desta maneira, a função deve tomar dois parâmetros e retornar um resultado do mesmo tipo. Se lista contém apenas um valor, o resultado da redução é este valor; se está vazia ocorre a exceção <tt>TypeError</tt>.\n",
    "\n",
    "A redução é realizada pela função <tt>reduce()</tt> que requer importação do módulo padrão <tt>functools</tt>. Sua sintaxe é como segue.\n",
    "\n",
    "<img src=\"op2-03-reduce-02.png\" alt=\"Sintaxe reduce\" />\n",
    "\n",
    "**Referência**\n",
    "\n",
    "- https://docs.python.org/3/library/functools.html"
   ]
  },
  {
   "cell_type": "code",
   "execution_count": 8,
   "metadata": {},
   "outputs": [],
   "source": [
    "# Importação da função reduce do módulo functools\n",
    "from functools import reduce"
   ]
  },
  {
   "cell_type": "markdown",
   "metadata": {},
   "source": [
    "Considere a lista de inteiros e a função <tt>menor(x, y)</tt> que seguem. Observe que a função toma dois parâmetros, comparando-os e retornando o menor valor."
   ]
  },
  {
   "cell_type": "code",
   "execution_count": 9,
   "metadata": {},
   "outputs": [],
   "source": [
    "# lista de inteiros\n",
    "valor = [31, 35, 64, 68, 95]"
   ]
  },
  {
   "cell_type": "code",
   "execution_count": 10,
   "metadata": {},
   "outputs": [],
   "source": [
    "# Definição de função tradicional com dois parâmetros\n",
    "def menor(x, y):\n",
    "    if x < y:\n",
    "        return x\n",
    "    else:\n",
    "        return y"
   ]
  },
  {
   "cell_type": "markdown",
   "metadata": {},
   "source": [
    "Com uso da função <tt>reduce</tt> é possível aplicar a função <tt>menor</tt> a todos os valores da lista <tt>valor</tt>, obtendo como resultado o *menor valor* contido na lista. "
   ]
  },
  {
   "cell_type": "code",
   "execution_count": 11,
   "metadata": {},
   "outputs": [
    {
     "name": "stdout",
     "output_type": "stream",
     "text": [
      "valor mínimo da lista = 31\n"
     ]
    }
   ],
   "source": [
    "print('valor mínimo da lista =', reduce(menor, valor))"
   ]
  },
  {
   "cell_type": "markdown",
   "metadata": {},
   "source": [
    "Exatamente pelo fato da função <tt>reduce</tt> retornar um único resultado à partir de uma sequência de valores é que é considerada uma função de *redução* ou de *agregação*.\n",
    "\n",
    "É bastante conveniente definir a função por meio de *lambdas*, como no exemplo que segue, equivalente ao anterior."
   ]
  },
  {
   "cell_type": "code",
   "execution_count": 12,
   "metadata": {},
   "outputs": [
    {
     "name": "stdout",
     "output_type": "stream",
     "text": [
      "valor mínimo da lista = 31\n"
     ]
    }
   ],
   "source": [
    "# Uso de lambda in-line\n",
    "print('valor mínimo da lista =', reduce(lambda x, y : x if (x < y) else y, valor))"
   ]
  },
  {
   "cell_type": "code",
   "execution_count": 17,
   "metadata": {},
   "outputs": [],
   "source": [
    "# Definição de função com lambda com dois parâmetros\n",
    "soma = lambda x, y : x + y"
   ]
  },
  {
   "cell_type": "code",
   "execution_count": 18,
   "metadata": {},
   "outputs": [
    {
     "name": "stdout",
     "output_type": "stream",
     "text": [
      "soma da lista = 293\n"
     ]
    }
   ],
   "source": [
    "# Redução da lista valor com aplicação da função soma\n",
    "resultado = reduce(soma, valor)\n",
    "print('soma da lista =', resultado)"
   ]
  },
  {
   "cell_type": "code",
   "execution_count": 19,
   "metadata": {},
   "outputs": [],
   "source": [
    "# Definição de função com lambda com dois parâmetros\n",
    "produto = lambda x, y : x * y"
   ]
  },
  {
   "cell_type": "code",
   "execution_count": 20,
   "metadata": {},
   "outputs": [
    {
     "name": "stdout",
     "output_type": "stream",
     "text": [
      "produto da lista = 448582400\n"
     ]
    }
   ],
   "source": [
    "# Redução da lista valor com aplicação da função produto\n",
    "resultado = reduce(produto, valor)\n",
    "print('produto da lista =', resultado)"
   ]
  },
  {
   "cell_type": "code",
   "execution_count": 21,
   "metadata": {},
   "outputs": [],
   "source": [
    "# Definição de lambda contendo condicional\n",
    "maior = lambda x, y : x if (x > y) else y"
   ]
  },
  {
   "cell_type": "code",
   "execution_count": 22,
   "metadata": {},
   "outputs": [
    {
     "name": "stdout",
     "output_type": "stream",
     "text": [
      "valor máximo da lista = 95\n"
     ]
    }
   ],
   "source": [
    "print('valor máximo da lista =', reduce(maior, valor))"
   ]
  },
  {
   "cell_type": "markdown",
   "metadata": {},
   "source": [
    "## Contagem"
   ]
  },
  {
   "cell_type": "markdown",
   "metadata": {},
   "source": [
    "A contagem de elementos presentes em listas, tuplas, conjuntos ou quaisquer outras sequências do Python é feita por meio da função *built-in* <tt>len</tt>. Objetos cujos elementos podem ser *contados* implementam o método especial <tt>__len__()</tt>, que será tratado posteriormente."
   ]
  },
  {
   "cell_type": "markdown",
   "metadata": {},
   "source": [
    "A contagem de elementos que atendem uma condição específica (um *predicado*) pode ser obtida pela combinação de três elementos:\n",
    "\n",
    "- uma função *lógica de predicado*, que, em vez de retorna um resultado lógico <tt>bool</tt>, produz <tt>1</tt> ou <tt>0</tt>) respectivamente quando o parâmetro recebido atende uma condição específica ou não;\n",
    "- a função de mapeamento <tt>map</tt> que aplica a função *lógica de predicado* aos elementos do objeto *iterable* recebido; e\n",
    "- a função *built-in* <tt>sum</tt> que soma o resultado do mapeamento, produzindo assim a contagem dos elementos que atendem ao predicado especificado.\n",
    "\n",
    "Considere a lista de valores denominada como <tt>lista</tt> que segue:"
   ]
  },
  {
   "cell_type": "code",
   "execution_count": 23,
   "metadata": {},
   "outputs": [],
   "source": [
    "lista = [1, 15, 6, 17, 20, 7, 15, 12, 19]"
   ]
  },
  {
   "cell_type": "markdown",
   "metadata": {},
   "source": [
    "E a função *lógica de predicado* para determinar se um valor é par:"
   ]
  },
  {
   "cell_type": "code",
   "execution_count": 24,
   "metadata": {},
   "outputs": [],
   "source": [
    "par = lambda n : 1 if (n % 2 == 0) else 0"
   ]
  },
  {
   "cell_type": "markdown",
   "metadata": {},
   "source": [
    "Aplicando a função <tt>par</tt> à lista de valores <tt>lista</tt> com <tt>map</tt>:"
   ]
  },
  {
   "cell_type": "code",
   "execution_count": 25,
   "metadata": {},
   "outputs": [
    {
     "data": {
      "text/plain": [
       "[0, 0, 1, 0, 1, 0, 0, 1, 0]"
      ]
     },
     "execution_count": 25,
     "metadata": {},
     "output_type": "execute_result"
    }
   ],
   "source": [
    "resultado = list(map(par, lista))\n",
    "resultado"
   ]
  },
  {
   "cell_type": "markdown",
   "metadata": {},
   "source": [
    "O mapeamento produz uma lista, aqui denominada <tt>resultado</tt>, onde os valores <tt>1</tt> correspondem aos elementos de <tt>lista</tt> que atendem ao predicado (i.e., são pares).\n",
    "\n",
    "A função *built-in* <<tt>sum</tt> pode ser então aplicada à esta lista <tt>resultado</tt>, somando seus valores, o que, consequentemente, representa a contagem dos elementos de <tt>lista</tt> que são pares."
   ]
  },
  {
   "cell_type": "code",
   "execution_count": 26,
   "metadata": {},
   "outputs": [
    {
     "data": {
      "text/plain": [
       "3"
      ]
     },
     "execution_count": 26,
     "metadata": {},
     "output_type": "execute_result"
    }
   ],
   "source": [
    "sum(resultado)"
   ]
  },
  {
   "cell_type": "markdown",
   "metadata": {},
   "source": [
    "Esta sequência de uso destas funções pode ser simplificada com seu aninhamento (observe que não é necessário transformar o resultado produzido por <tt>map</tt> em uma lista):"
   ]
  },
  {
   "cell_type": "code",
   "execution_count": 27,
   "metadata": {},
   "outputs": [
    {
     "data": {
      "text/plain": [
       "3"
      ]
     },
     "execution_count": 27,
     "metadata": {},
     "output_type": "execute_result"
    }
   ],
   "source": [
    "sum(map(par, lista))"
   ]
  },
  {
   "cell_type": "markdown",
   "metadata": {},
   "source": [
    "Também é possível aplicar uma função com <tt>reduce</tt> com o objetivo de obter uma contagem simples dos elementos presentes nos objetos *iterable* fornecidos ou a contagem de elementos que atendem um predicado específico. Mas isto requer:\n",
    "\n",
    "- utilizar o parâmetro opcional <tt>initializer</tt> para estabelecer um valor inicial da contagem;\n",
    "- criar uma função que efetue a contagem dos elementos (todos ou que atendem ao predicado desejado).\n",
    "\n",
    "Analise cuidadosamente o código da função <tt>conta_pares(cont, n)</tt> fornecida a seguir."
   ]
  },
  {
   "cell_type": "code",
   "execution_count": 13,
   "metadata": {},
   "outputs": [],
   "source": [
    "# Função para contagem de pares:\n",
    "# cont é um contador e n é o valor testado como par ou ímpar\n",
    "def conta_pares(cont, n):\n",
    "    # verifica se n é par\n",
    "    if n % 2 == 0:\n",
    "        return cont + 1 # retorna o contador incrementado, pois n é par\n",
    "    else:\n",
    "        return cont # retorna o contador sem modificação, pois n é ímpar"
   ]
  },
  {
   "cell_type": "markdown",
   "metadata": {},
   "source": [
    "Esta função pode ser aplicada a uma lista contendo inteiros pares e ímpares como segue:"
   ]
  },
  {
   "cell_type": "code",
   "execution_count": 20,
   "metadata": {},
   "outputs": [
    {
     "name": "stdout",
     "output_type": "stream",
     "text": [
      "Existem 4 pares na lista [0, 1, 2, 4, 7, 8] \b.\n"
     ]
    }
   ],
   "source": [
    "numeros = [0, 1, 2, 4, 7, 8]\n",
    "# Observe que reduce recebe um 3o argumento com o valor inicial da contagem (=0).\n",
    "numero_de_pares = reduce(conta_pares, numeros, 0)\n",
    "print('Existem', numero_de_pares, 'pares na lista', numeros, '\\b.')"
   ]
  },
  {
   "cell_type": "markdown",
   "metadata": {},
   "source": [
    "Quando a função <tt>reduce</tt> é empregada para obter contagens, é fundamental que receba um terceiro argumento com o valor inicial da contagem, usualmente um valor <tt>0</tt> (zero)."
   ]
  },
  {
   "cell_type": "code",
   "execution_count": 21,
   "metadata": {},
   "outputs": [
    {
     "name": "stdout",
     "output_type": "stream",
     "text": [
      "Existem 2 ímpares na lista [0, 1, 2, 4, 7, 8] \b.\n"
     ]
    }
   ],
   "source": [
    "# A função conta_pares também permite obter a contagem de valores ímpares\n",
    "print('Existem', len(numeros) - numero_de_pares, 'ímpares na lista', numeros, '\\b.')"
   ]
  },
  {
   "cell_type": "markdown",
   "metadata": {},
   "source": [
    "O uso de expressões *lambda* contendo condicionais também é bastante conveniente, como no exemplo que segue que efetua a contagem dos valores ímpares de uma lista de números."
   ]
  },
  {
   "cell_type": "code",
   "execution_count": 22,
   "metadata": {},
   "outputs": [],
   "source": [
    "numero_de_impares = reduce(lambda cont, n: cont + 1 if (n % 2 == 1) else cont, numeros, 0)"
   ]
  },
  {
   "cell_type": "code",
   "execution_count": 23,
   "metadata": {},
   "outputs": [
    {
     "name": "stdout",
     "output_type": "stream",
     "text": [
      "Existem 2 ímpares na lista [0, 1, 2, 4, 7, 8] \b.\n"
     ]
    }
   ],
   "source": [
    "# Contagem dos valores ímpares\n",
    "print('Existem', numero_de_impares, 'ímpares na lista', numeros, '\\b.')"
   ]
  },
  {
   "cell_type": "markdown",
   "metadata": {},
   "source": [
    "## Filtragem (filter)"
   ]
  },
  {
   "cell_type": "markdown",
   "metadata": {},
   "source": [
    "A filtragem permite a aplicação automática de uma função à todos os elementos de uma lista, verificando se atendem um critério determinado de maneira que seja produzida uma lista contendo apenas os elementos que satisfazem este predicado.\n",
    "\n",
    "<img src=\"op2-03-filter-01.png\" alt=\"Filtragem\" />\n",
    "\n",
    "A filtragem é realizada pela função <i>built-in</i> <tt>filter()</tt> que requer uma função lógica, isto é, cujo retorno seja do tipo <tt>bool</tt>.\n",
    "\n",
    "<img src=\"op2-03-filter-02.png\" alt=\"Sintaxe filter\" />\n",
    "\n",
    "**Referências**\n",
    "\n",
    "- https://docs.python.org/3/library/functions.html\n",
    "- https://docs.python.org/3/library/functions.html#filter"
   ]
  },
  {
   "cell_type": "code",
   "execution_count": 28,
   "metadata": {},
   "outputs": [],
   "source": [
    "# Uma lista com inteiros\n",
    "lista = [97, 70, 10, 44, 79, 2]"
   ]
  },
  {
   "cell_type": "code",
   "execution_count": 29,
   "metadata": {},
   "outputs": [],
   "source": [
    "# Uma função lógica\n",
    "def impar(valor):\n",
    "    if valor % 2 == 1:\n",
    "        return True\n",
    "    else:\n",
    "        return False"
   ]
  },
  {
   "cell_type": "code",
   "execution_count": 30,
   "metadata": {},
   "outputs": [
    {
     "data": {
      "text/plain": [
       "<filter at 0x1a443797fd0>"
      ]
     },
     "execution_count": 30,
     "metadata": {},
     "output_type": "execute_result"
    }
   ],
   "source": [
    "# Filtragem da lista com função lógica ímpar\n",
    "filter(impar, lista)"
   ]
  },
  {
   "cell_type": "code",
   "execution_count": 31,
   "metadata": {},
   "outputs": [
    {
     "data": {
      "text/plain": [
       "[97, 79]"
      ]
     },
     "execution_count": 31,
     "metadata": {},
     "output_type": "execute_result"
    }
   ],
   "source": [
    "# A função filter retorna um iterator que pode transformado em uma lista\n",
    "list(filter(impar, lista))"
   ]
  },
  {
   "cell_type": "code",
   "execution_count": 32,
   "metadata": {},
   "outputs": [],
   "source": [
    "# Outra função lógica\n",
    "def maior50(valor):\n",
    "    return valor > 50"
   ]
  },
  {
   "cell_type": "code",
   "execution_count": 33,
   "metadata": {},
   "outputs": [
    {
     "name": "stdout",
     "output_type": "stream",
     "text": [
      "97\n",
      "70\n",
      "79\n"
     ]
    }
   ],
   "source": [
    "# O iterator retornado por filter pode ser percorrido diretamente num laço for\n",
    "for v in filter(maior50, lista):\n",
    "    print(v)"
   ]
  },
  {
   "cell_type": "code",
   "execution_count": 34,
   "metadata": {},
   "outputs": [
    {
     "name": "stdout",
     "output_type": "stream",
     "text": [
      "10\n"
     ]
    }
   ],
   "source": [
    "# Pode ser empregada uma lambda\n",
    "for v in filter(lambda x : x >= 10 and x <=20, lista):\n",
    "    print(v)"
   ]
  },
  {
   "cell_type": "markdown",
   "metadata": {},
   "source": [
    "### FIM\n",
    "### <a href=\"http://github.com/pjandl/opy2\">Oficina Python Intermediário</a>"
   ]
  }
 ],
 "metadata": {
  "kernelspec": {
   "display_name": "Python 3",
   "language": "python",
   "name": "python3"
  },
  "language_info": {
   "codemirror_mode": {
    "name": "ipython",
    "version": 3
   },
   "file_extension": ".py",
   "mimetype": "text/x-python",
   "name": "python",
   "nbconvert_exporter": "python",
   "pygments_lexer": "ipython3",
   "version": "3.8.5"
  }
 },
 "nbformat": 4,
 "nbformat_minor": 4
}
