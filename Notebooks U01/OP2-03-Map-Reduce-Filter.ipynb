{
 "cells": [
  {
   "cell_type": "markdown",
   "metadata": {},
   "source": [
    "<img src='op2-u01.png'/>\n",
    "<h2><font color='#7F0000'>OP2-03-Map-Reduce-Filter</font></h2>"
   ]
  },
  {
   "cell_type": "markdown",
   "metadata": {},
   "source": [
    "## Mapeamento (map)"
   ]
  },
  {
   "cell_type": "code",
   "execution_count": 1,
   "metadata": {},
   "outputs": [],
   "source": [
    "# O mapeamento permite a aplicação automática de uma função à todos os\n",
    "# elementos de uma lista, retornando um iterator para a série de\n",
    "# resultados produzidos.\n",
    "# O mapeamento é realizado pela função map()."
   ]
  },
  {
   "cell_type": "code",
   "execution_count": 2,
   "metadata": {},
   "outputs": [],
   "source": [
    "import math\n",
    "# Dada a definição da função que segue\n",
    "def volume(raio):\n",
    "    volumeEsfera = (4 / 3) * math.pi * raio**3\n",
    "    return volumeEsfera"
   ]
  },
  {
   "cell_type": "code",
   "execution_count": 3,
   "metadata": {},
   "outputs": [],
   "source": [
    "# Considere a lista de medidas dos raios de várias esferas\n",
    "raio = [1.6, 2.8, 6.5, 1.0, 3.7]"
   ]
  },
  {
   "cell_type": "code",
   "execution_count": 4,
   "metadata": {},
   "outputs": [
    {
     "data": {
      "text/plain": [
       "<map at 0x7f9faf395a60>"
      ]
     },
     "execution_count": 4,
     "metadata": {},
     "output_type": "execute_result"
    }
   ],
   "source": [
    "# Mapeamento: aplicação da função volume(raio) aos elementos da lista raio\n",
    "# que retorna um iterator\n",
    "map(volume, raio)"
   ]
  },
  {
   "cell_type": "code",
   "execution_count": 5,
   "metadata": {},
   "outputs": [
    {
     "data": {
      "text/plain": [
       "[17.15728467880506,\n",
       " 91.95232257547082,\n",
       " 1150.3465099894624,\n",
       " 4.1887902047863905,\n",
       " 212.17479024304507]"
      ]
     },
     "execution_count": 5,
     "metadata": {},
     "output_type": "execute_result"
    }
   ],
   "source": [
    "# Mapeamento: aplicação da função volume(raio) aos elementos da lista raio\n",
    "# que retorna um iterator transformado em uma lista\n",
    "list(map(volume, raio))"
   ]
  },
  {
   "cell_type": "code",
   "execution_count": 6,
   "metadata": {},
   "outputs": [],
   "source": [
    "# A lista pode ser atribuída e ter outros usos\n",
    "volumes = list(map(volume, raio))"
   ]
  },
  {
   "cell_type": "code",
   "execution_count": 7,
   "metadata": {},
   "outputs": [
    {
     "name": "stdout",
     "output_type": "stream",
     "text": [
      "Raio       | Volume    \n",
      "Raio       | Volume    \n",
      "     1.600 |     17.157\n",
      "     2.800 |     91.952\n",
      "     6.500 |   1150.347\n",
      "     1.000 |      4.189\n",
      "     3.700 |    212.175\n"
     ]
    }
   ],
   "source": [
    "# Laço de repetição for para exibir conteúdo da lista\n",
    "print('{:10s} | {:10s}'.format(\"Raio\", \"Volume\"))\n",
    "print(f'{\"Raio\":10s} | {\"Volume\":10s}')\n",
    "for i in range(len(volumes)):\n",
    "    print(f'{raio[i]:10.3f} | {volumes[i]:10.3f}')"
   ]
  },
  {
   "cell_type": "code",
   "execution_count": 8,
   "metadata": {},
   "outputs": [],
   "source": [
    "# Consideremos agora duas listas (com tamanhos diferentes)\n",
    "listaA = [23, 54, 4, 35, 49, 19]\n",
    "listaB = [63, 16, 6, 28, 19, 30, 99]"
   ]
  },
  {
   "cell_type": "code",
   "execution_count": 9,
   "metadata": {},
   "outputs": [
    {
     "name": "stdout",
     "output_type": "stream",
     "text": [
      "[86, 70, 10, 63, 68, 49]\n"
     ]
    }
   ],
   "source": [
    "# Os elementos destas listas podem ser somados gerando uma nova lista\n",
    "listaC = list(map(lambda x,y : x + y, listaA, listaB))\n",
    "print(listaC)"
   ]
  },
  {
   "cell_type": "code",
   "execution_count": 10,
   "metadata": {},
   "outputs": [],
   "source": [
    "# Observe que os resultados consideram o tamanho da lista *menor*"
   ]
  },
  {
   "cell_type": "code",
   "execution_count": 11,
   "metadata": {},
   "outputs": [
    {
     "name": "stdout",
     "output_type": "stream",
     "text": [
      "[86, 70, 10, 63, 68, 49]\n"
     ]
    }
   ],
   "source": [
    "# Soma dos elementos das listas indicadas em ordem diferente\n",
    "listaC = list(map(lambda x,y : x + y, listaB, listaA))\n",
    "print(listaC)"
   ]
  },
  {
   "cell_type": "markdown",
   "metadata": {},
   "source": [
    "<h4>Considerações adicionais:</h4>\n",
    "<ul>\n",
    "    <li>O uso de map equivale ao uso de lista comprehension para o processamento de uma lista contendo dados</li>\n",
    "    <li>O uso de map permite processar 2 ou mais listas de dados <i><b>linearmente</b></i>, ou seja, para listas A e B, a função é aplicada para (A[0],B[0]), (A[1],B[1]) e assim por diante, até que a menor lista seja esgotada.</li>\n",
    "    <li>O uso de list comprehension permite processar 2 ou mais listas de dados <i><b>matricialmente</b></i>, ou seja, para listas A e B, a função é aplicada para (A[0],B[0]) até (A[0],B[n]), (A[1],B[0]) até (A[1],B[n]), produzindo todas as combinações entre os elementos de A e B.</li>\n",
    "</ul>"
   ]
  },
  {
   "cell_type": "markdown",
   "metadata": {},
   "source": [
    "## Redução (reduce)"
   ]
  },
  {
   "cell_type": "code",
   "execution_count": 12,
   "metadata": {},
   "outputs": [],
   "source": [
    "# A redução permite a aplicação de uma função à todos os elementos de uma\n",
    "# lista para produzir um resultado final simples, tal como uma soma, um mínimo\n",
    "# ou um produto, que agrega todos os dados da lista.\n",
    "# A redução é realizada pela função reduce() que requer importação\n",
    "# do módulo padrão functools."
   ]
  },
  {
   "cell_type": "code",
   "execution_count": 13,
   "metadata": {},
   "outputs": [],
   "source": [
    "# Importação da função reduce do módulo functools\n",
    "from functools import reduce"
   ]
  },
  {
   "cell_type": "code",
   "execution_count": 14,
   "metadata": {},
   "outputs": [],
   "source": [
    "# Definição de função com lambda com dois parâmetros\n",
    "soma = lambda x, y : x + y"
   ]
  },
  {
   "cell_type": "code",
   "execution_count": 15,
   "metadata": {},
   "outputs": [],
   "source": [
    "# Considere a lista de inteiros que segue\n",
    "valor = [31, 35, 64, 68, 95]"
   ]
  },
  {
   "cell_type": "code",
   "execution_count": 16,
   "metadata": {},
   "outputs": [
    {
     "name": "stdout",
     "output_type": "stream",
     "text": [
      "soma da lista = 293\n"
     ]
    }
   ],
   "source": [
    "# Redução da lista valor com aplicação da função soma\n",
    "resultado = reduce(soma, valor)\n",
    "print('soma da lista =', resultado)"
   ]
  },
  {
   "cell_type": "code",
   "execution_count": 17,
   "metadata": {},
   "outputs": [],
   "source": [
    "# Definição de função com lambda com dois parâmetros\n",
    "produto = lambda x, y : x * y"
   ]
  },
  {
   "cell_type": "code",
   "execution_count": 18,
   "metadata": {},
   "outputs": [
    {
     "name": "stdout",
     "output_type": "stream",
     "text": [
      "produto da lista = 448582400\n"
     ]
    }
   ],
   "source": [
    "# Redução da lista valor com aplicação da função produto\n",
    "resultado = reduce(produto, valor)\n",
    "print('produto da lista =', resultado)"
   ]
  },
  {
   "cell_type": "code",
   "execution_count": 19,
   "metadata": {},
   "outputs": [],
   "source": [
    "# Definição de função tradicional com dois parâmetros\n",
    "def menor(x, y):\n",
    "    if x < y:\n",
    "        return x\n",
    "    else:\n",
    "        return y"
   ]
  },
  {
   "cell_type": "code",
   "execution_count": 20,
   "metadata": {},
   "outputs": [
    {
     "name": "stdout",
     "output_type": "stream",
     "text": [
      "valor mínimo da lista = 31\n"
     ]
    }
   ],
   "source": [
    "print('valor mínimo da lista =', reduce(menor, valor))"
   ]
  },
  {
   "cell_type": "code",
   "execution_count": 23,
   "metadata": {},
   "outputs": [],
   "source": [
    "# Definição de lambda contendo condicional\n",
    "maior = lambda x, y : x if (x > y) else y"
   ]
  },
  {
   "cell_type": "code",
   "execution_count": 24,
   "metadata": {},
   "outputs": [
    {
     "name": "stdout",
     "output_type": "stream",
     "text": [
      "valor máximo da lista = 95\n"
     ]
    }
   ],
   "source": [
    "print('valor máximo da lista =', reduce(maior, valor))"
   ]
  },
  {
   "cell_type": "markdown",
   "metadata": {},
   "source": [
    "## Filtragem (filter)"
   ]
  },
  {
   "cell_type": "code",
   "execution_count": 25,
   "metadata": {},
   "outputs": [],
   "source": [
    "# A filtragem permite a aplicação automática de uma função à todos os\n",
    "# elementos de uma lista, verificando se atendem um critério determinado\n",
    "# de maneira que seja produzida uma lista contendo apenas os elementos\n",
    "# que satisfazem este predicado. \n",
    "# A filtragem é realizada pela função filter() que requer uma função \n",
    "# lógica, isto é, cujo retorno seja do tipo bool."
   ]
  },
  {
   "cell_type": "code",
   "execution_count": 31,
   "metadata": {},
   "outputs": [],
   "source": [
    "# Uma lista com inteiros\n",
    "lista = [97, 70, 10, 44, 79, 2]"
   ]
  },
  {
   "cell_type": "code",
   "execution_count": 32,
   "metadata": {},
   "outputs": [],
   "source": [
    "# Uma função lógica\n",
    "def impar(valor):\n",
    "    if valor % 2 == 1:\n",
    "        return True\n",
    "    else:\n",
    "        return False"
   ]
  },
  {
   "cell_type": "code",
   "execution_count": 33,
   "metadata": {},
   "outputs": [
    {
     "data": {
      "text/plain": [
       "<filter at 0x7f9faf3ac340>"
      ]
     },
     "execution_count": 33,
     "metadata": {},
     "output_type": "execute_result"
    }
   ],
   "source": [
    "# Filtragem da lista com função lógica ímpar\n",
    "filter(impar, lista)"
   ]
  },
  {
   "cell_type": "code",
   "execution_count": 34,
   "metadata": {},
   "outputs": [
    {
     "data": {
      "text/plain": [
       "[97, 79]"
      ]
     },
     "execution_count": 34,
     "metadata": {},
     "output_type": "execute_result"
    }
   ],
   "source": [
    "# A função filter retorna um iterator que pode transformado em uma lista\n",
    "list(filter(impar, lista))"
   ]
  },
  {
   "cell_type": "code",
   "execution_count": 37,
   "metadata": {},
   "outputs": [],
   "source": [
    "# Outra função lógica\n",
    "def maior50(valor):\n",
    "    return valor > 50"
   ]
  },
  {
   "cell_type": "code",
   "execution_count": 38,
   "metadata": {},
   "outputs": [
    {
     "name": "stdout",
     "output_type": "stream",
     "text": [
      "97\n",
      "70\n",
      "79\n"
     ]
    }
   ],
   "source": [
    "# O iterator retornado por filter pode ser percorrido diretamente num laço for\n",
    "for v in filter(maior50, lista):\n",
    "    print(v)"
   ]
  },
  {
   "cell_type": "code",
   "execution_count": 39,
   "metadata": {},
   "outputs": [
    {
     "name": "stdout",
     "output_type": "stream",
     "text": [
      "10\n"
     ]
    }
   ],
   "source": [
    "# Pode ser empregada uma lambda\n",
    "for v in filter(lambda x : x >= 10 and x <=20, lista):\n",
    "    print(v)"
   ]
  },
  {
   "cell_type": "markdown",
   "metadata": {},
   "source": [
    "### FIM\n",
    "### <a href=\"http://github.com/pjandl/opy2\">Oficina Python Intermediário</a>"
   ]
  }
 ],
 "metadata": {
  "kernelspec": {
   "display_name": "Python 3",
   "language": "python",
   "name": "python3"
  },
  "language_info": {
   "codemirror_mode": {
    "name": "ipython",
    "version": 3
   },
   "file_extension": ".py",
   "mimetype": "text/x-python",
   "name": "python",
   "nbconvert_exporter": "python",
   "pygments_lexer": "ipython3",
   "version": "3.8.5"
  }
 },
 "nbformat": 4,
 "nbformat_minor": 4
}
