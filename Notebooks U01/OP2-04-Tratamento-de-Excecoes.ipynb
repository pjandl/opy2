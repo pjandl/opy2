{
 "cells": [
  {
   "cell_type": "markdown",
   "metadata": {},
   "source": [
    "<img src='op2-u01.png'/>\n",
    "<h2><font color='#7F0000'>OP2-04-Tratamento de Exceções</font></h2>"
   ]
  },
  {
   "cell_type": "markdown",
   "metadata": {},
   "source": [
    "<table width='100%'>\n",
    "    <tbody>\n",
    "        <tr>\n",
    "            <td width='33%' style='text-align: left; background-color: #DDDDDD; vertical-align: top;'>Notebook Anterior<br><a href=\"OP2-03-Map-Reduce-Filter.ipynb\">OP2-03-Map-Reduce-Filter</a></td>\n",
    "            <td width='34%' style='text-align: left; background-color: #DDDDDD; vertical-align: top;'>&nbsp;<br/>\n",
    "            </td>\n",
    "            <td width='33%'style='text-align: left; background-color: #DDDDDD; vertical-align: top;'>Próximo Notebook<br/><a href=\"OP2-05-Lancamento-de-Excecoes.ipynb\">OP2-05-Lancamento-de-Excecoes</a></td>\n",
    "        </tr>\n",
    "    </tbody>\n",
    "</table>"
   ]
  },
  {
   "cell_type": "markdown",
   "metadata": {},
   "source": [
    "## Erros e Exceções"
   ]
  },
  {
   "cell_type": "markdown",
   "metadata": {},
   "source": [
    "<p>Quando um programa Python encontra erros, ele é finalizado, mas nem sempre esse comportamento é desejável, exigindo que tais erros sejam tratados.</p>\n",
    "<p>Python faz uma diferenciação entre erros e exceções.</p>\n",
    "<p>Os erros (<i>errors</i>) estão associados ao processamento do texto do programa (<i>parsing</i>), em geral, problemas de sintaxe.</p>\n",
    "<p>Já as exceções (<i>exceptions</i>) ocorrem durante a execução de diretivas do programa que, apesar de sintáticamente corretas, apresentam erro durante sua execução.</p>"
   ]
  },
  {
   "cell_type": "code",
   "execution_count": null,
   "metadata": {},
   "outputs": [],
   "source": [
    "# Observe o erro de sintaxe na diretiva abaixo (não corrija!)\n",
    "# ------------------------------v\n",
    "print('Eu acho que vi um gatinho)"
   ]
  },
  {
   "cell_type": "code",
   "execution_count": null,
   "metadata": {},
   "outputs": [],
   "source": [
    "# Outro erro de sintaxe (também não corrija!)\n",
    "x = 0\n",
    "# ----------v\n",
    "while x < 10\n",
    "    print(x)"
   ]
  },
  {
   "cell_type": "code",
   "execution_count": null,
   "metadata": {},
   "outputs": [],
   "source": [
    "# Exceções ocorrem durante a execução de construções corretas sintaticamente\n",
    "# Analise a função corretamente declarada\n",
    "def dividir(a, b):\n",
    "    return a / b"
   ]
  },
  {
   "cell_type": "code",
   "execution_count": null,
   "metadata": {},
   "outputs": [],
   "source": [
    "# A função dividir, que está correta, pode ser executada sem qualquer problema\n",
    "print(dividir(25, 10))"
   ]
  },
  {
   "cell_type": "code",
   "execution_count": null,
   "metadata": {},
   "outputs": [],
   "source": [
    "# Embora correta, podem ocorrer exceções durante a execução da função dividir,\n",
    "# como a divisão por zero\n",
    "print(dividir(25, 0))"
   ]
  },
  {
   "cell_type": "code",
   "execution_count": null,
   "metadata": {},
   "outputs": [],
   "source": [
    "# Embora correta, podem ocorrer exceções durante a execução da função dividir,\n",
    "# como o uso de tipos inválidos na operação\n",
    "print(dividir(25, '1'))"
   ]
  },
  {
   "cell_type": "code",
   "execution_count": null,
   "metadata": {},
   "outputs": [],
   "source": [
    "# Embora correta, podem ocorrer exceções durante a execução da função dividir,\n",
    "# como o uso de elementos não declarados na operação\n",
    "print(dividir(variavel, 3))"
   ]
  },
  {
   "cell_type": "markdown",
   "metadata": {},
   "source": [
    "<p>A ocorrência de exceções em um programa interrompe sua execução e exibe as informações de rastreio do problema (seu <i>traceback</i>), o que, embora útil para o programador, é inaceitável para o usuário do programa.</p>"
   ]
  },
  {
   "cell_type": "markdown",
   "metadata": {},
   "source": [
    "## Tratamento de exceções"
   ]
  },
  {
   "cell_type": "markdown",
   "metadata": {},
   "source": [
    "<p>Enquanto os erros são corrigidos durante as etapas de desenvolvimento e teste do programa, as exceções ocorrem durante a execução do programa, o que requer seu tratamento, conhecido como <i>exception handling</i>.</p>\n",
    "<p>O tratamento de exceções emprega a diretiva <tt>try-except</tt>.</p>"
   ]
  },
  {
   "cell_type": "code",
   "execution_count": null,
   "metadata": {},
   "outputs": [],
   "source": [
    "# Teste a entrada de dados que segue, fornecendo (incorretamente) uma palavra\n",
    "valor = int(input('Digite um valor inteiro: '))"
   ]
  },
  {
   "cell_type": "code",
   "execution_count": null,
   "metadata": {},
   "outputs": [],
   "source": [
    "# A diretiva try-except pode controlar esse problema\n",
    "try:\n",
    "    # Aqui vão as diretivas sujeitas à ocorrência de exceções\n",
    "    valor = int(input('Digite um valor inteiro: '))\n",
    "    # Se chegamos aqui, a entrada deu certo\n",
    "    print(f'Valor fornecido ({valor}) em uso!')\n",
    "except:\n",
    "    # Aqui vai o tratamento do erro ou a orientação para o usuário\n",
    "    valor = 1\n",
    "    print('Entrada incorreta. Valor default 1 em uso!')"
   ]
  },
  {
   "cell_type": "markdown",
   "metadata": {},
   "source": [
    "<p>No bloco <tt>except</tt>, caso não seja possível assumir um valor <i>default</i> ou fornecer orientação adequada para o usuário, é possível finalizar o programa com <tt>exit()</tt>, o encerrar a função com <tt>return</tt>.</p>"
   ]
  },
  {
   "cell_type": "code",
   "execution_count": null,
   "metadata": {},
   "outputs": [],
   "source": [
    "# A diretiva try-except pode ser combinada com outras para\n",
    "# oferecer um controle mais efetivo dos problemas possíveis\n",
    "while True:\n",
    "    try:\n",
    "        # Aqui vão as diretivas sujeitas à ocorrência de exceções\n",
    "        valor = int(input('Digite um valor inteiro: '))\n",
    "        # Se chegamos aqui, a entrada deu certo\n",
    "        break\n",
    "    except:\n",
    "        # Aqui vai o tratamento do erro ou a orientação para o usuário\n",
    "        print('Ops! Não é um valor inteiro. Vamos tentar de novo!')\n",
    "\n",
    "# Variável valor contém um inteiro\n",
    "print('Valor =', valor)"
   ]
  },
  {
   "cell_type": "markdown",
   "metadata": {},
   "source": [
    "<p>Existe também uma cláusula <tt>else</tt>, de uso opcional, cujo código associado é executado apenas quando não ocorre a exceção.</p>"
   ]
  },
  {
   "cell_type": "code",
   "execution_count": null,
   "metadata": {},
   "outputs": [],
   "source": [
    "# Uso incorreto da função dividir(a, b), definida anteriormente:\n",
    "x = 1\n",
    "# teste esta célula com valor 0 (provoca divisão por zero) e outros números!\n",
    "y = 2\n",
    "try:\n",
    "    resultado = dividir(x, y)\n",
    "except:\n",
    "    print(f'Erro na divisão de {x} por {y}.')\n",
    "else:\n",
    "    print(f'A divisão de {x} por {y} resulta em {resultado}.')"
   ]
  },
  {
   "cell_type": "markdown",
   "metadata": {},
   "source": [
    "## Captura e distinção das exceções"
   ]
  },
  {
   "cell_type": "markdown",
   "metadata": {},
   "source": [
    "<p>Existem muitos tipos diferentes de exceções, o que permite diferenciar a natureza do problema ocorrido e tomada de ações específicas, ou seja, o tratamento seletivo de exceções.</p>"
   ]
  },
  {
   "cell_type": "code",
   "execution_count": null,
   "metadata": {},
   "outputs": [],
   "source": [
    "# Leitura de valor para divisão. Experimente digitar:\n",
    "#-- uma string (provocará ValueError)\n",
    "#-- zero (ZeroDivisionError)\n",
    "#-- um valor inteiro ou real qualquer (resultado é exibido).\n",
    "try:\n",
    "    x = float(input('Digite um número: '))\n",
    "    resultado = dividir(1, x)\n",
    "except Exception as exc:\n",
    "    print('Tipo:', type(exc))\n",
    "    print('Mensagem:', exc)\n",
    "else:\n",
    "    print(f'1/{x} = {resultado}')"
   ]
  },
  {
   "cell_type": "markdown",
   "metadata": {},
   "source": [
    "<p>A qualificação da cláusula <tt>except</tt> atua como um filtro, fazendo que cada <tt>except</tt> trate apenas um erro específico.</p>"
   ]
  },
  {
   "cell_type": "code",
   "execution_count": null,
   "metadata": {},
   "outputs": [],
   "source": [
    "# Podem existir duas ou mais cláusulas except no try, que pode ser\n",
    "# qualificadas para apanhar um exceção específica.\n",
    "try:\n",
    "    x = int(input('Digite um número: '))\n",
    "    resultado = dividir(1, x)\n",
    "except ZeroDivisionError as zde:\n",
    "    print('Mensagem:', zde)\n",
    "    print('Verifique o número fornecido. Não é possível dividir por zero!')\n",
    "except ValueError as ve:\n",
    "    print('Mensagem:', ve)\n",
    "    print('Deve ser fornecido um número inteiro ou real válido.')\n",
    "except Exception as exc:\n",
    "    print('Opa! Aconteceu um erro imprevisto:')\n",
    "    print(type(exc))\n",
    "else:\n",
    "    print(f'1/{x} = {resultado}')"
   ]
  },
  {
   "cell_type": "markdown",
   "metadata": {},
   "source": [
    "<h4>Exceções do Python</h4>\n",
    "<ul>\n",
    "    <li>Para identificar as possíveis exceções que um trecho de código pode produzir, só existem duas alternativas: teste exaustivo das possibilidades e consulta à documentação do Python.</li>\n",
    "    <li>Uma lista completa das exceções do Python pode ser obtida no endereço que segue (documentação oficial):<br?/><a href='https://docs.python.org/3/library/exceptions.html#bltin-exceptions'>https://docs.python.org/3/library/exceptions.html#bltin-exceptions</a></li>\n",
    "</ul>"
   ]
  },
  {
   "cell_type": "markdown",
   "metadata": {},
   "source": [
    "<p>Cuidado com a ordem de tratamento das exceções:</p>\n",
    "<ul>\n",
    "    <li>primeiro devem ser tratadas as exceções mais específicas,</li>\n",
    "    <li>depois as mais gerais,</li>\n",
    "    <li>por último, o tratamento de <tt>Exception</tt> apanha qualquer exceção.</li>\n",
    "</ul>"
   ]
  },
  {
   "cell_type": "code",
   "execution_count": null,
   "metadata": {},
   "outputs": [],
   "source": [
    "# Cria duas novas classes de exceção\n",
    "class Opy2Geral(Exception):\n",
    "    pass\n",
    "\n",
    "class Opy2Especifica(Opy2General):\n",
    "    pass"
   ]
  },
  {
   "cell_type": "code",
   "execution_count": null,
   "metadata": {},
   "outputs": [],
   "source": [
    "# Executa laço que lança exceções de uma lista\n",
    "for excecao in [Opy2Especifica, Opy2Geral, ValueError]:\n",
    "    try:\n",
    "        raise excecao()\n",
    "    except Opy2Especifica:\n",
    "        print('Opy2Especifica')\n",
    "    except Opy2Geral:\n",
    "        print('Opy2Geral')\n",
    "    except Exception:\n",
    "        print('Exceção')\n",
    "# Quando o tratamento é correto, todas as exceções são sinalizadas!"
   ]
  },
  {
   "cell_type": "code",
   "execution_count": null,
   "metadata": {},
   "outputs": [],
   "source": [
    "# Executa laço que lança exceções de uma lista\n",
    "for excecao in [Opy2Especifica, Opy2Geral, ValueError]:\n",
    "    try:\n",
    "        raise excecao()\n",
    "    except Exception:\n",
    "        print('Exceção')\n",
    "    except Opy2Geral:\n",
    "        print('Opy2Geral')\n",
    "    except Opy2Especifica:\n",
    "        print('Opy2Especifica')\n",
    "# Quando o tratamento é incorreto, as exceções não são sinalizadas corretamente!"
   ]
  },
  {
   "cell_type": "markdown",
   "metadata": {},
   "source": [
    "### FIM\n",
    "### <a href=\"http://github.com/pjandl/opy2\">Oficina Python Intermediário</a>"
   ]
  }
 ],
 "metadata": {
  "kernelspec": {
   "display_name": "Python 3",
   "language": "python",
   "name": "python3"
  },
  "language_info": {
   "codemirror_mode": {
    "name": "ipython",
    "version": 3
   },
   "file_extension": ".py",
   "mimetype": "text/x-python",
   "name": "python",
   "nbconvert_exporter": "python",
   "pygments_lexer": "ipython3",
   "version": "3.8.5"
  }
 },
 "nbformat": 4,
 "nbformat_minor": 4
}
