{
 "cells": [
  {
   "cell_type": "markdown",
   "metadata": {},
   "source": [
    "<img src='op2-u01.png'/>\n",
    "<h2><font color='#7F0000'>OP2-05-Lançamento de Exceções</font></h2>"
   ]
  },
  {
   "cell_type": "markdown",
   "metadata": {},
   "source": [
    "<table width='100%'>\n",
    "    <tbody>\n",
    "        <tr>\n",
    "            <td width='33%' style='text-align: left; background-color: #DDDDDD; vertical-align: top;'>Notebook Anterior<br><a href=\"OP2-04-Tratamento-de-Excecoes.ipynb\">OP2-04-Tratamento-de-Excecoes</a></td>\n",
    "            <td width='34%' style='text-align: left; background-color: #DDDDDD; vertical-align: top;'>&nbsp;<br/>\n",
    "            </td>\n",
    "            <td width='33%'style='text-align: left; background-color: #DDDDDD; vertical-align: top;'>Próximo Notebook<br/><a href=\"../Notebooks%20U02/OP2-06-Arquivos-parte-1.ipynb\">OP2-06-Arquivos-parte-1</a></td>\n",
    "        </tr>\n",
    "    </tbody>\n",
    "</table>"
   ]
  },
  {
   "cell_type": "markdown",
   "metadata": {},
   "source": [
    "## Lançamento de exceções"
   ]
  },
  {
   "cell_type": "markdown",
   "metadata": {},
   "source": [
    "<p>O lançamento de exceções possibilita que o programador sinalize a ocorrência de um erro que não pode ser tratado no contexto de execução atual.</p>\n",
    "\n",
    "<p>O lançamento de exceções é uma prática tanto comum, quanto recomendada, pois permite criar programas mais robustos.</p>\n",
    "\n",
    "<p>O lançamento de exceções é feito com uso da diretiva <tt>raise</tt>, que requer como argumento uma classe (ou uma instância) de uma exceção. Detalhes da exceção ou informações complementares, pode ser supridas por meio de argumentos no lançamento da exceção.</p>"
   ]
  },
  {
   "cell_type": "code",
   "execution_count": null,
   "metadata": {},
   "outputs": [],
   "source": [
    "# O lançamento de exceções com diretiva raise e uma classe de exceção\n",
    "raise ValueError()"
   ]
  },
  {
   "cell_type": "code",
   "execution_count": null,
   "metadata": {},
   "outputs": [],
   "source": [
    "# Detalhes do erro podem ser passados como argumentos da exceção lançada\n",
    "raise ValueError('informação adicional', 123)"
   ]
  },
  {
   "cell_type": "markdown",
   "metadata": {},
   "source": [
    "<p>Os argumentos passados no lançamento de uma exceção podem ser recuperados se tal exceção for capturada por meio uma diretiva <tt>try-except</tt> qualificada.</p>"
   ]
  },
  {
   "cell_type": "code",
   "execution_count": null,
   "metadata": {},
   "outputs": [],
   "source": [
    "# Recuperação dos argumentos passados no lançamento da exceção \n",
    "try:\n",
    "    raise ValueError('informação adicional', 123)\n",
    "# except qualificado\n",
    "except Exception as exc:\n",
    "    print('Tipo      : ', type(exc))\n",
    "    print('Mensagem  : ', exc)\n",
    "    print('Argumentos: ', exc.args)\n",
    "    print(type(exc.args))\n",
    "    # desempacotamento da tupla de argumentos\n",
    "    arg1, arg2 = exc.args\n",
    "    print('Argumento1: ', arg1)\n",
    "    print('Argumento2: ', arg2)"
   ]
  },
  {
   "cell_type": "markdown",
   "metadata": {},
   "source": [
    "<p>Embora pareça idêntico, a recuperação correta dos argumentos sempre emprega o atributo <tt>args</tt>!<p>"
   ]
  },
  {
   "cell_type": "code",
   "execution_count": null,
   "metadata": {},
   "outputs": [],
   "source": [
    "# O lançamento de exceções é conveniente quando o tratamento do erro\n",
    "# não é possível\n",
    "def funcao(a):\n",
    "    # verifica adequação de a\n",
    "    if a<0 or a>10:\n",
    "        # lançamento de exceção\n",
    "        raise ValueError('Valor fora da faixa 0..10', a)\n",
    "    # processamento da função quando argumento é válido\n",
    "    print('funcao processando valor ', a)\n",
    "    pass"
   ]
  },
  {
   "cell_type": "code",
   "execution_count": null,
   "metadata": {
    "scrolled": true
   },
   "outputs": [],
   "source": [
    "# Uso da função e tratamento de eventuais exceções\n",
    "# Observe o uso do cláusula else\n",
    "tentativas = 0\n",
    "while tentativas < 3:\n",
    "    tentativas += 1    \n",
    "    try:\n",
    "        valor = float(input('Digite um valor entre 0 e 10, ou não ;-) :'))\n",
    "        funcao(valor)\n",
    "    except Exception as exc:\n",
    "        print(type(exc), exc)\n",
    "        info = exc.args\n",
    "        if len(info)>1:\n",
    "            print(\"Complemento:\", info[1])\n",
    "    else:\n",
    "        print(f'Tentativa {tentativas} ok')\n"
   ]
  },
  {
   "cell_type": "markdown",
   "metadata": {},
   "source": [
    "## Encadeamento de exceções"
   ]
  },
  {
   "cell_type": "markdown",
   "metadata": {},
   "source": [
    "<p>Eventualmente a exceção ocorrida no código não é adequada para seu tratamento no contexto superior, podendo ser substituída por outra. Para tanto, a exceção inadequada precisa capturada com <tt>try-except</tt>, para depois ser relançada com a diretiva <tt>raise</tt>.</p>"
   ]
  },
  {
   "cell_type": "code",
   "execution_count": null,
   "metadata": {},
   "outputs": [],
   "source": [
    "# Definição de função que produz exceção quando a=0 ou b=0 \n",
    "def razao(a, b):\n",
    "    '''Calcula a razão da soma pelo produto.'''\n",
    "    return (a + b) / (a * b)"
   ]
  },
  {
   "cell_type": "code",
   "execution_count": null,
   "metadata": {},
   "outputs": [],
   "source": [
    "# Chamada da função com argumentos válidos\n",
    "a = 5\n",
    "b = 21\n",
    "res = razao(a, b)\n",
    "print(f'({a} + {b}) / ({a} * {b}) = {res}')"
   ]
  },
  {
   "cell_type": "code",
   "execution_count": null,
   "metadata": {},
   "outputs": [],
   "source": [
    "# Chamada da função com um argumento inválido (b=0)\n",
    "# Exceção ZeroDivisionError é admissível\n",
    "a = 5\n",
    "b = 0\n",
    "res = razao(a, b)\n",
    "print(f'({a} + {b}) / ({a} * {b}) = {res}')"
   ]
  },
  {
   "cell_type": "code",
   "execution_count": null,
   "metadata": {},
   "outputs": [],
   "source": [
    "# Chamada da função com um argumento inválido (b='21')\n",
    "# Exceção TypeError não é adequada, ValueError seria melhor\n",
    "a = 5\n",
    "b = '21'\n",
    "res = razao(a, b)\n",
    "print(f'({a} + {b}) / ({a} * {b}) = {res}')"
   ]
  },
  {
   "cell_type": "markdown",
   "metadata": {},
   "source": [
    "<p>Para que a função <tt>razao(a, b)</tt> deixe de lançar a exceção <tt>TypeError</tt>, considerada inconveniente, ela deve ser monitorada por um bloco <tt>try</tt> e, quando apanhada por um bloco <tt>except</tt>, ser relançada como um novo tipo com uso da diretiva <tt>raise</tt>, o que é chamado de <i>exception re-raise</i>.</p>"
   ]
  },
  {
   "cell_type": "code",
   "execution_count": null,
   "metadata": {},
   "outputs": [],
   "source": [
    "# Definição de função que produz exceção quando a=0 ou b=0 \n",
    "def razao(a, b):\n",
    "    '''Calcula a razão da soma pelo produto.'''\n",
    "    try:\n",
    "        return (a + b) / (a * b)\n",
    "    except TypeError as exc:\n",
    "        raise ValueError('Argumento(s) inválido(s).')"
   ]
  },
  {
   "cell_type": "markdown",
   "metadata": {},
   "source": [
    "<p>Por meio dessa modificação, a função <tt>razao(a, b)</tt> continua a produzir a exceção <tt>ZeroDivisionError</tt> quando um de seus argumentos tem valor numérico zero, mas passa a produzir a exceção <tt>ValueError</tt> para substituir a exceção <tt>TypeError</tt>.</p>"
   ]
  },
  {
   "cell_type": "code",
   "execution_count": null,
   "metadata": {},
   "outputs": [],
   "source": [
    "# Chamada da função com um argumento inválido (b=0)\n",
    "# continua lançar a exceção ZeroDivisionError\n",
    "a = 5\n",
    "b = 0\n",
    "res = razao(a, b)\n",
    "print(f'({a} + {b}) / ({a} * {b}) = {res}')"
   ]
  },
  {
   "cell_type": "code",
   "execution_count": null,
   "metadata": {},
   "outputs": [],
   "source": [
    "# Chamada da função com um argumento inválido (b='21')\n",
    "# função passa a lançar a exceção ValueError\n",
    "a = 5\n",
    "b = '21'\n",
    "res = razao(a, b)\n",
    "print(f'({a} + {b}) / ({a} * {b}) = {res}')"
   ]
  },
  {
   "cell_type": "markdown",
   "metadata": {},
   "source": [
    "<p>Além de prover a substituição de uma exceção, está técnica permite encadear exceções, documentando uma sequência de exceções que podem ocorrer até mesmo em contextos diferentes</p>"
   ]
  },
  {
   "cell_type": "markdown",
   "metadata": {},
   "source": [
    "## Asserções"
   ]
  },
  {
   "cell_type": "markdown",
   "metadata": {},
   "source": [
    "<p>Uma asserção (<i>assertion</i>) é uma verificação que pode ser ativada ou desativada em um programa para auxiliar em seu teste.</p>\n",
    "\n",
    "<p>A maneira mais simples de pensar em uma asserção é imaginá-la como a combinação de uma diretiva de decisão <tt>if</tt> com uma diretiva de lançamento de exceção <tt>raise</tt>, na qual a negativa da condição produz o lançamento de uma exceção. A sintaxe das asserções em Python emprega a palavra reservada <tt>assert</tt> como segue:</p>\n",
    "\n",
    "<p><tt>assert &lt;condição&gt;</tt> [, argumentos]</p>\n",
    "    \n",
    "<p>Isto indicará ao programa que a <tt>condição</tt> especificada deverá ser testada e quando seu resultado for falso, uma exceção padronizada, de tipo <tt>AssertionError</tt> será lançada, com os argumentos opcionalmente fornecidos. Desta maneira, a passagem por uma asserção significa que o programa atende determinada condição, simplificando a introdução de testes de verificação de consistência de argumentos, de valores esperados ou qualquer outra condição que seja necessária para que o programa possa prosseguir.</p>\n",
    "\n",
    "<p>Tipicamente os programadores posicionam as asserções no início de funções para verificar seus argumentos, ou logo após a entrada de valores para determinar se estão nas faixas desejadas, assim como após a chamada de funções para conferir se o resultado produzido é o esperado.</p>"
   ]
  },
  {
   "cell_type": "code",
   "execution_count": null,
   "metadata": {},
   "outputs": [],
   "source": [
    "# Teste preventivo de condição\n",
    "a = int(input('Digite um valor inteiro: '))\n",
    "if not a != 0:\n",
    "    raise AssertionError()\n",
    "print(f'a = {a} e 1/{a} = {1/a}')"
   ]
  },
  {
   "cell_type": "markdown",
   "metadata": {},
   "source": [
    "<p>Ao invés da inclusão de um teste convencional com uma diretiva <tt>if</tt> como <b>acima &uarr;</b>,<br/>pode ser inclusa uma asserção, como <b>abaixo &darr;</b>.</p>"
   ]
  },
  {
   "cell_type": "code",
   "execution_count": null,
   "metadata": {},
   "outputs": [],
   "source": [
    "# Asserção que verifica o valor de uma variável.\n",
    "# Execute para qualquer caso VÁLIDO (a != 0) \n",
    "a = int(input('Digite um valor inteiro: '))\n",
    "assert a != 0\n",
    "print(f'a = {a} e 1/{a} = {1/a}')"
   ]
  },
  {
   "cell_type": "code",
   "execution_count": null,
   "metadata": {},
   "outputs": [],
   "source": [
    "# Asserção que verifica o valor de uma variável.\n",
    "# Execute para o caso INVÁLIDO (a = 0) \n",
    "a = int(input('Digite um valor inteiro: '))\n",
    "assert a != 0\n",
    "print(f'a = {a} e 1/{a} = {1/a}')"
   ]
  },
  {
   "cell_type": "markdown",
   "metadata": {},
   "source": [
    "<p>Opcionalmente podem ser fornecidos argumentos para o lançamento da exceção.</p>"
   ]
  },
  {
   "cell_type": "code",
   "execution_count": null,
   "metadata": {},
   "outputs": [],
   "source": [
    "# Asserção que verifica o valor de uma variável \n",
    "a = 0\n",
    "assert a != 0, 'Divisão por zero'\n",
    "print(f'a = {a} e 1/{a} = {1/a}')"
   ]
  },
  {
   "cell_type": "markdown",
   "metadata": {},
   "source": [
    "<p>Uma situação mais típica de uso seria como na reescrita da funçao <tt>razao(a,b)</tt> definida anteriormente.</p>"
   ]
  },
  {
   "cell_type": "code",
   "execution_count": null,
   "metadata": {},
   "outputs": [],
   "source": [
    "# Definição de função que produz exceção quando a=0 ou b=0 \n",
    "def razao(a, b):\n",
    "    '''Calcula a razão da soma pelo produto.'''\n",
    "    assert a != 0, 'a == 0'\n",
    "    assert b != 0, 'b == 0'\n",
    "    \n",
    "    return (a + b) / (a * b)"
   ]
  },
  {
   "cell_type": "code",
   "execution_count": null,
   "metadata": {},
   "outputs": [],
   "source": [
    "# Teste o uso da função para qualquer caso!\n",
    "a = int(input('Digite um valor para a: '))\n",
    "b = int(input('Digite um valor para b: '))\n",
    "res = razao(a, b)\n",
    "print(f'({a} + {b}) / ({a} * {b}) = {res}')"
   ]
  },
  {
   "cell_type": "markdown",
   "metadata": {},
   "source": [
    "<p>O uso de asserções torna o programa mais legível, comunicando melhor as condições adequadas ou esperadas para sua execução, além de torná-lo mais elegante.</p>"
   ]
  },
  {
   "cell_type": "markdown",
   "metadata": {},
   "source": [
    "### FIM\n",
    "### <a href=\"http://github.com/pjandl/opy2\">Oficina Python Intermediário</a>"
   ]
  }
 ],
 "metadata": {
  "kernelspec": {
   "display_name": "Python 3",
   "language": "python",
   "name": "python3"
  },
  "language_info": {
   "codemirror_mode": {
    "name": "ipython",
    "version": 3
   },
   "file_extension": ".py",
   "mimetype": "text/x-python",
   "name": "python",
   "nbconvert_exporter": "python",
   "pygments_lexer": "ipython3",
   "version": "3.8.5"
  }
 },
 "nbformat": 4,
 "nbformat_minor": 4
}
