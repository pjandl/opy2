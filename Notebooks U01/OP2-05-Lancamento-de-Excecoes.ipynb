{
 "cells": [
  {
   "cell_type": "markdown",
   "metadata": {},
   "source": [
    "<img src='op2-u01.png'/>\n",
    "<h2><font color='#7F0000'>OP2-05-Lançamento de Exceções</font></h2>"
   ]
  },
  {
   "cell_type": "markdown",
   "metadata": {},
   "source": [
    "## Lançamento de exceções"
   ]
  },
  {
   "cell_type": "code",
   "execution_count": null,
   "metadata": {},
   "outputs": [],
   "source": [
    "# O lançamento de exceções possibilita que o programador sinalize a ocorrência\n",
    "# de um erro que não pode ser tratado no contexto de execução atual.\n",
    "# O lançamento de exceções é uma prática tanto comum, quanto recomendada,\n",
    "# pois permite criar programas mais robustos."
   ]
  },
  {
   "cell_type": "code",
   "execution_count": null,
   "metadata": {},
   "outputs": [],
   "source": [
    "# O lançamento de exceções é feito com a diretiva raise, que requer como argumento\n",
    "# uma classe (ou uma instância) de uma exceção\n",
    "raise ValueError()"
   ]
  },
  {
   "cell_type": "code",
   "execution_count": null,
   "metadata": {},
   "outputs": [],
   "source": [
    "# Informações complementares ao erro podem ser passadas como argumentos \n",
    "# da exceção lançada\n",
    "raise ValueError('informação adicional', 123)"
   ]
  },
  {
   "cell_type": "code",
   "execution_count": null,
   "metadata": {},
   "outputs": [],
   "source": [
    "# Os argumentos passados no lançamento de uma exceção podem ser recuperados\n",
    "# se a exceção for captura por um try-except qualificado\n",
    "try:\n",
    "    raise ValueError('informação adicional', 123)\n",
    "except Exception as exc:\n",
    "    print('Tipo      : ', type(exc))\n",
    "    print('Mensagem  : ', exc)\n",
    "    print('Argumentos: ', exc.args)\n",
    "    print(type(exc.args))\n",
    "    # desempacotamento da tupla de argumentos\n",
    "    arg1, arg2 = exc.args\n",
    "    print('Argumento1: ', arg1)\n",
    "    print('Argumento2: ', arg2)"
   ]
  },
  {
   "cell_type": "code",
   "execution_count": null,
   "metadata": {},
   "outputs": [],
   "source": [
    "# Embora pareça idêntico, a recuperação correta dos argumentos sempre\n",
    "# emprega o atributo args!"
   ]
  },
  {
   "cell_type": "code",
   "execution_count": null,
   "metadata": {},
   "outputs": [],
   "source": [
    "# O lançamento de exceções é conveniente quando o tratamento do erro\n",
    "# não é possível\n",
    "def funcao(a):\n",
    "    # verifica adequação de a\n",
    "    if a<0 or a>10:\n",
    "        # lançamento de exceção\n",
    "        raise ValueError('Valor fora da faixa 0..10', a)\n",
    "    # processamento da função quando argumento é válido\n",
    "    print('funcao processando valor ', a)\n",
    "    pass"
   ]
  },
  {
   "cell_type": "code",
   "execution_count": null,
   "metadata": {
    "scrolled": true
   },
   "outputs": [],
   "source": [
    "# Uso da função e tratamento de eventuais exceções\n",
    "tentativas = 0\n",
    "while tentativas < 3:\n",
    "    tentativas += 1    \n",
    "    try:\n",
    "        valor = float(input('Digite um valor entre 0 e 10, ou não ;-) :'))\n",
    "        funcao(valor)\n",
    "    except Exception as exc:\n",
    "        print(type(exc), exc)\n",
    "        info = exc.args\n",
    "        if len(info)>1:\n",
    "            print(\"Complemento:\", info[1])\n",
    "    else:\n",
    "        print(f'Tentativa {tentativas} ok')\n"
   ]
  },
  {
   "cell_type": "markdown",
   "metadata": {},
   "source": [
    "## Encadeamento de exceções"
   ]
  },
  {
   "cell_type": "code",
   "execution_count": null,
   "metadata": {},
   "outputs": [],
   "source": [
    "# O encadeamento de exceções possibilita ligar uma nova exceção a outra, anterior,\n",
    "# criando uma lista de problemas associados. É conveniente para:\n",
    "#-- transformar uma exceção em outra, o que permite detalhar o problema encontrado;\n",
    "#-- manter um histórico dos erros ocorridos, desde sua origem. "
   ]
  },
  {
   "cell_type": "code",
   "execution_count": null,
   "metadata": {},
   "outputs": [],
   "source": [
    "# O encadeamento é feito com a diretiva raise, a partir de outra exceção existente,\n",
    "# no caso exc, indicada com a cláusula from\n",
    "# raise RuntimeError() from exc"
   ]
  },
  {
   "cell_type": "code",
   "execution_count": null,
   "metadata": {},
   "outputs": [],
   "source": [
    "# Função geradora de exceção\n",
    "def gera_excecao():\n",
    "    raise RuntimeError()\n",
    "    \n",
    "# Teste de encadeamento\n",
    "try:\n",
    "    print('Aciona gerador de exceção...')\n",
    "    gera_excecao()\n",
    "except Exception as exc:\n",
    "    # Transforma a exceção em outra\n",
    "    raise NameError() from exc"
   ]
  },
  {
   "cell_type": "code",
   "execution_count": null,
   "metadata": {},
   "outputs": [],
   "source": [
    "# O encadeamento de exceções é feito automaticamente dentro de cláusulas except ou finally.\n",
    "# Caso desejado pode ser desabilitado como segue."
   ]
  },
  {
   "cell_type": "code",
   "execution_count": null,
   "metadata": {},
   "outputs": [],
   "source": [
    "# Função geradora de exceção\n",
    "def gera_excecao():\n",
    "    raise RuntimeError()\n",
    "    \n",
    "try:\n",
    "    print('Aciona gerador de exceção...')\n",
    "    gera_excecao()\n",
    "except Exception as exc:\n",
    "    # Encadeamento desabilitado    \n",
    "    raise NameError() from None"
   ]
  },
  {
   "cell_type": "markdown",
   "metadata": {},
   "source": [
    "## Ações de finalização (clean-up)"
   ]
  },
  {
   "cell_type": "code",
   "execution_count": null,
   "metadata": {},
   "outputs": [],
   "source": [
    "# Ações de finalização ou clean-up são aquelas que devem ser realizadas após\n",
    "# a execução de um bloco de código, independentemente da ocorrência de exceções\n",
    "# no bloco protegido/monitorado pela cláusula try.\n",
    "# São ações cuja execução é garantida."
   ]
  },
  {
   "cell_type": "code",
   "execution_count": null,
   "metadata": {},
   "outputs": [],
   "source": [
    "# definição de função que pode lançar exceção\n",
    "def razao(x, y):\n",
    "    try:\n",
    "        print('Cláusula try')\n",
    "        result = x / y\n",
    "    except ZeroDivisionError:\n",
    "        print('Cláusula except')\n",
    "        print('\\tDivisão por zero!')\n",
    "        result = None\n",
    "    else:\n",
    "        print('Cláusula else')\n",
    "        print('\\tDivisão bem sucedida!')\n",
    "    finally:\n",
    "        print('Cláusula finally')\n",
    "        print(f'\\t{x} / {y} = {result}')"
   ]
  },
  {
   "cell_type": "code",
   "execution_count": null,
   "metadata": {},
   "outputs": [],
   "source": [
    "razao(1, 2)"
   ]
  },
  {
   "cell_type": "code",
   "execution_count": null,
   "metadata": {},
   "outputs": [],
   "source": [
    "razao(1, 0)"
   ]
  },
  {
   "cell_type": "markdown",
   "metadata": {},
   "source": [
    "### FIM\n",
    "### <a href=\"http://github.com/pjandl/opy2\">Oficina Python Intermediário</a>"
   ]
  }
 ],
 "metadata": {
  "kernelspec": {
   "display_name": "Python 3",
   "language": "python",
   "name": "python3"
  },
  "language_info": {
   "codemirror_mode": {
    "name": "ipython",
    "version": 3
   },
   "file_extension": ".py",
   "mimetype": "text/x-python",
   "name": "python",
   "nbconvert_exporter": "python",
   "pygments_lexer": "ipython3",
   "version": "3.8.5"
  }
 },
 "nbformat": 4,
 "nbformat_minor": 4
}
