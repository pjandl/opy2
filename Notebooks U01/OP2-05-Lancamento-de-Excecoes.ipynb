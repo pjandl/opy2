{
 "cells": [
  {
   "cell_type": "markdown",
   "metadata": {},
   "source": [
    "<img src='op2-u01.png'/>\n",
    "<h2><font color='#7F0000'>OP2-05-Lançamento de Exceções</font></h2>"
   ]
  },
  {
   "cell_type": "markdown",
   "metadata": {},
   "source": [
    "## Lançamento de exceções"
   ]
  },
  {
   "cell_type": "code",
   "execution_count": 1,
   "metadata": {},
   "outputs": [],
   "source": [
    "# O lançamento de exceções possibilita que o programador sinalize a ocorrência\n",
    "# de um erro que não pode ser tratado no contexto de execução atual.\n",
    "# O lançamento de exceções é uma prática tanto comum, quanto recomendada,\n",
    "# pois permite criar programas mais robustos."
   ]
  },
  {
   "cell_type": "code",
   "execution_count": 1,
   "metadata": {},
   "outputs": [
    {
     "ename": "ValueError",
     "evalue": "",
     "output_type": "error",
     "traceback": [
      "\u001b[0;31m---------------------------------------------------------------------------\u001b[0m",
      "\u001b[0;31mValueError\u001b[0m                                Traceback (most recent call last)",
      "\u001b[0;32m<ipython-input-1-1f7f7c66a62f>\u001b[0m in \u001b[0;36m<module>\u001b[0;34m\u001b[0m\n\u001b[1;32m      1\u001b[0m \u001b[0;31m# O lançamento de exceções é feito com a diretiva raise\u001b[0m\u001b[0;34m\u001b[0m\u001b[0;34m\u001b[0m\u001b[0;34m\u001b[0m\u001b[0m\n\u001b[0;32m----> 2\u001b[0;31m \u001b[0;32mraise\u001b[0m \u001b[0mValueError\u001b[0m\u001b[0;34m(\u001b[0m\u001b[0;34m)\u001b[0m\u001b[0;34m\u001b[0m\u001b[0;34m\u001b[0m\u001b[0m\n\u001b[0m",
      "\u001b[0;31mValueError\u001b[0m: "
     ]
    }
   ],
   "source": [
    "# O lançamento de exceções é feito com a diretiva raise, que requer como argumento\n",
    "# uma classe (ou uma instância) de uma exceção\n",
    "raise ValueError()"
   ]
  },
  {
   "cell_type": "code",
   "execution_count": 2,
   "metadata": {},
   "outputs": [
    {
     "ename": "ValueError",
     "evalue": "('informação adicional', 123)",
     "output_type": "error",
     "traceback": [
      "\u001b[0;31m---------------------------------------------------------------------------\u001b[0m",
      "\u001b[0;31mValueError\u001b[0m                                Traceback (most recent call last)",
      "\u001b[0;32m<ipython-input-2-0a80fd493c1b>\u001b[0m in \u001b[0;36m<module>\u001b[0;34m\u001b[0m\n\u001b[1;32m      1\u001b[0m \u001b[0;31m# Informações complementares ao erro podem ser passadas como argumentos\u001b[0m\u001b[0;34m\u001b[0m\u001b[0;34m\u001b[0m\u001b[0;34m\u001b[0m\u001b[0m\n\u001b[1;32m      2\u001b[0m \u001b[0;31m# da exceção lançada\u001b[0m\u001b[0;34m\u001b[0m\u001b[0;34m\u001b[0m\u001b[0;34m\u001b[0m\u001b[0m\n\u001b[0;32m----> 3\u001b[0;31m \u001b[0;32mraise\u001b[0m \u001b[0mValueError\u001b[0m\u001b[0;34m(\u001b[0m\u001b[0;34m'informação adicional'\u001b[0m\u001b[0;34m,\u001b[0m \u001b[0;36m123\u001b[0m\u001b[0;34m)\u001b[0m\u001b[0;34m\u001b[0m\u001b[0;34m\u001b[0m\u001b[0m\n\u001b[0m",
      "\u001b[0;31mValueError\u001b[0m: ('informação adicional', 123)"
     ]
    }
   ],
   "source": [
    "# Informações complementares ao erro podem ser passadas como argumentos \n",
    "# da exceção lançada\n",
    "raise ValueError('informação adicional', 123)"
   ]
  },
  {
   "cell_type": "code",
   "execution_count": 4,
   "metadata": {},
   "outputs": [
    {
     "name": "stdout",
     "output_type": "stream",
     "text": [
      "Tipo      :  <class 'ValueError'>\n",
      "Mensagem  :  ('informação adicional', 123)\n",
      "Argumentos:  ('informação adicional', 123)\n",
      "<class 'tuple'>\n",
      "Argumento1:  informação adicional\n",
      "Argumento2:  123\n"
     ]
    }
   ],
   "source": [
    "# Os argumentos passados no lançamento de uma exceção podem ser recuperados\n",
    "# se a exceção for captura por um try-except qualificado\n",
    "try:\n",
    "    raise ValueError('informação adicional', 123)\n",
    "except Exception as exc:\n",
    "    print('Tipo      : ', type(exc))\n",
    "    print('Mensagem  : ', exc)\n",
    "    print('Argumentos: ', exc.args)\n",
    "    print(type(exc.args))\n",
    "    # desempacotamento da tupla de argumentos\n",
    "    arg1, arg2 = exc.args\n",
    "    print('Argumento1: ', arg1)\n",
    "    print('Argumento2: ', arg2)"
   ]
  },
  {
   "cell_type": "code",
   "execution_count": null,
   "metadata": {},
   "outputs": [],
   "source": [
    "# Embora pareça idêntico, a recuperação correta dos argumentos sempre\n",
    "# emprega o atributo args!"
   ]
  },
  {
   "cell_type": "code",
   "execution_count": 17,
   "metadata": {},
   "outputs": [],
   "source": [
    "# O lançamento de exceções é conveniente quando o tratamento do erro\n",
    "# não é possível\n",
    "def funcao(a):\n",
    "    # verifica adequação de a\n",
    "    if a<0 or a>10:\n",
    "        # lançamento de exceção\n",
    "        raise ValueError('Valor fora da faixa 0..10', a)\n",
    "    # processamento da função quando argumento é válido\n",
    "    print('funcao processando valor ', a)\n",
    "    pass"
   ]
  },
  {
   "cell_type": "code",
   "execution_count": 18,
   "metadata": {
    "scrolled": true
   },
   "outputs": [
    {
     "name": "stdout",
     "output_type": "stream",
     "text": [
      "Digite um valor entre 0 e 10, ou não ;-) :10\n",
      "funcao processando valor  10.0\n",
      "Tentativa 1 ok\n",
      "Digite um valor entre 0 e 10, ou não ;-) :-1\n",
      "<class 'ValueError'> ('Valor fora da faixa 0..10', -1.0)\n",
      "Complemento: -1.0\n",
      "Digite um valor entre 0 e 10, ou não ;-) :a\n",
      "<class 'ValueError'> could not convert string to float: 'a'\n"
     ]
    }
   ],
   "source": [
    "# Uso da função e tratamento de eventuais exceções\n",
    "tentativas = 0\n",
    "while tentativas < 3:\n",
    "    tentativas += 1    \n",
    "    try:\n",
    "        valor = float(input('Digite um valor entre 0 e 10, ou não ;-) :'))\n",
    "        funcao(valor)\n",
    "    except Exception as exc:\n",
    "        print(type(exc), exc)\n",
    "        info = exc.args\n",
    "        if len(info)>1:\n",
    "            print(\"Complemento:\", info[1])\n",
    "    else:\n",
    "        print(f'Tentativa {tentativas} ok')\n"
   ]
  },
  {
   "cell_type": "markdown",
   "metadata": {},
   "source": [
    "## Encadeamento de exceções"
   ]
  },
  {
   "cell_type": "code",
   "execution_count": 12,
   "metadata": {},
   "outputs": [],
   "source": [
    "# \n",
    "# \n",
    "# \n",
    "# "
   ]
  },
  {
   "cell_type": "code",
   "execution_count": 13,
   "metadata": {},
   "outputs": [],
   "source": []
  },
  {
   "cell_type": "markdown",
   "metadata": {},
   "source": [
    "<h4>Considerações adicionais:</h4>\n",
    "<ul>\n",
    "    <li>?</li>\n",
    "</ul>"
   ]
  },
  {
   "cell_type": "markdown",
   "metadata": {},
   "source": [
    "### FIM\n",
    "### <a href=\"http://github.com/pjandl/opy2\">Oficina Python Intermediário</a>"
   ]
  }
 ],
 "metadata": {
  "kernelspec": {
   "display_name": "Python 3",
   "language": "python",
   "name": "python3"
  },
  "language_info": {
   "codemirror_mode": {
    "name": "ipython",
    "version": 3
   },
   "file_extension": ".py",
   "mimetype": "text/x-python",
   "name": "python",
   "nbconvert_exporter": "python",
   "pygments_lexer": "ipython3",
   "version": "3.8.5"
  }
 },
 "nbformat": 4,
 "nbformat_minor": 4
}
