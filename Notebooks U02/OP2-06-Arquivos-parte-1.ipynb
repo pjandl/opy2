{
 "cells": [
  {
   "cell_type": "markdown",
   "metadata": {},
   "source": [
    "<img src='op2-u02.png'/>\n",
    "<h2><font color='#7F0000'>OP2-06-Arquivos (Parte 1)</font></h2>"
   ]
  },
  {
   "cell_type": "markdown",
   "metadata": {},
   "source": [
    "## Arquivos"
   ]
  },
  {
   "cell_type": "code",
   "execution_count": null,
   "metadata": {},
   "outputs": [],
   "source": [
    "# Arquivos são conjuntos de dados correlacionados, armazenados como uma unidade, pelo\n",
    "# sistema de arquivos, um sistema de persistência provido pelo sistema operacional.\n",
    "# Por meio dos arquivos, dados de uma aplicação podem ser preservados entre diferentes\n",
    "# sessões de uso, além de compartilhados entre outras aplicações e sistemas.\n",
    "# Operações típicas em arquivos são: abertura, leitura, busca, escrita e fechamento."
   ]
  },
  {
   "cell_type": "markdown",
   "metadata": {},
   "source": [
    "### Abertura de arquivo"
   ]
  },
  {
   "cell_type": "code",
   "execution_count": null,
   "metadata": {},
   "outputs": [],
   "source": [
    "# A abertura de arquivos emprega a função open, que toma como parâmetros:\n",
    "#-- o nome do arquivo (incluindo seu caminho/path) e\n",
    "#-- o modo de abertura\n",
    "arquivo1 = open(\"arquivos/programacao.txt\", \"r\")\n",
    "#-- a abertura de arquivo em modo r (leitura), exige que o arquivo exista."
   ]
  },
  {
   "cell_type": "markdown",
   "metadata": {},
   "source": [
    "<ul>\n",
    "    <li>O caminho/path é a sequência de diretórios onde um arquivo é armazenado no sistema de arquivos local.</li>\n",
    "    <li>O modo de abertura indica se o arquivo será utilizado para leitura ou escrita:</li>\n",
    "        <ul>\n",
    "            <li>r : modo de leitura, padrão (<i>read</i>)</li>\n",
    "            <li>w : modo de escrita (<i>write</i>)</li>\n",
    "            <li>a : modo de anexação (<i>apend</i>)</li>\n",
    "            <li>x : modo de criação (<i>create</i>)</li>\n",
    "        </ul>\n",
    "    <li>Também pode ser indicada se a operação envolverá conteúdo de texto ou binário:</li>\n",
    "        <ul>\n",
    "            <li>t : operação com texto, padrão (<i>text</i>)</li>\n",
    "            <li>b : operação binária (<i>binary</i>)</li>\n",
    "        </ul>\n",
    "    <li>A abertura retorna um objeto especial (<i>um file handler</i>) que permite o acesso às operações sobre o arquivo.</li>\n",
    "    <li>O padrão para leitura e escrita de texto é a codificação UTF-8.</li>\n",
    "</ul>"
   ]
  },
  {
   "cell_type": "code",
   "execution_count": null,
   "metadata": {},
   "outputs": [],
   "source": [
    "arquivo1"
   ]
  },
  {
   "cell_type": "markdown",
   "metadata": {},
   "source": [
    "### Leitura de arquivo"
   ]
  },
  {
   "cell_type": "code",
   "execution_count": null,
   "metadata": {},
   "outputs": [],
   "source": [
    "# A leitura requer o file handler de um arquivo já aberto.\n",
    "# Usado como abaixo, o método read() lê todo conteúdo do arquivo.\n",
    "print(arquivo1.read())"
   ]
  },
  {
   "cell_type": "code",
   "execution_count": null,
   "metadata": {},
   "outputs": [],
   "source": [
    "# A função tell() retorna a posição do cursor de leitura.\n",
    "# Neste caso, corresponde ao tamanho (em caracteres) do arquivo, pois todo seu conteúdo foi lido.\n",
    "print(arquivo1.tell())"
   ]
  },
  {
   "cell_type": "code",
   "execution_count": null,
   "metadata": {},
   "outputs": [],
   "source": [
    "# A leitura é orientada por um ponteiro, que se move para o final do conteúdo lido.\n",
    "# Se o ponteiro de leitura atinge o final, uma nova leitura não retorna conteúdo.\n",
    "print(arquivo1.read())"
   ]
  },
  {
   "cell_type": "code",
   "execution_count": null,
   "metadata": {},
   "outputs": [],
   "source": [
    "# Observe que tell retornou a mesma informação que antes.\n",
    "print(arquivo1.tell())"
   ]
  },
  {
   "cell_type": "code",
   "execution_count": null,
   "metadata": {},
   "outputs": [],
   "source": [
    "# Uma operação de reposicionamento seek permite repetir a leitura a partir de qualquer ponto.\n",
    "# A função seek retorna a posição do cursor após a movimentação, como tell.\n",
    "arquivo1.seek(0, 0)"
   ]
  },
  {
   "cell_type": "code",
   "execution_count": null,
   "metadata": {},
   "outputs": [],
   "source": [
    "#\n",
    "print(arquivo1.tell())"
   ]
  },
  {
   "cell_type": "code",
   "execution_count": null,
   "metadata": {},
   "outputs": [],
   "source": [
    "# A operação de reposicionamento seek() permite repetir a leitura a partir de qualquer ponto.\n",
    "# O primeiro valor é o número do byte, o segundo valor indica se o reposicionamento é feito\n",
    "# a partir do início (0), do fim (1) ou da posição atual (2).\n",
    "arquivo1.seek(28, 0)\n",
    "print(arquivo1.tell())"
   ]
  },
  {
   "cell_type": "code",
   "execution_count": null,
   "metadata": {},
   "outputs": [],
   "source": [
    "# O método read() também efetua a leitura de um número determinado de caracteres\n",
    "trecho = arquivo1.read(8)\n",
    "print(trecho)"
   ]
  },
  {
   "cell_type": "markdown",
   "metadata": {},
   "source": [
    "### Fechamento"
   ]
  },
  {
   "cell_type": "code",
   "execution_count": null,
   "metadata": {},
   "outputs": [],
   "source": [
    "# O fechamento do arquivo emprega a função close.\n",
    "# Recomenda-se fechar os arquivos logo após seu uso, liberando-os para outras aplicações\n",
    "# e economizando recursos do próprio programa.\n",
    "arquivo1.close()"
   ]
  },
  {
   "cell_type": "markdown",
   "metadata": {},
   "source": [
    "### Gravação"
   ]
  },
  {
   "cell_type": "code",
   "execution_count": null,
   "metadata": {},
   "outputs": [],
   "source": [
    "# Para armazenar conteúdo em um arquivo:\n",
    "#-- arquivo deve ser aberto em modo de escrita ou anexação\n",
    "#-- conteúdo deve ser gravado/escrito no arquivo\n",
    "#-- arquivo deve ser fechado"
   ]
  },
  {
   "cell_type": "code",
   "execution_count": null,
   "metadata": {},
   "outputs": [],
   "source": [
    "# A abertura de arquivo em modo w (escrita) implica que:\n",
    "#-- se o arquivo não existe, ele é criado;\n",
    "#-- se o arquivo existe, seu conteúdo é substituído.\n",
    "arquivo2 = open(\"arquivos/opy2-contagem.txt\", \"w\")"
   ]
  },
  {
   "cell_type": "code",
   "execution_count": null,
   "metadata": {},
   "outputs": [],
   "source": [
    "# A função write permite gravar/escrever conteúdo no arquivo.\n",
    "# O conteúdo gravado é completamente arbitrário, mas write aceita apenas UM argumento.\n",
    "arquivo2.write(\"Contagem progressiva\\n\")\n",
    "# A função write retorna o número de caracteres escrito."
   ]
  },
  {
   "cell_type": "code",
   "execution_count": null,
   "metadata": {},
   "outputs": [],
   "source": [
    "# Na escrita de texto, não esqueça de incluir as quebras de linha desejadas.\n",
    "arquivo2.write(\"---- INÍCIO ----\\n\")"
   ]
  },
  {
   "cell_type": "code",
   "execution_count": null,
   "metadata": {},
   "outputs": [],
   "source": [
    "# A maneira mais simples de gravar um arquivo é a sequencial, ou seja,\n",
    "# o conteúdo é integralmente gravado, do início ao fim."
   ]
  },
  {
   "cell_type": "code",
   "execution_count": null,
   "metadata": {},
   "outputs": [],
   "source": [
    "# uso de laço para inclusão sistematizada de conteúdo\n",
    "for c in range(50): \n",
    "    # Escrita da contagem\n",
    "    arquivo2.write(str(c) + '\\n')"
   ]
  },
  {
   "cell_type": "code",
   "execution_count": null,
   "metadata": {},
   "outputs": [],
   "source": [
    "# Finalização do conteúdo\n",
    "arquivo2.write(\"----- FIM ------\\n\")"
   ]
  },
  {
   "cell_type": "code",
   "execution_count": null,
   "metadata": {},
   "outputs": [],
   "source": [
    "# Fechamento do arquivo\n",
    "arquivo2.close()"
   ]
  },
  {
   "cell_type": "code",
   "execution_count": null,
   "metadata": {},
   "outputs": [],
   "source": [
    "# Com o magic command %more podemos exibir o conteúdo do arquivo criado\n",
    "%more arquivos/opy2-contagem.txt"
   ]
  },
  {
   "cell_type": "markdown",
   "metadata": {},
   "source": [
    "### Anexação"
   ]
  },
  {
   "cell_type": "code",
   "execution_count": null,
   "metadata": {},
   "outputs": [],
   "source": [
    "# A abertura de arquivo em modo a (anexação) implica que:\n",
    "#-- se o arquivo não existe, ele é criado;\n",
    "#-- se o arquivo existe, novas gravações são adicionadas \n",
    "#   ao fim do arquivo, em continuação ao conteúdo existente.\n",
    "arquivo2 = open(\"arquivos/opy2-contagem.txt\", \"a\")"
   ]
  },
  {
   "cell_type": "code",
   "execution_count": null,
   "metadata": {},
   "outputs": [],
   "source": [
    "# Na escrita de texto, não esqueça de incluir as quebras de linha desejadas.\n",
    "arquivo2.write(\"-- CONTINUACAO -\\n\")"
   ]
  },
  {
   "cell_type": "code",
   "execution_count": null,
   "metadata": {},
   "outputs": [],
   "source": [
    "# Uma lista de linguagens de programação\n",
    "lp = ['Python', 'Java', 'C', 'C++', 'C#', 'Scala', 'Pascal', 'Modula', 'Fortran', \n",
    "      'PHP', 'JavaScript', 'Visual Basic', 'Prolog', 'Lisp', 'Pascal', 'Haskell']\n",
    "# Gravar uma lista requer sua transformação em texto\n",
    "arquivo2.write(str(lp))\n",
    "# Lembre-se das quebras de linha\n",
    "arquivo2.write('\\n\\n')"
   ]
  },
  {
   "cell_type": "code",
   "execution_count": null,
   "metadata": {},
   "outputs": [],
   "source": [
    "import random as rnd"
   ]
  },
  {
   "cell_type": "code",
   "execution_count": null,
   "metadata": {},
   "outputs": [],
   "source": [
    "for i in range(10):\n",
    "    arquivo2.write(lp[rnd.randrange(0, len(lp))])\n",
    "    arquivo2.write('\\n')"
   ]
  },
  {
   "cell_type": "code",
   "execution_count": null,
   "metadata": {},
   "outputs": [],
   "source": [
    "# Finalização do conteúdo\n",
    "arquivo2.write(\"\\n--- NOVO FIM ----\\n\")"
   ]
  },
  {
   "cell_type": "code",
   "execution_count": null,
   "metadata": {},
   "outputs": [],
   "source": [
    "arquivo2.close()"
   ]
  },
  {
   "cell_type": "code",
   "execution_count": null,
   "metadata": {},
   "outputs": [],
   "source": [
    "# Conferindo o conteúdo adicionado\n",
    "%more arquivos/opy2-contagem.txt"
   ]
  },
  {
   "cell_type": "markdown",
   "metadata": {},
   "source": [
    "### FIM\n",
    "### <a href=\"http://github.com/pjandl/opy2\">Oficina Python Intermediário</a>"
   ]
  }
 ],
 "metadata": {
  "kernelspec": {
   "display_name": "Python 3",
   "language": "python",
   "name": "python3"
  },
  "language_info": {
   "codemirror_mode": {
    "name": "ipython",
    "version": 3
   },
   "file_extension": ".py",
   "mimetype": "text/x-python",
   "name": "python",
   "nbconvert_exporter": "python",
   "pygments_lexer": "ipython3",
   "version": "3.8.5"
  }
 },
 "nbformat": 4,
 "nbformat_minor": 4
}
