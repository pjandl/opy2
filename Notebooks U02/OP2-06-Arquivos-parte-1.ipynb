{
 "cells": [
  {
   "cell_type": "markdown",
   "metadata": {},
   "source": [
    "<img src='op2-u02.png'/>\n",
    "<h2><font color='#7F0000'>OP2-06-Arquivos (Parte 1)</font></h2>"
   ]
  },
  {
   "cell_type": "markdown",
   "metadata": {},
   "source": [
    "<table width='100%'>\n",
    "    <tbody>\n",
    "        <tr>\n",
    "            <td width='33%' style='text-align: left; background-color: #DDDDDD; vertical-align: top;'>Notebook Anterior<br><a href=\"../Notebooks%20U01/OP2-05-Lancamento-de-Excecoes.ipynb\">OP2-05-Lancamento-de-Excecoes</a></td>\n",
    "            <td width='34%' style='text-align: left; background-color: #DDDDDD; vertical-align: top;'>&nbsp;<br/>\n",
    "            </td>\n",
    "            <td width='33%'style='text-align: left; background-color: #DDDDDD; vertical-align: top;'>Próximo Notebook<br/><a href=\"OP2-07-Arquivos-parte-2.ipynb\">OP2-07-Arquivos-parte-2</a></td>\n",
    "        </tr>\n",
    "    </tbody>\n",
    "</table>"
   ]
  },
  {
   "cell_type": "markdown",
   "metadata": {},
   "source": [
    "## Arquivos"
   ]
  },
  {
   "cell_type": "markdown",
   "metadata": {},
   "source": [
    "<p>Arquivos são conjuntos de dados correlacionados, ou seja, uma sequência de bytes armazenada como uma unidade, pelo sistema de arquivos oferecido pelo sistema operacional, que proporciona um serviço de persistência de dados.</p>\n",
    "<p>Por meio dos arquivos, os dados de uma aplicação podem ser preservados entre diferentes sessões de uso, além de compartilhados entre outras aplicações e sistemas.</p>\n",
    "</p>As operações típicas realizadas com os arquivos são:</p>\n",
    "<ul>\n",
    "    <li>abertura,</li>\n",
    "    <li>leitura,</li>\n",
    "    <li>busca,</li>\n",
    "    <li>escrita e</li>\n",
    "    <li>fechamento.</li>\n",
    "</ul>"
   ]
  },
  {
   "cell_type": "markdown",
   "metadata": {},
   "source": [
    "### Abertura de arquivo"
   ]
  },
  {
   "cell_type": "markdown",
   "metadata": {},
   "source": [
    "<p>A abertura de arquivos emprega a função <tt>open()</tt>, que toma como parâmetros:</p>\n",
    "<ul>\n",
    "    <li>o nome do arquivo, incluindo seu caminho (</i>path</i>) e</li>\n",
    "    <li>o modo de abertura.</li>\n",
    "</ul>"
   ]
  },
  {
   "cell_type": "code",
   "execution_count": 1,
   "metadata": {},
   "outputs": [],
   "source": [
    "# Abertura de um arquivo para leitura\n",
    "arquivo1 = open(\"arquivos/programacao.txt\", \"r\")"
   ]
  },
  {
   "cell_type": "markdown",
   "metadata": {},
   "source": [
    "<ul>\n",
    "    <li>O caminho (<i>path</i>) é a sequência de diretórios onde um arquivo é armazenado no sistema de arquivos local.</li>\n",
    "    <li>O modo de abertura indica como o arquivo será utilizado:</li>\n",
    "        <ul>\n",
    "            <li><tt>r</tt> : modo de leitura, padrão (<i>read</i>)</li>\n",
    "            <li><tt>w</tt> : modo de escrita (<i>write</i>)</li>\n",
    "            <li><tt>a</tt> : modo de anexação (<i>apend</i>)</li>\n",
    "            <li><tt>x</tt> : modo de criação (<i>create</i>)</li>\n",
    "        </ul>\n",
    "    <li>Também pode ser indicada se a operação envolverá conteúdo de texto ou binário:</li>\n",
    "        <ul>\n",
    "            <li><tt>t</tt> : operação com texto, padrão (<i>text</i>)</li>\n",
    "            <li><tt>b</tt> : operação binária (<i>binary</i>)</li>\n",
    "        </ul>\n",
    "    <li>A abertura retorna um objeto especial denominado manipulador de arquivo (<i>file handler</i>) que permite o acesso às operações sobre o arquivo.</li>\n",
    "    <li>O padrão para leitura e escrita de texto é a codificação UTF-8.</li>\n",
    "    <li>A  abertura de arquivo em modo <tt>r</tt> (leitura), exige que o arquivo exista.</li>\n",
    "</ul>"
   ]
  },
  {
   "cell_type": "code",
   "execution_count": 2,
   "metadata": {},
   "outputs": [
    {
     "data": {
      "text/plain": [
       "_io.TextIOWrapper"
      ]
     },
     "execution_count": 2,
     "metadata": {},
     "output_type": "execute_result"
    }
   ],
   "source": [
    "# Tipo de dados associado aos manipuladores de arquivo\n",
    "type(arquivo1)"
   ]
  },
  {
   "cell_type": "markdown",
   "metadata": {},
   "source": [
    "### Leitura de arquivo"
   ]
  },
  {
   "cell_type": "markdown",
   "metadata": {},
   "source": [
    "<p>A leitura requer o <i>file handler</i> de um arquivo já aberto e também o uso da função <tt>read()</tt>.</p>"
   ]
  },
  {
   "cell_type": "code",
   "execution_count": 6,
   "metadata": {},
   "outputs": [
    {
     "name": "stdout",
     "output_type": "stream",
     "text": [
      "Habilidades da Programacao\n",
      "\n",
      "Programar e uma atividade destinada a resolver problemas.\n",
      "Entao, para desenvolvermos programas para computadores, a despeito da linguagem de programacao, e necessario combinarmos cinco habilidades fundamentais que permitem construir uma solucao computacional para o problema que pretendemos resolver. Estas habilidades sao:\n",
      "\n",
      "- a computacao,\n",
      "- a sequenciacao,\n",
      "- a repeticao,\n",
      "- a decisao (ou selecao),\n",
      "- e a modularizacao.\n",
      "\n"
     ]
    }
   ],
   "source": [
    "# Como abaixo, o método read() lê todo conteúdo do arquivo.\n",
    "print(arquivo1.read())"
   ]
  },
  {
   "cell_type": "markdown",
   "metadata": {},
   "source": [
    "<p>À medida que os arquivos são lidos, um <i>cursor</i> de leitura avança para o final do seu conteúdo e, assim, controla qual a próxima posição (qual byte) a ser lida. A função <tt>tell()</tt> retorna a posição corrente do cursor de leitura.</p>"
   ]
  },
  {
   "cell_type": "code",
   "execution_count": 7,
   "metadata": {},
   "outputs": [
    {
     "name": "stdout",
     "output_type": "stream",
     "text": [
      "449\n"
     ]
    }
   ],
   "source": [
    "# Neste exemplo, tell retorna o tamanho (em caracteres) do arquivo,\n",
    "# pois todo seu conteúdo foi lido.\n",
    "print(arquivo1.tell())"
   ]
  },
  {
   "cell_type": "code",
   "execution_count": 8,
   "metadata": {},
   "outputs": [
    {
     "name": "stdout",
     "output_type": "stream",
     "text": [
      "\n"
     ]
    }
   ],
   "source": [
    "# Se o ponteiro de leitura atinge o final, uma nova leitura \n",
    "# não retorna conteúdo.\n",
    "print(arquivo1.read())"
   ]
  },
  {
   "cell_type": "code",
   "execution_count": 9,
   "metadata": {},
   "outputs": [
    {
     "name": "stdout",
     "output_type": "stream",
     "text": [
      "449\n"
     ]
    }
   ],
   "source": [
    "# Observe que tell retornou a mesma informação que antes.\n",
    "print(arquivo1.tell())"
   ]
  },
  {
   "cell_type": "markdown",
   "metadata": {},
   "source": [
    "### Reposicionamento"
   ]
  },
  {
   "cell_type": "markdown",
   "metadata": {},
   "source": [
    "<p>O reposicionamento do cursor pode ser feito com uso da função <tt>seek()</tt>, que permite avançar ou retroceder o cursor de leitura, o que permite, respectivamente, pular ou repetir a leitura a partir de qualquer ponto.</p>\n",
    "<p>A função de reposicionamento <tt>seek()</tt> toma dois parâmetros:</p>\n",
    "<ul>\n",
    "    <li>O primeiro parâmetros é a movimentação (um número de bytes) que deve ser realizada com o cursor,</li>\n",
    "    <li>O segundo parâmetro indica se o reposicionamento é feito a partir do:\n",
    "        <ul>\n",
    "            <li>início (0),</li>\n",
    "            <li>do fim (1) ou</li>\n",
    "            <li>da posição atual (2).</li>\n",
    "        </ul>\n",
    "    </li>\n",
    "</ul>\n",
    "<p>A função <tt>seek</tt> retorna a posição do cursor após a movimentação, como <tt>tell</tt>.</p>"
   ]
  },
  {
   "cell_type": "code",
   "execution_count": 10,
   "metadata": {},
   "outputs": [
    {
     "data": {
      "text/plain": [
       "0"
      ]
     },
     "execution_count": 10,
     "metadata": {},
     "output_type": "execute_result"
    }
   ],
   "source": [
    "# Reposicionamento do cursor para:\n",
    "# posição 0 a partir do início do arquivo.\n",
    "pos = arquivo1.seek(0, 0)\n",
    "pos"
   ]
  },
  {
   "cell_type": "code",
   "execution_count": 11,
   "metadata": {},
   "outputs": [
    {
     "name": "stdout",
     "output_type": "stream",
     "text": [
      "0\n"
     ]
    }
   ],
   "source": [
    "# Confirmação da posição do cursor (como retornado por seek)\n",
    "print(arquivo1.tell())"
   ]
  },
  {
   "cell_type": "code",
   "execution_count": 12,
   "metadata": {},
   "outputs": [
    {
     "name": "stdout",
     "output_type": "stream",
     "text": [
      "28\n"
     ]
    }
   ],
   "source": [
    "arquivo1.seek(28, 0)\n",
    "print(arquivo1.tell())"
   ]
  },
  {
   "cell_type": "code",
   "execution_count": 13,
   "metadata": {},
   "outputs": [
    {
     "name": "stdout",
     "output_type": "stream",
     "text": [
      "Programa\n"
     ]
    }
   ],
   "source": [
    "# O método read() também efetua a leitura de um número determinado de caracteres\n",
    "trecho = arquivo1.read(8)\n",
    "print(trecho)"
   ]
  },
  {
   "cell_type": "markdown",
   "metadata": {},
   "source": [
    "### Fechamento"
   ]
  },
  {
   "cell_type": "markdown",
   "metadata": {},
   "source": [
    "<p>O fechamento do arquivo emprega a função <tt>close()</tt>.</p>\n",
    "<p>Recomenda-se fechar os arquivos logo após seu uso, liberando-os para outras aplicações e economizando recursos do próprio programa.</p>"
   ]
  },
  {
   "cell_type": "code",
   "execution_count": null,
   "metadata": {},
   "outputs": [],
   "source": [
    "# Fechamento do arquivo\n",
    "arquivo1.close()"
   ]
  },
  {
   "cell_type": "markdown",
   "metadata": {},
   "source": [
    "### Gravação"
   ]
  },
  {
   "cell_type": "markdown",
   "metadata": {},
   "source": [
    "<p>Para armazenar conteúdo em um arquivo:</p>\n",
    "<ul>\n",
    "    <li>o arquivo deve ser aberto em modo de escrita (<tt>w</tt>) ou anexação (<tt>a</tt>),</li>\n",
    "    <li>o conteúdo deve ser gravado/escrito no arquivo e</li>\n",
    "    <li>arquivo deve ser fechado.</li>\n",
    "</ul>\n",
    "<p>A abertura de arquivo em modo <tt>w</tt> (escrita) implica que:\n",
    "<ul>\n",
    "    <li>se o arquivo não existe, ele é criado;</li>\n",
    "    <li>se o arquivo existe, seu conteúdo é substituído.</li>\n",
    "</ul>"
   ]
  },
  {
   "cell_type": "code",
   "execution_count": null,
   "metadata": {},
   "outputs": [],
   "source": [
    "# Abertura de arquivo em modo w (escrita)\n",
    "arquivo2 = open(\"arquivos/opy2-contagem.txt\", \"w\")"
   ]
  },
  {
   "cell_type": "markdown",
   "metadata": {},
   "source": [
    "<p>A função <tt>write()</tt> permite gravar/escrever conteúdo em um arquivo.</p>\n",
    "<p>O conteúdo gravado é completamente arbitrário, mas <tt>write</tt> aceita apenas <b>um</b> argumento.</p>\n",
    "<p>A função <tt>write</tt> retorna o número de caracteres escrito.</p>"
   ]
  },
  {
   "cell_type": "code",
   "execution_count": null,
   "metadata": {},
   "outputs": [],
   "source": [
    "# Escrita no arquivo\n",
    "arquivo2.write(\"Contagem progressiva\\n\")"
   ]
  },
  {
   "cell_type": "code",
   "execution_count": null,
   "metadata": {},
   "outputs": [],
   "source": [
    "# Na escrita de texto, não esqueça de \n",
    "# incluir as quebras de linha desejadas.\n",
    "arquivo2.write(\"---- INÍCIO ----\\n\")"
   ]
  },
  {
   "cell_type": "markdown",
   "metadata": {},
   "source": [
    "<p>A maneira mais simples de gravar um arquivo é a sequencial, ou seja, o conteúdo é integralmente gravado, do início ao fim.</p>"
   ]
  },
  {
   "cell_type": "code",
   "execution_count": null,
   "metadata": {},
   "outputs": [],
   "source": [
    "# uso de laço para inclusão sistematizada de conteúdo\n",
    "for c in range(50): \n",
    "    # Escrita da contagem\n",
    "    arquivo2.write(str(c) + '\\n')"
   ]
  },
  {
   "cell_type": "code",
   "execution_count": null,
   "metadata": {},
   "outputs": [],
   "source": [
    "# Finalização do conteúdo\n",
    "arquivo2.write(\"----- FIM ------\\n\")"
   ]
  },
  {
   "cell_type": "code",
   "execution_count": null,
   "metadata": {},
   "outputs": [],
   "source": [
    "# Fechamento do arquivo\n",
    "arquivo2.close()"
   ]
  },
  {
   "cell_type": "code",
   "execution_count": null,
   "metadata": {},
   "outputs": [],
   "source": [
    "# Com o magic command %more podemos exibir \n",
    "# o conteúdo do arquivo criado\n",
    "%more arquivos/opy2-contagem.txt"
   ]
  },
  {
   "cell_type": "markdown",
   "metadata": {},
   "source": [
    "### Anexação"
   ]
  },
  {
   "cell_type": "markdown",
   "metadata": {},
   "source": [
    "<p>A abertura de arquivo em modo a (anexação) implica que:</p>\n",
    "<ul>\n",
    "    <li>se o arquivo não existe, ele é criado;</li>\n",
    "    <li>se o arquivo existe, novas gravações são adicionadas ao fim do arquivo, em continuação ao conteúdo existente.</li>\n",
    "</ul>"
   ]
  },
  {
   "cell_type": "code",
   "execution_count": 14,
   "metadata": {},
   "outputs": [],
   "source": [
    "# Abertura de arquivo em modo a (anexação)\n",
    "arquivo2 = open(\"arquivos/opy2-contagem.txt\", \"a\")"
   ]
  },
  {
   "cell_type": "code",
   "execution_count": 15,
   "metadata": {},
   "outputs": [
    {
     "data": {
      "text/plain": [
       "17"
      ]
     },
     "execution_count": 15,
     "metadata": {},
     "output_type": "execute_result"
    }
   ],
   "source": [
    "# Na escrita de texto, não esqueça de incluir as quebras de linha desejadas.\n",
    "arquivo2.write(\"-- CONTINUACAO -\\n\")"
   ]
  },
  {
   "cell_type": "code",
   "execution_count": 16,
   "metadata": {},
   "outputs": [
    {
     "data": {
      "text/plain": [
       "2"
      ]
     },
     "execution_count": 16,
     "metadata": {},
     "output_type": "execute_result"
    }
   ],
   "source": [
    "# Uma lista de linguagens de programação\n",
    "lp = ['Python', 'Java', 'C', 'C++', 'Kotlin',\n",
    "      'C#', 'Scala', 'Pascal', 'Modula', 'Go',\n",
    "      'Fortran', 'PHP', 'JavaScript', 'Visual Basic',\n",
    "      'Prolog', 'Lisp', 'Pascal', 'Haskell']\n",
    "# Gravar uma lista inteira requer sua transformação em texto\n",
    "arquivo2.write(str(lp))\n",
    "# Lembre-se das quebras de linha\n",
    "arquivo2.write('\\n\\n')"
   ]
  },
  {
   "cell_type": "code",
   "execution_count": 17,
   "metadata": {},
   "outputs": [],
   "source": [
    "# Pacote random contém funções para gerar números aleatórios\n",
    "import random as rnd"
   ]
  },
  {
   "cell_type": "code",
   "execution_count": 18,
   "metadata": {},
   "outputs": [],
   "source": [
    "# Grava/escreve 10 linguagens sorteadas da lista\n",
    "for i in range(10):\n",
    "    arquivo2.write(lp[rnd.randrange(0, len(lp))])\n",
    "    arquivo2.write('\\n')"
   ]
  },
  {
   "cell_type": "code",
   "execution_count": 19,
   "metadata": {},
   "outputs": [
    {
     "data": {
      "text/plain": [
       "19"
      ]
     },
     "execution_count": 19,
     "metadata": {},
     "output_type": "execute_result"
    }
   ],
   "source": [
    "# Finalização do conteúdo\n",
    "arquivo2.write(\"\\n--- NOVO FIM ----\\n\")"
   ]
  },
  {
   "cell_type": "code",
   "execution_count": 20,
   "metadata": {},
   "outputs": [],
   "source": [
    "# Fechamento do arquivo\n",
    "arquivo2.close()"
   ]
  },
  {
   "cell_type": "code",
   "execution_count": 21,
   "metadata": {},
   "outputs": [],
   "source": [
    "# Conferindo o conteúdo adicionado\n",
    "%more arquivos/opy2-contagem.txt"
   ]
  },
  {
   "cell_type": "markdown",
   "metadata": {},
   "source": [
    "### FIM\n",
    "### <a href=\"http://github.com/pjandl/opy2\">Oficina Python Intermediário</a>"
   ]
  }
 ],
 "metadata": {
  "kernelspec": {
   "display_name": "Python 3",
   "language": "python",
   "name": "python3"
  },
  "language_info": {
   "codemirror_mode": {
    "name": "ipython",
    "version": 3
   },
   "file_extension": ".py",
   "mimetype": "text/x-python",
   "name": "python",
   "nbconvert_exporter": "python",
   "pygments_lexer": "ipython3",
   "version": "3.8.5"
  }
 },
 "nbformat": 4,
 "nbformat_minor": 4
}
