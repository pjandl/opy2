{
 "cells": [
  {
   "cell_type": "markdown",
   "metadata": {},
   "source": [
    "<img src='op2-u02.png'/>\n",
    "<h2><font color='#7F0000'>OP2-07-Arquivos (Parte 2)</font></h2>"
   ]
  },
  {
   "cell_type": "markdown",
   "metadata": {},
   "source": [
    "## Uso de with"
   ]
  },
  {
   "cell_type": "code",
   "execution_count": null,
   "metadata": {},
   "outputs": [],
   "source": [
    "# O comando with oferece algumas facilidades para o uso de arquivos:\n",
    "#-- fechamento automático do arquivo, mesmo na ocorrência de exceções; e \n",
    "#-- agrupamento do conjunto de comandos que processam o arquivo."
   ]
  },
  {
   "cell_type": "code",
   "execution_count": null,
   "metadata": {},
   "outputs": [],
   "source": [
    "nome_arquivo = 'arquivos/pessoas.txt'\n",
    "# abertura e utilização do arquivo\n",
    "with open(nome_arquivo, 'r') as f:\n",
    "    # leitura do arquivo\n",
    "    conteudo = f.read();\n",
    "    tamanho = f.tell();\n",
    "# o arquivo é fechado automaticamente    "
   ]
  },
  {
   "cell_type": "code",
   "execution_count": null,
   "metadata": {},
   "outputs": [],
   "source": [
    "print(f'Arquivo: {nome_arquivo} ({tamanho} bytes)')\n",
    "print(30*'-')\n",
    "print(conteudo)\n",
    "print(30*'-')"
   ]
  },
  {
   "cell_type": "markdown",
   "metadata": {},
   "source": [
    "## Arquivos CSV (comma separated values)"
   ]
  },
  {
   "cell_type": "code",
   "execution_count": null,
   "metadata": {},
   "outputs": [],
   "source": [
    "# Arquivos CSV são popularmente utilizados para transferir conjuntos organizados\n",
    "# de dados entre aplicações diferentes, dentre as quais planilhas eletrônicas e\n",
    "# bancos de dados. "
   ]
  },
  {
   "cell_type": "markdown",
   "metadata": {},
   "source": [
    "### Escrita de CSV"
   ]
  },
  {
   "cell_type": "code",
   "execution_count": null,
   "metadata": {},
   "outputs": [],
   "source": [
    "# Exemplo do uso de with na escrita de um arquivo CSV\n",
    "with open('arquivos/tabela.csv', 'wt') as f:\n",
    "    # gravação do cabeçalho (opcional) do arquivo CSV\n",
    "    f.write('#;angulo;seno;cosseno\\n')\n",
    "    i = 1\n",
    "    for e in range(0, 51, 5):\n",
    "        a = math.pi * e / 100\n",
    "        # os valores de cada registro (linha) são separados por ;\n",
    "        f.write(f'{i};{a:.3f};{math.sin(a):.6f};{math.cos(a):.6f}\\n')\n",
    "        i += 1"
   ]
  },
  {
   "cell_type": "code",
   "execution_count": null,
   "metadata": {},
   "outputs": [],
   "source": [
    "# magic command para exibir conteúdo do arquivo gerado\n",
    "%more arquivos/tabela.csv"
   ]
  },
  {
   "cell_type": "code",
   "execution_count": null,
   "metadata": {},
   "outputs": [],
   "source": [
    "# %load arquivos/tabela.csv\n",
    "#;angulo;seno;cosseno\n",
    "1;0.000;0.000000;1.000000\n",
    "2;0.157;0.156434;0.987688\n",
    "3;0.314;0.309017;0.951057\n",
    "4;0.471;0.453990;0.891007\n",
    "5;0.628;0.587785;0.809017\n",
    "6;0.785;0.707107;0.707107\n",
    "7;0.942;0.809017;0.587785\n",
    "8;1.100;0.891007;0.453990\n",
    "9;1.257;0.951057;0.309017\n",
    "10;1.414;0.987688;0.156434\n",
    "11;1.571;1.000000;0.000000\n"
   ]
  },
  {
   "cell_type": "markdown",
   "metadata": {},
   "source": [
    "### Leitura de CSV"
   ]
  },
  {
   "cell_type": "code",
   "execution_count": null,
   "metadata": {},
   "outputs": [],
   "source": [
    "# A leitura de um arquivo CSV usa os mesmos princípios da leitura de arquivos de texto.\n",
    "nome_arquivo = 'arquivos/tabela.csv'\n",
    "with open(nome_arquivo, 'rt') as f:\n",
    "    # leitura do arquivo\n",
    "    conteudo = f.read();\n",
    "# o arquivo é fechado automaticamente\n",
    "\n",
    "# função split permite dividir conteúdo em uma lista de linhas (registros)\n",
    "lista = conteudo.split();\n",
    "print(lista)"
   ]
  },
  {
   "cell_type": "code",
   "execution_count": null,
   "metadata": {},
   "outputs": [],
   "source": [
    "# extração do cabeçalho e divisão em campos com split(separador)\n",
    "cabecalho = lista[0].split(';')\n",
    "print('Cabeçalho:\\n\\t', cabecalho)\n",
    "# fatiamento para obtenção das linhas 1 e 2\n",
    "registro = lista[1:3]\n",
    "print('Registros 1 e 2:\\n\\t', registro)"
   ]
  },
  {
   "cell_type": "code",
   "execution_count": null,
   "metadata": {},
   "outputs": [],
   "source": [
    "# cada registro, ou seja, tanto o cabeçalho como cada linha,\n",
    "# podem ser dividido em campos com split(separador)  \n",
    "for r in registro:\n",
    "    print('Registro:', r)\n",
    "    campos = r.split(';') # separador é o ;\n",
    "    for c in range(len(cabecalho)):\n",
    "        print(f'\\t{cabecalho[c]} : {campos[c]}') "
   ]
  },
  {
   "cell_type": "code",
   "execution_count": null,
   "metadata": {},
   "outputs": [],
   "source": [
    "from csv import reader"
   ]
  },
  {
   "cell_type": "code",
   "execution_count": null,
   "metadata": {},
   "outputs": [],
   "source": [
    "# Lê arquivo csv como um lista de listas\n",
    "with open(nome_arquivo, 'r') as file_reader:\n",
    "    # Usa o file handler para criar um leitor CSV\n",
    "    csv_reader = reader(file_reader, delimiter=';')\n",
    "    print(csv_reader)\n",
    "    # Usa o reader para obter uma lista of listas\n",
    "    lista_de_registros = list(csv_reader)\n",
    "# Arquivo é fechado, mantendo lista de registros\n",
    "print(lista_de_registros)"
   ]
  },
  {
   "cell_type": "code",
   "execution_count": null,
   "metadata": {},
   "outputs": [],
   "source": [
    "# Laço permite processar campos individualmente\n",
    "for registro in lista_de_registros:\n",
    "    campos = list(registro)\n",
    "    print(campos)"
   ]
  },
  {
   "cell_type": "markdown",
   "metadata": {},
   "source": [
    "## Arquivos binários"
   ]
  },
  {
   "cell_type": "code",
   "execution_count": null,
   "metadata": {},
   "outputs": [],
   "source": [
    "# Um arquivo binário é uma sequência arbitrária de bytes, ou seja,\n",
    "# contém um ou mais bytes que podem descrever uma imagem, um som,\n",
    "# um vídeo, uma planilha eletrônica ou qualquer outro tipo de dados,\n",
    "# incluindo texto. Para que possam ser tratados adequadamente, devem\n",
    "# seguir uma organização específica, tal como PNG, WAV, MP4, XLS, que\n",
    "# define seu formato."
   ]
  },
  {
   "cell_type": "code",
   "execution_count": null,
   "metadata": {},
   "outputs": [],
   "source": [
    "nome_arquivo = 'arquivos/red.png'\n",
    "i = 0\n",
    "with open(nome_arquivo, 'rb') as f:\n",
    "    byte = f.read(1)\n",
    "    while byte:\n",
    "        i += 1\n",
    "        #\n",
    "        print(f'{byte.hex().upper():2s}', end=' ')\n",
    "        if i == 16:\n",
    "            print()\n",
    "            i = 0\n",
    "        byte = f.read(1)"
   ]
  },
  {
   "cell_type": "code",
   "execution_count": null,
   "metadata": {},
   "outputs": [],
   "source": [
    "import struct\n",
    "i = 0\n",
    "with open(nome_arquivo, 'rb') as f:\n",
    "    signature = f.read(8)\n",
    "    if signature.hex() == '89504e470d0a1a0a':\n",
    "        print('PNG')\n",
    "        f.read(8) # descarta chunck type (IHDR)\n",
    "        data = f.read(8)\n",
    "        w, h = struct.unpack('>LL', data)\n",
    "        print(f'width x height = {int(w)} x {int(h)}')\n",
    "    else:\n",
    "        print('Arquivo não contém imagem PNG.')"
   ]
  },
  {
   "cell_type": "code",
   "execution_count": null,
   "metadata": {},
   "outputs": [],
   "source": [
    "from IPython.display import Image\n",
    "Image(filename=nome_arquivo) "
   ]
  },
  {
   "cell_type": "markdown",
   "metadata": {},
   "source": [
    "### FIM\n",
    "### <a href=\"http://github.com/pjandl/opy2\">Oficina Python Intermediário</a>"
   ]
  }
 ],
 "metadata": {
  "kernelspec": {
   "display_name": "Python 3",
   "language": "python",
   "name": "python3"
  },
  "language_info": {
   "codemirror_mode": {
    "name": "ipython",
    "version": 3
   },
   "file_extension": ".py",
   "mimetype": "text/x-python",
   "name": "python",
   "nbconvert_exporter": "python",
   "pygments_lexer": "ipython3",
   "version": "3.8.5"
  }
 },
 "nbformat": 4,
 "nbformat_minor": 4
}
