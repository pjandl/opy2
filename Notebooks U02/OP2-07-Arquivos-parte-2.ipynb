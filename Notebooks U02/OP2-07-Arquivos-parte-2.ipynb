{
 "cells": [
  {
   "cell_type": "markdown",
   "metadata": {},
   "source": [
    "<img src='op2-u02.png'/>\n",
    "<h2><font color='#7F0000'>OP2-07-Arquivos (Parte 2)</font></h2>"
   ]
  },
  {
   "cell_type": "markdown",
   "metadata": {},
   "source": [
    "<table width='100%'>\n",
    "    <tbody>\n",
    "        <tr>\n",
    "            <td width='33%' style='text-align: left; background-color: #DDDDDD; vertical-align: top;'>Notebook Anterior<br><a href=\"OP2-06-Arquivos-parte-1.ipynb\">OP2-06-Arquivos-parte-1</a></td>\n",
    "            <td width='34%' style='text-align: left; background-color: #DDDDDD; vertical-align: top;'>&nbsp;<br/>\n",
    "            </td>\n",
    "            <td width='33%'style='text-align: left; background-color: #DDDDDD; vertical-align: top;'>Próximo Notebook<br/><a href=\"OP2-08-Banco-de-Dados.ipynb\">OP2-08-Banco-de-Dados</a></td>\n",
    "        </tr>\n",
    "    </tbody>\n",
    "</table>"
   ]
  },
  {
   "cell_type": "markdown",
   "metadata": {},
   "source": [
    "## Uso de with"
   ]
  },
  {
   "cell_type": "markdown",
   "metadata": {},
   "source": [
    "<p>O comando <tt>with</tt> oferece algumas facilidades para o uso de arquivos:</p>\n",
    "<ul>\n",
    "    <li>fechamento automático do arquivo, mesmo na ocorrência de exceções; e</li>\n",
    "    <li>agrupamento do conjunto de comandos que processam o arquivo.</li>\n",
    "</ul>"
   ]
  },
  {
   "cell_type": "code",
   "execution_count": null,
   "metadata": {},
   "outputs": [],
   "source": [
    "nome_arquivo = 'arquivos/pessoas.txt'\n",
    "# abertura e utilização do arquivo\n",
    "with open(nome_arquivo, 'r') as f:\n",
    "    # leitura do arquivo\n",
    "    conteudo = f.read();\n",
    "    tamanho = f.tell();\n",
    "# o arquivo é fechado automaticamente"
   ]
  },
  {
   "cell_type": "code",
   "execution_count": null,
   "metadata": {},
   "outputs": [],
   "source": [
    "print(f'Arquivo: {nome_arquivo} ({tamanho} bytes)')\n",
    "print(30*'-')\n",
    "print(conteudo)\n",
    "print(30*'-')"
   ]
  },
  {
   "cell_type": "markdown",
   "metadata": {},
   "source": [
    "## Arquivos CSV (comma separated values)"
   ]
  },
  {
   "cell_type": "markdown",
   "metadata": {},
   "source": [
    "<p>Arquivos CSV são popularmente utilizados para transferir conjuntos organizados de dados entre aplicações diferentes, dentre as quais planilhas eletrônicas e bancos de dados.</p>\n",
    "<p>Os arquivos CSV são, de fato, arquivos de texto, onde cada linha representa um <i>registro</i> de dados. Em cada linha, os valores (que podem ser números, strings ou datas) são separados por uma vírgula (padrão), tabulação ou ponto-e-vírgula.</p>\n",
    "<p>Usualmente as linhas contém a mesma quantidade de valores (<i>colunas</i>). Opcionalmente, a primeira linha de um arquivo CSV pode conter rótulos para cada <i>coluna</i>, definindo um cabeçalho.</p>"
   ]
  },
  {
   "cell_type": "markdown",
   "metadata": {},
   "source": [
    "### Escrita de CSV"
   ]
  },
  {
   "cell_type": "markdown",
   "metadata": {},
   "source": [
    "<p>Criar (ou gerar) um arquivo CSV é como escrever em um arquivo de texto comum, ou seja, emprega as mesmas funções para sua abertura, escrita e fechamento.</p>"
   ]
  },
  {
   "cell_type": "code",
   "execution_count": null,
   "metadata": {},
   "outputs": [],
   "source": [
    "import math\n",
    "# Exemplo do uso de with na escrita de um arquivo CSV\n",
    "with open('arquivos/tabela.csv', 'wt') as f:\n",
    "    # gravação do cabeçalho (opcional) do arquivo CSV\n",
    "    f.write('#;angulo;seno;cosseno\\n')\n",
    "    i = 1\n",
    "    for e in range(0, 51, 5):\n",
    "        a = math.pi * e / 100\n",
    "        # os valores de cada registro (linha) são separados por ;\n",
    "        f.write(f'{i};{a:.3f};{math.sin(a):.6f};{math.cos(a):.6f}\\n')\n",
    "        i += 1"
   ]
  },
  {
   "cell_type": "code",
   "execution_count": null,
   "metadata": {},
   "outputs": [],
   "source": [
    "# magic command para exibir conteúdo do arquivo gerado\n",
    "%more arquivos/tabela.csv"
   ]
  },
  {
   "cell_type": "code",
   "execution_count": null,
   "metadata": {},
   "outputs": [],
   "source": [
    "# %load arquivos/tabela.csv\n",
    "#;angulo;seno;cosseno\n",
    "1;0.000;0.000000;1.000000\n",
    "2;0.157;0.156434;0.987688\n",
    "3;0.314;0.309017;0.951057\n",
    "4;0.471;0.453990;0.891007\n",
    "5;0.628;0.587785;0.809017\n",
    "6;0.785;0.707107;0.707107\n",
    "7;0.942;0.809017;0.587785\n",
    "8;1.100;0.891007;0.453990\n",
    "9;1.257;0.951057;0.309017\n",
    "10;1.414;0.987688;0.156434\n",
    "11;1.571;1.000000;0.000000\n"
   ]
  },
  {
   "cell_type": "markdown",
   "metadata": {},
   "source": [
    "### Leitura de CSV"
   ]
  },
  {
   "cell_type": "markdown",
   "metadata": {},
   "source": [
    "<p>Ler dados de um arquivo CSV é semelhante à leitura de um arquivo de texto comum, ou seja, emprega as mesmas funções para sua abertura, leitura e fechamento.</p>"
   ]
  },
  {
   "cell_type": "code",
   "execution_count": 1,
   "metadata": {},
   "outputs": [],
   "source": [
    "# Leitura de arquivo CSV é como leitura de arquivo de texto.\n",
    "nome_arquivo = 'arquivos/tabela.csv'\n",
    "with open(nome_arquivo, 'rt') as f:\n",
    "    # leitura do arquivo\n",
    "    conteudo = f.read();\n",
    "# o arquivo é fechado automaticamente"
   ]
  },
  {
   "cell_type": "code",
   "execution_count": 3,
   "metadata": {},
   "outputs": [
    {
     "name": "stdout",
     "output_type": "stream",
     "text": [
      "#;angulo;seno;cosseno\n",
      "1;0.000;0.000000;1.000000\n",
      "2;0.157;0.156434;0.987688\n",
      "3;0.314;0.309017;0.951057\n",
      "4;0.471;0.453990;0.891007\n",
      "5;0.628;0.587785;0.809017\n",
      "6;0.785;0.707107;0.707107\n",
      "7;0.942;0.809017;0.587785\n",
      "8;1.100;0.891007;0.453990\n",
      "9;1.257;0.951057;0.309017\n",
      "10;1.414;0.987688;0.156434\n",
      "11;1.571;1.000000;0.000000\n",
      "\n"
     ]
    }
   ],
   "source": [
    "# Conteúdo do arquivo recuperado como string única\n",
    "print(conteudo)"
   ]
  },
  {
   "cell_type": "markdown",
   "metadata": {},
   "source": [
    "<p>A função <tt>split()</tt>, da classe <tt>str></tt> (que representa as strings no Python), permite dividir uma string em múltiplas partes, considerando um caractere como separador das partes (o <i>default</i> é o espaço em branco).</p>\n",
    "<p>Quando a string contém quebras de linha, a função <tt>split</tt> divide, convenientemente, seu conteúdo em uma lista de linhas (tal como registros).</p>"
   ]
  },
  {
   "cell_type": "code",
   "execution_count": 4,
   "metadata": {},
   "outputs": [
    {
     "name": "stdout",
     "output_type": "stream",
     "text": [
      "['#;angulo;seno;cosseno', '1;0.000;0.000000;1.000000', '2;0.157;0.156434;0.987688', '3;0.314;0.309017;0.951057', '4;0.471;0.453990;0.891007', '5;0.628;0.587785;0.809017', '6;0.785;0.707107;0.707107', '7;0.942;0.809017;0.587785', '8;1.100;0.891007;0.453990', '9;1.257;0.951057;0.309017', '10;1.414;0.987688;0.156434', '11;1.571;1.000000;0.000000']\n"
     ]
    }
   ],
   "source": [
    "# Função split divide string em uma lista de linhas (registros)\n",
    "lista = conteudo.split();\n",
    "print(lista)"
   ]
  },
  {
   "cell_type": "code",
   "execution_count": null,
   "metadata": {},
   "outputs": [],
   "source": [
    "# extração do cabeçalho e divisão em campos com split(separador)\n",
    "cabecalho = lista[0].split(';')\n",
    "print('Cabeçalho:\\n\\t', cabecalho)"
   ]
  },
  {
   "cell_type": "code",
   "execution_count": null,
   "metadata": {},
   "outputs": [],
   "source": [
    "# fatiamento para obtenção das linhas 1 e 2\n",
    "registro = lista[1:3]\n",
    "print('Registros 1 e 2:\\n\\t', registro)"
   ]
  },
  {
   "cell_type": "code",
   "execution_count": null,
   "metadata": {},
   "outputs": [],
   "source": [
    "# cada registro, ou seja, tanto o cabeçalho como cada linha,\n",
    "# podem ser dividido em campos com split(separador)  \n",
    "for r in registro:\n",
    "    print('Registro:', r)\n",
    "    campos = r.split(';') # separador é o ;\n",
    "    for c in range(len(cabecalho)):\n",
    "        print(f'\\t{cabecalho[c]} : {campos[c]}') "
   ]
  },
  {
   "cell_type": "markdown",
   "metadata": {},
   "source": [
    "<h3>Pacote csv</h3>\n",
    "<p>O pacote <tt>csv</tt> oferece um conjunto de facilidades para leitura, tratamento e escrita de arquivos do tipo <i>comma separated values</i>.</p>"
   ]
  },
  {
   "cell_type": "code",
   "execution_count": null,
   "metadata": {},
   "outputs": [],
   "source": [
    "# Importação do pacote csv\n",
    "from csv import reader"
   ]
  },
  {
   "cell_type": "code",
   "execution_count": null,
   "metadata": {},
   "outputs": [],
   "source": [
    "# Lê arquivo csv como um lista de listas\n",
    "with open(nome_arquivo, 'r') as file_reader:\n",
    "    # Usa o file handler para criar um leitor CSV\n",
    "    csv_reader = reader(file_reader, delimiter=';')\n",
    "    print(csv_reader)\n",
    "    # Usa o reader para obter uma lista of listas\n",
    "    lista_de_registros = list(csv_reader)\n",
    "# Arquivo é fechado, mantendo lista de registros\n",
    "print(lista_de_registros)"
   ]
  },
  {
   "cell_type": "code",
   "execution_count": null,
   "metadata": {},
   "outputs": [],
   "source": [
    "# Laço permite processar campos individualmente\n",
    "for registro in lista_de_registros:\n",
    "    campos = list(registro)\n",
    "    print(campos)"
   ]
  },
  {
   "cell_type": "markdown",
   "metadata": {},
   "source": [
    "## Arquivos binários"
   ]
  },
  {
   "cell_type": "markdown",
   "metadata": {},
   "source": [
    "<p>Um arquivo binário é uma sequência arbitrária de bytes, ou seja, contém um ou mais bytes que podem descrever uma imagem, um som, um vídeo, uma planilha eletrônica ou qualquer outro tipo de dados, incluindo texto.</p>\n",
    "<p>Para que possam ser tratados adequadamente, devem seguir uma organização particular, tal como PNG, WAV, MP4, XLS, que são padrões\n",
    "que definem formatos com propósitos específicos.</p>"
   ]
  },
  {
   "cell_type": "code",
   "execution_count": null,
   "metadata": {},
   "outputs": [],
   "source": [
    "nome_arquivo = 'arquivos/red.png'\n",
    "i = 0\n",
    "with open(nome_arquivo, 'rb') as f:\n",
    "    byte = f.read(1)\n",
    "    while byte:\n",
    "        i += 1\n",
    "        #\n",
    "        print(f'{byte.hex().upper():2s}', end=' ')\n",
    "        if i == 16:\n",
    "            print()\n",
    "            i = 0\n",
    "        byte = f.read(1)"
   ]
  },
  {
   "cell_type": "code",
   "execution_count": null,
   "metadata": {},
   "outputs": [],
   "source": [
    "import struct\n",
    "i = 0\n",
    "with open(nome_arquivo, 'rb') as f:\n",
    "    signature = f.read(8)\n",
    "    if signature.hex() == '89504e470d0a1a0a':\n",
    "        print('PNG')\n",
    "        f.read(8) # descarta chunck type (IHDR)\n",
    "        data = f.read(8)\n",
    "        w, h = struct.unpack('>LL', data)\n",
    "        print(f'width x height = {int(w)} x {int(h)}')\n",
    "    else:\n",
    "        print('Arquivo não contém imagem PNG.')"
   ]
  },
  {
   "cell_type": "code",
   "execution_count": null,
   "metadata": {},
   "outputs": [],
   "source": [
    "from IPython.display import Image\n",
    "Image(filename=nome_arquivo) "
   ]
  },
  {
   "cell_type": "markdown",
   "metadata": {},
   "source": [
    "### FIM\n",
    "### <a href=\"http://github.com/pjandl/opy2\">Oficina Python Intermediário</a>"
   ]
  }
 ],
 "metadata": {
  "kernelspec": {
   "display_name": "Python 3",
   "language": "python",
   "name": "python3"
  },
  "language_info": {
   "codemirror_mode": {
    "name": "ipython",
    "version": 3
   },
   "file_extension": ".py",
   "mimetype": "text/x-python",
   "name": "python",
   "nbconvert_exporter": "python",
   "pygments_lexer": "ipython3",
   "version": "3.8.5"
  }
 },
 "nbformat": 4,
 "nbformat_minor": 4
}
