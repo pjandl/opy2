{
 "cells": [
  {
   "cell_type": "markdown",
   "metadata": {},
   "source": [
    "<img src='op2-u02.png'/>\n",
    "<h2><font color='#7F0000'>OP2-08-Banco de Dados</font></h2>"
   ]
  },
  {
   "cell_type": "markdown",
   "metadata": {},
   "source": [
    "<table width='100%'>\n",
    "    <tbody>\n",
    "        <tr>\n",
    "            <td width='33%' style='text-align: left; background-color: #DDDDDD; vertical-align: top;'>Notebook Anterior<br><a href=\"OP2-07-Arquivos-parte-2.ipynb\">OP2-07-Arquivos-parte-2</a></td>\n",
    "            <td width='34%' style='text-align: left; background-color: #DDDDDD; vertical-align: top;'>&nbsp;<br/>\n",
    "            </td>\n",
    "            <td width='33%'style='text-align: left; background-color: #DDDDDD; vertical-align: top;'>Próximo Notebook<br/><a href=\"OP2-09-Aplicacao-com-BD.ipynb\">OP2-09-Aplicacao-com-BD</a></td>\n",
    "        </tr>\n",
    "    </tbody>\n",
    "</table>"
   ]
  },
  {
   "cell_type": "markdown",
   "metadata": {},
   "source": [
    "## SQLite"
   ]
  },
  {
   "cell_type": "markdown",
   "metadata": {},
   "source": [
    "Segundo sua documentação:\n",
    "    \n",
    "> <i>\"SQLite é uma biblioteca em linguagem C que implementa um mecanismo de banco de dados SQL pequeno, rápido, independente, de alta confiabilidade e recursos completos.\"</i>\n",
    "> <br/> Fonte: https://sqlite.org/index.html\n",
    "    \n",
    "É, possivelmente, o SGBDR mais usado no mundo, pois está integrado a plataforma Android e pode ser usado em praticamente qualquer sistema operacional, incluindo dispositivos móveis e computadores.\n",
    "\n",
    "O Python dispõe de um módulo específico que provê integração simples com o SQLite."
   ]
  },
  {
   "cell_type": "code",
   "execution_count": null,
   "metadata": {},
   "outputs": [],
   "source": [
    "# importação do módulo SQLite3\n",
    "import sqlite3"
   ]
  },
  {
   "cell_type": "markdown",
   "metadata": {},
   "source": [
    "### Conexão com banco de dados"
   ]
  },
  {
   "cell_type": "markdown",
   "metadata": {},
   "source": [
    "<p>O uso de um banco de dados SQLite requer uma <i>conexão</i>, obtida por meio da função <tt>connect()</tt>, a qual retorna um objeto do tipo <tt>Connection</tt>.</p>\n",
    "\n",
    "<p>Caso o banco de dados SQLite não exista, ele será criado na operação de conexão.</p>\n",
    "\n",
    "<p>No exemplo que segue, o banco de dados <tt>metereologia.db</tt> será criado na primeira conexão e apenas aberto nas conexões sucessivas.</p>"
   ]
  },
  {
   "cell_type": "code",
   "execution_count": null,
   "metadata": {},
   "outputs": [],
   "source": [
    "# Conexão com banco de dados SQLite\n",
    "con = sqlite3.connect('db/metereologia.db')\n",
    "con"
   ]
  },
  {
   "cell_type": "markdown",
   "metadata": {},
   "source": [
    "<p>A partir da conexão, usualmente cria-se um <i>cursor</i>, um objeto do tipo <tt>Cursor</tt>, para possibilitar a operação interativa, isto é, a execução de comandos SQL no BD.</p>"
   ]
  },
  {
   "cell_type": "code",
   "execution_count": null,
   "metadata": {},
   "outputs": [],
   "source": [
    "# Criação de cursor para operação interativa\n",
    "cursor = con.cursor()\n",
    "cursor"
   ]
  },
  {
   "cell_type": "markdown",
   "metadata": {},
   "source": [
    "### Execução de comandos SQL"
   ]
  },
  {
   "cell_type": "markdown",
   "metadata": {},
   "source": [
    "A execução de comandos SQL utiliza o método <tt>execute()</tt> do cursor, tomando como parâmetro o comando SQL que se deseja executar.\n",
    "\n",
    "É conveniente definir strings para os comandos que serão usados, permitindo seu reuso, além de tornar o código mais organizado e legível.\n",
    "\n",
    "Por meio da operação interativa é possível executar comandos:\n",
    "\n",
    "- DDL (<i>Data Definition Language</i>) <tt>create</tt>, <tt>alter</tt> e <tt>drop</tt>;\n",
    "- DML (<i>Data Manipulation Language</i>) <tt>insert</tt>, <tt>update</tt> e <tt>delete</tt>;\n",
    "- DQL (<i>Data Query Language</i>) <tt>select</tt>; e\n",
    "- DTL (<i>Data Transaction Language</i>) <tt>commit</tt> e <tt>rollback</tt>.\n",
    "\n",
    "Desejamos criar o seguinte <i>schema</i> para o banco de dados <tt>metereologia.db</tt>.\n",
    "\n",
    "<img src=\"op2-08-metereologia-01.png\" alt=\"BD metereologia\"/>"
   ]
  },
  {
   "cell_type": "code",
   "execution_count": null,
   "metadata": {},
   "outputs": [],
   "source": [
    "# SQL DDL (remoção das tabelas) \n",
    "# Remova as tabelas do exemplo quando quiser refazer\n",
    "# este notebook ou desejar modificar sua estrutura.\n",
    "sql0 = ['DROP TABLE ESTACOES',\n",
    "        'DROP TABLE PARAMETROS',\n",
    "        'DROP TABLE DADOS']\n",
    "\n",
    "# Execução de comando SQL requer um cursor pré-definido.\n",
    "for cmd in sql0:\n",
    "    try:\n",
    "        # o mesmo cursor é usado para executar vários comandos\n",
    "        cursor.execute(cmd)\n",
    "    except Exception as exc:\n",
    "        print(exc)\n",
    "# SQL DTL (consolidação de operações)\n",
    "con.commit()"
   ]
  },
  {
   "cell_type": "markdown",
   "metadata": {},
   "source": [
    "O uso de string multilinha do Python, delimitadas por aspas triplas (simples ou duplas), é bastante conveniente para garantir a legibilidade dos comandos SQL, que podem ser bastante longos."
   ]
  },
  {
   "cell_type": "code",
   "execution_count": null,
   "metadata": {},
   "outputs": [],
   "source": [
    "# SQL DDL (criação de tabela)\n",
    "sql1 = '''CREATE TABLE ESTACOES (\n",
    "    Codigo varchar(8) PRIMARY KEY,\n",
    "    Nome varchar(40) not null,\n",
    "    Latitude float not null,\n",
    "    Longitude float not null,\n",
    "    Altitude integer not null\n",
    ")'''\n",
    "print(sql1)"
   ]
  },
  {
   "cell_type": "markdown",
   "metadata": {},
   "source": [
    "Por meio do cursor previamente definido com uso da conexão, é possível executar comandos SQL, que serão pré-processados, requerendo sua consolidação (<tt>commit</tt>) ou reversão (<tt>roll-back</tt>) posterior."
   ]
  },
  {
   "cell_type": "code",
   "execution_count": null,
   "metadata": {},
   "outputs": [],
   "source": [
    "# Execução do comando SQL é feita com cursor\n",
    "cursor.execute(sql1)"
   ]
  },
  {
   "cell_type": "code",
   "execution_count": null,
   "metadata": {},
   "outputs": [],
   "source": [
    "# SQL DDL (criação de tabela)\n",
    "sql2 = '''CREATE TABLE PARAMETROS (\n",
    "    Coluna varchar(15) PRIMARY KEY,\n",
    "    Descricao varchar(40) not null,\n",
    "    Unidade varchar(5) not null\n",
    ")'''\n",
    "print(sql2)"
   ]
  },
  {
   "cell_type": "code",
   "execution_count": null,
   "metadata": {},
   "outputs": [],
   "source": [
    "# SQL DDL (criação de tabela)\n",
    "sql3 = '''CREATE TABLE DADOS (\n",
    "    Codigo varchar(8) not null,\n",
    "    Data date not null,\n",
    "    Precip_Tot float null,\n",
    "    Temp_Max float null,\n",
    "    Temp_Med float null,\n",
    "    Temp_Min float null,\n",
    "    Umid_Relat float null,\n",
    "    PRIMARY KEY (Codigo, Data), \n",
    "    FOREIGN KEY (Codigo) references Estacoes(Codigo)\n",
    ")'''\n",
    "print(sql3)"
   ]
  },
  {
   "cell_type": "code",
   "execution_count": null,
   "metadata": {},
   "outputs": [],
   "source": [
    "# Execução do comando SQL é feita com cursor\n",
    "cursor.execute(sql2)\n",
    "cursor.execute(sql3)"
   ]
  },
  {
   "cell_type": "code",
   "execution_count": null,
   "metadata": {},
   "outputs": [],
   "source": [
    "# Consolidação das tabelas\n",
    "con.commit()"
   ]
  },
  {
   "cell_type": "markdown",
   "metadata": {},
   "source": [
    "A alteração ou remoção de tabelas requer o mesmo procedimento, ou seja, a execução da operação desejadas, sua consolidação ou reversão."
   ]
  },
  {
   "cell_type": "markdown",
   "metadata": {},
   "source": [
    "### Consultas"
   ]
  },
  {
   "cell_type": "markdown",
   "metadata": {},
   "source": [
    "<p>As consultas (ou <i>queries</i>) são executadas por meio do comando SQL <tt>select</tt>, que permite obter dados de uma ou mais tabelas existentes no banco de dados.</p>"
   ]
  },
  {
   "cell_type": "code",
   "execution_count": null,
   "metadata": {},
   "outputs": [],
   "source": [
    "# SQL DQL (consulta a dados)\n",
    "sql4 = '''SELECT Codigo, Nome, Latitude, Longitude, Altitude \n",
    "    FROM ESTACOES'''"
   ]
  },
  {
   "cell_type": "code",
   "execution_count": null,
   "metadata": {},
   "outputs": [],
   "source": [
    "# Realização de consulta também emprega o cursor\n",
    "cursor.execute(sql4)"
   ]
  },
  {
   "cell_type": "markdown",
   "metadata": {},
   "source": [
    "<p>Como as operações de consulta não modificam os dados presentes nas tabelas, não é requerida a consolidação após sua execução.</p>\n",
    "<p>A recuperação dos dados obtidos por uma consulta requer o uso do método <tt>fetchall()</tt> do cursor, que retorna uma lista contendo os registros lidos.</p>\n",
    "<p>A lista retornada pode ser processada e tratada como desejado ou necessário para a aplicação.</p>"
   ]
  },
  {
   "cell_type": "code",
   "execution_count": null,
   "metadata": {},
   "outputs": [],
   "source": [
    "# Dados da consulta realizada devem ser recuperados\n",
    "dados = cursor.fetchall()\n",
    "type(dados)"
   ]
  },
  {
   "cell_type": "code",
   "execution_count": null,
   "metadata": {},
   "outputs": [],
   "source": [
    "# Define função para exibir dados da tabela Estacoes\n",
    "def lista_estacoes(dados):\n",
    "    # Exibição dos dados consultados de maneira tabular\n",
    "    print('| %-8s | %-40s | %-12s | %-12s | %-8s |' % ('Código', 'Nome', 'Latitude', 'Longitude', 'Altitude'))\n",
    "    print('+-%8s-+-%40s-+-%12s-+-%12s-+-%8s-+' % (8*'-', 40*'-', 12*'-', 12*'-', 8*'-'))\n",
    "    for registro in dados:\n",
    "        print('| %-8s | %-40s | %12.6f | %12.6f | %8d |' % registro)\n",
    "    print('+-%8s-+-%40s-+-%12s-+-%12s-+-%8s-+' % (8*'-', 40*'-', 12*'-', 12*'-', 8*'-'))\n",
    "    return"
   ]
  },
  {
   "cell_type": "code",
   "execution_count": null,
   "metadata": {},
   "outputs": [],
   "source": [
    "# Mostra dados da tabela estações\n",
    "lista_estacoes(dados)"
   ]
  },
  {
   "cell_type": "markdown",
   "metadata": {},
   "source": [
    "> É esperado que não sejam listados dados na primeira vez que este notebook é executado, pois as tabelas recém-criadas estão vazias (nenhuma operação de inserção foi realizada)."
   ]
  },
  {
   "cell_type": "markdown",
   "metadata": {},
   "source": [
    "### Inclusão de dados"
   ]
  },
  {
   "cell_type": "markdown",
   "metadata": {},
   "source": [
    "<p>A criação ou inclusão de dados são executadas por meio do comando SQL <tt>insert</tt>, que possibilita adicionar novos registros em <b>uma</b> tabela existente no banco de dados.</p>\n",
    "<p>Observe o uso de aspas duplas (para definir a string Python) e de aspas simples (para delimitar string no SQL).</p>"
   ]
  },
  {
   "cell_type": "code",
   "execution_count": null,
   "metadata": {},
   "outputs": [],
   "source": [
    "# SQL DDL (inserção/criação de dados)\n",
    "sql5 = \"\"\"INSERT INTO ESTACOES\n",
    "    (Codigo, Nome, Latitude, Longitude, Altitude)\n",
    "    VALUES\n",
    "    ('A744', 'BRAGANCA PAULISTA', -22.951944, -46.530556, 891)\"\"\""
   ]
  },
  {
   "cell_type": "code",
   "execution_count": null,
   "metadata": {},
   "outputs": [],
   "source": [
    "# Realização de inserção, como sempre, emprega cursor\n",
    "cursor.execute(sql5)"
   ]
  },
  {
   "cell_type": "markdown",
   "metadata": {},
   "source": [
    "<p>Operações de inclusão de dados modificam o conteúdo das tabelas afetadas, portanto requerem sua consolidação (<tt>commit</tt>) ou sua reversão (<tt>roll-back</tt>).</p>"
   ]
  },
  {
   "cell_type": "code",
   "execution_count": null,
   "metadata": {},
   "outputs": [],
   "source": [
    "# Consolida inserção\n",
    "con.commit()"
   ]
  },
  {
   "cell_type": "code",
   "execution_count": null,
   "metadata": {},
   "outputs": [],
   "source": [
    "# Realização de consulta também emprega cursor\n",
    "cursor.execute(sql4)\n",
    "# Dados da consulta realizada devem ser recuperados\n",
    "dados = cursor.fetchall()\n",
    "type(dados)"
   ]
  },
  {
   "cell_type": "code",
   "execution_count": null,
   "metadata": {},
   "outputs": [],
   "source": [
    "# Mostra dados da tabela estações\n",
    "lista_estacoes(dados)"
   ]
  },
  {
   "cell_type": "markdown",
   "metadata": {},
   "source": [
    "<p>Seguem inserções adicionais de dados. Observe o uso da barra invertida <tt>/</tt> para permitir a divisão de uma string comum em mais de uma linha.</p>"
   ]
  },
  {
   "cell_type": "code",
   "execution_count": null,
   "metadata": {},
   "outputs": [],
   "source": [
    "# Mais inserções de dados\n",
    "sql6 = \"INSERT INTO ESTACOES(Codigo, Nome, Latitude, Longitude, Altitude) \"\\\n",
    "        \"VALUES('A706', 'CAMPOS DO JORDAO', -22.7502777, -45.6038888, 891)\"\n",
    "sql7 = \"INSERT INTO ESTACOES(Codigo, Nome, Latitude, Longitude, Altitude) \"\\\n",
    "        \"VALUES('A701', 'SAO PAULO - MIRANTE', -23.496294, 46.620088, 786)\""
   ]
  },
  {
   "cell_type": "code",
   "execution_count": null,
   "metadata": {},
   "outputs": [],
   "source": [
    "# Realização de inserção, como sempre, emprega cursor\n",
    "cursor.execute(sql6)\n",
    "cursor.execute(sql7)\n",
    "# Consolida inserção\n",
    "con.commit()"
   ]
  },
  {
   "cell_type": "code",
   "execution_count": null,
   "metadata": {},
   "outputs": [],
   "source": [
    "# Realização de consulta também emprega cursor\n",
    "cursor.execute(sql4)\n",
    "# Dados da consulta realizada devem ser recuperados\n",
    "dados = cursor.fetchall()\n",
    "# Mostra dados da tabela estações\n",
    "lista_estacoes(dados)"
   ]
  },
  {
   "cell_type": "code",
   "execution_count": null,
   "metadata": {},
   "outputs": [],
   "source": [
    "parametros = [\n",
    "    ('Latitude','Latitude da estação','˚'),\n",
    "    ('Longitude','Longitude da estação','˚'),\n",
    "    ('Altitude','Altitude da estação','m'),\n",
    "    ('Precip_Tot','Precipitação total','mm'),\n",
    "    ('Temp_Max','Temperatura máxima','C'),\n",
    "    ('Temp_Med','Temperatura média','C'),\n",
    "    ('Temp_Min','Temperatura mínima','C'),\n",
    "]\n",
    "\n",
    "# Laço de repetição\n",
    "for p in parametros:\n",
    "    sql8 = f\"INSERT INTO PARAMETROS(Coluna, Descricao, Unidade) \"\\\n",
    "           f\"VALUES('{p[0]}', '{p[1]}', '{p[2]}')\"\n",
    "    print(sql8)\n",
    "    cursor.execute(sql8)\n",
    "    \n",
    "# Consolidação das inserções\n",
    "con.commit()"
   ]
  },
  {
   "cell_type": "code",
   "execution_count": null,
   "metadata": {},
   "outputs": [],
   "source": [
    "# SQL DQL (consulta a dados)\n",
    "sql8 = '''SELECT Coluna, Descricao, Unidade FROM PARAMETROS ORDER BY Coluna'''"
   ]
  },
  {
   "cell_type": "code",
   "execution_count": null,
   "metadata": {},
   "outputs": [],
   "source": [
    "# Realização de consulta emprega o cursor\n",
    "cursor.execute(sql8)"
   ]
  },
  {
   "cell_type": "code",
   "execution_count": null,
   "metadata": {},
   "outputs": [],
   "source": [
    "# Dados da consulta realizada devem ser recuperados\n",
    "dados = cursor.fetchall()\n",
    "type(dados)"
   ]
  },
  {
   "cell_type": "code",
   "execution_count": null,
   "metadata": {},
   "outputs": [],
   "source": [
    "# Define função para exibir dados da tabela Parametros\n",
    "def lista_parametros(dados):\n",
    "    # Exibição dos dados consultados de maneira tabular\n",
    "    print('| %-15s | %-40s | %-7s |' % ('Coluna', 'Descricao', 'Unidade'))\n",
    "    print('+-%15s-+-%40s-+-%7s-+' % (15*'-', 40*'-', 7*'-'))\n",
    "    for registro in dados:\n",
    "        print('| %-15s | %-40s | %-7s |' % registro)\n",
    "    print('+-%15s-+-%40s-+-%7s-+' % (15*'-', 40*'-', 7*'-'))\n",
    "    return"
   ]
  },
  {
   "cell_type": "code",
   "execution_count": null,
   "metadata": {},
   "outputs": [],
   "source": [
    "# Mostra dados da tabela Parametros\n",
    "lista_parametros(dados)"
   ]
  },
  {
   "cell_type": "markdown",
   "metadata": {},
   "source": [
    "A visualização de dados em bancos de dados SQLite também pode ser feita por meio de programas específicos, como o *DB Browser for SQLite*.\n",
    "\n",
    "https://sqlitebrowser.org/"
   ]
  },
  {
   "cell_type": "markdown",
   "metadata": {},
   "source": [
    "### Desconexão"
   ]
  },
  {
   "cell_type": "markdown",
   "metadata": {},
   "source": [
    "<p>Depois de utilizar o banco de dados é necessário encerrar a conexão, o que também encerra automaticamente os cursores abertos,  descarta dados de consultas que não tenham sido recuperados e reverta operações pendentes de consolidação.</p>\n",
    "<p>Desta maneira, é necessário atenção na desconexão para consolidar operações pendentes.</p>"
   ]
  },
  {
   "cell_type": "code",
   "execution_count": null,
   "metadata": {},
   "outputs": [],
   "source": [
    "# Fecha a conexão\n",
    "cursor.close() # opcional\n",
    "con.close()"
   ]
  },
  {
   "cell_type": "markdown",
   "metadata": {},
   "source": [
    "### Inserção de múltiplos dados"
   ]
  },
  {
   "cell_type": "markdown",
   "metadata": {},
   "source": [
    "<p>É bastante comum que aplicações necessitem importar dados produzidos por outras aplicações. O uso de arquivos CSV nestas situações é frequente como formato dos dados transferidos entre aplicações diferentes.</p>\n",
    "<p>No exemplo que segue, dados do arquivo <tt>metereologia.db</tt> são importados e carregados numa tabela do SQLite.</p>\n",
    "<p>Os dados deste arquivos são públicos e foram obtidos do site:<br/> <a href='https://bdmep.inmet.gov.br/'>https://bdmep.inmet.gov.br/</a></p> "
   ]
  },
  {
   "cell_type": "code",
   "execution_count": null,
   "metadata": {},
   "outputs": [],
   "source": [
    "# Obtenção de conexão\n",
    "con = sqlite3.connect('db/metereologia.db')\n",
    "# Criação do cursor\n",
    "cursor = con.cursor()"
   ]
  },
  {
   "cell_type": "code",
   "execution_count": null,
   "metadata": {},
   "outputs": [],
   "source": [
    "# importação de módulo para leitura de CSV\n",
    "from csv import reader"
   ]
  },
  {
   "cell_type": "code",
   "execution_count": null,
   "metadata": {},
   "outputs": [],
   "source": [
    "# Definição de comando SQL parametrizável\n",
    "sql9 = '''INSERT INTO Dados \n",
    "    (Codigo,Data,Precip_Tot,Temp_Max,Temp_Med,Temp_Min,Umid_Relat)\n",
    "    values (?, ?, ?, ?, ?, ?, ?)'''"
   ]
  },
  {
   "cell_type": "code",
   "execution_count": null,
   "metadata": {},
   "outputs": [],
   "source": [
    "# Funcão que efetua leitura do arquivo CSV inserindo\n",
    "def inserir_dados(nome_arquivo, estacao):\n",
    "    with open(nome_arquivo, 'r') as file_reader:\n",
    "        # Usa file handler para criação de um leitor de CSV\n",
    "        csv_reader = reader(file_reader, delimiter=';')\n",
    "        # Usa objeto reader para criar lista de listas com list()\n",
    "        list_of_rows = list(csv_reader)\n",
    "        list_of_rows.pop(0) # remove o cabeçalho\n",
    "        # Percorre lista de listas, efetuando uma inserçao\n",
    "        for row in list_of_rows:\n",
    "            print(row)\n",
    "            # Executa instrução SQL inserindo parâmetros\n",
    "            cursor.execute(sql9, row)\n",
    "    # Consolida transação\n",
    "    cursor.connection.commit()\n",
    "    return"
   ]
  },
  {
   "cell_type": "code",
   "execution_count": null,
   "metadata": {},
   "outputs": [],
   "source": [
    "# Inserção de dados para as estações A701 e A744\n",
    "inserir_dados('arquivos/dados_A701_D_2021-01-01_2021-03-06.csv', 'A701')\n",
    "inserir_dados('arquivos/dados_A744_D_2021-01-01_2021-03-06.csv', 'A744')"
   ]
  },
  {
   "cell_type": "code",
   "execution_count": null,
   "metadata": {},
   "outputs": [],
   "source": [
    "# SQL DQL (consulta a dados)\n",
    "sql10 = 'SELECT * FROM DADOS'\n",
    "# Execução do comando SQL\n",
    "cursor.execute(sql10)\n",
    "# Recuperação dos dados\n",
    "dados = cursor.fetchall()"
   ]
  },
  {
   "cell_type": "code",
   "execution_count": null,
   "metadata": {},
   "outputs": [],
   "source": [
    "dados"
   ]
  },
  {
   "cell_type": "code",
   "execution_count": null,
   "metadata": {},
   "outputs": [],
   "source": [
    "# Define função para exibir dados da tabela Dados\n",
    "def lista_dados(dados):\n",
    "    # Exibição dos dados consultados de maneira tabular\n",
    "    print('| %-8s | %-10s | %-10s | %-10s | %-10s | %-10s | %-10s |' %\n",
    "          ('Estacao', 'Data', 'Precip', 'TMax', 'TMed', 'TMin', 'Umid'))\n",
    "    print('+-%8s-+-%10s-+-%10s-+-%10s-+-%10s-+-%10s-+-%10s-+' % \n",
    "          (8*'-', 10*'-', 10*'-', 10*'-', 10*'-', 10*'-', 10*'-'))\n",
    "    for registro in dados:\n",
    "        print('| %-8s | %-10s | %10s | %10s | %10s | %10s | %10s |' % \n",
    "              registro)\n",
    "    print('+-%8s-+-%10s-+-%10s-+-%10s-+-%10s-+-%10s-+-%10s-+' % \n",
    "          (8*'-', 10*'-', 10*'-', 10*'-', 10*'-', 10*'-', 10*'-'))\n",
    "    return"
   ]
  },
  {
   "cell_type": "code",
   "execution_count": null,
   "metadata": {},
   "outputs": [],
   "source": [
    "# Listagem parcial dos dados (usa fatiamento e soma de listas)\n",
    "lista_dados(dados[:10]+dados[-10:])"
   ]
  },
  {
   "cell_type": "code",
   "execution_count": null,
   "metadata": {},
   "outputs": [],
   "source": [
    "# Nova consulta com filtragem de dados\n",
    "sql11 = \"SELECT * FROM DADOS WHERE Precip_Tot > 40\"\n",
    "cursor.execute(sql11)\n",
    "dados_parciais = cursor.fetchall()\n",
    "lista_dados(dados_parciais)"
   ]
  },
  {
   "cell_type": "code",
   "execution_count": null,
   "metadata": {},
   "outputs": [],
   "source": [
    "# Não esqueça de consolidar as ações realizadas.\n",
    "# Fechar a conexão encerra os cursores abertos.\n",
    "cursor.close() # opcional\n",
    "con.close()"
   ]
  },
  {
   "cell_type": "markdown",
   "metadata": {},
   "source": [
    "Outras operações SQL podem ser realizadas de maneira idêntica. Assim, podem ser construídas aplicações completas com o suporte de banco de dados SQLite. Outros bancos de dados requerem o uso de pacotes e módulos específicos, com idiomas próprios, mas cujos princípios são semelhantes aos vistos aqui."
   ]
  },
  {
   "cell_type": "markdown",
   "metadata": {},
   "source": [
    "### FIM\n",
    "### <a href=\"http://github.com/pjandl/opy2\">Oficina Python Intermediário</a>"
   ]
  }
 ],
 "metadata": {
  "kernelspec": {
   "display_name": "Python 3",
   "language": "python",
   "name": "python3"
  },
  "language_info": {
   "codemirror_mode": {
    "name": "ipython",
    "version": 3
   },
   "file_extension": ".py",
   "mimetype": "text/x-python",
   "name": "python",
   "nbconvert_exporter": "python",
   "pygments_lexer": "ipython3",
   "version": "3.8.5"
  }
 },
 "nbformat": 4,
 "nbformat_minor": 4
}
