{
 "cells": [
  {
   "cell_type": "markdown",
   "metadata": {},
   "source": [
    "<img src='op2-u02.png'/>\n",
    "<h2><font color='#7F0000'>OP2-08-Banco de Dados</font></h2>"
   ]
  },
  {
   "cell_type": "markdown",
   "metadata": {},
   "source": [
    "## SQLite"
   ]
  },
  {
   "cell_type": "markdown",
   "metadata": {},
   "source": [
    "<p>Segundo sua documentação: <i>\"SQLite é uma biblioteca em linguagem C que implementa um\n",
    "    mecanismo de banco de dados SQL pequeno, rápido, independente, de alta confiabilidade e \n",
    "    recursos completos\"</i>\n",
    "    (Fonte: <a href='https://sqlite.org/index.html'>https://sqlite.org/index.html</a>).</p>\n",
    "<p>É, possivelmente, o SGBDR mais usado no mundo, pois está integrado a plataforma Android \n",
    "    e pode ser usado em praticamente qualquer sistema operacional, incluindo dispositivos \n",
    "    móveis e computadores.</p>\n",
    "<p>O Python dispõe de um módulo que provê integração simples com o SQLite.</p>"
   ]
  },
  {
   "cell_type": "code",
   "execution_count": null,
   "metadata": {},
   "outputs": [],
   "source": [
    "# importação do módulo SQLite3\n",
    "import sqlite3"
   ]
  },
  {
   "cell_type": "markdown",
   "metadata": {},
   "source": [
    "### Conexão com banco de dados"
   ]
  },
  {
   "cell_type": "code",
   "execution_count": null,
   "metadata": {},
   "outputs": [],
   "source": [
    "# Conexão com banco de dados SQLite\n",
    "# Se o banco de dados não existir, ele será criado\n",
    "con = sqlite3.connect('db/metereologia.db')\n",
    "con"
   ]
  },
  {
   "cell_type": "code",
   "execution_count": null,
   "metadata": {},
   "outputs": [],
   "source": [
    "# A partir da conexão, usualmente cria-se um cursor para\n",
    "# possibilitar a execução de comandos SQL no BD.\n",
    "cursor = con.cursor()\n",
    "cursor"
   ]
  },
  {
   "cell_type": "markdown",
   "metadata": {},
   "source": [
    "### Execução de comandos SQL"
   ]
  },
  {
   "cell_type": "code",
   "execution_count": null,
   "metadata": {},
   "outputs": [],
   "source": [
    "# É conveniente definir strings para os comandos que serão usados.\n",
    "# Remova as tabelas (estações, parâmetros ou outras) quando quiser\n",
    "# refazer o notebook (ou modificar a estrutura destas tabelas).\n",
    "\n",
    "# SQL DDL (remoção das tabelas) \n",
    "sql0 = ['DROP TABLE ESTACOES',\n",
    "        'DROP TABLE PARAMETROS',\n",
    "        'DROP TABLE DADOS']\n",
    "\n",
    "# Execução de comando SQL requer um cursor pré-definido.\n",
    "for cmd in sql0:\n",
    "    try:\n",
    "        # o mesmo cursor é usado para executar vários comandos\n",
    "        cursor.execute(cmd)\n",
    "    except Exception as exc:\n",
    "        print(exc)\n",
    "# SQL DTL (consolidação de operações)\n",
    "con.commit()"
   ]
  },
  {
   "cell_type": "code",
   "execution_count": null,
   "metadata": {},
   "outputs": [],
   "source": [
    "# SQL DDL (criação de tabela)\n",
    "sql1 = '''CREATE TABLE ESTACOES (\n",
    "    Codigo varchar(8) PRIMARY KEY,\n",
    "    Nome varchar(40) not null,\n",
    "    Latitude float not null,\n",
    "    Longitude float not null,\n",
    "    Altitude integer not null\n",
    ")'''\n",
    "print(sql1)"
   ]
  },
  {
   "cell_type": "code",
   "execution_count": null,
   "metadata": {},
   "outputs": [],
   "source": [
    "# Execução do comando SQL é feita com cursor\n",
    "cursor.execute(sql1)"
   ]
  },
  {
   "cell_type": "code",
   "execution_count": null,
   "metadata": {},
   "outputs": [],
   "source": [
    "# SQL DDL (criação de tabela)\n",
    "sql2 = '''CREATE TABLE PARAMETROS (\n",
    "    Coluna varchar(15) PRIMARY KEY,\n",
    "    Descricao varchar(40) not null,\n",
    "    Unidade varchar(5) not null\n",
    ")'''\n",
    "print(sql2)"
   ]
  },
  {
   "cell_type": "code",
   "execution_count": null,
   "metadata": {},
   "outputs": [],
   "source": [
    "# SQL DDL (criação de tabela)\n",
    "sql3 = '''CREATE TABLE DADOS (\n",
    "    Codigo varchar(8),\n",
    "    Data date not null,\n",
    "    Precip_Tot float null,\n",
    "    Temp_Max float null,\n",
    "    Temp_Med float null,\n",
    "    Temp_Min float null,\n",
    "    Umid_Relat float null,\n",
    "    PRIMARY KEY (Codigo, Data), \n",
    "    FOREIGN KEY (Codigo) references Estacoes(Codigo)\n",
    ")'''\n",
    "print(sql3)"
   ]
  },
  {
   "cell_type": "code",
   "execution_count": null,
   "metadata": {},
   "outputs": [],
   "source": [
    "# Execução do comando SQL é feita om cursor\n",
    "cursor.execute(sql2)\n",
    "cursor.execute(sql3)"
   ]
  },
  {
   "cell_type": "code",
   "execution_count": null,
   "metadata": {},
   "outputs": [],
   "source": [
    "# Consolidação das tabelas\n",
    "con.commit()"
   ]
  },
  {
   "cell_type": "markdown",
   "metadata": {},
   "source": [
    "### Consultas"
   ]
  },
  {
   "cell_type": "code",
   "execution_count": null,
   "metadata": {},
   "outputs": [],
   "source": [
    "# SQL DQL (consulta a dados)\n",
    "sql4 = 'SELECT Codigo, Nome, Latitude, Longitude, Altitude FROM ESTACOES'"
   ]
  },
  {
   "cell_type": "code",
   "execution_count": null,
   "metadata": {},
   "outputs": [],
   "source": [
    "# Realização de consulta também emprega cursor\n",
    "cursor.execute(sql4)\n",
    "# Dados da consulta realizada devem ser recuperados\n",
    "dados = cursor.fetchall()\n",
    "type(dados)"
   ]
  },
  {
   "cell_type": "code",
   "execution_count": null,
   "metadata": {},
   "outputs": [],
   "source": [
    "# Define função para exibir dados da tabela Estacoes\n",
    "def lista_estacoes(dados):\n",
    "    # Exibição dos dados consultados de maneira tabular\n",
    "    print('| %-8s | %-40s | %-12s | %-12s | %-8s |' % ('Código', 'Nome', 'Latitude', 'Longitude', 'Altitude'))\n",
    "    print('+-%8s-+-%40s-+-%12s-+-%12s-+-%8s-+' % (8*'-', 40*'-', 12*'-', 12*'-', 8*'-'))\n",
    "    for registro in dados:\n",
    "        print('| %-8s | %-40s | %12.6f | %12.6f | %8d |' % registro)\n",
    "    print('+-%8s-+-%40s-+-%12s-+-%12s-+-%5s-+' % (8*'-', 40*'-', 12*'-', 12*'-', 8*'-'))\n",
    "    return"
   ]
  },
  {
   "cell_type": "code",
   "execution_count": null,
   "metadata": {},
   "outputs": [],
   "source": [
    "# Mostra dados da tabela estações\n",
    "lista_estacoes(dados)"
   ]
  },
  {
   "cell_type": "markdown",
   "metadata": {},
   "source": [
    "### Inclusão de dados"
   ]
  },
  {
   "cell_type": "code",
   "execution_count": null,
   "metadata": {},
   "outputs": [],
   "source": [
    "# Inserçao de dados em tabela\n",
    "# SQL DDL (inserção/criação de dados)\n",
    "sql5 = \"INSERT INTO ESTACOES(Codigo, Nome, Latitude, Longitude, Altitude) \"\\\n",
    "        \"VALUES('A744', 'BRAGANCA PAULISTA', -22.951944, -46.530556, 891)\"\n",
    "# Observe o uso de aspas duplas (para definir a string Python)\n",
    "# e aspas simples (para delimitar string no SQL)"
   ]
  },
  {
   "cell_type": "code",
   "execution_count": null,
   "metadata": {},
   "outputs": [],
   "source": [
    "# Realização de inserção, como sempre, emprega cursor\n",
    "cursor.execute(sql5)\n",
    "# Consolida inserção\n",
    "con.commit()"
   ]
  },
  {
   "cell_type": "code",
   "execution_count": null,
   "metadata": {},
   "outputs": [],
   "source": [
    "# Realização de consulta também emprega cursor\n",
    "cursor.execute(sql4)\n",
    "# Dados da consulta realizada devem ser recuperados\n",
    "dados = cursor.fetchall()\n",
    "type(dados)"
   ]
  },
  {
   "cell_type": "code",
   "execution_count": null,
   "metadata": {},
   "outputs": [],
   "source": [
    "# Mostra dados da tabela estações\n",
    "lista_estacoes(dados)"
   ]
  },
  {
   "cell_type": "code",
   "execution_count": null,
   "metadata": {},
   "outputs": [],
   "source": [
    "sql6 = \"INSERT INTO ESTACOES(Codigo, Nome, Latitude, Longitude, Altitude) \"\\\n",
    "        \"VALUES('A706', 'CAMPOS DO JORDAO', -22.7502777, -45.6038888, 891)\"\n",
    "sql7 = \"INSERT INTO ESTACOES(Codigo, Nome, Latitude, Longitude, Altitude) \"\\\n",
    "        \"VALUES('A701', 'SAO PAULO - MIRANTE', -23.496294, 46.620088, 786)\""
   ]
  },
  {
   "cell_type": "code",
   "execution_count": null,
   "metadata": {},
   "outputs": [],
   "source": [
    "# Realização de inserção, como sempre, emprega cursor\n",
    "cursor.execute(sql6)\n",
    "cursor.execute(sql7)\n",
    "# Consolida inserção\n",
    "con.commit()"
   ]
  },
  {
   "cell_type": "code",
   "execution_count": null,
   "metadata": {},
   "outputs": [],
   "source": [
    "# Realização de consulta também emprega cursor\n",
    "cursor.execute(sql4)\n",
    "# Dados da consulta realizada devem ser recuperados\n",
    "dados = cursor.fetchall()\n",
    "# Mostra dados da tabela estações\n",
    "lista_estacoes(dados)"
   ]
  },
  {
   "cell_type": "markdown",
   "metadata": {},
   "source": [
    "### Desconexão"
   ]
  },
  {
   "cell_type": "code",
   "execution_count": null,
   "metadata": {},
   "outputs": [],
   "source": [
    "# Não esqueça de consolidar as ações realizadas.\n",
    "# Fechar a conexão encerra os cursores abertos.\n",
    "cursor.close() # opcional\n",
    "con.close()"
   ]
  },
  {
   "cell_type": "markdown",
   "metadata": {},
   "source": [
    "### Inserção de múltiplos dados"
   ]
  },
  {
   "cell_type": "code",
   "execution_count": null,
   "metadata": {},
   "outputs": [],
   "source": [
    "# Obtenção de conexão\n",
    "con = sqlite3.connect('db/metereologia.db')\n",
    "# Criação do cursor\n",
    "cursor = con.cursor()"
   ]
  },
  {
   "cell_type": "code",
   "execution_count": null,
   "metadata": {},
   "outputs": [],
   "source": [
    "# importação de módulo para leitura de CSV\n",
    "from csv import reader"
   ]
  },
  {
   "cell_type": "code",
   "execution_count": null,
   "metadata": {},
   "outputs": [],
   "source": [
    "# Definição de comando SQL parametrizável\n",
    "sql8 = 'INSERT INTO Dados (Codigo,Data,Precip_Tot,Temp_Max,Temp_Med,Temp_Min,Umid_Relat) ' \\\n",
    "       'values (?, ?, ?, ?, ?, ?, ?)'"
   ]
  },
  {
   "cell_type": "code",
   "execution_count": null,
   "metadata": {},
   "outputs": [],
   "source": [
    "# Funcão que efetua leitura do arquivo CSV inserindo\n",
    "def inserir_dados(nome_arquivo, estacao):\n",
    "    with open(nome_arquivo, 'r') as file_reader:\n",
    "        # Usa file handler para criação de um leitor de CSV\n",
    "        csv_reader = reader(file_reader, delimiter=';')\n",
    "        # Usa objeto reader para criar lista de listas com list()\n",
    "        list_of_rows = list(csv_reader)\n",
    "        list_of_rows.pop(0) # remove o cabeçalho\n",
    "        # Percorre lista de listas, efetuando uma inserçao\n",
    "        for row in list_of_rows:\n",
    "            print(row)\n",
    "            # Executa instrução SQL inserindo parâmetros\n",
    "            cursor.execute(sql8, row)\n",
    "    # Consolida transação\n",
    "    cursor.connection.commit()\n",
    "    return"
   ]
  },
  {
   "cell_type": "code",
   "execution_count": null,
   "metadata": {},
   "outputs": [],
   "source": [
    "# Inserção de dados\n",
    "inserir_dados('arquivos/dados_A701_D_2021-01-01_2021-03-06.csv', 'A701')\n",
    "inserir_dados('arquivos/dados_A744_D_2021-01-01_2021-03-06.csv', 'A744')\n",
    "# https://bdmep.inmet.gov.br/#"
   ]
  },
  {
   "cell_type": "code",
   "execution_count": null,
   "metadata": {},
   "outputs": [],
   "source": [
    "# SQL DQL (consulta a dados)\n",
    "sql9 = 'SELECT * FROM DADOS'\n",
    "# Execução do comando SQL\n",
    "cursor.execute(sql9)\n",
    "# Recuperação dos dados\n",
    "dados = cursor.fetchall()"
   ]
  },
  {
   "cell_type": "code",
   "execution_count": null,
   "metadata": {},
   "outputs": [],
   "source": [
    "dados"
   ]
  },
  {
   "cell_type": "code",
   "execution_count": null,
   "metadata": {},
   "outputs": [],
   "source": [
    "# Define função para exibir dados da tabela Dados\n",
    "def lista_dados(dados):\n",
    "    # Exibição dos dados consultados de maneira tabular\n",
    "    print('| %-8s | %-10s | %-10s | %-10s | %-10s | %-10s | %-10s |' %\n",
    "          ('Estacao', 'Data', 'Precip', 'TMax', 'TMed', 'TMin', 'Umid'))\n",
    "    print('+-%8s-+-%10s-+-%10s-+-%10s-+-%10s-+-%10s-+-%10s-+' % \n",
    "          (8*'-', 10*'-', 10*'-', 10*'-', 10*'-', 10*'-', 10*'-'))\n",
    "    for registro in dados:\n",
    "        print('| %-8s | %-10s | %10s | %10s | %10s | %10s | %10s |' % registro)\n",
    "    print('+-%8s-+-%10s-+-%10s-+-%10s-+-%10s-+-%10s-+-%10s-+' % \n",
    "          (8*'-', 10*'-', 10*'-', 10*'-', 10*'-', 10*'-', 10*'-'))\n",
    "    return"
   ]
  },
  {
   "cell_type": "code",
   "execution_count": null,
   "metadata": {},
   "outputs": [],
   "source": [
    "# Listagem parcial dos dados (usa fatiamento e soma de listas)\n",
    "lista_dados(dados[:10]+dados[-10:])"
   ]
  },
  {
   "cell_type": "code",
   "execution_count": null,
   "metadata": {},
   "outputs": [],
   "source": [
    "# Nova consulta com filtragem de dados\n",
    "sql10 = \"SELECT * FROM DADOS WHERE Precip_Tot > 40\"\n",
    "cursor.execute(sql10)\n",
    "dados_parciais = cursor.fetchall()\n",
    "lista_dados(dados_parciais)"
   ]
  },
  {
   "cell_type": "code",
   "execution_count": null,
   "metadata": {},
   "outputs": [],
   "source": [
    "# Não esqueça de consolidar as ações realizadas.\n",
    "# Fechar a conexão encerra os cursores abertos.\n",
    "cursor.close() # opcional\n",
    "con.close()"
   ]
  },
  {
   "cell_type": "markdown",
   "metadata": {},
   "source": [
    "### FIM\n",
    "### <a href=\"http://github.com/pjandl/opy2\">Oficina Python Intermediário</a>"
   ]
  }
 ],
 "metadata": {
  "kernelspec": {
   "display_name": "Python 3",
   "language": "python",
   "name": "python3"
  },
  "language_info": {
   "codemirror_mode": {
    "name": "ipython",
    "version": 3
   },
   "file_extension": ".py",
   "mimetype": "text/x-python",
   "name": "python",
   "nbconvert_exporter": "python",
   "pygments_lexer": "ipython3",
   "version": "3.8.5"
  }
 },
 "nbformat": 4,
 "nbformat_minor": 4
}
