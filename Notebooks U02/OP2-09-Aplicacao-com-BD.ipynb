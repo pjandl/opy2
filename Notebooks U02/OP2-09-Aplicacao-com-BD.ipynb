{
 "cells": [
  {
   "cell_type": "markdown",
   "metadata": {},
   "source": [
    "<img src='op2-u02.png'/>\n",
    "<h2><font color='#7F0000'>OP2-09-Aplicação com Banco de Dados</font></h2>"
   ]
  },
  {
   "cell_type": "markdown",
   "metadata": {},
   "source": [
    "<table width='100%'>\n",
    "    <tbody>\n",
    "        <tr>\n",
    "            <td width='33%' style='text-align: left; background-color: #DDDDDD; vertical-align: top;'>Notebook Anterior<br><a href=\"OP2-08-Banco-de-Dados.ipynb\">OP2-08-Banco-de-Dados</a></td>\n",
    "            <td width='34%' style='text-align: left; background-color: #DDDDDD; vertical-align: top;'>&nbsp;<br/>\n",
    "            </td>\n",
    "            <td width='33%'style='text-align: left; background-color: #DDDDDD; vertical-align: top;'>Próximo Notebook<br/><a href=\"../Notebooks%20U03/OP2-10-OO-Classes-e-Objetos.ipynb\">OP2-10-OO-Classes-e-Objetos</a></td>\n",
    "        </tr>\n",
    "    </tbody>\n",
    "</table>"
   ]
  },
  {
   "cell_type": "markdown",
   "metadata": {},
   "source": [
    "## Pneus e suas aplicações"
   ]
  },
  {
   "cell_type": "markdown",
   "metadata": {},
   "source": [
    "O uso de veículos terrestres, como automóveis, motocicletas, ônibus e caminhões, é enorme e essencial tanto do ponto de vista da mobilidade, como sob os aspectos econômicos. Um dos aspectos comuns à todos os veículos terrestre é o uso de pneus.\n",
    "\n",
    "Com o uso (e até mesmo o passar do tempo) é necessário substituir os pneus desgastados e velhos dos veículos por outros novos, sempre com as mesmas características especificadas pelos fabricantes dos veículos.\n",
    "\n",
    "Dado o enorme mercado para a venda de pneus, os fabricantes existentes oferecem vários modelos para atender uma grande gama de aplicações, de maneira que podem existir modelos de pneus diferentes capazes de satisfazer as necessidades de um veículo.\n",
    "\n",
    "Concentrando nossa atenção nos automóveis (de passeio, de transporte de passageiros e de carga), sabemos que as informações necessárias para caracterizar um pneu estão ilustradas na figura que segue.\n",
    "\n",
    "<img src=\"op2-09-pneu-medidas-padrao.jpg\" alt=\"Características dos pneus\" />\n",
    "\n",
    "Estas características são:\n",
    "\n",
    "- Largura da **Banda** de rodagem, indicada em milímetros (mm);\n",
    "- Proporção da **Altura** do pneu em relação à sua Largura, indicada em porcentagem (%);\n",
    "- **Tipo** da construção do pneu, indicada com uma ou duas letras (por exemplo, 'R' para pneu de construção radial);\n",
    "- **Diâmetro** interno do pneu (que corresponde ao diâmetro externo da roda), indicada em polegadas (pol);\n",
    "- Índice de **Carga**, indicada como um número padronizado;\n",
    "- Índice de **Velocidade**, indicada como uma ou duas letras padronizadas.\n",
    "\n",
    "Assim, pode ser interessante dispor de um banco de dados capaz de catalogar os *fabricantes de pneus*, os *modelos de pneus* que oferecem, além de sua *aplicação* para diferentes veículos dos diversos *fabricantes de veículos* existentes."
   ]
  },
  {
   "cell_type": "markdown",
   "metadata": {},
   "source": [
    "## Importação do SQLite"
   ]
  },
  {
   "cell_type": "markdown",
   "metadata": {},
   "source": [
    "Construiremos uma aplicação simples, para gerenciar um catálogo de aplicação de modelos de pneus, cujo banco de dados será suportando pelo *SQLite*, o que requer a importação de seu módulo <tt>sqlite3</tt>."
   ]
  },
  {
   "cell_type": "code",
   "execution_count": null,
   "metadata": {},
   "outputs": [],
   "source": [
    "# importação do módulo SQLite3\n",
    "import sqlite3"
   ]
  },
  {
   "cell_type": "markdown",
   "metadata": {},
   "source": [
    "Para utilizar comandos SQL em um banco de dados *SQLite* é necessário uma *conexão* com o banco de dados desejado e, também, um *cursor*, por meio do qual são executados os comandos SQL.\n",
    "\n",
    "Antecipando as necessidades da aplicação pretendida, definimos a função que segue, capaz de retornar uma tupla contendo uma conexão válida e um cursor para o banco de dados indicado. Caso seja fornecida, opcionalmente, uma conexão, esta é utilizada para obter um novo cursor, ou substituída caso inválida."
   ]
  },
  {
   "cell_type": "code",
   "execution_count": 22,
   "metadata": {},
   "outputs": [],
   "source": [
    "def get_cursor(database, connection=None):\n",
    "    '''Retorna conexão e cursor para operação no .'''\n",
    "    try:\n",
    "        cursor = connection.cursor()\n",
    "    except:\n",
    "        # Obtém conexão, que cria banco de dados caso não exista\n",
    "        connection = sqlite3.connect(database)\n",
    "        cursor = connection.cursor()\n",
    "    return (connection, cursor)"
   ]
  },
  {
   "cell_type": "markdown",
   "metadata": {},
   "source": [
    "Uma maneira simples de utilizar a função <tt>get_cursor</tt> é fornecendo apenas a <tt>url</tt> do banco de dados. Observe que esta função retorna uma tupla contendo a conexão e o respectivo cursor."
   ]
  },
  {
   "cell_type": "code",
   "execution_count": 23,
   "metadata": {},
   "outputs": [
    {
     "data": {
      "text/plain": [
       "(<sqlite3.Connection at 0x2869e82c6c0>, <sqlite3.Cursor at 0x2869e90bab0>)"
      ]
     },
     "execution_count": 23,
     "metadata": {},
     "output_type": "execute_result"
    }
   ],
   "source": [
    "resultado = get_cursor('db/metereologia.db')\n",
    "resultado"
   ]
  },
  {
   "cell_type": "markdown",
   "metadata": {},
   "source": [
    "A conexão e o cursor podem ser recupadados pela indexação dos elementos da tupla:"
   ]
  },
  {
   "cell_type": "code",
   "execution_count": 24,
   "metadata": {},
   "outputs": [
    {
     "name": "stdout",
     "output_type": "stream",
     "text": [
      "<sqlite3.Connection object at 0x000002869E82C6C0> <sqlite3.Cursor object at 0x000002869E90BAB0>\n"
     ]
    }
   ],
   "source": [
    "con = resultado[0]\n",
    "cur = resultado[1]\n",
    "print(con, cur)"
   ]
  },
  {
   "cell_type": "markdown",
   "metadata": {},
   "source": [
    "Outra maneira mais simples de utilizar os resultados retornados por <tt>get_cursor</tt> é empregar o desempacotamento implícito de tuplas:"
   ]
  },
  {
   "cell_type": "code",
   "execution_count": 25,
   "metadata": {},
   "outputs": [
    {
     "name": "stdout",
     "output_type": "stream",
     "text": [
      "<sqlite3.Connection object at 0x000002869E82C210> <sqlite3.Cursor object at 0x000002869E860F10>\n"
     ]
    }
   ],
   "source": [
    "con, cur = get_cursor('db/metereologia.db')\n",
    "print(con, cur)"
   ]
  },
  {
   "cell_type": "markdown",
   "metadata": {},
   "source": [
    "Para criar apenas um cursor a partir de uma conexão existente, também é conveniente fazer:"
   ]
  },
  {
   "cell_type": "code",
   "execution_count": 26,
   "metadata": {},
   "outputs": [
    {
     "name": "stdout",
     "output_type": "stream",
     "text": [
      "<sqlite3.Connection object at 0x000002869E82C210> <sqlite3.Cursor object at 0x000002869E911420>\n"
     ]
    }
   ],
   "source": [
    "_, cur = get_cursor('db/metereologia.db', con)\n",
    "print(con, cur)"
   ]
  },
  {
   "cell_type": "markdown",
   "metadata": {},
   "source": [
    "## Criação do Banco de Dados Pneu"
   ]
  },
  {
   "cell_type": "markdown",
   "metadata": {},
   "source": [
    "A função que segue, <tt>create_database</tt> permite a criação ou recriação do banco de dados <tt>Pneu</tt>.\n",
    "\n",
    "Os comandos SQL para criação do banco de dados foram organizados num arquivo texto, permitindo adequações no *schema* desejado para o banco de dados, sem necessidade de modificação do programa. Para permitir a recriação, as tabelas são previamente removidas.\n",
    "\n",
    "A captura de exceção na execução individual de cada comendo SQL recuperado do arquivo evita interromper a função quando uma ou mais tabelas não existem. "
   ]
  },
  {
   "cell_type": "code",
   "execution_count": null,
   "metadata": {},
   "outputs": [],
   "source": [
    "def create_database():\n",
    "    '''Cria ou recria o banco de dados Pneus, retornando uma conexão para o mesmo.'''\n",
    "    # Obtém cursor\n",
    "    conexao, cursor = get_cursor('db/pneu.db')\n",
    "    \n",
    "    # Obtém comandos para criação do BD à partir do arquivo indicado\n",
    "    arquivo = open('db/opy2_pneu_db_sqlite_create.sql', 'r')\n",
    "    conteudo = arquivo.read()\n",
    "    arquivo.close()\n",
    "    # Conteúdo é dividido em comandos separados por ponto-e-vírgula\n",
    "    comandos = conteudo.split(';')\n",
    "    # Execução de comando SQL com cursor pré-definido\n",
    "    for cmd in comandos:\n",
    "        cmd = cmd.strip().strip('\\n\\n').strip('\\n')\n",
    "        if len(cmd) == 0:\n",
    "            continue # pula linhas em branco\n",
    "        try:\n",
    "            print('.', cmd) # exibe comando recuperado\n",
    "            cursor.execute(cmd) # executa comando recuperado\n",
    "        except Exception as exc:\n",
    "            print(exc)\n",
    "            \n",
    "    # SQL DTL (consolidação de operações)\n",
    "    conexao.commit()\n",
    "    # Retorna conexão em uso\n",
    "    return conexao"
   ]
  },
  {
   "cell_type": "markdown",
   "metadata": {},
   "source": [
    "O acionamento desta função permite criar o banco de dados <tt>Pneu</tt>, como segue."
   ]
  },
  {
   "cell_type": "code",
   "execution_count": null,
   "metadata": {},
   "outputs": [],
   "source": [
    "# Efetua a criação do banco de dados e\n",
    "# retém sua conexão para uso posterior\n",
    "conexao = create_database()"
   ]
  },
  {
   "cell_type": "markdown",
   "metadata": {},
   "source": [
    "O banco de dados criado possui a seguinte estrutura.\n",
    "\n",
    "<img src=\"op2-09-pneus-db.png\" alt=\"BD Pneu\" />\n",
    "\n",
    "A estrutura do banco de dados pode ser conferida como uso de um visualizador, tal como o *DB Browser for SQLite*.\n",
    "\n",
    "https://sqlitebrowser.org/"
   ]
  },
  {
   "cell_type": "markdown",
   "metadata": {},
   "source": [
    "## Inclusão de Fabricantes de Pneu"
   ]
  },
  {
   "cell_type": "markdown",
   "metadata": {},
   "source": [
    "Para incluir fabricantes de pneu no banco de dados <tt>Pneu</tt> é conveniente uma função que realize esta tarefa, tomando apenas os dados necessários, que neste caso é apenas o *nome do fabricante de pneus*, e, opcionalmente, uma conexão para o banco de dados, efetuando a inclusão do fabricante de pneus no banco de dados."
   ]
  },
  {
   "cell_type": "code",
   "execution_count": null,
   "metadata": {},
   "outputs": [],
   "source": [
    "def insert_fab_pneu(nome_fab_pneu, connection=None):\n",
    "    '''Efetua a inclusão de fabricante na tabela Fab_Pneu.'''\n",
    "    # Obtém conexão e cursor\n",
    "    connection, cursor = get_cursor('db/pneu.db', connection)\n",
    "    # SQL para inserção de fabricante de pneu\n",
    "    sql = f\"INSERT INTO Fab_Pneu(nome) VALUES('{nome_fab_pneu}')\"\n",
    "    # Efetua inserção\n",
    "    cursor.execute(sql)\n",
    "    # SQL DTL (consolidação de operações)\n",
    "    connection.commit()"
   ]
  },
  {
   "cell_type": "markdown",
   "metadata": {},
   "source": [
    "A função <tt>insert_fab_pneu</tt> pode ser usada simplesmente com a indicação do nome do fabricante de pneus."
   ]
  },
  {
   "cell_type": "code",
   "execution_count": null,
   "metadata": {},
   "outputs": [],
   "source": [
    "# Inserção de fabricantes de pneu\n",
    "insert_fab_pneu('Pirelli', conexao)\n",
    "insert_fab_pneu('Goodyear', conexao)\n",
    "insert_fab_pneu('Michelin', conexao)\n",
    "insert_fab_pneu('Firestone', conexao)\n",
    "insert_fab_pneu('Continental', conexao)"
   ]
  },
  {
   "cell_type": "markdown",
   "metadata": {},
   "source": [
    "Na seção que segue construiremos uma função para a consulta dos fabricantes de pneus cadastrados no banco de dados <tt>Pneu</tt>."
   ]
  },
  {
   "cell_type": "markdown",
   "metadata": {},
   "source": [
    "## Consulta de Fabricante de Pneus"
   ]
  },
  {
   "cell_type": "markdown",
   "metadata": {},
   "source": [
    "Para consultar os fabricantes de pneus no banco de dados <tt>Pneu</tt> é igualmente adequada uma função para realização desta tarefa, tomando opcionalmente uma conexão para o banco de dados. "
   ]
  },
  {
   "cell_type": "code",
   "execution_count": null,
   "metadata": {},
   "outputs": [],
   "source": [
    "def query_fab_pneu(connection=None):\n",
    "    '''Função que efetua e exibe fabricantes de pneus cadastrados.'''\n",
    "    # Obtém apenas cursor\n",
    "    _, cursor = get_cursor('db/pneu.db', connection)\n",
    "    # SQL para consulta de fabricante de pneu\n",
    "    sql = 'SELECT * FROM Fab_Pneu ORDER BY Nome'\n",
    "    # Efetua consulta\n",
    "    cursor.execute(sql)\n",
    "    # Dados da consulta realizada devem ser recuperados\n",
    "    dados = cursor.fetchall()\n",
    "    # Exibição dos dados consultados de maneira tabular\n",
    "    print('+-%31s-+' % (31*'-'))\n",
    "    print('| %-31s |' % ('FAB_PNEU'))\n",
    "    print('+-%31s-+' % (31*'-'))\n",
    "    print('| %-3s | %-25s |' % ('Cód', 'Nome'))\n",
    "    print('+-%31s-+' % (31*'-'))\n",
    "    for registro in dados:\n",
    "        print('| %3d | %-25s |' % registro)\n",
    "    print('+-%31s-+' % (31*'-'))\n",
    "    print(len(dados), 'registros.')\n",
    "    return"
   ]
  },
  {
   "cell_type": "markdown",
   "metadata": {},
   "source": [
    "É bastante direto o uso da função <tt>query_fab_pneu</tt>."
   ]
  },
  {
   "cell_type": "code",
   "execution_count": null,
   "metadata": {},
   "outputs": [],
   "source": [
    "# Mostra dados da tabela Fab_Pneu\n",
    "query_fab_pneu(conexao)"
   ]
  },
  {
   "cell_type": "markdown",
   "metadata": {},
   "source": [
    "A título de ilustração, a figura que segue mostra o uso do 'DB Browser for SQLite* na visualização do conteúdo da tabela <tt>Fab_Pneu</tt>.\n",
    "\n",
    "<img src=\"op2-09-db-browser-pneu-db.png\" alt=\"DB Browser for SQLite\" />"
   ]
  },
  {
   "cell_type": "markdown",
   "metadata": {},
   "source": [
    "## Inclusão de Fabricantes de Veículos"
   ]
  },
  {
   "cell_type": "markdown",
   "metadata": {},
   "source": [
    "A inclusão de fabricantes de veículos no banco de dados <tt>Pneu</tt> também pode ser feita por meio de uma função, que tome o único dado necessário, o *nome do fabricante de veículos*, e, opcionalmente, uma conexão para o banco de dados, efetuando a inclusão do fabricante de veículos no banco de dados."
   ]
  },
  {
   "cell_type": "code",
   "execution_count": null,
   "metadata": {},
   "outputs": [],
   "source": [
    "def insert_fab_veiculo(nome_fab_veiculo, connection=None):\n",
    "    '''Efetua a inclusão de fabricante na tabela Fab_Veic.'''\n",
    "    # Obtém conexão e cursor\n",
    "    connection, cursor = get_cursor('db/pneu.db', connection)\n",
    "    # SQL para inserção de fabricante de veículo\n",
    "    sql = f\"INSERT INTO Fab_Veic(nome) VALUES('{nome_fab_veiculo}')\"\n",
    "    # Efetua inserção\n",
    "    cursor.execute(sql)\n",
    "    # SQL DTL (consolidação de operações)\n",
    "    connection.commit()"
   ]
  },
  {
   "cell_type": "markdown",
   "metadata": {},
   "source": [
    "O uso da função <tt>insert_fab_veiculo</tt> é bastante direto e requer apenas a indicação do nome do fabricante de veículos."
   ]
  },
  {
   "cell_type": "code",
   "execution_count": null,
   "metadata": {},
   "outputs": [],
   "source": [
    "# Inserção de fabricantes de veículos\n",
    "insert_fab_veiculo('Volkswagen', conexao)\n",
    "insert_fab_veiculo('Fiat', conexao)\n",
    "insert_fab_veiculo('Chevrolet', conexao)\n",
    "insert_fab_veiculo('Ford', conexao)\n",
    "insert_fab_veiculo('Honda', conexao)\n",
    "insert_fab_veiculo('Toyota', conexao)\n",
    "insert_fab_veiculo('Kia', conexao)\n",
    "insert_fab_veiculo('Hyundai', conexao)\n",
    "insert_fab_veiculo('Jeep', conexao)\n",
    "insert_fab_veiculo('Audi', conexao)\n",
    "insert_fab_veiculo('BMW', conexao)"
   ]
  },
  {
   "cell_type": "markdown",
   "metadata": {},
   "source": [
    "Na seção que segue construiremos uma função para a consulta dos fabricantes de veículos cadastrados no banco de dados <tt>Pneu</tt>."
   ]
  },
  {
   "cell_type": "markdown",
   "metadata": {},
   "source": [
    "## Consulta de Fabricante de Veículos"
   ]
  },
  {
   "cell_type": "markdown",
   "metadata": {},
   "source": [
    "Para consultar os fabricantes de veículos no banco de dados <tt>Pneu</tt> é feita de maneira idêntica à consulta dos fabricantes de pneus, com uso de uma função que toma opcionalmente uma conexão para o banco de dados. "
   ]
  },
  {
   "cell_type": "code",
   "execution_count": null,
   "metadata": {},
   "outputs": [],
   "source": [
    "def query_fab_veic(connection=None):\n",
    "    '''Função que efetua e exibe fabricantes de veículos cadastrados.'''\n",
    "    # Obtém apenas cursor\n",
    "    _, cursor = get_cursor('db/pneu.db', connection)\n",
    "    # SQL para consulta de fabricante de veículos\n",
    "    sql = 'SELECT * FROM Fab_Veic ORDER BY Nome'\n",
    "    # Efetua consulta\n",
    "    cursor.execute(sql)\n",
    "    # Dados da consulta realizada devem ser recuperados\n",
    "    dados = cursor.fetchall()\n",
    "    # Exibição dos dados consultados de maneira tabular\n",
    "    print('+-%31s-+' % (31*'-'))\n",
    "    print('| %-31s |' % ('FAB_VEIC'))\n",
    "    print('+-%31s-+' % (31*'-'))\n",
    "    print('| %3s | %-25s |' % ('Cód', 'Nome'))\n",
    "    print('+-%31s-+' % (31*'-'))\n",
    "    for registro in dados:\n",
    "        print('| %3d | %-25s |' % registro)\n",
    "    print('+-%31s-+' % (31*'-'))\n",
    "    print(len(dados), 'registros.')\n",
    "    return"
   ]
  },
  {
   "cell_type": "markdown",
   "metadata": {},
   "source": [
    "É direto o uso da função <tt>query_fab_veic</tt>."
   ]
  },
  {
   "cell_type": "code",
   "execution_count": null,
   "metadata": {},
   "outputs": [],
   "source": [
    "# Mostra dados da tabela Fab_Veic\n",
    "query_fab_veic(conexao)"
   ]
  },
  {
   "cell_type": "markdown",
   "metadata": {},
   "source": [
    "## Inclusão de Pneus"
   ]
  },
  {
   "cell_type": "markdown",
   "metadata": {},
   "source": [
    "A inclusão de modelos de pneus no banco de dados <tt>Pneu</tt> requer diversos dados: *id* do fabricante, modelo, banda, altura, tipo, diâmetro, carga e velocidade. Desta forma é bastante adequada uma função que tome tais parâmetros e, opcionalmente, uma conexão para o banco de dados, efetuando a inclusão de um modelo de pneu no banco de dados."
   ]
  },
  {
   "cell_type": "code",
   "execution_count": null,
   "metadata": {},
   "outputs": [],
   "source": [
    "def insert_pneu(fab_id, modelo, banda, altura, tipo, diam, carga, veloc, connection=None):\n",
    "    '''Efetua a inclusão de modelo de pneu na tabela Pneu.'''\n",
    "    # Obtém conexão e cursor\n",
    "    connection, cursor = get_cursor('db/pneu.db', connection)\n",
    "    # SQL para inserção de modelos de pneus\n",
    "    sql = f\"\"\"INSERT INTO \n",
    "    Pneu(Fab_Id, modelo, banda, altura, tipo, diametro, carga, velocidade) \n",
    "    VALUES({fab_id}, '{modelo}', {banda}, {altura}, '{tipo}', {diam}, {carga}, '{veloc}')\"\"\"\n",
    "    # Efetua inserção\n",
    "    cursor.execute(sql)\n",
    "    # SQL DTL (consolidação de operações)\n",
    "    connection.commit()"
   ]
  },
  {
   "cell_type": "markdown",
   "metadata": {},
   "source": [
    "O uso da função <tt>insert_pneu</tt> requer vários dados, como mostrado a seguir."
   ]
  },
  {
   "cell_type": "code",
   "execution_count": null,
   "metadata": {},
   "outputs": [],
   "source": [
    "# Pneu Pirelli Evo 205/55 R16 91V\n",
    "insert_pneu(1, 'Formula Evo', 205, 55, 'R', 16, 91, 'V', conexao)"
   ]
  },
  {
   "cell_type": "markdown",
   "metadata": {},
   "source": [
    "Inclusão de outros pneus no banco de dados."
   ]
  },
  {
   "cell_type": "code",
   "execution_count": null,
   "metadata": {},
   "outputs": [],
   "source": [
    "insert_pneu(1, 'Formula Evo', 195, 65, 'R', 15, 91, 'H', conexao)\n",
    "insert_pneu(1, 'Formula Evo', 175, 70, 'R', 14, 84, 'T', conexao)\n",
    "insert_pneu(2, 'Direction Touring SL', 175, 70, 'R', 13, 82, 'T', conexao)\n",
    "insert_pneu(2, 'Direction Touring XL', 175, 70, 'R', 14, 88, 'T', conexao)\n",
    "insert_pneu(2, 'Assurance MaxLife XL', 175, 65, 'R', 14, 86, 'H', conexao)\n",
    "insert_pneu(5, 'Extreme Contact DW', 205, 55, 'R', 16, 91, 'W', conexao)\n",
    "insert_pneu(5, 'Barum Bravuris 5HM', 175, 70, 'R', 14, 82, 'T', conexao)\n",
    "insert_pneu(1, 'Cinturato P1 Plus', 205, 55, 'R', 16, 91, 'V', conexao)\n",
    "insert_pneu(4, 'F700', 195, 55, 'R', 15, 85, 'H', conexao)\n",
    "insert_pneu(4, 'F700', 185, 70, 'R', 14, 88, 'T', conexao)\n",
    "insert_pneu(4, 'F700', 175, 70, 'R', 14, 88, 'T', conexao)\n",
    "insert_pneu(3, 'Energy XM2', 195, 60, 'R', 15, 88, 'V', conexao)\n",
    "insert_pneu(3, 'Energy XM2', 175, 70, 'R', 13, 82, 'T', conexao)"
   ]
  },
  {
   "cell_type": "markdown",
   "metadata": {},
   "source": [
    "Na seção que segue construiremos uma função para a consulta dos modelos de pneus cadastrados no banco de dados <tt>Pneu</tt>."
   ]
  },
  {
   "cell_type": "markdown",
   "metadata": {},
   "source": [
    "## Consulta de Modelos de Pneus"
   ]
  },
  {
   "cell_type": "markdown",
   "metadata": {},
   "source": [
    "A consulta dos modelos de pneus no banco de dados <tt>Pneu</tt> é feita como antes, com uso de uma função que toma, opcionalmente, uma conexão para o banco de dados ou um filtro (expressão condicional) para redução dos registros consultados. "
   ]
  },
  {
   "cell_type": "code",
   "execution_count": null,
   "metadata": {},
   "outputs": [],
   "source": [
    "def query_pneu(connection=None, filter=None):\n",
    "    '''Função que efetua e exibe modelos de pneus cadastrados.'''\n",
    "    # Obtém apenas cursor\n",
    "    _, cursor = get_cursor('db/pneu.db', connection)\n",
    "    # SQL para consulta de modelos de pneus\n",
    "    sql = '''SELECT P.id, F.Nome, P.Modelo, P.Banda, P.Altura, P.Tipo, \n",
    "    P.Diametro, P.Carga, P.Velocidade\n",
    "    FROM Fab_Pneu F\n",
    "    JOIN Pneu P ON F.Id = P.Fab_Id'''\n",
    "    if filter != None:\n",
    "        sql += '\\nWHERE ' + filter\n",
    "    sql += '\\nORDER BY F.Nome, P.Modelo, P.Banda, P.Altura, P.Diametro'\n",
    "    # Efetua consulta\n",
    "    cursor.execute(sql)\n",
    "    # Dados da consulta realizada devem ser recuperados\n",
    "    dados = cursor.fetchall()\n",
    "    # Exibição dos dados consultados de maneira tabular\n",
    "    print('+-%83s-+' % (83*'-'))\n",
    "    print('| %-83s |' % ('PNEU'))\n",
    "    print('+-%83s-+' % (83*'-'))\n",
    "    print('| %-3s | %-15s | %-25s | %-3s | %-3s | %-2s | %-3s | %-3s | %-2s |' \n",
    "          % ('Id', 'Fabricante', 'Modelo', 'Bnd', 'Alt', 'Tp', 'Dia', 'Car', 'Vl'))\n",
    "    print('+-%83s-+' % (83*'-'))\n",
    "    for registro in dados:\n",
    "        print('| %3d | %-15s | %-25s | %3d | %3d | %-2s | %3d | %3d | %-2s |' % registro)\n",
    "    print('+-%83s-+' % (83*'-'))\n",
    "    print(len(dados), 'registros.')\n",
    "    return"
   ]
  },
  {
   "cell_type": "markdown",
   "metadata": {},
   "source": [
    "Como antes, o uso da função <tt>query_pneu</tt> é direto."
   ]
  },
  {
   "cell_type": "code",
   "execution_count": null,
   "metadata": {},
   "outputs": [],
   "source": [
    "query_pneu(conexao)"
   ]
  },
  {
   "cell_type": "markdown",
   "metadata": {},
   "source": [
    "Mas também permite a inclusão de um filtro, que pode envolver as colunas *Nome* (do fabricante), *Banda*, *Altura*, *Tipo*, *Diametro*, *Carga* ou *Velocidade*, como segue."
   ]
  },
  {
   "cell_type": "code",
   "execution_count": null,
   "metadata": {},
   "outputs": [],
   "source": [
    "query_pneu(conexao, \"Banda=205 and Velocidade>='V'\")"
   ]
  },
  {
   "cell_type": "markdown",
   "metadata": {},
   "source": [
    "## Inclusão de Aplicação de Pneus"
   ]
  },
  {
   "cell_type": "markdown",
   "metadata": {},
   "source": [
    "A inclusão da aplicação dos modelos de pneus no banco de dados <tt>Pneu</tt> requer alguns dados: id do fabricante do veículo, modelo do veículo, ano do veículo e id do pneu compatível. Como feito anteriormente, uma função pode tomar estes parâmetros e, opcionalmente, uma conexão para o banco de dados para efetuar a inclusão da aplicação de um modelo de pneu."
   ]
  },
  {
   "cell_type": "code",
   "execution_count": null,
   "metadata": {},
   "outputs": [],
   "source": [
    "def insert_aplicacao(fab_veic_id, modelo, ano, pneu_id, connection=None):\n",
    "    '''Efetua a inclusão de aplicação de um modelo de pneu na tabela Aplicacao.'''\n",
    "    # Obtém conexão e cursor\n",
    "    connection, cursor = get_cursor('db/pneu.db', connection)\n",
    "    # SQL para inserção de aplicação de um modelo de pneu\n",
    "    sql = f\"\"\"INSERT INTO \n",
    "    Aplicacao(Fab_Veic_Id, Modelo, Ano, Pneu_Id) \n",
    "    VALUES({fab_veic_id}, '{modelo}', {ano}, {pneu_id})\"\"\"\n",
    "    # Efetua inserção\n",
    "    cursor.execute(sql)\n",
    "    # SQL DTL (consolidação de operações)\n",
    "    connection.commit()"
   ]
  },
  {
   "cell_type": "markdown",
   "metadata": {},
   "source": [
    "O uso desta função é simples, como exemplificado a seguir."
   ]
  },
  {
   "cell_type": "code",
   "execution_count": null,
   "metadata": {},
   "outputs": [],
   "source": [
    "# Aplicação: Fiat Linea HLX 2009 --> 7, 9 e 1\n",
    "insert_aplicacao(2, 'Linea', 2009, 1)\n",
    "insert_aplicacao(2, 'Linea', 2009, 7)\n",
    "insert_aplicacao(2, 'Linea', 2009, 9)"
   ]
  },
  {
   "cell_type": "markdown",
   "metadata": {},
   "source": [
    "Inclusão de outras aplicações."
   ]
  },
  {
   "cell_type": "code",
   "execution_count": null,
   "metadata": {},
   "outputs": [],
   "source": [
    "insert_aplicacao(3, 'Astra', 2014, 11)\n",
    "insert_aplicacao(3, 'Astra', 2013, 11)\n",
    "insert_aplicacao(3, 'Vectra', 2009, 11)\n",
    "insert_aplicacao(3, 'Vectra', 2010, 11)\n",
    "insert_aplicacao(3, 'Cobalt', 2016, 10)\n",
    "insert_aplicacao(3, 'Cobalt', 2016, 2)\n",
    "insert_aplicacao(1, 'Voyage Novo', 2017, 8)\n",
    "insert_aplicacao(4, 'Courrier', 2014, 4)\n",
    "insert_aplicacao(2, 'Doblo', 2017, 8)\n",
    "insert_aplicacao(2, 'Palio', 2017, 4)\n",
    "insert_aplicacao(2, 'Doblo', 2017, 5)\n",
    "insert_aplicacao(2, 'Palio', 2017, 14)\n",
    "insert_aplicacao(2, 'Idea', 2017, 13)\n",
    "insert_aplicacao(2, 'Punto', 2016, 13)\n",
    "insert_aplicacao(6, 'Corolla', 2016, 13)\n",
    "insert_aplicacao(1, 'Jetta', 2019, 1)\n",
    "insert_aplicacao(1, 'Jetta', 2019, 7)\n",
    "insert_aplicacao(1, 'Jetta', 2019, 9)"
   ]
  },
  {
   "cell_type": "markdown",
   "metadata": {},
   "source": [
    "## Consulta de Aplicação de Pneus"
   ]
  },
  {
   "cell_type": "markdown",
   "metadata": {},
   "source": [
    "A consulta das aplicações dos modelos de pneus no banco de dados <tt>Pneu</tt> usa a mesma estratégia da da função <tt>query_pneu</tt>, constituindo uma função que toma, opcionalmente, uma conexão para o banco de dados ou um filtro (expressão condicional) para redução dos registros consultados. "
   ]
  },
  {
   "cell_type": "code",
   "execution_count": null,
   "metadata": {},
   "outputs": [],
   "source": [
    "def query_aplicacao(connection=None, filter=None):\n",
    "    '''Função que efetua e exibe aplicacoes cadastradas dos modelos de pneus.'''\n",
    "    # Obtém apenas cursor\n",
    "    _, cursor = get_cursor('db/pneu.db', connection)\n",
    "    # SQL para consulta de aplicacoes dos modelos de pneus\n",
    "    sql = '''SELECT A.id, V.Nome, A.Modelo, A.Ano, F.Nome, P.Banda,\n",
    "    P.Altura, P.Tipo, P.Diametro, P.Carga, P.Velocidade\n",
    "    FROM Aplicacao A\n",
    "    JOIN Fab_Veic V ON A.Fab_Veic_Id = V.Id\n",
    "    JOIN Pneu P ON A.Pneu_Id = P.Id\n",
    "    JOIN Fab_Pneu F ON P.Fab_Id = F.Id'''\n",
    "    if filter != None:\n",
    "        sql += '\\nWHERE ' + filter\n",
    "    sql += '\\nORDER BY V.Nome, A.Modelo, A.Ano, F.Nome, P.Banda, P.Altura, P.Diametro'\n",
    "    # Efetua consulta\n",
    "    cursor.execute(sql)\n",
    "    # Dados da consulta realizada devem ser recuperados\n",
    "    dados = cursor.fetchall()\n",
    "    # Exibição dos dados consultados de maneira tabular\n",
    "    print('+-%87s-+' % (87*'-'))\n",
    "    print('| %-87s |' % ('Aplicacao'))\n",
    "    print('+-%87s-+' % (87*'-'))\n",
    "    print('| %-3s | %-12s | %-12s | %-4s | %-12s | %-3s | %-2s | %-2s | %-2s | %-3s | %-2s |' \n",
    "          % ('Id', 'Fabricante', 'Modelo', 'Ano', 'Pneu', 'Bnd',\n",
    "             '%', 'Tp', 'Dm', 'Car', 'Vl'))\n",
    "    print('+-%87s-+' % (87*'-'))\n",
    "    for registro in dados:\n",
    "        print('| %3d | %-12s | %-12s | %4d | %-12s | %3d | %2d | %-2s | %2d | %3d | %-2s |'\n",
    "              % registro)\n",
    "    print('+-%87s-+' % (87*'-'))\n",
    "    print(len(dados), 'registros.')\n",
    "    return"
   ]
  },
  {
   "cell_type": "markdown",
   "metadata": {},
   "source": [
    "O uso da função <tt>query_aplicacao</tt> é simples e permite obter todas as aplicações cadastradas de pneus."
   ]
  },
  {
   "cell_type": "code",
   "execution_count": null,
   "metadata": {},
   "outputs": [],
   "source": [
    "query_aplicacao(conexao)"
   ]
  },
  {
   "cell_type": "markdown",
   "metadata": {},
   "source": [
    "Outra maneira de usar da função <tt>query_aplicacao</tt> é indicando filtros para restringir os resultados da consulta. Os filtros podem combinar as colunas: *V.Nome* (do fabricante de veículos), *A.Modelo* (de veículo), *Ano* (do veículo), *F.Nome* (do fabricante de pneus), *P.Modelo* (do pneu); além de outros dados do pneu: *Banda*, *Altura*, *Tipo*, *Diametro*, *Carga* e *Velocidade*"
   ]
  },
  {
   "cell_type": "code",
   "execution_count": null,
   "metadata": {},
   "outputs": [],
   "source": [
    "query_aplicacao(conexao, \"A.Modelo='Doblo'\")"
   ]
  },
  {
   "cell_type": "markdown",
   "metadata": {},
   "source": [
    "O uso das funções descritas neste *notebook* permitem construir uma aplicação completa, embora simples, para manter um cadastro útil de aplicações de pneus para automóveis de passeio ou carga."
   ]
  },
  {
   "cell_type": "markdown",
   "metadata": {},
   "source": [
    "### FIM\n",
    "### <a href=\"http://github.com/pjandl/opy2\">Oficina Python Intermediário</a>"
   ]
  }
 ],
 "metadata": {
  "kernelspec": {
   "display_name": "Python 3",
   "language": "python",
   "name": "python3"
  },
  "language_info": {
   "codemirror_mode": {
    "name": "ipython",
    "version": 3
   },
   "file_extension": ".py",
   "mimetype": "text/x-python",
   "name": "python",
   "nbconvert_exporter": "python",
   "pygments_lexer": "ipython3",
   "version": "3.8.5"
  }
 },
 "nbformat": 4,
 "nbformat_minor": 4
}
