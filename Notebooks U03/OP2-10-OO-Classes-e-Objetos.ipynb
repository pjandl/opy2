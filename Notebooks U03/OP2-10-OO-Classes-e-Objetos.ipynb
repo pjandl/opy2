{
 "cells": [
  {
   "cell_type": "markdown",
   "metadata": {},
   "source": [
    "<img src='op2-u03.png'/>\n",
    "<h2><font color='#7F0000'>OP2-10-OO-Classes-e-Objetos</font></h2>"
   ]
  },
  {
   "cell_type": "markdown",
   "metadata": {},
   "source": [
    "<table width='100%'>\n",
    "    <tbody>\n",
    "        <tr>\n",
    "            <td width='33%' style='text-align: left; background-color: #DDDDDD; vertical-align: top;'>Notebook Anterior<br><a href=\"../Notebooks%20U02/OP2-09-Aplicacao-com-BD.ipynb\">OP2-09-Aplicacao-com-BD</a></td>\n",
    "            <td width='34%' style='text-align: left; background-color: #DDDDDD; vertical-align: top;'>&nbsp;<br/>\n",
    "            </td>\n",
    "            <td width='33%'style='text-align: left; background-color: #DDDDDD; vertical-align: top;'>Próximo Notebook<br/><a href=\"OP2-11-OO-Importacao.ipynb\">OP2-11-OO-Importacao</a></td>\n",
    "        </tr>\n",
    "    </tbody>\n",
    "</table>"
   ]
  },
  {
   "cell_type": "markdown",
   "metadata": {},
   "source": [
    "## Orientação a Objetos"
   ]
  },
  {
   "cell_type": "markdown",
   "metadata": {},
   "source": [
    "A Programação Orientação a Objetos, conhecida também como *Object Oriented Programming*, é uma técnica de solução de problemas de programação dirigida para definição de entidades que combinam comportamentos e características dos objetos da vida real. É hoje a técnica predominante no meio profissional para o desenvolvimento de novos softwares.\n",
    "\n",
    "Python é uma linguagem de programação de alto nível, com tipagem dinâmica, que inclui suporte para orientação a objetos, pois oferece mecanismos para:\n",
    "\n",
    "- Definição de classes e criação de objetos;\n",
    "- Encapsulamento de propriedades e métodos;\n",
    "- Criação de classes por meio da herança;\n",
    "- Uso do polimorfismo para tratamento de objetos."
   ]
  },
  {
   "cell_type": "markdown",
   "metadata": {},
   "source": [
    "### Definição de classes"
   ]
  },
  {
   "cell_type": "markdown",
   "metadata": {},
   "source": [
    "Uma classe permite representar um objeto, uma pessoa ou um animal, na verdade, qualquer coisa. Esta representação considera as características do objeto e seus comportamentos (ou funcionalidades). Pense, como exemplo, numa caneta comum. A cor e a marca da caneta são algumas das características deste *tipo* de objeto; assim como escrever é sua funcionalidade principal. Esperamos que estas características (cor e marca) e a funcionalidade indicada (escrever) estejam presentes em todos os objetos que consideramos como um caneta.\n",
    "\n",
    "Assim, uma classe define um novo *tipo* de objeto, ou seja, um conceito (ou modelo) formado por um conjunto específico de caracteristicas e funcionalidade que são esperadas em qualquer objeto deste tipo.\n",
    "\n",
    "Desta maneira, uma classe é como uma estrutura que pode organizar vários dados, como numa lista, mas combinados com funções especiais que conferem um comportamento para a classe.\n",
    "\n",
    "A **definição** de uma classe utiliza a palavra reservada <tt>class</tt>. Dentro da classe podem existir, ou seja, podem ser adicionados:\n",
    "\n",
    "<dl style='margin-left:15px;'>\n",
    "    <dt>Métodos</dt><dd>Funções (ou operações) que pertencem à classe.</dd>\n",
    "    <dt>Atributos</dt><dd>Variáveis de instância (campos) da classe.</dd>\n",
    "</dl>"
   ]
  },
  {
   "cell_type": "code",
   "execution_count": null,
   "metadata": {},
   "outputs": [],
   "source": [
    "# Definição de uma classe\n",
    "class Papagaio:\n",
    "    '''Uma classe simples para entender OO.'''\n",
    "\n",
    "    def __init__(self):\n",
    "        '''Construtor, método especial que cria objeto desta classe.'''\n",
    "        print('Papagaio.__init__()')        \n",
    "        # define nome como atributo de instância\n",
    "        # (para cada um dos objetos desta classe)\n",
    "        self.nome = 'Papagaio'"
   ]
  },
  {
   "cell_type": "markdown",
   "metadata": {},
   "source": [
    "### Instanciação"
   ]
  },
  {
   "cell_type": "markdown",
   "metadata": {},
   "source": [
    "A *instanciação* é a operação de criação de um objeto, que se assemelha a chamada de uma função com o *mesmo* nome da classe cujo objeto desejamos criar.\n",
    "\n",
    "A função especial que cria um objeto é chamada de *construtor*. A cada acionamento do construtor de uma classe, é criado um novo objeto, que ocupa um espaço próprio na memória, retornando uma referência para o objeto criado.\n",
    "\n",
    "A criação de um objeto da classe (ou do tipo) <tt>Papagaio</tt> é feita como segue, com acionamento de seu construtor, que tem o mesmo nome."
   ]
  },
  {
   "cell_type": "code",
   "execution_count": null,
   "metadata": {},
   "outputs": [],
   "source": [
    "# Instanciação de objeto tipo Papagaio\n",
    "louro = Papagaio()"
   ]
  },
  {
   "cell_type": "markdown",
   "metadata": {},
   "source": [
    "Aqui, <tt>louro</tt> é o nome que usaremos para acessar o objeto de tipo <tt>Papagaio</tt> que foi criado.\n",
    "\n",
    "> A criação de um objeto só pode ser realizada por meio do acionamento do construtor de sua classe.\n",
    "\n",
    "Cada objeto do tipo <tt>Papagaio</tt> possui o atributo <tt>nome</tt> que foi definido em sua classe.\n",
    "\n",
    "Atributos e métodos de objetos são acessados com uso do operador seletor <tt>.</tt> (ponto), com a sintaxe:\n",
    "\n",
    "<p style='margin-left:15px;'><tt>objeto <b>.</b> atributo<br/>\n",
    "   objeto <b>.</b> método()</tt></p>"
   ]
  },
  {
   "cell_type": "code",
   "execution_count": null,
   "metadata": {},
   "outputs": [],
   "source": [
    "# Acesso ao atributo nome do objeto louro\n",
    "louro.nome"
   ]
  },
  {
   "cell_type": "markdown",
   "metadata": {},
   "source": [
    "<P>Atributos (ou campos) do objeto podem ser usado como variáveis comuns, mas associadas ao objeto ao qual pertencem.</p>"
   ]
  },
  {
   "cell_type": "code",
   "execution_count": null,
   "metadata": {},
   "outputs": [],
   "source": [
    "# Uso do atributo nome do objeto louro\n",
    "print(louro.nome)"
   ]
  },
  {
   "cell_type": "code",
   "execution_count": null,
   "metadata": {},
   "outputs": [],
   "source": [
    "# Atributos/campos podem ser modificados\n",
    "louro.nome = 'Louro'\n",
    "print(louro.nome)"
   ]
  },
  {
   "cell_type": "code",
   "execution_count": null,
   "metadata": {},
   "outputs": [],
   "source": [
    "# Outros objetos (tantos quantos necessários) podem ser criados\n",
    "penacho = Papagaio();\n",
    "penacho.nome = 'Penacho'\n",
    "# Como Python é sensível ao caixa, isto é possível\n",
    "# (e útil para dar clareza)\n",
    "papagaio = Papagaio();\n",
    "papagaio.nome = 'Godofredo'"
   ]
  },
  {
   "cell_type": "code",
   "execution_count": null,
   "metadata": {},
   "outputs": [],
   "source": [
    "# Cada objeto ocupa um lugar distinto na memória\n",
    "louro"
   ]
  },
  {
   "cell_type": "code",
   "execution_count": null,
   "metadata": {},
   "outputs": [],
   "source": [
    "penacho"
   ]
  },
  {
   "cell_type": "code",
   "execution_count": null,
   "metadata": {},
   "outputs": [],
   "source": [
    "papagaio"
   ]
  },
  {
   "cell_type": "code",
   "execution_count": null,
   "metadata": {},
   "outputs": [],
   "source": [
    "# Então são considerados distintos\n",
    "print('louro == penacho?', louro == penacho)\n",
    "print('louro == papagaio?', louro == papagaio)\n",
    "print('papagaio == penacho?', papagaio == penacho)"
   ]
  },
  {
   "cell_type": "code",
   "execution_count": null,
   "metadata": {},
   "outputs": [],
   "source": [
    "# Um objeto pode ser atribuído à outra variável\n",
    "outroLouro = louro\n",
    "# Com isso, duas variáveis fazem referência ao mesmo objeto\n",
    "print('louro == outroLouro?', louro == outroLouro)"
   ]
  },
  {
   "cell_type": "markdown",
   "metadata": {},
   "source": [
    "### Construtores"
   ]
  },
  {
   "cell_type": "markdown",
   "metadata": {},
   "source": [
    "Um construtor é um método especial que realiza a inicialização de cada objeto criado. No Python é declarado dentro da classe, com o nome <tt>__init__</tt> e recebendo, **ao menos**, o parâmetro especial <tt>self</tt>. Os construtores podem, opcionalmente, receber parâmetros adicionais, como qualquer função."
   ]
  },
  {
   "cell_type": "code",
   "execution_count": null,
   "metadata": {},
   "outputs": [],
   "source": [
    "class Papagaio:\n",
    "    '''Uma classe simples para entender OO.'''\n",
    "\n",
    "    def __init__(self):\n",
    "        '''Construtor, método especial que cria objeto desta classe.'''\n",
    "        print('Papagaio.__init__()')\n",
    "        # define nome como atributo de instância\n",
    "        # (para cada um dos objetos desta classe)\n",
    "        self.nome = 'Papagaio'\n",
    "        # define idade como atributo de instância\n",
    "        # (para cada um dos objetos desta classe)\n",
    "        self.idade = None\n"
   ]
  },
  {
   "cell_type": "markdown",
   "metadata": {},
   "source": [
    "<p>Toda classe Python possui campos especiais que podem ser acessados por meio de qualquer objeto:</p>\n",
    "<ul>\n",
    "    <li><tt>__name__</tt> : string que contém o nome da classe,</li>\n",
    "    <li><tt>__doc__</tt> : string que contém o comentário de documentação da classe.</li>\n",
    "</ul>"
   ]
  },
  {
   "cell_type": "code",
   "execution_count": null,
   "metadata": {},
   "outputs": [],
   "source": [
    "# Uso de campos especiais da classe\n",
    "print('Nome:', Papagaio.__name__, '\\nDoc-Comment:', Papagaio.__doc__)"
   ]
  },
  {
   "cell_type": "code",
   "execution_count": null,
   "metadata": {},
   "outputs": [],
   "source": [
    "# Instanciando um novo (objeto) Papagaio\n",
    "louro = Papagaio()"
   ]
  },
  {
   "cell_type": "markdown",
   "metadata": {},
   "source": [
    "### Atributos"
   ]
  },
  {
   "cell_type": "markdown",
   "metadata": {},
   "source": [
    "<p>Cada objeto criado possui as variáveis definidas pelo\n",
    "    construtor do objeto (seu método <tt>__init__()</tt>). São seus atributos ou campos.</p>"
   ]
  },
  {
   "cell_type": "code",
   "execution_count": null,
   "metadata": {},
   "outputs": [],
   "source": [
    "# Mostra conteúdo dos campos deste objeto\n",
    "print('nome:', louro.nome)\n",
    "print('idade:', louro.idade)"
   ]
  },
  {
   "cell_type": "code",
   "execution_count": null,
   "metadata": {},
   "outputs": [],
   "source": [
    "# Atribuindo valores para atributos/campos do objeto\n",
    "louro.nome = 'Louro'\n",
    "louro.idade = 3"
   ]
  },
  {
   "cell_type": "code",
   "execution_count": null,
   "metadata": {},
   "outputs": [],
   "source": [
    "# Mostra conteúdo dos campos deste objeto\n",
    "print('nome:', louro.nome)\n",
    "print('idade:', louro.idade)"
   ]
  },
  {
   "cell_type": "code",
   "execution_count": null,
   "metadata": {},
   "outputs": [],
   "source": [
    "# Um outro objeto pode possuir valores distintos\n",
    "godofredo = Papagaio();"
   ]
  },
  {
   "cell_type": "code",
   "execution_count": null,
   "metadata": {},
   "outputs": [],
   "source": [
    "# Modifica este objeto\n",
    "godofredo.nome = 'Godofredo'\n",
    "godofredo.idade = 1"
   ]
  },
  {
   "cell_type": "code",
   "execution_count": null,
   "metadata": {},
   "outputs": [],
   "source": [
    "# Mostra conteúdo dos campos deste objeto\n",
    "print('nome:', godofredo.nome)\n",
    "print('idade:', godofredo.idade)"
   ]
  },
  {
   "cell_type": "markdown",
   "metadata": {},
   "source": [
    "### Métodos"
   ]
  },
  {
   "cell_type": "markdown",
   "metadata": {},
   "source": [
    "Um método é uma função, declarada dentro da classe, com um nome distinto de seus campos, recebendo *obrigatoriamente* o parâmetro especial <tt>self</tt> e, opcionalmente, outros parâmetros, como qualquer função.\n",
    "\n",
    "Também podem retornar um valor, de qualquer tipo existente, como resultado de sua execução."
   ]
  },
  {
   "cell_type": "code",
   "execution_count": null,
   "metadata": {},
   "outputs": [],
   "source": [
    "class Papagaio:\n",
    "    '''Uma classe simples para entender OO.'''\n",
    "\n",
    "    def __init__(self):\n",
    "        '''Construtor, método especial que cria objeto desta classe.'''\n",
    "        print('Papagaio.__init__()')\n",
    "        # define nome como atributo de instância\n",
    "        # (para cada um dos objetos desta classe)\n",
    "        self.nome = 'Papagaio'\n",
    "        # define idade como atributo de instância\n",
    "        # (para cada um dos objetos desta classe)\n",
    "        self.idade = None\n",
    "        \n",
    "    def meu_nome(self):\n",
    "        '''Este método realiza uma ação (não tem retorno de valor).'''\n",
    "        print('Meu nome é', self.nome)\n",
    "\n",
    "    def minha_idade(self):\n",
    "        '''Este método efetua retorno de valor, a idade.'''\n",
    "        return self.idade\n",
    "\n",
    "    def fala(self, frase):\n",
    "        '''Este método usa um parâmetro para realizar sua ação.'''\n",
    "        for c in range(2):\n",
    "            print(self.nome, frase)        "
   ]
  },
  {
   "cell_type": "code",
   "execution_count": null,
   "metadata": {},
   "outputs": [],
   "source": [
    "# Instanciando um novo (objeto) Papagaio\n",
    "penacho = Papagaio()"
   ]
  },
  {
   "cell_type": "code",
   "execution_count": null,
   "metadata": {},
   "outputs": [],
   "source": [
    "# Atribuindo valores para atributos/campos do objeto\n",
    "penacho.nome = 'Penacho'\n",
    "penacho.idade = 3"
   ]
  },
  {
   "cell_type": "code",
   "execution_count": null,
   "metadata": {},
   "outputs": [],
   "source": [
    "# Acionamento de método sem retorno de valor\n",
    "penacho.meu_nome()"
   ]
  },
  {
   "cell_type": "code",
   "execution_count": null,
   "metadata": {},
   "outputs": [],
   "source": [
    "# Acionamento de método com retorno de valor\n",
    "penacho.minha_idade()"
   ]
  },
  {
   "cell_type": "code",
   "execution_count": null,
   "metadata": {},
   "outputs": [],
   "source": [
    "# Acionamento de método parametrizado\n",
    "penacho.fala('quer biscoito!')"
   ]
  },
  {
   "cell_type": "markdown",
   "metadata": {},
   "source": [
    "### FIM\n",
    "### <a href=\"http://github.com/pjandl/opy2\">Oficina Python Intermediário</a>"
   ]
  }
 ],
 "metadata": {
  "kernelspec": {
   "display_name": "Python 3",
   "language": "python",
   "name": "python3"
  },
  "language_info": {
   "codemirror_mode": {
    "name": "ipython",
    "version": 3
   },
   "file_extension": ".py",
   "mimetype": "text/x-python",
   "name": "python",
   "nbconvert_exporter": "python",
   "pygments_lexer": "ipython3",
   "version": "3.8.5"
  }
 },
 "nbformat": 4,
 "nbformat_minor": 4
}
