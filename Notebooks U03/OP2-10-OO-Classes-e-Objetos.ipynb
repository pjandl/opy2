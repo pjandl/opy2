{
 "cells": [
  {
   "cell_type": "markdown",
   "metadata": {},
   "source": [
    "<img src='op2-u03.png'/>\n",
    "<h2><font color='#7F0000'>OP2-09-OO-Classes-e-Objetos</font></h2>"
   ]
  },
  {
   "cell_type": "markdown",
   "metadata": {},
   "source": [
    "## Orientação a Objetos"
   ]
  },
  {
   "cell_type": "markdown",
   "metadata": {},
   "source": [
    "<p>A Programação Orientação a Objetos, conhecida também como Object Oriented Programming, é uma técnica de solução de problemas de programação dirigida para definição de entidades de combinam comportamentos e características dos objetos da vida real. É hoje a técnica predominante no meio profissional para o desenvolvimento de novos softwares.</p>\n",
    "<p>Python é uma linguagem de programação de alto nível, com tipagem dinâmica, que inclui suporte para orientação a objetos, pois oferece mecanismo para:</p>\n",
    "<ul>\n",
    "    <li>Definição de classes e criação de objetos;</li>\n",
    "    <li>Encapsulamento de propriedades e métodos;</li>\n",
    "    <li>Criação de classes por meio da herança;</li>\n",
    "    <li>Uso do polimorfismo para tratamento de objetos.</li>\n",
    "</ul>"
   ]
  },
  {
   "cell_type": "markdown",
   "metadata": {},
   "source": [
    "### Definição de classes"
   ]
  },
  {
   "cell_type": "markdown",
   "metadata": {},
   "source": [
    "<p>Uma classe permite representar um objeto, uma pessoa ou um animal,\n",
    "na verdade, qualquer coisa. Esta representação considera as características\n",
    "do objeto e seus comportamentos (ou funcionalidades).<br/>\n",
    "Desta maneira, uma classe é como uma estrutura que pode organizar vários dados,\n",
    "como numa lista, mas combinados com funções especiais que conferem um \n",
    "comportamento para a classe.</p>"
   ]
  },
  {
   "cell_type": "code",
   "execution_count": null,
   "metadata": {},
   "outputs": [],
   "source": [
    "# Definição de classe utiliza a palavra reservada class.\n",
    "# Dentro da classe podem existir:\n",
    "#-- métodos: funções que pertencem à classe;\n",
    "#-- atributos: variáveis de instância e de classe."
   ]
  },
  {
   "cell_type": "code",
   "execution_count": 2,
   "metadata": {},
   "outputs": [],
   "source": [
    "class Papagaio:\n",
    "    '''Uma classe simples para entender OO.'''\n",
    "\n",
    "    def __init__(self):\n",
    "        '''Construtor, método especial que cria objeto desta classe.'''\n",
    "        # define nome como atributo de instância (para cada um dos objetos desta classe)\n",
    "        self.nome = 'Papagaio'"
   ]
  },
  {
   "cell_type": "markdown",
   "metadata": {},
   "source": [
    "### Instanciação"
   ]
  },
  {
   "cell_type": "code",
   "execution_count": 12,
   "metadata": {},
   "outputs": [],
   "source": [
    "# Instanciação é a operação de criação de um objeto, que se assemelha a \n",
    "# chamada de uma função com o nome da classe cujo objeto desejamos criar.\n",
    "louro = Papagaio()\n",
    "# Aqui, louro é o nome que usaremos para acessar o objeto de tipo Papagaio\n",
    "# que foi criado."
   ]
  },
  {
   "cell_type": "code",
   "execution_count": 7,
   "metadata": {},
   "outputs": [
    {
     "data": {
      "text/plain": [
       "'Papagaio'"
      ]
     },
     "execution_count": 7,
     "metadata": {},
     "output_type": "execute_result"
    }
   ],
   "source": [
    "# Cada objeto do tipo Papagaio possui o atributo nome que foi definido \n",
    "# em sua classe.\n",
    "louro.nome"
   ]
  },
  {
   "cell_type": "code",
   "execution_count": 8,
   "metadata": {},
   "outputs": [
    {
     "name": "stdout",
     "output_type": "stream",
     "text": [
      "Papagaio\n"
     ]
    }
   ],
   "source": [
    "# Atributos/campos do objeto podem ser usado como variáveis comuns,\n",
    "# mas associadas ao objeto ao qual pertencem.\n",
    "print(louro.nome)"
   ]
  },
  {
   "cell_type": "code",
   "execution_count": 10,
   "metadata": {},
   "outputs": [
    {
     "name": "stdout",
     "output_type": "stream",
     "text": [
      "Louro\n"
     ]
    }
   ],
   "source": [
    "# Atributos/campos podem ser modificados\n",
    "louro.nome = 'Louro'\n",
    "print(louro.nome)"
   ]
  },
  {
   "cell_type": "code",
   "execution_count": 11,
   "metadata": {},
   "outputs": [],
   "source": [
    "# Outros objetos (tantos quantos necessários) podem ser criados\n",
    "penacho = Papagaio();\n",
    "penacho.nome = 'Penacho'\n",
    "# Como Python é sensível ao caixa, isto é possível (e útil para dar clareza)\n",
    "papagaio = Papagaio();\n",
    "papagaio.nome = 'Godofredo'"
   ]
  },
  {
   "cell_type": "code",
   "execution_count": 14,
   "metadata": {},
   "outputs": [
    {
     "data": {
      "text/plain": [
       "<__main__.Papagaio at 0x7faf56d0b8b0>"
      ]
     },
     "execution_count": 14,
     "metadata": {},
     "output_type": "execute_result"
    }
   ],
   "source": [
    "# Cada objeto ocupa um lugar distinto na memória\n",
    "louro"
   ]
  },
  {
   "cell_type": "code",
   "execution_count": 15,
   "metadata": {},
   "outputs": [
    {
     "data": {
      "text/plain": [
       "<__main__.Papagaio at 0x7faf56d0b040>"
      ]
     },
     "execution_count": 15,
     "metadata": {},
     "output_type": "execute_result"
    }
   ],
   "source": [
    "penacho"
   ]
  },
  {
   "cell_type": "code",
   "execution_count": 16,
   "metadata": {},
   "outputs": [
    {
     "data": {
      "text/plain": [
       "<__main__.Papagaio at 0x7faf56d0b3a0>"
      ]
     },
     "execution_count": 16,
     "metadata": {},
     "output_type": "execute_result"
    }
   ],
   "source": [
    "papagaio"
   ]
  },
  {
   "cell_type": "code",
   "execution_count": 17,
   "metadata": {},
   "outputs": [
    {
     "name": "stdout",
     "output_type": "stream",
     "text": [
      "louro == penacho? False\n",
      "louro == papagaio? False\n",
      "papagaio == penacho? False\n"
     ]
    }
   ],
   "source": [
    "# Então são considerados distintos\n",
    "print('louro == penacho?', louro == penacho)\n",
    "print('louro == papagaio?', louro == papagaio)\n",
    "print('papagaio == penacho?', papagaio == penacho)"
   ]
  },
  {
   "cell_type": "code",
   "execution_count": 18,
   "metadata": {},
   "outputs": [
    {
     "name": "stdout",
     "output_type": "stream",
     "text": [
      "louro == outroLouro? True\n"
     ]
    }
   ],
   "source": [
    "# Um objeto pode ser atribuído à outra variável\n",
    "outroLouro = louro\n",
    "# Com isso, duas variáveis fazem referência ao mesmo objeto\n",
    "print('louro == outroLouro?', louro == outroLouro)"
   ]
  },
  {
   "cell_type": "markdown",
   "metadata": {},
   "source": [
    "### Construtores"
   ]
  },
  {
   "cell_type": "code",
   "execution_count": null,
   "metadata": {},
   "outputs": [],
   "source": [
    "# Um construtor é uma função especial, declarada dentro da classe, com\n",
    "# o nome __init__ e recebendo um parâmetro especial self"
   ]
  },
  {
   "cell_type": "code",
   "execution_count": 19,
   "metadata": {},
   "outputs": [],
   "source": [
    "class Papagaio:\n",
    "    '''Uma classe simples para entender OO.'''\n",
    "\n",
    "    def __init__(self):\n",
    "        '''Construtor, método especial que cria objeto desta classe.'''\n",
    "        # define nome como atributo de instância (para cada um dos objetos desta classe)\n",
    "        self.nome = 'Papagaio'\n",
    "        # define idade como atributo de instância (para cada um dos objetos desta classe)\n",
    "        self.idade = None\n",
    "        print('Papagaio criado por __init__()')"
   ]
  },
  {
   "cell_type": "code",
   "execution_count": 23,
   "metadata": {},
   "outputs": [
    {
     "name": "stdout",
     "output_type": "stream",
     "text": [
      "Papagaio : Uma classe simples para entender OO.\n"
     ]
    }
   ],
   "source": [
    "# Uso de campos especiais da classe\n",
    "print(Papagaio.__name__, ':', Papagaio.__doc__)"
   ]
  },
  {
   "cell_type": "code",
   "execution_count": 20,
   "metadata": {},
   "outputs": [
    {
     "name": "stdout",
     "output_type": "stream",
     "text": [
      "Papagaio criado por __init__()\n"
     ]
    }
   ],
   "source": [
    "# Instanciando um novo (objeto) Papagaio\n",
    "louro = Papagaio()"
   ]
  },
  {
   "cell_type": "markdown",
   "metadata": {},
   "source": [
    "### Atributos"
   ]
  },
  {
   "cell_type": "code",
   "execution_count": null,
   "metadata": {},
   "outputs": [],
   "source": [
    "# Cada objeto criado possui as variáveis definidas pelo\n",
    "# construtor do objeto. São seus atributos ou campos."
   ]
  },
  {
   "cell_type": "code",
   "execution_count": 24,
   "metadata": {},
   "outputs": [
    {
     "name": "stdout",
     "output_type": "stream",
     "text": [
      "nome: Papagaio\n",
      "idade: None\n"
     ]
    }
   ],
   "source": [
    "# Mostra conteúdo dos campos deste objeto\n",
    "print('nome:', louro.nome)\n",
    "print('idade:', louro.idade)"
   ]
  },
  {
   "cell_type": "code",
   "execution_count": 25,
   "metadata": {},
   "outputs": [],
   "source": [
    "# Atribuindo valores para atributos/campos do objeto\n",
    "louro.nome = 'Louro'\n",
    "louro.idade = 3"
   ]
  },
  {
   "cell_type": "code",
   "execution_count": 26,
   "metadata": {},
   "outputs": [
    {
     "name": "stdout",
     "output_type": "stream",
     "text": [
      "nome: Louro\n",
      "idade: 3\n"
     ]
    }
   ],
   "source": [
    "# Mostra conteúdo dos campos deste objeto\n",
    "print('nome:', louro.nome)\n",
    "print('idade:', louro.idade)"
   ]
  },
  {
   "cell_type": "code",
   "execution_count": 39,
   "metadata": {},
   "outputs": [
    {
     "name": "stdout",
     "output_type": "stream",
     "text": [
      "Papagaio criado por __init__()\n"
     ]
    }
   ],
   "source": [
    "# Um outro objeto pode possuir valores distintos\n",
    "godofredo = Papagaio();"
   ]
  },
  {
   "cell_type": "code",
   "execution_count": 40,
   "metadata": {},
   "outputs": [],
   "source": [
    "# Modifica este objeto\n",
    "godofredo.nome = 'Godofredo'\n",
    "godofredo.idade = 1"
   ]
  },
  {
   "cell_type": "code",
   "execution_count": 41,
   "metadata": {},
   "outputs": [
    {
     "name": "stdout",
     "output_type": "stream",
     "text": [
      "nome: Godofredo\n",
      "idade: 1\n"
     ]
    }
   ],
   "source": [
    "# Mostra conteúdo dos campos deste objeto\n",
    "print('nome:', godofredo.nome)\n",
    "print('idade:', godofredo.idade)"
   ]
  },
  {
   "cell_type": "markdown",
   "metadata": {},
   "source": [
    "### Métodos"
   ]
  },
  {
   "cell_type": "code",
   "execution_count": 27,
   "metadata": {},
   "outputs": [],
   "source": [
    "# Um método é uma função, declarada dentro da classe, com um nome\n",
    "# distinto de seus campos, recebendo o parâmetro especial self e,\n",
    "# opcionalmente outros parâmetros. Também podem retornar um valor,\n",
    "# como resultado de sua execução."
   ]
  },
  {
   "cell_type": "code",
   "execution_count": 28,
   "metadata": {},
   "outputs": [],
   "source": [
    "class Papagaio:\n",
    "    '''Uma classe simples para entender OO.'''\n",
    "\n",
    "    def __init__(self):\n",
    "        '''Construtor, método especial que cria objeto desta classe.'''\n",
    "        # define nome como atributo de instância (para cada um dos objetos desta classe)\n",
    "        self.nome = 'Papagaio'\n",
    "        # define idade como atributo de instância (para cada um dos objetos desta classe)\n",
    "        self.idade = None\n",
    "        print('Papagaio criado por __init__()')\n",
    "        \n",
    "    def meu_nome(self):\n",
    "        '''Este método realiza uma ação (não tem retorno de valor).'''\n",
    "        print('Meu nome é', self.nome)\n",
    "\n",
    "    def minha_idade(self):\n",
    "        '''Este método efetua retorno de valor, a idade.'''\n",
    "        return self.idade\n",
    "\n",
    "    def fala(self, frase):\n",
    "        '''Este método usa um parâmetro para realizar sua ação.'''\n",
    "        for c in range(2):\n",
    "            print(self.nome, frase)        "
   ]
  },
  {
   "cell_type": "code",
   "execution_count": 29,
   "metadata": {},
   "outputs": [
    {
     "name": "stdout",
     "output_type": "stream",
     "text": [
      "Papagaio criado por __init__()\n"
     ]
    }
   ],
   "source": [
    "# Instanciando um novo (objeto) Papagaio\n",
    "penacho = Papagaio()"
   ]
  },
  {
   "cell_type": "code",
   "execution_count": 35,
   "metadata": {},
   "outputs": [],
   "source": [
    "# Atribuindo valores para atributos/campos do objeto\n",
    "penacho.nome = 'Penacho'\n",
    "penacho.idade = 3"
   ]
  },
  {
   "cell_type": "code",
   "execution_count": 36,
   "metadata": {},
   "outputs": [
    {
     "name": "stdout",
     "output_type": "stream",
     "text": [
      "Meu nome é Penacho\n"
     ]
    }
   ],
   "source": [
    "# Acionamento de método sem retorno de valor\n",
    "penacho.meu_nome()"
   ]
  },
  {
   "cell_type": "code",
   "execution_count": 37,
   "metadata": {},
   "outputs": [
    {
     "data": {
      "text/plain": [
       "3"
      ]
     },
     "execution_count": 37,
     "metadata": {},
     "output_type": "execute_result"
    }
   ],
   "source": [
    "# Acionamento de método com retorno de valor\n",
    "penacho.minha_idade()"
   ]
  },
  {
   "cell_type": "code",
   "execution_count": 38,
   "metadata": {},
   "outputs": [
    {
     "name": "stdout",
     "output_type": "stream",
     "text": [
      "Penacho quer biscoito!\n",
      "Penacho quer biscoito!\n"
     ]
    }
   ],
   "source": [
    "# Acionamento de método parametrizado\n",
    "penacho.fala('quer biscoito!')"
   ]
  },
  {
   "cell_type": "markdown",
   "metadata": {},
   "source": [
    "### FIM\n",
    "### <a href=\"http://github.com/pjandl/opy2\">Oficina Python Intermediário</a>"
   ]
  }
 ],
 "metadata": {
  "kernelspec": {
   "display_name": "Python 3",
   "language": "python",
   "name": "python3"
  },
  "language_info": {
   "codemirror_mode": {
    "name": "ipython",
    "version": 3
   },
   "file_extension": ".py",
   "mimetype": "text/x-python",
   "name": "python",
   "nbconvert_exporter": "python",
   "pygments_lexer": "ipython3",
   "version": "3.8.5"
  }
 },
 "nbformat": 4,
 "nbformat_minor": 4
}
