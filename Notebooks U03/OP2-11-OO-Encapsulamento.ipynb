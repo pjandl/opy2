{
 "cells": [
  {
   "cell_type": "markdown",
   "metadata": {},
   "source": [
    "<img src='op2-u03.png'/>\n",
    "<h2><font color='#7F0000'>OP2-11-Encapsulamento</font></h2>"
   ]
  },
  {
   "cell_type": "markdown",
   "metadata": {},
   "source": [
    "## Classes e membros"
   ]
  },
  {
   "cell_type": "markdown",
   "metadata": {},
   "source": [
    "<p>Uma classe é como o desenho, no sentido de projeto, de uma entidade da vida real, ou seja, um esquema/desenho para representar qualquer tipo de coisa, como produtos e veículos (concretos), pedidos e contas (virtuais), ou mesmo pessoas, clientes, alunos (atores de um sistema).</p>\n",
    "<p>Uma classe possui vários elementos:</p>\n",
    "<ul>\n",
    "    <li>atributos,<br/>que descrevem características ou estados dos objetos;</li>\n",
    "    <li>métodos,<br/>que possibilitam a realização de tarefas ou operações, e</li>\n",
    "    <li>construtores,<br/>que preparam a criação de objetos.</li>\n",
    "</ul>\n",
    "<p>No Python usamos a palavra-chave <tt>class</tt> para definir uma classe, dentro da qual declaramos os atributos, métodos e construtores necessários.<p>"
   ]
  },
  {
   "cell_type": "markdown",
   "metadata": {},
   "source": [
    "### Definição de classes"
   ]
  },
  {
   "cell_type": "markdown",
   "metadata": {},
   "source": [
    "É bastante comum a necessidade de marcar pontos, em um desenho mecânico, uma planta ou em um mapa, para estabelecer a localização de elementos específicos como furações, tubulações ou cidades. Pontos podem ser representados em planos por meio de coordenadas x e y.\n",
    "A classe que segue representa um ponto em um plano cartesiano (R<sup>2</sup>)."
   ]
  },
  {
   "cell_type": "code",
   "execution_count": 14,
   "metadata": {},
   "outputs": [],
   "source": [
    "import math\n",
    "\n",
    "class Ponto:\n",
    "    '''Representação de um ponto em um plano cartesiano.'''\n",
    "\n",
    "    def __init__(self, x = 0, y = 0):\n",
    "        '''Construtor, com parâmetros opcionais, que cria objeto desta classe.'''\n",
    "        # move o ponto para x, y\n",
    "        self.transladar(x, y)\n",
    "        print('(',x,',',y,')', sep='')\n",
    "        \n",
    "    def distancia(self, x, y):\n",
    "        '''Calcula a distância do ponto até coordenada indicada.'''\n",
    "        return math.sqrt(math.pow(self.x - x, 2) + math.pow(self.y - y, 2))\n",
    "    \n",
    "    def transladar(self, x, y):\n",
    "        # define abcissa x\n",
    "        self.x = x\n",
    "        # define ordenada y\n",
    "        self.y = y        "
   ]
  },
  {
   "cell_type": "code",
   "execution_count": 15,
   "metadata": {},
   "outputs": [
    {
     "name": "stdout",
     "output_type": "stream",
     "text": [
      "(1,2)\n",
      "(3,4)\n"
     ]
    }
   ],
   "source": [
    "p1 = Ponto(1, 2)\n",
    "p2 = Ponto(3, 4)"
   ]
  },
  {
   "cell_type": "code",
   "execution_count": 16,
   "metadata": {},
   "outputs": [
    {
     "name": "stdout",
     "output_type": "stream",
     "text": [
      "2.8284271247461903\n",
      "2.8284271247461903\n"
     ]
    }
   ],
   "source": [
    "print(p1.distancia(p2.x, p2.y))\n",
    "print(p2.distancia(p1.x, p1.y))"
   ]
  },
  {
   "cell_type": "markdown",
   "metadata": {},
   "source": [
    "<h4>Considerações adicionais:</h4>\n",
    "<ul>\n",
    "    <li>?</li>\n",
    "</ul>"
   ]
  },
  {
   "cell_type": "markdown",
   "metadata": {},
   "source": [
    "## ?"
   ]
  },
  {
   "cell_type": "code",
   "execution_count": 12,
   "metadata": {},
   "outputs": [],
   "source": [
    "# \n",
    "# \n",
    "# \n",
    "# "
   ]
  },
  {
   "cell_type": "code",
   "execution_count": 13,
   "metadata": {},
   "outputs": [],
   "source": []
  },
  {
   "cell_type": "markdown",
   "metadata": {},
   "source": [
    "### FIM\n",
    "### <a href=\"http://github.com/pjandl/opy2\">Oficina Python Intermediário</a>"
   ]
  }
 ],
 "metadata": {
  "kernelspec": {
   "display_name": "Python 3",
   "language": "python",
   "name": "python3"
  },
  "language_info": {
   "codemirror_mode": {
    "name": "ipython",
    "version": 3
   },
   "file_extension": ".py",
   "mimetype": "text/x-python",
   "name": "python",
   "nbconvert_exporter": "python",
   "pygments_lexer": "ipython3",
   "version": "3.8.5"
  }
 },
 "nbformat": 4,
 "nbformat_minor": 4
}
