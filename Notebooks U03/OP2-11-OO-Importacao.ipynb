{
 "cells": [
  {
   "cell_type": "markdown",
   "metadata": {},
   "source": [
    "<img src='op2-u03.png'/>\n",
    "<h2><font color='#7F0000'>OP2-OO-11-Importação</font></h2>"
   ]
  },
  {
   "cell_type": "markdown",
   "metadata": {},
   "source": [
    "<table width='100%'>\n",
    "    <tbody>\n",
    "        <tr>\n",
    "            <td width='33%' style='text-align: left; background-color: #DDDDDD; vertical-align: top;'>Notebook Anterior<br><a href=\"OP2-10-OO-Classes-e-Objetos.ipynb\">OP2-10-OO-Classes-e-Objetos</a></td>\n",
    "            <td width='34%' style='text-align: left; background-color: #DDDDDD; vertical-align: top;'>&nbsp;<br/>\n",
    "            </td>\n",
    "            <td width='33%'style='text-align: left; background-color: #DDDDDD; vertical-align: top;'>Próximo Notebook<br/><a href=\"OP2-12-OO-Encapsulamento.ipynb\">OP2-12-OO-Encapsulamento</a></td>\n",
    "        </tr>\n",
    "    </tbody>\n",
    "</table>"
   ]
  },
  {
   "cell_type": "markdown",
   "metadata": {},
   "source": [
    "## Definição de classes"
   ]
  },
  {
   "cell_type": "markdown",
   "metadata": {},
   "source": [
    "<p>Considere a definição de uma classe <b>Papagaio</b>, em um arquivo <tt>Papagaio.py</tt>. O nome do arquivo que contém a classe é arbitrário, ou seja, poderia ser qualquer outro, além disso, um mesmo arquivo pode conter várias classes, funções e outras declarações válidas.</p>"
   ]
  },
  {
   "cell_type": "code",
   "execution_count": null,
   "metadata": {},
   "outputs": [],
   "source": [
    "# Classe Papagaio, definida no arquivo 'Papagaio.py'\n",
    "class Papagaio:\n",
    "    '''Uma classe simples para entender OO.'''\n",
    "\n",
    "    def __init__(self):\n",
    "        '''Construtor, método especial que cria objeto desta classe.'''\n",
    "        # define nome como atributo de instância\n",
    "        # (para cada um dos objetos desta classe)\n",
    "        self.nome = 'Papagaio'\n",
    "        # define idade como atributo de instância\n",
    "        # (para cada um dos objetos desta classe)\n",
    "        self.idade = None\n",
    "        print('Papagaio criado por __init__()')\n",
    "        \n",
    "    def meu_nome(self):\n",
    "        '''Este método realiza uma ação (não tem retorno de valor).'''\n",
    "        print('Meu nome é', self.nome)\n",
    "\n",
    "    def minha_idade(self):\n",
    "        '''Este método efetua retorno de valor, a idade.'''\n",
    "        return self.idade\n",
    "\n",
    "    def fala(self, frase):\n",
    "        '''Este método usa um parâmetro para realizar sua ação.'''\n",
    "        for c in range(2):\n",
    "            print(self.nome, frase)\n"
   ]
  },
  {
   "cell_type": "markdown",
   "metadata": {},
   "source": [
    "## Importação de classes"
   ]
  },
  {
   "cell_type": "markdown",
   "metadata": {},
   "source": [
    "<p> A diretiva <tt>import</tt> permite incluir as definições de um módulo (um arquivo Python) em um programa. Os módulos que serão importados devem ser localizados:</p>\n",
    "<ul>\n",
    "    <li>no mesmo diretório (onde está o módulo/arquivo importador); ou</li>\n",
    "    <li>num dos diretórios listados na variável de ambiente <tt>PYTHONPATH</tt>.</li>\n",
    "</ul>"
   ]
  },
  {
   "cell_type": "code",
   "execution_count": null,
   "metadata": {},
   "outputs": [],
   "source": [
    "# Requerido APENAS para Jupyter Notebook\n",
    "import os\n",
    "import sys\n",
    "sys.path.insert(0, os.path.abspath('../U03'))"
   ]
  },
  {
   "cell_type": "markdown",
   "metadata": {},
   "source": [
    "<p>A lista <tt>sys.path</tt> contém a relação dos diretórios pesquisados para importação de módulos.</p>"
   ]
  },
  {
   "cell_type": "code",
   "execution_count": null,
   "metadata": {},
   "outputs": [],
   "source": [
    "# A entrada [0] corresponde ao último diretório adicionado.\n",
    "sys.path[0]"
   ]
  },
  {
   "cell_type": "markdown",
   "metadata": {},
   "source": [
    "<p>A diretiva <tt>import</tt> permite incluir as definições de um módulo ou pacote (um arquivo Python) em um programa.</p>"
   ]
  },
  {
   "cell_type": "code",
   "execution_count": null,
   "metadata": {},
   "outputs": [],
   "source": [
    "# Importação do modulo Papagaio (arquivo 'Papagaio.py')\n",
    "import Papagaio"
   ]
  },
  {
   "cell_type": "markdown",
   "metadata": {},
   "source": [
    "<p>O dicionário <tt>sys.modules</tt> contém todos os módulos disponíveis (importados implicitamente pela configuração do ambiente e explicitamente pelo programa).</p>\n",
    "<p>O nome do módulo pode ser usado como chave deste dicionário para recuperar a entrada correspondente.</p>"
   ]
  },
  {
   "cell_type": "code",
   "execution_count": null,
   "metadata": {},
   "outputs": [],
   "source": [
    "sys.modules['Papagaio']"
   ]
  },
  {
   "cell_type": "markdown",
   "metadata": {},
   "source": [
    "<p>Funções, variáveis e classes definidas em um módulo se tornam disponíveis após sua importação, mas seu uso requer sua qualificação, isto é, a indicação do módulo de origem com uso do operador seletor <tt>.</tt> (ponto).</p>"
   ]
  },
  {
   "cell_type": "code",
   "execution_count": null,
   "metadata": {},
   "outputs": [],
   "source": [
    "# Instanciação de objeto com classe 'Papagaio'\n",
    "# importada do módulo 'Papagaio'\n",
    "papagaio = Papagaio.Papagaio()"
   ]
  },
  {
   "cell_type": "markdown",
   "metadata": {},
   "source": [
    "<p>A qualificação completa dos elementos importados diretamente nem sempre é conveniente. O Python permite a indicação de um <i>alias</i> (nome alternativo) para simplificar o uso dos elementos importados com uso da palavra reservada <tt>as</tt>.</p>"
   ]
  },
  {
   "cell_type": "code",
   "execution_count": null,
   "metadata": {},
   "outputs": [],
   "source": [
    "# Módulo Papagaio importado sob o apelido ppg\n",
    "import Papagaio as ppg"
   ]
  },
  {
   "cell_type": "code",
   "execution_count": null,
   "metadata": {},
   "outputs": [],
   "source": [
    "# Uso simplificado dos elementos importados\n",
    "papagaio = ppg.Papagaio()"
   ]
  },
  {
   "cell_type": "markdown",
   "metadata": {},
   "source": [
    "## Explorando classes"
   ]
  },
  {
   "cell_type": "markdown",
   "metadata": {},
   "source": [
    "<p>A função <i>built-in</i> <tt>dir</tt> permite retornar uma lista contendo todos os membros, ou seja, atributos e métodos, de qualquer objeto.</p>"
   ]
  },
  {
   "cell_type": "code",
   "execution_count": null,
   "metadata": {},
   "outputs": [],
   "source": [
    "# Armazena lista de membros do objeto papagaio\n",
    "membros = dir(papagaio)\n",
    "# Fatiamento permite exibir as cinco últimas entradas\n",
    "membros[len(membros)-5:len(membros)]"
   ]
  },
  {
   "cell_type": "markdown",
   "metadata": {},
   "source": [
    "<p>A função <i>built-in</i> <tt>__getattribute__()</tt> permite recuperar o tipo de uma membro do objeto cujo nome é suprido como parâmetro.</p>"
   ]
  },
  {
   "cell_type": "code",
   "execution_count": null,
   "metadata": {},
   "outputs": [],
   "source": [
    "for m in membros[len(membros)-5:len(membros)]:\n",
    "    print('Papagaio.{0} --> {1}'.format(m, type(papagaio.__getattribute__(m))))"
   ]
  },
  {
   "cell_type": "markdown",
   "metadata": {},
   "source": [
    "## Usando classes importadas"
   ]
  },
  {
   "cell_type": "markdown",
   "metadata": {},
   "source": [
    "<p>O mecanismo de importação é muito conveniente e extensivamente utilizado no desenvolvimento de aplicações Python, pois permite o reuso, facilita a manutenção, encapula detalhes e melhora a legibilidade do código.</p>"
   ]
  },
  {
   "cell_type": "code",
   "execution_count": null,
   "metadata": {},
   "outputs": [],
   "source": [
    "# Instancia objeto Papagaio. Observe o alias do módulo importado.\n",
    "umPapagaio = ppg.Papagaio()"
   ]
  },
  {
   "cell_type": "code",
   "execution_count": null,
   "metadata": {},
   "outputs": [],
   "source": [
    "# Obtém e imprime atributo do objeto\n",
    "print('umPapagaio.nome:', umPapagaio.nome)"
   ]
  },
  {
   "cell_type": "code",
   "execution_count": null,
   "metadata": {},
   "outputs": [],
   "source": [
    "# Altera nome\n",
    "umPapagaio.nome = 'Heraldo'"
   ]
  },
  {
   "cell_type": "code",
   "execution_count": null,
   "metadata": {},
   "outputs": [],
   "source": [
    "# Obtém e imprime atributo do objeto\n",
    "print('umPapagaio.nome:', umPapagaio.nome)"
   ]
  },
  {
   "cell_type": "code",
   "execution_count": null,
   "metadata": {},
   "outputs": [],
   "source": [
    "# Usa métodos\n",
    "umPapagaio.meu_nome()\n",
    "umPapagaio.minha_idade()\n",
    "umPapagaio.fala('tá se achando!')"
   ]
  },
  {
   "cell_type": "markdown",
   "metadata": {},
   "source": [
    "### FIM\n",
    "### <a href=\"http://github.com/pjandl/opy2\">Oficina Python Intermediário</a>"
   ]
  }
 ],
 "metadata": {
  "kernelspec": {
   "display_name": "Python 3",
   "language": "python",
   "name": "python3"
  },
  "language_info": {
   "codemirror_mode": {
    "name": "ipython",
    "version": 3
   },
   "file_extension": ".py",
   "mimetype": "text/x-python",
   "name": "python",
   "nbconvert_exporter": "python",
   "pygments_lexer": "ipython3",
   "version": "3.8.5"
  }
 },
 "nbformat": 4,
 "nbformat_minor": 4
}
