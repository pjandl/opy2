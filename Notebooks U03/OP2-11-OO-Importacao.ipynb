{
 "cells": [
  {
   "cell_type": "markdown",
   "metadata": {},
   "source": [
    "<img src='op2-u03.png'/>\n",
    "<h2><font color='#7F0000'>OP2-OO-11-Importação</font></h2>"
   ]
  },
  {
   "cell_type": "markdown",
   "metadata": {},
   "source": [
    "## Definição de classes"
   ]
  },
  {
   "cell_type": "markdown",
   "metadata": {},
   "source": [
    "<p>Considere a definição de uma classe <b>Papagaio</b>, em um arquivo <tt>Papagaio.py</tt>. O nome do arquivo que contém a classe é arbitrário, ou seja, poderia ser qualquer outro, além disso, um mesmo arquivo pode conter várias classes, funções e outras declarações válidas.</p>"
   ]
  },
  {
   "cell_type": "code",
   "execution_count": null,
   "metadata": {},
   "outputs": [],
   "source": [
    "# Classe Papagaio, definida no arquivo 'Papagaio.py'\n",
    "class Papagaio:\n",
    "    '''Uma classe simples para entender OO.'''\n",
    "\n",
    "    def __init__(self):\n",
    "        '''Construtor, método especial que cria objeto desta classe.'''\n",
    "        # define nome como atributo de instância (para cada um dos objetos desta classe)\n",
    "        self.nome = 'Papagaio'\n",
    "        # define idade como atributo de instância (para cada um dos objetos desta classe)\n",
    "        self.idade = None\n",
    "        print('Papagaio criado por __init__()')\n",
    "        \n",
    "    def meu_nome(self):\n",
    "        '''Este método realiza uma ação (não tem retorno de valor).'''\n",
    "        print('Meu nome é', self.nome)\n",
    "\n",
    "    def minha_idade(self):\n",
    "        '''Este método efetua retorno de valor, a idade.'''\n",
    "        return self.idade\n",
    "\n",
    "    def fala(self, frase):\n",
    "        '''Este método usa um parâmetro para realizar sua ação.'''\n",
    "        for c in range(2):\n",
    "            print(self.nome, frase)\n"
   ]
  },
  {
   "cell_type": "markdown",
   "metadata": {},
   "source": [
    "## Importação de classes"
   ]
  },
  {
   "cell_type": "markdown",
   "metadata": {},
   "source": [
    "<p> A diretiva <i>import</i> permite incluir as definições de um módulo (um arquivo Python) em um programa. Os módulos que serão importados devem ser localizados:</p>\n",
    "<ul>\n",
    "    <li>no mesmo diretório (onde está o módulo/arquivo importador); ou</li>\n",
    "    <li>num dos diretórios listados na variável de ambiente <tt>PYTHONPATH</tt>.</li>\n",
    "</ul>"
   ]
  },
  {
   "cell_type": "code",
   "execution_count": null,
   "metadata": {},
   "outputs": [],
   "source": [
    "# Requerido APENAS para Jupyter Notebook\n",
    "import os\n",
    "import sys\n",
    "sys.path.insert(0, os.path.abspath('../U03'))"
   ]
  },
  {
   "cell_type": "code",
   "execution_count": null,
   "metadata": {},
   "outputs": [],
   "source": [
    "# A lista sys.path contém a relação dos diretórios pesquisados para importação\n",
    "# de módulos.\n",
    "# A entrada [0] corresponde ao último diretório adicionado.\n",
    "sys.path[0]"
   ]
  },
  {
   "cell_type": "code",
   "execution_count": null,
   "metadata": {},
   "outputs": [],
   "source": [
    "# A diretiva import permite incluir as definições de um módulo (um arquivo Python) em um programa\n",
    "import Papagaio"
   ]
  },
  {
   "cell_type": "code",
   "execution_count": null,
   "metadata": {},
   "outputs": [],
   "source": [
    "# O dicionário sys.modules contém todos os módulos disponíveis (importados implicitamente \n",
    "# pela configuração do ambiente e explicitamente pelo programa).\n",
    "# O nome do módulo pode ser usado como chave deste dicionário para recuperar a entrada \n",
    "# correspondente.\n",
    "sys.modules['Papagaio']"
   ]
  },
  {
   "cell_type": "code",
   "execution_count": null,
   "metadata": {},
   "outputs": [],
   "source": [
    "import Papagaio as ppg"
   ]
  },
  {
   "cell_type": "code",
   "execution_count": null,
   "metadata": {},
   "outputs": [],
   "source": [
    "papagaio = ppg.Papagaio()"
   ]
  },
  {
   "cell_type": "markdown",
   "metadata": {},
   "source": [
    "## Explorando classes"
   ]
  },
  {
   "cell_type": "code",
   "execution_count": null,
   "metadata": {},
   "outputs": [],
   "source": [
    "# A função built-in dir permite listar os membros, ou seja, atributos e métodos, de qualquer objeto.\n",
    "membros = dir(papagaio)\n",
    "# Fatiamento permite exibir as cinco últimas entradas\n",
    "membros[len(membros)-5:len(membros)]"
   ]
  },
  {
   "cell_type": "code",
   "execution_count": null,
   "metadata": {},
   "outputs": [],
   "source": [
    "for m in membros[len(membros)-5:len(membros)]:\n",
    "    print('Papagaio.{0} --> {1}'.format(m, type(papagaio.__getattribute__(m))))"
   ]
  },
  {
   "cell_type": "markdown",
   "metadata": {},
   "source": [
    "## Usando classes importadas"
   ]
  },
  {
   "cell_type": "code",
   "execution_count": null,
   "metadata": {},
   "outputs": [],
   "source": [
    "# Instancia objeto Papagaio. Observe o alias do módulo importado.\n",
    "umPapagaio = ppg.Papagaio()"
   ]
  },
  {
   "cell_type": "code",
   "execution_count": null,
   "metadata": {},
   "outputs": [],
   "source": [
    "# Obtém e imprime atributo do objeto\n",
    "print('umPapagaio.nome:', umPapagaio.nome)"
   ]
  },
  {
   "cell_type": "code",
   "execution_count": null,
   "metadata": {},
   "outputs": [],
   "source": [
    "# Altera nome\n",
    "umPapagaio.nome = 'Heraldo'"
   ]
  },
  {
   "cell_type": "code",
   "execution_count": null,
   "metadata": {},
   "outputs": [],
   "source": [
    "# Obtém e imprime atributo do objeto\n",
    "print('umPapagaio.nome:', umPapagaio.nome)"
   ]
  },
  {
   "cell_type": "code",
   "execution_count": null,
   "metadata": {},
   "outputs": [],
   "source": [
    "# Usa métodos\n",
    "umPapagaio.meu_nome()\n",
    "umPapagaio.minha_idade()\n",
    "umPapagaio.fala('tá se achando!')"
   ]
  },
  {
   "cell_type": "markdown",
   "metadata": {},
   "source": [
    "### FIM\n",
    "### <a href=\"http://github.com/pjandl/opy2\">Oficina Python Intermediário</a>"
   ]
  }
 ],
 "metadata": {
  "kernelspec": {
   "display_name": "Python 3",
   "language": "python",
   "name": "python3"
  },
  "language_info": {
   "codemirror_mode": {
    "name": "ipython",
    "version": 3
   },
   "file_extension": ".py",
   "mimetype": "text/x-python",
   "name": "python",
   "nbconvert_exporter": "python",
   "pygments_lexer": "ipython3",
   "version": "3.8.5"
  }
 },
 "nbformat": 4,
 "nbformat_minor": 4
}
