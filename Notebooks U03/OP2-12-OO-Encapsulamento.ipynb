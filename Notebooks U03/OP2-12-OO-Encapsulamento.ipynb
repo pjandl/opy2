{
 "cells": [
  {
   "cell_type": "markdown",
   "metadata": {},
   "source": [
    "<img src='op2-u03.png'/>\n",
    "<h2><font color='#7F0000'>OP2-12-OO-Encapsulamento</font></h2>"
   ]
  },
  {
   "cell_type": "markdown",
   "metadata": {},
   "source": [
    "<table width='100%'>\n",
    "    <tbody>\n",
    "        <tr>\n",
    "            <td width='33%' style='text-align: left; background-color: #DDDDDD; vertical-align: top;'>Notebook Anterior<br><a href=\"OP2-11-OO-Importacao.ipynb\">OP2-11-OO-Importacao</a></td>\n",
    "            <td width='34%' style='text-align: left; background-color: #DDDDDD; vertical-align: top;'>&nbsp;<br/>\n",
    "            </td>\n",
    "            <td width='33%'style='text-align: left; background-color: #DDDDDD; vertical-align: top;'>Próximo Notebook<br/><a href=\"OP2-13-OO-Membros-de-Classe-e-de-Instancia.ipynb\">OOP2-13-OO-Membros-de-Classe-e-de-Instancia</a></td>\n",
    "        </tr>\n",
    "    </tbody>\n",
    "</table>"
   ]
  },
  {
   "cell_type": "markdown",
   "metadata": {},
   "source": [
    "## Classes e membros"
   ]
  },
  {
   "cell_type": "markdown",
   "metadata": {},
   "source": [
    "<p>Uma classe é como o desenho, no sentido de projeto, de uma entidade da vida real, ou seja, um esquema/desenho para representar qualquer tipo de coisa, como produtos e veículos (concretos), pedidos e contas (virtuais), ou mesmo pessoas, clientes, alunos (atores de um sistema).</p>\n",
    "<p>Uma classe possui vários elementos:</p>\n",
    "<dl style='margin-left:15px;'>\n",
    "    <dt>Atributos (ou campos)</dt>\n",
    "    <dd>que descrevem características ou estados dos objetos;</dd>\n",
    "    <dt>Métodos (ou operações)</dt>\n",
    "    <dd>que possibilitam a realização de tarefas ou operações, e</dd>\n",
    "    <dt>Construtores</dt>\n",
    "    <dd>que preparam a criação de objetos.</dd>\n",
    "</dl>\n",
    "<p>No Python usamos a palavra-chave <tt>class</tt> para definir uma classe, dentro da qual declaramos os atributos, os métodos e construtor necessários.<p>"
   ]
  },
  {
   "cell_type": "markdown",
   "metadata": {},
   "source": [
    "## Encapsulamento"
   ]
  },
  {
   "cell_type": "markdown",
   "metadata": {},
   "source": [
    "<p>Uma característica muito importante da orientação a objetos é permitir que o programador defina a visibilidade (ou acessibilidade) dos membros de uma classe, ou seja, como atributos e métodos poderão ser usados nos programas. Existem três níveis de visibilidade:</p>\n",
    "<dl style='margin-left:15px'>\n",
    "    <dt>Público (<i>public</i>)</dt>\n",
    "    <dd>Quando o membro pode ser usado (acessado), sem restrições, no código de sua própria classe, no código de suas subclasses e por instâncias da classe.</dd>\n",
    "    <dt>Protegido (<i>protected</i>)</dt>\n",
    "    <dd>Quando o membro pode ser usado (acessado) no código de sua própria classe e no código de suas subclasses.</dd>\n",
    "    <dt>Privado (<i>private</i>)</dt>\n",
    "    <dd>Quando o membro pode ser usado (acessado) apenas no código de sua própria classe.</dd>\n",
    "</dl>"
   ]
  },
  {
   "cell_type": "markdown",
   "metadata": {},
   "source": [
    "### Visibilidade pública (public)"
   ]
  },
  {
   "cell_type": "markdown",
   "metadata": {},
   "source": [
    "<p>É adequada quando não existem restrições ao uso do membro ao qual é aplicada.</p>\n",
    "<p>Atributos (ou variáveis-membro) contém dados que representam um objeto e seu estado. Podem ser declarados como públicos quando admitem qualquer valor, sem que o objeto associado deixe de ser consistente.</p>\n",
    "<p>Métodos (ou funções-membro) operam sobre os atributos do objeto. Podem ser declarados públicos quando sua utilização mantém o objeto associado num estado consistente.</p>\n",
    "<p>Membros declarados como públicos podem ser usados livremente no código de sua classe e de suas subclasses, além de poderem ser acessados e usados por meio de instâncias da classe.</p>\n",
    "<p>Por exemplo: um atributo <i>nome</i>, poderia conter qualquer string, pode ser declarado como público e utilizado sem restrições em sua classe, nas subclasses de sua classe e por instâncias destas. Já um atributo como <i>RA</i>, que deve obedecer uma regra de formação ou estar contido dentro de limites específicos para que seja considerado válido, não poderia ser público e deveria ter acesso restrito (como discutido mais à frente). Com relação aos métodos, quando as operações realizadas não modificam os atributos (portanto não alteram o estado do objeto), ou não conduzem o objeto a estados inconsistentes, podem ser declaradas como públicas. Caso os métodos realizem alterações que possam levar o objeto à estados inconsistentes ou revelar dados sensíveis, devem ter sua visibilidade restringida, não devendo ser públicos.</p>\n",
    "<p>A linguagem Python, diferentemente de outras, não possui palavras reservadas para determinar o nível de visibilidade, mas utiliza um esquema de denominação baseado no uso do caractere sublinhado <tt>'_'</tt> (<i>underline</i>). Atributos e métodos públicos no Python podem ter nomes quaisquer, desde que <b>NÃO</b> sejam iniciados pelo caractere sublinhado.</p>"
   ]
  },
  {
   "cell_type": "markdown",
   "metadata": {},
   "source": [
    "<p>É comum a necessidade de marcar pontos, em um desenho mecânico, uma planta ou em um mapa, para estabelecer a localização de elementos específicos como furações, tubulações ou cidades. <b>Pontos</b> podem ser representados em planos cartesianos por meio de coordenadas x e y.</p>"
   ]
  },
  {
   "cell_type": "code",
   "execution_count": null,
   "metadata": {},
   "outputs": [],
   "source": [
    "# Classe que representa um ponto em um plano\n",
    "import math\n",
    "\n",
    "class Ponto:\n",
    "    '''Representação de um ponto em um plano cartesiano.'''\n",
    "\n",
    "    def __init__(self, x = 0, y = 0):\n",
    "        '''Construtor, com parâmetros opcionais, que cria objeto desta classe.'''\n",
    "        # define abcissa x como um atributo público\n",
    "        self.x = x\n",
    "        # define ordenada y como um atributo público\n",
    "        self.y = y\n",
    "        print('(',x,',',y,')', sep='')\n",
    "        \n",
    "    # método público\n",
    "    def distancia(self, x, y):\n",
    "        '''Calcula a distância do ponto até coordenada indicada.'''\n",
    "        return math.sqrt(math.pow(self.x - x, 2) + math.pow(self.y - y, 2))\n",
    "    \n",
    "    # método público\n",
    "    def transladar(self, x, y):\n",
    "        # define abcissa x\n",
    "        self.x = x\n",
    "        # define ordenada y\n",
    "        self.y = y"
   ]
  },
  {
   "cell_type": "code",
   "execution_count": null,
   "metadata": {},
   "outputs": [],
   "source": [
    "# Instanciação de dois pontos\n",
    "p1 = Ponto(1, 2) # indica de coordenadas no construtor\n",
    "p2 = Ponto() # uso de coordenada default"
   ]
  },
  {
   "cell_type": "code",
   "execution_count": null,
   "metadata": {},
   "outputs": [],
   "source": [
    "# Acesso aos atributos públicos de coordenada dos objetos\n",
    "print(f'p1.x = {p1.x} p1.y = {p1.y}')\n",
    "print(f'p2.x = {p2.x} p2.y = {p2.y}')"
   ]
  },
  {
   "cell_type": "code",
   "execution_count": null,
   "metadata": {},
   "outputs": [],
   "source": [
    "# Alteração de coordenada com acesso aos atributos públicos\n",
    "p2.x = 3.5\n",
    "p2.y = 4.7"
   ]
  },
  {
   "cell_type": "code",
   "execution_count": null,
   "metadata": {},
   "outputs": [],
   "source": [
    "# Acesso aos atributos públicos de coordenada dos objetos\n",
    "print(f'p1.x = {p1.x} p1.y = {p1.y}')\n",
    "print(f'p2.x = {p2.x} p2.y = {p2.y}')"
   ]
  },
  {
   "cell_type": "code",
   "execution_count": null,
   "metadata": {},
   "outputs": [],
   "source": [
    "# Acesso o método público distância(x,y)\n",
    "print('Distancia de p1 para p2:', p1.distancia(p2.x, p2.y))\n",
    "print('Distancia de p2 para p1:', p2.distancia(p1.x, p1.y))"
   ]
  },
  {
   "cell_type": "code",
   "execution_count": null,
   "metadata": {},
   "outputs": [],
   "source": [
    "# Acesso o método público transladar(x,y)\n",
    "p2.transladar(5.3, 7.4)"
   ]
  },
  {
   "cell_type": "code",
   "execution_count": null,
   "metadata": {
    "scrolled": true
   },
   "outputs": [],
   "source": [
    "# Acesso aos atributos públicos de coordenada dos objetos\n",
    "print(f'p1.x = {p1.x} p1.y = {p1.y}')\n",
    "print(f'p2.x = {p2.x} p2.y = {p2.y}')\n",
    "# Acesso o método público distância(x,y)\n",
    "print('Distancia de p1 para p2:', p1.distancia(p2.x, p2.y))\n",
    "print('Distancia de p2 para p1:', p2.distancia(p1.x, p1.y))"
   ]
  },
  {
   "cell_type": "markdown",
   "metadata": {},
   "source": [
    "### Visibilidade privada (private)"
   ]
  },
  {
   "cell_type": "markdown",
   "metadata": {},
   "source": [
    "<p>É requerida quando existem restrições ao uso do membro ao qual é aplicada.</p>\n",
    "<p>Atributos (ou variáveis-membro) que contém dados sensíveis de um objeto, ou seja, que não podem ser expostos; ou cujos valores devem obedecer uma regra de formação; ou ainda estarem contidos dentro de limites específicos para que sejam considerados válidos, devem ser declarados como privados.</p>\n",
    "<p>Métodos (ou funções-membro) operam sobre os atributos do objeto que possuem restrições ou que podem levar o objeto à estados inconsistentes, devem ter sua visibilidade restringida e declarados como privados.</p>\n",
    "<p>Por exemplo, os números do RG e do CPF, códigos de barra EAN-13 ou números ISBN/ISSN (de livros e revistas) possuem regras de formação próprias, de maneira que atributos destinados ao seu armazenamento devem ter uso restrito, impedindo que sejam armazenados valores inválidos. Métodos que operam sobre senhas ou outras informações sensível de pessoas ou transações também podem ter uso limitado pela indicação de visibilidade privada.</p>\n",
    "<p>Membros declarados como privados tem uso limitado ao código de suas próprias classes, de maneira que não podem ser acessados ou modificados em suas subclasses, tão pouco por meio de instâncias da classe.</p>\n",
    "<p>A linguagem Python, diferentemente de outras, não possui palavras reservadas para determinar o nível de visibilidade, mas utiliza um esquema de denominação baseado no uso do caractere sublinhado <tt>'_'</tt> (<i>underline</i>). Atributos e métodos privados no Python podem ter nomes quaisquer, desde iniciados por <b>dois</b> caracteres sublinhados e terminados por, no máximo <b>um</b> caractere sublinhado.</p>"
   ]
  },
  {
   "cell_type": "markdown",
   "metadata": {},
   "source": [
    "<p>Um <i>furacão</i> é fenômeno metereológico que correspondem a um sistema de baixa pressão responsável por áreas instáveis caracterizadas pela formação de nuvens, alta umidade e ventos fortes. Também são conhecidos pelos termos <i>tempestade tropical</i> ou <i>ciclone</i>.</p>\n",
    "<p>A intensidade dos furacões é medida segundo a escala Saffir-Simpson, criada em 1970 no Centro Nacional de Furacões nos Estados Unidos, que descreve cinco categorias, de números 1 a 5, que indicam os potenciais danos causados (de mínimo a catastrófico).</p>\n",
    "<p>Observe os membros da classe <tt>Furacao</tt> que segue:</p>\n",
    "<ul>\n",
    "    <li>Construtor <tt>__init__</tt>, parametrizado com <tt>nome</tt>, <tt>ano</tt> e <tt>categoria</tt> do furação</li>, dados exigidos para criação de objetos deste tipo.</li>\n",
    "    <li>Método privado <tt>__setNome</tt>, parametrizado com o <tt>nome</tt> do furação, que valida tal nome.</li>\n",
    "    <li>Método público <tt>getNome</tt>, que retorna o nome atribuído ao furacão.</li>\n",
    "    <li>Método público <tt>setAno</tt>, parametrizado com o <tt>ano</tt> do furação, que valida tal ano entre 1 e o ano atual.</li>\n",
    "    <li>Método público <tt>getAno</tt>, que retorna o ano atribuído ao furacão.</li>\n",
    "    <li>Método público <tt>setCategoria</tt>, parametrizado com a <tt>categoria</tt> do furação, que valida tal categoria entre 1 e 5 (limites da escala Saffir-Simpson).</li>\n",
    "    <li>Método público <tt>getCategoria</tt>, que retorna a categoria  atribuída ao furacão.</li>\n",
    "</ul>\n",
    "<p>Todos os métodos também indicam <tt>self</tt> (autorreferência) como primeiro parâmetro.</p>"
   ]
  },
  {
   "cell_type": "code",
   "execution_count": null,
   "metadata": {},
   "outputs": [],
   "source": [
    "# Pacote datetime permite manipular datas\n",
    "import datetime as dt\n",
    "\n",
    "class Furacao:\n",
    "    '''Representa um furacão (tempestade tropical ou ciclone).'''\n",
    "    \n",
    "    def __init__(self, nome, ano, categoria):\n",
    "        '''Construtor requer nome, ano e categoria.'''\n",
    "        # valida parâmetro nome\n",
    "        self.__setNome(nome)\n",
    "        # valida parâmetro ano\n",
    "        self.setAno(ano)\n",
    "        # valida parâmetro categoria\n",
    "        self.setCategoria(categoria)\n",
    "        \n",
    "    def __setNome(self, nome):\n",
    "        '''Valida atribuição de nome ao furacão. '''\n",
    "        if type(nome) != str:\n",
    "            raise ValueError(f'nome \\'{nome}\\' não é de tipo string')\n",
    "        if len(nome) < 2:\n",
    "            raise ValueError(f'nome \\'{nome}\\' deve possuir 2 ou mais caracteres')\n",
    "        # define/modifica atributo privado contendo nome\n",
    "        self.__nome = nome\n",
    "\n",
    "    def getNome(self):\n",
    "        '''Obtém nome do furacão.'''\n",
    "        return self.__nome\n",
    "\n",
    "    def setAno(self, ano):\n",
    "        '''Valida atribuição de ano ao furacão. '''\n",
    "        # obtém ano corrente\n",
    "        currentYear = dt.datetime.now().year\n",
    "        if ano <= 0 or ano > currentYear:\n",
    "            raise ValueError(f'ano \\'{ano}\\' inválido')\n",
    "        # define/modifica atributo privado contendo ano\n",
    "        self.__ano = ano\n",
    "\n",
    "    def getAno(self):\n",
    "        '''Obtém ano do furacão.'''\n",
    "        return self.__ano\n",
    "\n",
    "    def setCategoria(self, categoria):\n",
    "        '''Valida atribuição de categoria ao furacão. '''\n",
    "        if categoria < 1 or categoria > 5:\n",
    "            raise ValueError(f'categoria \\'{categoria}\\' inválida')\n",
    "        # define/modifica atributo privado contendo categoria\n",
    "        self.__categoria = categoria\n",
    "\n",
    "    def getCategoria(self):\n",
    "        '''Obtém categoria do furacão.'''\n",
    "        return self.__categoria\n"
   ]
  },
  {
   "cell_type": "code",
   "execution_count": null,
   "metadata": {},
   "outputs": [],
   "source": [
    "# Tentativa inválida de instanciação de objeto Furacao\n",
    "f0 = Furacao(1, 2022, 7) # nome inválido"
   ]
  },
  {
   "cell_type": "code",
   "execution_count": null,
   "metadata": {},
   "outputs": [],
   "source": [
    "# Tentativa inválida de instanciação de objeto Furacao\n",
    "f1 = Furacao('X', 2022, 7) # nome inválido"
   ]
  },
  {
   "cell_type": "code",
   "execution_count": null,
   "metadata": {},
   "outputs": [],
   "source": [
    "# Tentativa inválida de instanciação de objeto Furacao\n",
    "f2 = Furacao('Mi', 2022, 7) # nome inválido"
   ]
  },
  {
   "cell_type": "code",
   "execution_count": null,
   "metadata": {},
   "outputs": [],
   "source": [
    "# Tentativa inválida de instanciação de objeto Furacao\n",
    "f3 = Furacao('Michelle', 2013, 7) # categoria inválida"
   ]
  },
  {
   "cell_type": "code",
   "execution_count": null,
   "metadata": {},
   "outputs": [],
   "source": [
    "# Tentativa válida de instanciação de objeto Furacao\n",
    "f4 = Furacao('Michelle', 2013, 5)\n",
    "print(f4.getNome(), f4.getAno(), f4.getCategoria())"
   ]
  },
  {
   "cell_type": "markdown",
   "metadata": {},
   "source": [
    "<p>Deve ser observado na classe <tt>Furacao</tt>:\n",
    "<ul>\n",
    "    <li>Os atributos <tt>__nome</tt>, <tt>__ano</tt> e <tt>__categoria</tt> são privados, pois não admitem valores quaisquer.</li>\n",
    "    <li>Os métodos <tt>getNome()</tt>, <tt>getAno()</tt> e <tt>getCategoria()</tt> são públicos, pois dão acesso ao conteúdo dos respectivos atributos, não alteram o objeto, nem acessam valores sensíveis.</li>\n",
    "    <li>Os métodos <tt>setAno(ano)</tt> e <tt>setCategoria(categoria)</tt> são públicos para permitir a alteração validada do conteúdo dos respectivos atributos.</li>\n",
    "    <li>O método <tt>__setNome(nome)</tt> é privado, indicando que tal atributo não pode ser alterado depois da instanciação do objeto.</li>\n",
    "</ul>"
   ]
  },
  {
   "cell_type": "code",
   "execution_count": null,
   "metadata": {},
   "outputs": [],
   "source": [
    "# Instanciação de objetos válidos do tipo Furacao\n",
    "furacoesFamosos = [Furacao('Katrina', 2005, 5), \n",
    "                   Furacao('Galveston', 1900, 4), \n",
    "                   Furacao('Mitch', 1998, 5),\n",
    "                   Furacao('Irma', 2017, 5),\n",
    "                  ]"
   ]
  },
  {
   "cell_type": "code",
   "execution_count": null,
   "metadata": {},
   "outputs": [],
   "source": [
    "# lista dados dos furaões famosos\n",
    "print(f'+-{20*\"-\"}-+-{4*\"-\"}-+-{3*\"-\"}-+')\n",
    "print(f'| {\"Nome\":20s} | {\"Ano\":4s} | {\"Cat\":3s} |')\n",
    "print(f'+-{20*\"-\"}-+-{4*\"-\"}-+-{3*\"-\"}-+')\n",
    "for f in furacoesFamosos:\n",
    "    print(f'| {f.getNome():20s} | {f.getAno():4d} | {f.getCategoria():3d} |')\n",
    "print(f'+-{20*\"-\"}-+-{4*\"-\"}-+-{3*\"-\"}-+')"
   ]
  },
  {
   "cell_type": "code",
   "execution_count": null,
   "metadata": {},
   "outputs": [],
   "source": [
    "furacoesFamosos[0]"
   ]
  },
  {
   "cell_type": "markdown",
   "metadata": {},
   "source": [
    "## Considerações adicionais:"
   ]
  },
  {
   "cell_type": "markdown",
   "metadata": {},
   "source": [
    "<p>O encapsulamento de dados garante que o código exterior à classe tenha acesso apenas aos seus membros expostos (declarados públicos) ou que apenas subclasses possam utilizá-los (quando declarados protegidos).</p>\n",
    "<p>Além disso, permite implementar as regras de negócios, isto é, as restrições que podem existir quanto ao valor dos campos da classe. Recomenda-se que todos os campos aos quais se aplicam restrições sejam declarados como privado ou protegido, o que restringe seu acesso. Para permitir que possam ser lidos, é comum que sejam implementados métodos públicos de observação (os <i>getters</i>); e para que possam ser alterados devem ser incluídos métodos públicos de mutação (os <i>setters</i>), onde pode ser realizada a validação prévia de seu conteúdo.</p> \n",
    "<p>A ocultação de métodos e atributos permite reduzir a vulnerabilidade dos objetos, portanto deve ser considerada e utilizada sempre que necessário.</p>"
   ]
  },
  {
   "cell_type": "markdown",
   "metadata": {},
   "source": [
    "### FIM\n",
    "### <a href=\"http://github.com/pjandl/opy2\">Oficina Python Intermediário</a>"
   ]
  }
 ],
 "metadata": {
  "kernelspec": {
   "display_name": "Python 3",
   "language": "python",
   "name": "python3"
  },
  "language_info": {
   "codemirror_mode": {
    "name": "ipython",
    "version": 3
   },
   "file_extension": ".py",
   "mimetype": "text/x-python",
   "name": "python",
   "nbconvert_exporter": "python",
   "pygments_lexer": "ipython3",
   "version": "3.8.5"
  }
 },
 "nbformat": 4,
 "nbformat_minor": 4
}
