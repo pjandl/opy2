{
 "cells": [
  {
   "cell_type": "markdown",
   "metadata": {},
   "source": [
    "<img src='op2-u03.png'/>\n",
    "<h2><font color='#7F0000'>OP2-12-OO-Encapsulamento</font></h2>"
   ]
  },
  {
   "cell_type": "markdown",
   "metadata": {},
   "source": [
    "## Classes e membros"
   ]
  },
  {
   "cell_type": "markdown",
   "metadata": {},
   "source": [
    "<p>Uma classe é como o desenho, no sentido de projeto, de uma entidade da vida real, ou seja, um esquema/desenho para representar qualquer tipo de coisa, como produtos e veículos (concretos), pedidos e contas (virtuais), ou mesmo pessoas, clientes, alunos (atores de um sistema).</p>\n",
    "<p>Uma classe possui vários elementos:</p>\n",
    "<dl>\n",
    "    <dt>Atributos</dt>\n",
    "    <dd>que descrevem características ou estados dos objetos;</dd>\n",
    "    <dt>Métodos</dt>\n",
    "    <dd>que possibilitam a realização de tarefas ou operações, e</dd>\n",
    "    <dt>Construtores</dt>\n",
    "    <dd>que preparam a criação de objetos.</dd>\n",
    "</dl>\n",
    "<p>No Python usamos a palavra-chave <tt>class</tt> para definir uma classe, dentro da qual declaramos os atributos, métodos e construtores necessários.<p>"
   ]
  },
  {
   "cell_type": "markdown",
   "metadata": {},
   "source": [
    "## Encapsulamento"
   ]
  },
  {
   "cell_type": "markdown",
   "metadata": {},
   "source": [
    "<p>Uma característica muito importante da orientação a objetos é permitir que o programador defina a visibilidade (ou acessibilidade) dos membros de uma classe, ou seja, como atributos e métodos poderão ser usados nos programas. Existem três níveis de visibilidade:</p>\n",
    "<dl>\n",
    "    <dt>Público (<i>public</i>)</dt>\n",
    "    <dd>Quando o membro pode ser usado (acessado), sem restrições, no código de sua própria classe, no código de suas subclasses e por instâncias da classe.</dd>\n",
    "    <dt>Protegido (<i>protected</i>)</dt>\n",
    "    <dd>Quando o membro pode ser usado (acessado) no código de sua própria classe e no código de suas subclasses.</dd>\n",
    "    <dt>Privado (<i>private</i>)</dt>\n",
    "    <dd>Quando o membro pode ser usado (acessado) apenas no código de sua própria classe.</dd>\n",
    "</dl>\n",
    "<p></p>"
   ]
  },
  {
   "cell_type": "markdown",
   "metadata": {},
   "source": [
    "### Visibilidade pública (public)"
   ]
  },
  {
   "cell_type": "markdown",
   "metadata": {},
   "source": [
    "<p>É adequada quando não existem restrições ao uso do membro ao qual é aplicada.</p>\n",
    "<p>Atributos (ou variáveis-membro) contém dados que representam um objeto e seu estado. Podem ser declarados como públicos quando admitem qualquer valor, sem que o objeto associado deixe de ser consistente.</p>\n",
    "<p>Métodos (ou funções-membro) operam sobre os atributos do objeto. Podem ser declarados públicos quando sua utilização mantém o objeto associado num estado consistente.</p>\n",
    "<p>Membros declarados como públicos podem ser usados livremente no código de sua classe e de suas subclasses, além de poderem ser acessados e usados por meio de instâncias da classe.</p>\n",
    "<p>Por exemplo: um atributo <i>nome</i>, poderia conter qualquer string, pode ser declarado como público e utilizado sem restrições em sua classe, nas subclasses de sua classe e por instâncias destas. Já um atributo como <i>RA</i>, que deve obedecer uma regra de formação ou estar contido dentro de limites específicos para que seja considerado válido, não poderia ser público e deveria ter acesso restrito (como discutido mais à frente). Com relação aos métodos, quando as operações realizadas não modificam os atributos (portanto não alteram o estado do objeto), ou não conduzem o objeto a estados inconsistentes, podem ser declaradas como públicas. Caso os métodos realizem alterações que possam levar o objeto à estados inconsistentes ou revelar dados sensíveis, devem ter sua visibilidade restringida, não devendo ser públicos.</p>\n",
    "<p>A linguagem Python, diferentemente de outras, não possui palavras reservadas para determinar o nível de visibilidade, mas utiliza um esquema de denominação baseado no uso do caractere sublinhado <tt>'_'</tt> (<i>underline</i>). Atributos e métodos públicos no Python podem ter nomes quaisquer, desde que <b>NÃO</b> sejam iniciados pelo caractere sublinhado.</p>"
   ]
  },
  {
   "cell_type": "code",
   "execution_count": 9,
   "metadata": {},
   "outputs": [],
   "source": [
    "# É comum a necessidade de marcar pontos, em um desenho mecânico, uma planta ou em um mapa,\n",
    "# para estabelecer a localização de elementos específicos como furações, tubulações ou cidades.\n",
    "# Pontos podem ser representados em planos por meio de coordenadas x e y.\n",
    "# A classe que segue representa um ponto em um plano cartesiano."
   ]
  },
  {
   "cell_type": "code",
   "execution_count": 1,
   "metadata": {},
   "outputs": [],
   "source": [
    "import math\n",
    "\n",
    "class Ponto:\n",
    "    '''Representação de um ponto em um plano cartesiano.'''\n",
    "\n",
    "    def __init__(self, x = 0, y = 0):\n",
    "        '''Construtor, com parâmetros opcionais, que cria objeto desta classe.'''\n",
    "        # define abcissa x como um atributo público\n",
    "        self.x = x\n",
    "        # define ordenada y como um atributo público\n",
    "        self.y = y\n",
    "        print('(',x,',',y,')', sep='')\n",
    "        \n",
    "    # método público\n",
    "    def distancia(self, x, y):\n",
    "        '''Calcula a distância do ponto até coordenada indicada.'''\n",
    "        return math.sqrt(math.pow(self.x - x, 2) + math.pow(self.y - y, 2))\n",
    "    \n",
    "    # método público\n",
    "    def transladar(self, x, y):\n",
    "        # define abcissa x\n",
    "        self.x = x\n",
    "        # define ordenada y\n",
    "        self.y = y"
   ]
  },
  {
   "cell_type": "code",
   "execution_count": 18,
   "metadata": {},
   "outputs": [
    {
     "name": "stdout",
     "output_type": "stream",
     "text": [
      "(1,2)\n",
      "(0,0)\n"
     ]
    }
   ],
   "source": [
    "# Instanciação de dois pontos\n",
    "p1 = Ponto(1, 2) # indica de coordenadas no construtor\n",
    "p2 = Ponto() # uso de coordenada default"
   ]
  },
  {
   "cell_type": "code",
   "execution_count": 19,
   "metadata": {},
   "outputs": [
    {
     "name": "stdout",
     "output_type": "stream",
     "text": [
      "p1.x = 1 p1.y = 2\n",
      "p2.x = 0 p2.y = 0\n"
     ]
    }
   ],
   "source": [
    "# Acesso aos atributos públicos de coordenada dos objetos\n",
    "print(f'p1.x = {p1.x} p1.y = {p1.y}')\n",
    "print(f'p2.x = {p2.x} p2.y = {p2.y}')"
   ]
  },
  {
   "cell_type": "code",
   "execution_count": 20,
   "metadata": {},
   "outputs": [],
   "source": [
    "# Alteração de coordenada com acesso aos atributos públicos\n",
    "p2.x = 3.5\n",
    "p2.y = 4.7"
   ]
  },
  {
   "cell_type": "code",
   "execution_count": 21,
   "metadata": {},
   "outputs": [
    {
     "name": "stdout",
     "output_type": "stream",
     "text": [
      "p1.x = 1 p1.y = 2\n",
      "p2.x = 3.5 p2.y = 4.7\n"
     ]
    }
   ],
   "source": [
    "# Acesso aos atributos públicos de coordenada dos objetos\n",
    "print(f'p1.x = {p1.x} p1.y = {p1.y}')\n",
    "print(f'p2.x = {p2.x} p2.y = {p2.y}')"
   ]
  },
  {
   "cell_type": "code",
   "execution_count": 22,
   "metadata": {},
   "outputs": [
    {
     "name": "stdout",
     "output_type": "stream",
     "text": [
      "Distancia de p1 para p2: 3.67967389859482\n",
      "Distancia de p2 para p1: 3.67967389859482\n"
     ]
    }
   ],
   "source": [
    "# Acesso o método público distância(x,y)\n",
    "print('Distancia de p1 para p2:', p1.distancia(p2.x, p2.y))\n",
    "print('Distancia de p2 para p1:', p2.distancia(p1.x, p1.y))"
   ]
  },
  {
   "cell_type": "code",
   "execution_count": 23,
   "metadata": {},
   "outputs": [],
   "source": [
    "# Acesso o método público transladar(x,y)\n",
    "p2.transladar(5.3, 7.4)"
   ]
  },
  {
   "cell_type": "code",
   "execution_count": 24,
   "metadata": {
    "scrolled": true
   },
   "outputs": [
    {
     "name": "stdout",
     "output_type": "stream",
     "text": [
      "p1.x = 1 p1.y = 2\n",
      "p2.x = 5.3 p2.y = 7.4\n",
      "Distancia de p1 para p2: 6.902897942168927\n",
      "Distancia de p2 para p1: 6.902897942168927\n"
     ]
    }
   ],
   "source": [
    "# Acesso aos atributos públicos de coordenada dos objetos\n",
    "print(f'p1.x = {p1.x} p1.y = {p1.y}')\n",
    "print(f'p2.x = {p2.x} p2.y = {p2.y}')\n",
    "# Acesso o método público distância(x,y)\n",
    "print('Distancia de p1 para p2:', p1.distancia(p2.x, p2.y))\n",
    "print('Distancia de p2 para p1:', p2.distancia(p1.x, p1.y))"
   ]
  },
  {
   "cell_type": "markdown",
   "metadata": {},
   "source": [
    "### Visibilidade privada (private)"
   ]
  },
  {
   "cell_type": "markdown",
   "metadata": {},
   "source": [
    "<p>É requerida quando existem restrições ao uso do membro ao qual é aplicada.</p>\n",
    "<p>Atributos (ou variáveis-membro) que contém dados sensíveis de um objeto, ou seja, que não podem ser expostos; ou cujos valores devem obedecer uma regra de formação; ou ainda estarem contidos dentro de limites específicos para que sejam considerados válidos, devem ser declarados como privados.</p>\n",
    "<p>Métodos (ou funções-membro) operam sobre os atributos do objeto que possuem restrições ou que podem levar o objeto à estados inconsistentes, devem ter sua visibilidade restringida e declarados como privados.</p>\n",
    "<p>Por exemplo, os números do RG e do CPF, códigos de barra EAN-13 ou números ISBN/ISSN (de livros e revistas) possuem regras de formação próprias, de maneira que atributos destinados ao seu armazenamento devem ter uso restrito, impedindo que sejam armazenados valores inválidos. Métodos que operam sobre senhas ou outras informações sensível de pessoas ou transações também podem ter uso limitado pela indicação de visibilidade privada.</p>\n",
    "<p>Membros declarados como privados tem uso limitado ao código de suas próprias classes, de maneira que não podem ser acessados ou modificados em suas subclasses, tão pouco por meio de instâncias da classe.</p>\n",
    "<p>A linguagem Python, diferentemente de outras, não possui palavras reservadas para determinar o nível de visibilidade, mas utiliza um esquema de denominação baseado no uso do caractere sublinhado <tt>'_'</tt> (<i>underline</i>). Atributos e métodos privados no Python podem ter nomes quaisquer, desde iniciados por <b>dois</b> caracteres sublinhados e terminados por, no máximo <b>um</b> caractere sublinhado.</p>"
   ]
  },
  {
   "cell_type": "code",
   "execution_count": null,
   "metadata": {},
   "outputs": [],
   "source": [
    "# Um furacão é fenômeno metereológico que correspondem a um sistema de baixa pressão\n",
    "# responsável por áreas instáveis caracterizadas pela formação de nuvens, alta umidade\n",
    "# e ventos fortes. Também são conhecidos pelos termos tempestade tropical ou ciclone.\n",
    "# A intensidade dos furacões é medida segundo a escala Saffir-Simpson, criada em 1970\n",
    "# no Centro Nacional de Furacões nos Estados Unidos, que descreve cinco categorias, de\n",
    "# números 1 a 5, que indicam os potenciais danos causados (de mínimo a catastrófico)."
   ]
  },
  {
   "cell_type": "code",
   "execution_count": 25,
   "metadata": {},
   "outputs": [],
   "source": [
    "import datetime as dt\n",
    "\n",
    "class Furacao:\n",
    "    '''Representa um furacão (tempestade tropical ou ciclone).'''\n",
    "    \n",
    "    def __init__(self, nome, ano, categoria):\n",
    "        '''Construtor requer nome, ano e categoria.'''\n",
    "        # valida parâmetro nome\n",
    "        self.__setNome(nome)\n",
    "        # valida parâmetro ano\n",
    "        self.setAno(ano)\n",
    "        # valida parâmetro categoria\n",
    "        self.setCategoria(categoria)\n",
    "        \n",
    "    def __setNome(self, nome):\n",
    "        '''Valida atribuição de nome ao furacão. '''\n",
    "        if type(nome) != str:\n",
    "            raise ValueError(f'nome \\'{nome}\\' não é de tipo string')\n",
    "        if len(nome) < 2:\n",
    "            raise ValueError(f'nome \\'{nome}\\' deve possuir 2 ou mais caracteres')\n",
    "        # define/modifica atributo privado contendo nome\n",
    "        self.__nome = nome\n",
    "\n",
    "    def getNome(self):\n",
    "        '''Obtém nome do furacão.'''\n",
    "        return self.__nome\n",
    "\n",
    "    def setAno(self, ano):\n",
    "        '''Valida atribuição de ano ao furacão. '''\n",
    "        # obtém ano corrente\n",
    "        currentYear = dt.datetime.now().year\n",
    "        if ano <= 0 or ano > currentYear:\n",
    "            raise ValueError(f'ano \\'{ano}\\' inválido')\n",
    "        # define/modifica atributo privado contendo ano\n",
    "        self.__ano = ano\n",
    "\n",
    "    def getAno(self):\n",
    "        '''Obtém ano do furacão.'''\n",
    "        return self.__ano\n",
    "\n",
    "    def setCategoria(self, categoria):\n",
    "        '''Valida atribuição de categoria ao furacão. '''\n",
    "        if categoria < 1 or categoria > 5:\n",
    "            raise ValueError(f'categoria \\'{categoria}\\' inválida')\n",
    "        # define/modifica atributo privado contendo categoria\n",
    "        self.__categoria = categoria\n",
    "\n",
    "    def getCategoria(self):\n",
    "        '''Obtém categoria do furacão.'''\n",
    "        return self.__categoria\n"
   ]
  },
  {
   "cell_type": "code",
   "execution_count": 27,
   "metadata": {},
   "outputs": [
    {
     "ename": "ValueError",
     "evalue": "nome '1' não é de tipo string",
     "output_type": "error",
     "traceback": [
      "\u001b[0;31m---------------------------------------------------------------------------\u001b[0m",
      "\u001b[0;31mValueError\u001b[0m                                Traceback (most recent call last)",
      "\u001b[0;32m<ipython-input-27-bfc33eba6d64>\u001b[0m in \u001b[0;36m<module>\u001b[0;34m\u001b[0m\n\u001b[1;32m      1\u001b[0m \u001b[0;31m# Tantativa inválida de instanciação de objeto Furacao\u001b[0m\u001b[0;34m\u001b[0m\u001b[0;34m\u001b[0m\u001b[0;34m\u001b[0m\u001b[0m\n\u001b[0;32m----> 2\u001b[0;31m \u001b[0mf0\u001b[0m \u001b[0;34m=\u001b[0m \u001b[0mFuracao\u001b[0m\u001b[0;34m(\u001b[0m\u001b[0;36m1\u001b[0m\u001b[0;34m,\u001b[0m \u001b[0;36m2022\u001b[0m\u001b[0;34m,\u001b[0m \u001b[0;36m7\u001b[0m\u001b[0;34m)\u001b[0m \u001b[0;31m# nome inválido\u001b[0m\u001b[0;34m\u001b[0m\u001b[0;34m\u001b[0m\u001b[0m\n\u001b[0m",
      "\u001b[0;32m<ipython-input-25-1d8dc307c61f>\u001b[0m in \u001b[0;36m__init__\u001b[0;34m(self, nome, ano, categoria)\u001b[0m\n\u001b[1;32m      7\u001b[0m         \u001b[0;34m'''Construtor requer nome, ano e categoria.'''\u001b[0m\u001b[0;34m\u001b[0m\u001b[0;34m\u001b[0m\u001b[0m\n\u001b[1;32m      8\u001b[0m         \u001b[0;31m# valida parâmetro nome\u001b[0m\u001b[0;34m\u001b[0m\u001b[0;34m\u001b[0m\u001b[0;34m\u001b[0m\u001b[0m\n\u001b[0;32m----> 9\u001b[0;31m         \u001b[0mself\u001b[0m\u001b[0;34m.\u001b[0m\u001b[0m__setNome\u001b[0m\u001b[0;34m(\u001b[0m\u001b[0mnome\u001b[0m\u001b[0;34m)\u001b[0m\u001b[0;34m\u001b[0m\u001b[0;34m\u001b[0m\u001b[0m\n\u001b[0m\u001b[1;32m     10\u001b[0m         \u001b[0;31m# valida parâmetro ano\u001b[0m\u001b[0;34m\u001b[0m\u001b[0;34m\u001b[0m\u001b[0;34m\u001b[0m\u001b[0m\n\u001b[1;32m     11\u001b[0m         \u001b[0mself\u001b[0m\u001b[0;34m.\u001b[0m\u001b[0msetAno\u001b[0m\u001b[0;34m(\u001b[0m\u001b[0mano\u001b[0m\u001b[0;34m)\u001b[0m\u001b[0;34m\u001b[0m\u001b[0;34m\u001b[0m\u001b[0m\n",
      "\u001b[0;32m<ipython-input-25-1d8dc307c61f>\u001b[0m in \u001b[0;36m__setNome\u001b[0;34m(self, nome)\u001b[0m\n\u001b[1;32m     16\u001b[0m         \u001b[0;34m'''Valida atribuição de nome ao furacão. '''\u001b[0m\u001b[0;34m\u001b[0m\u001b[0;34m\u001b[0m\u001b[0m\n\u001b[1;32m     17\u001b[0m         \u001b[0;32mif\u001b[0m \u001b[0mtype\u001b[0m\u001b[0;34m(\u001b[0m\u001b[0mnome\u001b[0m\u001b[0;34m)\u001b[0m \u001b[0;34m!=\u001b[0m \u001b[0mstr\u001b[0m\u001b[0;34m:\u001b[0m\u001b[0;34m\u001b[0m\u001b[0;34m\u001b[0m\u001b[0m\n\u001b[0;32m---> 18\u001b[0;31m             \u001b[0;32mraise\u001b[0m \u001b[0mValueError\u001b[0m\u001b[0;34m(\u001b[0m\u001b[0;34mf'nome \\'{nome}\\' não é de tipo string'\u001b[0m\u001b[0;34m)\u001b[0m\u001b[0;34m\u001b[0m\u001b[0;34m\u001b[0m\u001b[0m\n\u001b[0m\u001b[1;32m     19\u001b[0m         \u001b[0;32mif\u001b[0m \u001b[0mlen\u001b[0m\u001b[0;34m(\u001b[0m\u001b[0mnome\u001b[0m\u001b[0;34m)\u001b[0m \u001b[0;34m<\u001b[0m \u001b[0;36m2\u001b[0m\u001b[0;34m:\u001b[0m\u001b[0;34m\u001b[0m\u001b[0;34m\u001b[0m\u001b[0m\n\u001b[1;32m     20\u001b[0m             \u001b[0;32mraise\u001b[0m \u001b[0mValueError\u001b[0m\u001b[0;34m(\u001b[0m\u001b[0;34mf'nome \\'{nome}\\' deve possuir 2 ou mais caracteres'\u001b[0m\u001b[0;34m)\u001b[0m\u001b[0;34m\u001b[0m\u001b[0;34m\u001b[0m\u001b[0m\n",
      "\u001b[0;31mValueError\u001b[0m: nome '1' não é de tipo string"
     ]
    }
   ],
   "source": [
    "# Tentativa inválida de instanciação de objeto Furacao\n",
    "f0 = Furacao(1, 2022, 7) # nome inválido"
   ]
  },
  {
   "cell_type": "code",
   "execution_count": 28,
   "metadata": {},
   "outputs": [
    {
     "ename": "ValueError",
     "evalue": "nome 'X' deve possuir 2 ou mais caracteres",
     "output_type": "error",
     "traceback": [
      "\u001b[0;31m---------------------------------------------------------------------------\u001b[0m",
      "\u001b[0;31mValueError\u001b[0m                                Traceback (most recent call last)",
      "\u001b[0;32m<ipython-input-28-6475a4a736ec>\u001b[0m in \u001b[0;36m<module>\u001b[0;34m\u001b[0m\n\u001b[1;32m      1\u001b[0m \u001b[0;31m# Tentativa inválida de instanciação de objeto Furacao\u001b[0m\u001b[0;34m\u001b[0m\u001b[0;34m\u001b[0m\u001b[0;34m\u001b[0m\u001b[0m\n\u001b[0;32m----> 2\u001b[0;31m \u001b[0mf1\u001b[0m \u001b[0;34m=\u001b[0m \u001b[0mFuracao\u001b[0m\u001b[0;34m(\u001b[0m\u001b[0;34m'X'\u001b[0m\u001b[0;34m,\u001b[0m \u001b[0;36m2022\u001b[0m\u001b[0;34m,\u001b[0m \u001b[0;36m7\u001b[0m\u001b[0;34m)\u001b[0m \u001b[0;31m# nome inválido\u001b[0m\u001b[0;34m\u001b[0m\u001b[0;34m\u001b[0m\u001b[0m\n\u001b[0m",
      "\u001b[0;32m<ipython-input-25-1d8dc307c61f>\u001b[0m in \u001b[0;36m__init__\u001b[0;34m(self, nome, ano, categoria)\u001b[0m\n\u001b[1;32m      7\u001b[0m         \u001b[0;34m'''Construtor requer nome, ano e categoria.'''\u001b[0m\u001b[0;34m\u001b[0m\u001b[0;34m\u001b[0m\u001b[0m\n\u001b[1;32m      8\u001b[0m         \u001b[0;31m# valida parâmetro nome\u001b[0m\u001b[0;34m\u001b[0m\u001b[0;34m\u001b[0m\u001b[0;34m\u001b[0m\u001b[0m\n\u001b[0;32m----> 9\u001b[0;31m         \u001b[0mself\u001b[0m\u001b[0;34m.\u001b[0m\u001b[0m__setNome\u001b[0m\u001b[0;34m(\u001b[0m\u001b[0mnome\u001b[0m\u001b[0;34m)\u001b[0m\u001b[0;34m\u001b[0m\u001b[0;34m\u001b[0m\u001b[0m\n\u001b[0m\u001b[1;32m     10\u001b[0m         \u001b[0;31m# valida parâmetro ano\u001b[0m\u001b[0;34m\u001b[0m\u001b[0;34m\u001b[0m\u001b[0;34m\u001b[0m\u001b[0m\n\u001b[1;32m     11\u001b[0m         \u001b[0mself\u001b[0m\u001b[0;34m.\u001b[0m\u001b[0msetAno\u001b[0m\u001b[0;34m(\u001b[0m\u001b[0mano\u001b[0m\u001b[0;34m)\u001b[0m\u001b[0;34m\u001b[0m\u001b[0;34m\u001b[0m\u001b[0m\n",
      "\u001b[0;32m<ipython-input-25-1d8dc307c61f>\u001b[0m in \u001b[0;36m__setNome\u001b[0;34m(self, nome)\u001b[0m\n\u001b[1;32m     18\u001b[0m             \u001b[0;32mraise\u001b[0m \u001b[0mValueError\u001b[0m\u001b[0;34m(\u001b[0m\u001b[0;34mf'nome \\'{nome}\\' não é de tipo string'\u001b[0m\u001b[0;34m)\u001b[0m\u001b[0;34m\u001b[0m\u001b[0;34m\u001b[0m\u001b[0m\n\u001b[1;32m     19\u001b[0m         \u001b[0;32mif\u001b[0m \u001b[0mlen\u001b[0m\u001b[0;34m(\u001b[0m\u001b[0mnome\u001b[0m\u001b[0;34m)\u001b[0m \u001b[0;34m<\u001b[0m \u001b[0;36m2\u001b[0m\u001b[0;34m:\u001b[0m\u001b[0;34m\u001b[0m\u001b[0;34m\u001b[0m\u001b[0m\n\u001b[0;32m---> 20\u001b[0;31m             \u001b[0;32mraise\u001b[0m \u001b[0mValueError\u001b[0m\u001b[0;34m(\u001b[0m\u001b[0;34mf'nome \\'{nome}\\' deve possuir 2 ou mais caracteres'\u001b[0m\u001b[0;34m)\u001b[0m\u001b[0;34m\u001b[0m\u001b[0;34m\u001b[0m\u001b[0m\n\u001b[0m\u001b[1;32m     21\u001b[0m         \u001b[0;31m# define/modifica atributo privado contendo nome\u001b[0m\u001b[0;34m\u001b[0m\u001b[0;34m\u001b[0m\u001b[0;34m\u001b[0m\u001b[0m\n\u001b[1;32m     22\u001b[0m         \u001b[0mself\u001b[0m\u001b[0;34m.\u001b[0m\u001b[0m__nome\u001b[0m \u001b[0;34m=\u001b[0m \u001b[0mnome\u001b[0m\u001b[0;34m\u001b[0m\u001b[0;34m\u001b[0m\u001b[0m\n",
      "\u001b[0;31mValueError\u001b[0m: nome 'X' deve possuir 2 ou mais caracteres"
     ]
    }
   ],
   "source": [
    "# Tentativa inválida de instanciação de objeto Furacao\n",
    "f1 = Furacao('X', 2022, 7) # nome inválido"
   ]
  },
  {
   "cell_type": "code",
   "execution_count": 29,
   "metadata": {},
   "outputs": [
    {
     "ename": "ValueError",
     "evalue": "ano '2022' inválido",
     "output_type": "error",
     "traceback": [
      "\u001b[0;31m---------------------------------------------------------------------------\u001b[0m",
      "\u001b[0;31mValueError\u001b[0m                                Traceback (most recent call last)",
      "\u001b[0;32m<ipython-input-29-f07dfe4abd12>\u001b[0m in \u001b[0;36m<module>\u001b[0;34m\u001b[0m\n\u001b[1;32m      1\u001b[0m \u001b[0;31m# Tentativa inválida de instanciação de objeto Furacao\u001b[0m\u001b[0;34m\u001b[0m\u001b[0;34m\u001b[0m\u001b[0;34m\u001b[0m\u001b[0m\n\u001b[0;32m----> 2\u001b[0;31m \u001b[0mf2\u001b[0m \u001b[0;34m=\u001b[0m \u001b[0mFuracao\u001b[0m\u001b[0;34m(\u001b[0m\u001b[0;34m'Mi'\u001b[0m\u001b[0;34m,\u001b[0m \u001b[0;36m2022\u001b[0m\u001b[0;34m,\u001b[0m \u001b[0;36m7\u001b[0m\u001b[0;34m)\u001b[0m \u001b[0;31m# nome inválido\u001b[0m\u001b[0;34m\u001b[0m\u001b[0;34m\u001b[0m\u001b[0m\n\u001b[0m",
      "\u001b[0;32m<ipython-input-25-1d8dc307c61f>\u001b[0m in \u001b[0;36m__init__\u001b[0;34m(self, nome, ano, categoria)\u001b[0m\n\u001b[1;32m      9\u001b[0m         \u001b[0mself\u001b[0m\u001b[0;34m.\u001b[0m\u001b[0m__setNome\u001b[0m\u001b[0;34m(\u001b[0m\u001b[0mnome\u001b[0m\u001b[0;34m)\u001b[0m\u001b[0;34m\u001b[0m\u001b[0;34m\u001b[0m\u001b[0m\n\u001b[1;32m     10\u001b[0m         \u001b[0;31m# valida parâmetro ano\u001b[0m\u001b[0;34m\u001b[0m\u001b[0;34m\u001b[0m\u001b[0;34m\u001b[0m\u001b[0m\n\u001b[0;32m---> 11\u001b[0;31m         \u001b[0mself\u001b[0m\u001b[0;34m.\u001b[0m\u001b[0msetAno\u001b[0m\u001b[0;34m(\u001b[0m\u001b[0mano\u001b[0m\u001b[0;34m)\u001b[0m\u001b[0;34m\u001b[0m\u001b[0;34m\u001b[0m\u001b[0m\n\u001b[0m\u001b[1;32m     12\u001b[0m         \u001b[0;31m# valida parâmetro categoria\u001b[0m\u001b[0;34m\u001b[0m\u001b[0;34m\u001b[0m\u001b[0;34m\u001b[0m\u001b[0m\n\u001b[1;32m     13\u001b[0m         \u001b[0mself\u001b[0m\u001b[0;34m.\u001b[0m\u001b[0msetCategoria\u001b[0m\u001b[0;34m(\u001b[0m\u001b[0mcategoria\u001b[0m\u001b[0;34m)\u001b[0m\u001b[0;34m\u001b[0m\u001b[0;34m\u001b[0m\u001b[0m\n",
      "\u001b[0;32m<ipython-input-25-1d8dc307c61f>\u001b[0m in \u001b[0;36msetAno\u001b[0;34m(self, ano)\u001b[0m\n\u001b[1;32m     31\u001b[0m         \u001b[0mcurrentYear\u001b[0m \u001b[0;34m=\u001b[0m \u001b[0mdt\u001b[0m\u001b[0;34m.\u001b[0m\u001b[0mdatetime\u001b[0m\u001b[0;34m.\u001b[0m\u001b[0mnow\u001b[0m\u001b[0;34m(\u001b[0m\u001b[0;34m)\u001b[0m\u001b[0;34m.\u001b[0m\u001b[0myear\u001b[0m\u001b[0;34m\u001b[0m\u001b[0;34m\u001b[0m\u001b[0m\n\u001b[1;32m     32\u001b[0m         \u001b[0;32mif\u001b[0m \u001b[0mano\u001b[0m \u001b[0;34m<=\u001b[0m \u001b[0;36m0\u001b[0m \u001b[0;32mor\u001b[0m \u001b[0mano\u001b[0m \u001b[0;34m>\u001b[0m \u001b[0mcurrentYear\u001b[0m\u001b[0;34m:\u001b[0m\u001b[0;34m\u001b[0m\u001b[0;34m\u001b[0m\u001b[0m\n\u001b[0;32m---> 33\u001b[0;31m             \u001b[0;32mraise\u001b[0m \u001b[0mValueError\u001b[0m\u001b[0;34m(\u001b[0m\u001b[0;34mf'ano \\'{ano}\\' inválido'\u001b[0m\u001b[0;34m)\u001b[0m\u001b[0;34m\u001b[0m\u001b[0;34m\u001b[0m\u001b[0m\n\u001b[0m\u001b[1;32m     34\u001b[0m         \u001b[0;31m# define/modifica atributo privado contendo ano\u001b[0m\u001b[0;34m\u001b[0m\u001b[0;34m\u001b[0m\u001b[0;34m\u001b[0m\u001b[0m\n\u001b[1;32m     35\u001b[0m         \u001b[0mself\u001b[0m\u001b[0;34m.\u001b[0m\u001b[0m__ano\u001b[0m \u001b[0;34m=\u001b[0m \u001b[0mano\u001b[0m\u001b[0;34m\u001b[0m\u001b[0;34m\u001b[0m\u001b[0m\n",
      "\u001b[0;31mValueError\u001b[0m: ano '2022' inválido"
     ]
    }
   ],
   "source": [
    "# Tentativa inválida de instanciação de objeto Furacao\n",
    "f2 = Furacao('Mi', 2022, 7) # nome inválido"
   ]
  },
  {
   "cell_type": "code",
   "execution_count": 51,
   "metadata": {},
   "outputs": [
    {
     "ename": "ValueError",
     "evalue": "categoria '7' inválida",
     "output_type": "error",
     "traceback": [
      "\u001b[0;31m---------------------------------------------------------------------------\u001b[0m",
      "\u001b[0;31mValueError\u001b[0m                                Traceback (most recent call last)",
      "\u001b[0;32m<ipython-input-51-ee70b6c9cead>\u001b[0m in \u001b[0;36m<module>\u001b[0;34m\u001b[0m\n\u001b[1;32m      1\u001b[0m \u001b[0;31m# Tentativa inválida de instanciação de objeto Furacao\u001b[0m\u001b[0;34m\u001b[0m\u001b[0;34m\u001b[0m\u001b[0;34m\u001b[0m\u001b[0m\n\u001b[0;32m----> 2\u001b[0;31m \u001b[0mf3\u001b[0m \u001b[0;34m=\u001b[0m \u001b[0mFuracao\u001b[0m\u001b[0;34m(\u001b[0m\u001b[0;34m'Michelle'\u001b[0m\u001b[0;34m,\u001b[0m \u001b[0;36m2013\u001b[0m\u001b[0;34m,\u001b[0m \u001b[0;36m7\u001b[0m\u001b[0;34m)\u001b[0m \u001b[0;31m# categoria inválida\u001b[0m\u001b[0;34m\u001b[0m\u001b[0;34m\u001b[0m\u001b[0m\n\u001b[0m",
      "\u001b[0;32m<ipython-input-25-1d8dc307c61f>\u001b[0m in \u001b[0;36m__init__\u001b[0;34m(self, nome, ano, categoria)\u001b[0m\n\u001b[1;32m     11\u001b[0m         \u001b[0mself\u001b[0m\u001b[0;34m.\u001b[0m\u001b[0msetAno\u001b[0m\u001b[0;34m(\u001b[0m\u001b[0mano\u001b[0m\u001b[0;34m)\u001b[0m\u001b[0;34m\u001b[0m\u001b[0;34m\u001b[0m\u001b[0m\n\u001b[1;32m     12\u001b[0m         \u001b[0;31m# valida parâmetro categoria\u001b[0m\u001b[0;34m\u001b[0m\u001b[0;34m\u001b[0m\u001b[0;34m\u001b[0m\u001b[0m\n\u001b[0;32m---> 13\u001b[0;31m         \u001b[0mself\u001b[0m\u001b[0;34m.\u001b[0m\u001b[0msetCategoria\u001b[0m\u001b[0;34m(\u001b[0m\u001b[0mcategoria\u001b[0m\u001b[0;34m)\u001b[0m\u001b[0;34m\u001b[0m\u001b[0;34m\u001b[0m\u001b[0m\n\u001b[0m\u001b[1;32m     14\u001b[0m \u001b[0;34m\u001b[0m\u001b[0m\n\u001b[1;32m     15\u001b[0m     \u001b[0;32mdef\u001b[0m \u001b[0m__setNome\u001b[0m\u001b[0;34m(\u001b[0m\u001b[0mself\u001b[0m\u001b[0;34m,\u001b[0m \u001b[0mnome\u001b[0m\u001b[0;34m)\u001b[0m\u001b[0;34m:\u001b[0m\u001b[0;34m\u001b[0m\u001b[0;34m\u001b[0m\u001b[0m\n",
      "\u001b[0;32m<ipython-input-25-1d8dc307c61f>\u001b[0m in \u001b[0;36msetCategoria\u001b[0;34m(self, categoria)\u001b[0m\n\u001b[1;32m     42\u001b[0m         \u001b[0;34m'''Valida atribuição de categoria ao furacão. '''\u001b[0m\u001b[0;34m\u001b[0m\u001b[0;34m\u001b[0m\u001b[0m\n\u001b[1;32m     43\u001b[0m         \u001b[0;32mif\u001b[0m \u001b[0mcategoria\u001b[0m \u001b[0;34m<\u001b[0m \u001b[0;36m1\u001b[0m \u001b[0;32mor\u001b[0m \u001b[0mcategoria\u001b[0m \u001b[0;34m>\u001b[0m \u001b[0;36m5\u001b[0m\u001b[0;34m:\u001b[0m\u001b[0;34m\u001b[0m\u001b[0;34m\u001b[0m\u001b[0m\n\u001b[0;32m---> 44\u001b[0;31m             \u001b[0;32mraise\u001b[0m \u001b[0mValueError\u001b[0m\u001b[0;34m(\u001b[0m\u001b[0;34mf'categoria \\'{categoria}\\' inválida'\u001b[0m\u001b[0;34m)\u001b[0m\u001b[0;34m\u001b[0m\u001b[0;34m\u001b[0m\u001b[0m\n\u001b[0m\u001b[1;32m     45\u001b[0m         \u001b[0;31m# define/modifica atributo privado contendo categoria\u001b[0m\u001b[0;34m\u001b[0m\u001b[0;34m\u001b[0m\u001b[0;34m\u001b[0m\u001b[0m\n\u001b[1;32m     46\u001b[0m         \u001b[0mself\u001b[0m\u001b[0;34m.\u001b[0m\u001b[0m__categoria\u001b[0m \u001b[0;34m=\u001b[0m \u001b[0mcategoria\u001b[0m\u001b[0;34m\u001b[0m\u001b[0;34m\u001b[0m\u001b[0m\n",
      "\u001b[0;31mValueError\u001b[0m: categoria '7' inválida"
     ]
    }
   ],
   "source": [
    "# Tentativa inválida de instanciação de objeto Furacao\n",
    "f3 = Furacao('Michelle', 2013, 7) # categoria inválida"
   ]
  },
  {
   "cell_type": "code",
   "execution_count": 53,
   "metadata": {},
   "outputs": [
    {
     "name": "stdout",
     "output_type": "stream",
     "text": [
      "Michelle 2013 5\n"
     ]
    }
   ],
   "source": [
    "# Tentativa válida de instanciação de objeto Furacao\n",
    "f4 = Furacao('Michelle', 2013, 5)\n",
    "print(f4.getNome(), f4.getAno(), f4.getCategoria())"
   ]
  },
  {
   "cell_type": "markdown",
   "metadata": {},
   "source": [
    "<p>Deve ser observado na classe <tt>Furacao</tt>:\n",
    "<ul>\n",
    "    <li>Os atributos <tt>__nome</tt>, <tt>__ano</tt> e <tt>__categoria</tt> são privados, pois não admitem valores quaisquer.</li>\n",
    "    <li>Os métodos <tt>getNome()</tt>, <tt>getAno()</tt> e <tt>getCategoria()</tt> são públicos, pois dão acesso ao conteúdo dos respectivos atributos, não alteram o objeto, nem acessam valores sensíveis.</li>\n",
    "    <li>Os métodos <tt>setAno(ano)</tt> e <tt>setCategoria(categoria)</tt> são públicos para permitir a alteração validada do conteúdo dos respectivos atributos.</li>\n",
    "    <li>O método <tt>__setNome(nome)</tt> é privado, indicando que tal atributo não pode ser alterado depois da instanciação do objeto.</li>\n",
    "</ul>"
   ]
  },
  {
   "cell_type": "code",
   "execution_count": 26,
   "metadata": {},
   "outputs": [],
   "source": [
    "# Instanciação de objetos válidos do tipo Furacao\n",
    "furacoesFamosos = [Furacao('Katrina', 2005, 5), \n",
    "                   Furacao('Galveston', 1900, 4), \n",
    "                   Furacao('Mitch', 1998, 5),\n",
    "                   Furacao('Irma', 2017, 5),\n",
    "                  ]"
   ]
  },
  {
   "cell_type": "code",
   "execution_count": 46,
   "metadata": {},
   "outputs": [
    {
     "name": "stdout",
     "output_type": "stream",
     "text": [
      "+----------------------+------+-----+\n",
      "| Nome                 | Ano  | Cat |\n",
      "+----------------------+------+-----+\n",
      "| Katrina              | 2005 |   5 |\n",
      "| Galveston            | 1900 |   4 |\n",
      "| Mitch                | 1998 |   5 |\n",
      "| Irma                 | 2017 |   5 |\n",
      "+----------------------+------+-----+\n"
     ]
    }
   ],
   "source": [
    "# lista dados dos furaões famosos\n",
    "print(f'+-{20*\"-\"}-+-{4*\"-\"}-+-{3*\"-\"}-+')\n",
    "print(f'| {\"Nome\":20s} | {\"Ano\":4s} | {\"Cat\":3s} |')\n",
    "print(f'+-{20*\"-\"}-+-{4*\"-\"}-+-{3*\"-\"}-+')\n",
    "for f in furacoesFamosos:\n",
    "    print(f'| {f.getNome():20s} | {f.getAno():4d} | {f.getCategoria():3d} |')\n",
    "print(f'+-{20*\"-\"}-+-{4*\"-\"}-+-{3*\"-\"}-+')"
   ]
  },
  {
   "cell_type": "code",
   "execution_count": 47,
   "metadata": {},
   "outputs": [
    {
     "data": {
      "text/plain": [
       "<__main__.Furacao at 0x7fac5e27a910>"
      ]
     },
     "execution_count": 47,
     "metadata": {},
     "output_type": "execute_result"
    }
   ],
   "source": [
    "furacoesFamosos[0]"
   ]
  },
  {
   "cell_type": "markdown",
   "metadata": {},
   "source": [
    "## Considerações adicionais:"
   ]
  },
  {
   "cell_type": "markdown",
   "metadata": {},
   "source": [
    "<ul>\n",
    "    <li>?</li>\n",
    "</ul>"
   ]
  },
  {
   "cell_type": "markdown",
   "metadata": {},
   "source": [
    "### FIM\n",
    "### <a href=\"http://github.com/pjandl/opy2\">Oficina Python Intermediário</a>"
   ]
  }
 ],
 "metadata": {
  "kernelspec": {
   "display_name": "Python 3",
   "language": "python",
   "name": "python3"
  },
  "language_info": {
   "codemirror_mode": {
    "name": "ipython",
    "version": 3
   },
   "file_extension": ".py",
   "mimetype": "text/x-python",
   "name": "python",
   "nbconvert_exporter": "python",
   "pygments_lexer": "ipython3",
   "version": "3.8.5"
  }
 },
 "nbformat": 4,
 "nbformat_minor": 4
}
