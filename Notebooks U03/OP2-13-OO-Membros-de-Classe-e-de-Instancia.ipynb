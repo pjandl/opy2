{
 "cells": [
  {
   "cell_type": "markdown",
   "metadata": {},
   "source": [
    "<img src='op2-u03.png'/>\n",
    "<h2><font color='#7F0000'>OP2-13-OO-Membros de Classe e de Instância</font></h2>"
   ]
  },
  {
   "cell_type": "markdown",
   "metadata": {},
   "source": [
    "## Visão geral dos membros de classe e de instância"
   ]
  },
  {
   "cell_type": "markdown",
   "metadata": {},
   "source": [
    "<p>Existem, de fato, dois tipos distintos (na verdade dois escopos) de membros em uma classe: membros de classe e membros de instância.</p>\n",
    "<p>Os membros de instância são aqueles associados às instâncias da classe, ou seja, são variáveis que podem conter dados individuais dos objetos criados a partir de uma classe, além dos métodos típicos, que são as funções-membro de uma classe, que podem operar sobre os demais membros. As variáveis-membro de instância permitem armazenar dados individuais de cada objeto.</p>\n",
    "<p>Já os membros de classe, diferentemente, são associados à própria classe, ou seja, definem um conjunto de dados específico que é armazenado na própria classe. Tais variáveis-membro de classe são compartilhadas por todas as instâncias da classe, ou seja, são comuns à todos os objetos criados. Também podem existir métodos vinculados às proprias classes.</p>"
   ]
  },
  {
   "cell_type": "markdown",
   "metadata": {},
   "source": [
    "## Membros de instância"
   ]
  },
  {
   "cell_type": "markdown",
   "metadata": {},
   "source": [
    "<p>Membros de instância incluem variáveis e métodos.\n",
    "<ul>\n",
    "    <li>Variáveis (membro) de instância são definidas <b>dentro do</b> construtor da\n",
    "        classe (método especial <tt>__init__(self)</tt>) e devem ser qualificadas\n",
    "        com a palavra-reservada <tt>self</tt>. O uso dos prefixos <tt>_</tt> e \n",
    "        <tt>__</tt> possibilitam definir atributos protegidos e privados \n",
    "        respectivamente.</li> \n",
    "    <li>Métodos de instância são definidos no corpo da classe, como\n",
    "        funções, com uso da palavra-reservada <tt>def</tt>. Os métodos podem acessar\n",
    "        as variáveis-membro de instância qualificando-as com <tt>self</tt>. O uso dos\n",
    "        prefixos <tt>_</tt> e <tt>__</tt> possibilitam definir métodos protegidos e\n",
    "        privados respectivamente</li>\n",
    "</ul>\n",
    "<p>Membros de instâncias estão vinculados a suas próprias instâncias, ou seja, a objetos existentes.</p>"
   ]
  },
  {
   "cell_type": "code",
   "execution_count": null,
   "metadata": {},
   "outputs": [],
   "source": [
    "# A classe DaInstancia, que segue, contém:\n",
    "# -- construtor (método especial __init__)\n",
    "# -- variáveis de instância públicas: nome e valor_publico\n",
    "# -- variável de instância privada: __valor_privado\n",
    "# -- função de instância pública: set_valor_privado\n",
    "# -- função especial: __str__"
   ]
  },
  {
   "cell_type": "code",
   "execution_count": null,
   "metadata": {},
   "outputs": [],
   "source": [
    "class DaInstancia:\n",
    "    def __init__(self, nome, a):\n",
    "        # define variáveis de instância públicas\n",
    "        self.nome = nome\n",
    "        self.valor_publico = a\n",
    "        # define variável de instância privada\n",
    "        self.__valor_privado = 1\n",
    "\n",
    "    def set_valor_privado(self, valor):\n",
    "        if (valor > self.__valor_privado):\n",
    "            self.__valor_privado = valor\n",
    "\n",
    "    def __str__(self):\n",
    "        aux = f'{self.nome}[valor_publico={self.valor_publico},' \\\n",
    "        + f'valor_privado={self.__valor_privado}]'\n",
    "        return aux"
   ]
  },
  {
   "cell_type": "code",
   "execution_count": null,
   "metadata": {},
   "outputs": [],
   "source": [
    "# Cria um objeto com valor inicial 10\n",
    "obj1 = DaInstancia('obj1', 10)\n",
    "print(obj1)"
   ]
  },
  {
   "cell_type": "code",
   "execution_count": null,
   "metadata": {},
   "outputs": [],
   "source": [
    "# Cria um segundo objeto com valor inicial 20\n",
    "obj2 = DaInstancia('obj2', 20)\n",
    "print(obj2)"
   ]
  },
  {
   "cell_type": "markdown",
   "metadata": {},
   "source": [
    "<P><b>Todo</b> membro de instância (<i>variável</i> ou <i>método</i>) só pode ser acessado por meio de uma instância (um objeto) previamente criado!</p>\n",
    "</p>Cada instância possui suas próprias cópias de suas variáveis de instância (<i>públicas</i>, <i>protegidas</i> ou <i>privadas</i>). A alteração de variáveis de instância de um objeto <b>não</b> modificam o estado de outros objetos.</p>"
   ]
  },
  {
   "cell_type": "code",
   "execution_count": null,
   "metadata": {},
   "outputs": [],
   "source": [
    "# Altera variável de instância pública de obj1 para valor 15\n",
    "obj1.valor_publico = 15\n",
    "print(obj1)\n",
    "# Alteração no obj1 não produz efeito no obj2\n",
    "print(obj2)"
   ]
  },
  {
   "cell_type": "code",
   "execution_count": null,
   "metadata": {},
   "outputs": [],
   "source": [
    "# Altera variável de instância pública de obj2 para valor 25\n",
    "obj2.valor_publico = 25\n",
    "# Alteração no obj1 não produz efeito no obj2\n",
    "print(obj1)\n",
    "print(obj2)"
   ]
  },
  {
   "cell_type": "code",
   "execution_count": null,
   "metadata": {},
   "outputs": [],
   "source": [
    "# Altera variável de instância privada de obj1 para valor 2\n",
    "# com uso de método público de instância.\n",
    "obj1.set_valor_privado(2)\n",
    "print(obj1)\n",
    "# Alteração no obj1 não produz efeito no obj2\n",
    "print(obj2)"
   ]
  },
  {
   "cell_type": "code",
   "execution_count": null,
   "metadata": {},
   "outputs": [],
   "source": [
    "# Altera variável de instância privada de obj2 para valor 5\n",
    "# com uso de método público de instância.\n",
    "obj2.set_valor_privado(5)\n",
    "print(obj2)\n",
    "# Alteração no obj2 não produz efeito no obj1\n",
    "print(obj1)"
   ]
  },
  {
   "cell_type": "markdown",
   "metadata": {},
   "source": [
    "## Membros de classe"
   ]
  },
  {
   "cell_type": "markdown",
   "metadata": {},
   "source": [
    "<p>Membros de classe também podem incluir variáveis e métodos.\n",
    "<ul>\n",
    "    <li>Variáveis (membro) de classe são definidas <b>fora do</b> construtor, no corpo\n",
    "    da classe, sem qualquer qualificação.</li>\n",
    "    <li>Métodos de instância são definidos no corpo da classe, como\n",
    "        funções, com uso da palavra-reservada <tt>def</tt>.</li>\n",
    "</ul>\n",
    "<p>Membros de instância incluem variáveis e métodos.\n",
    "<ul>\n",
    "    <li>Variáveis (membro) de instância são definidas <b>dentro do</b> construtor da\n",
    "        classe (método especial <tt>__init__(self)</tt>) e devem ser qualificadas\n",
    "        com a palavra-reservada <tt>self</tt>. O uso dos prefixos <tt>_</tt> e \n",
    "        <tt>__</tt> possibilitam definir atributos protegidos e privados \n",
    "        respectivamente.</li> \n",
    "    <li>Métodos de instância são definidos no corpo da classe, como\n",
    "        funções, com uso da palavra-reservada <tt>def</tt>. Os métodos podem acessar\n",
    "        as variáveis-membro de instância qualificando-as com <tt>self</tt>. O uso dos\n",
    "        prefixos <tt>_</tt> e <tt>__</tt> possibilitam definir métodos protegidos e\n",
    "        privados respectivamente</li>\n",
    "</ul>\n",
    "<p>Membros de instâncias estão vinculados a suas próprias instâncias, ou seja, a objetos existentes.</p>"
   ]
  },
  {
   "cell_type": "code",
   "execution_count": null,
   "metadata": {},
   "outputs": [],
   "source": [
    "# A classe DaClasse, que segue, contém:\n",
    "# -- variável de classe pública: classe_publico\n",
    "# -- variável de classe privada: __classe_privado\n",
    "# -- construtor (método especial __init__)\n",
    "# -- variável de instância pública: nome\n",
    "# -- função de instância pública: get_classe_privado\n",
    "# -- função de classe pública (estática): set_classe_privado\n",
    "# -- função especial: __str__"
   ]
  },
  {
   "cell_type": "code",
   "execution_count": 1,
   "metadata": {},
   "outputs": [],
   "source": [
    "class DaClasse:\n",
    "    classe_publico = 'Comum'\n",
    "    __classe_privado = 'Privado'\n",
    "    \n",
    "    def __init__(self, nome):\n",
    "        # define variável de instância pública\n",
    "        self.nome = nome\n",
    "        \n",
    "    def get_classe_privado():\n",
    "        return DaClasse.__classe_privado\n",
    "    get_class_privado = staticmethod(get_classe_privado)\n",
    "\n",
    "    @staticmethod\n",
    "    def set_classe_privado(valor):\n",
    "        if (valor > DaClasse.__classe_privado):\n",
    "            DaClasse.__classe_privado = valor\n",
    "\n",
    "    def __str__(self):\n",
    "        aux = f'{self.nome}[classe_publico={DaClasse.classe_publico},' \\\n",
    "        + f'classe_privado={DaClasse.__classe_privado}]'\n",
    "        return aux"
   ]
  },
  {
   "cell_type": "code",
   "execution_count": 11,
   "metadata": {},
   "outputs": [
    {
     "name": "stdout",
     "output_type": "stream",
     "text": [
      "obj1[classe_publico=INCOMUM,classe_privado=Privado]\n"
     ]
    }
   ],
   "source": [
    "# Cria um objeto com nome obj1\n",
    "obj1 = DaClasse('obj1')\n",
    "print(obj1)"
   ]
  },
  {
   "cell_type": "code",
   "execution_count": 12,
   "metadata": {},
   "outputs": [
    {
     "name": "stdout",
     "output_type": "stream",
     "text": [
      "obj2[classe_publico=INCOMUM,classe_privado=Privado]\n"
     ]
    }
   ],
   "source": [
    "# Cria um segundo objeto com nome obj2\n",
    "obj2 = DaClasse('obj2')\n",
    "print(obj2)"
   ]
  },
  {
   "cell_type": "markdown",
   "metadata": {},
   "source": [
    "<P><b>Todo</b> membro de classe (<i>variável</i> ou <i>método</i>) só pode ser acessado por meio de sua classe, ou seja, não requer uma instância (um objeto) previamente criado!</p>\n",
    "</p>Como cada classe é única, os membros de classe associados (<i>públicos</i>, <i>protegidos</i> ou <i>privados</i>) também são únicos e estão vinculados à propria classe e não às suas instâncias.</p>\n",
    "<p>A alteração de variáveis de classe <b>não</b> modificam o estado de quaisquer objetos, mas apenas da própria classe.</p>"
   ]
  },
  {
   "cell_type": "code",
   "execution_count": 13,
   "metadata": {},
   "outputs": [
    {
     "name": "stdout",
     "output_type": "stream",
     "text": [
      "Objeto 1[classe_publico=INCOMUM,classe_privado=Privado]\n",
      "obj2[classe_publico=INCOMUM,classe_privado=Privado]\n"
     ]
    }
   ],
   "source": [
    "# Altera variável de instância pública do obj1\n",
    "obj1.nome = 'Objeto 1'\n",
    "# Alteração no obj1 pode ser observada\n",
    "print(obj1)\n",
    "# Alteração no obj1 não produz efeito no obj2\n",
    "print(obj2)"
   ]
  },
  {
   "cell_type": "code",
   "execution_count": 14,
   "metadata": {},
   "outputs": [
    {
     "name": "stdout",
     "output_type": "stream",
     "text": [
      "Objeto 2[classe_publico=INCOMUM,classe_privado=Privado]\n",
      "Objeto 1[classe_publico=INCOMUM,classe_privado=Privado]\n"
     ]
    }
   ],
   "source": [
    "# Altera variável de instância pública do obj2\n",
    "obj2.nome = 'Objeto 2'\n",
    "# Alteração no obj2 pode ser observada\n",
    "print(obj2)\n",
    "# Alteração no obj2 não produz efeito no obj1\n",
    "print(obj1)"
   ]
  },
  {
   "cell_type": "code",
   "execution_count": 15,
   "metadata": {},
   "outputs": [
    {
     "name": "stdout",
     "output_type": "stream",
     "text": [
      "Objeto 1[classe_publico=INCOMUM,classe_privado=Privado]\n",
      "Objeto 2[classe_publico=INCOMUM,classe_privado=Privado]\n"
     ]
    }
   ],
   "source": [
    "# Altera variável de classe pública de DaClasse\n",
    "DaClasse.classe_publico = 'INCOMUM'\n",
    "# Alteração na classe produz efeito no obj1\n",
    "print(obj1)\n",
    "# Alteração na classe produz efeito no obj2\n",
    "print(obj2)"
   ]
  },
  {
   "cell_type": "code",
   "execution_count": 16,
   "metadata": {},
   "outputs": [
    {
     "name": "stdout",
     "output_type": "stream",
     "text": [
      "Objeto 1[classe_publico=INCOMUM,classe_privado=RESTRITO]\n",
      "Objeto 2[classe_publico=INCOMUM,classe_privado=RESTRITO]\n"
     ]
    }
   ],
   "source": [
    "# Altera variável de classe privada de DaClasse\n",
    "DaClasse.set_classe_privado('RESTRITO')\n",
    "# Alteração na classe produz efeito no obj1\n",
    "print(obj1)\n",
    "# Alteração na classe produz efeito no obj2\n",
    "print(obj2)"
   ]
  },
  {
   "cell_type": "markdown",
   "metadata": {},
   "source": [
    "<h4>Considerações adicionais:</h4>\n",
    "<ul>\n",
    "    <li>Observe no código da classe <tt>DaClasse</tt> que existem duas maneiras para definir um método estático:</li>\n",
    "    <ul>\n",
    "        <li>Por meio dada função <i>built-in</i> <tt>staticmethod</tt>; e</li>\n",
    "        <li>Com uso da anotação <tt>@staticmethod</tt>.</li>\n",
    "    </ul>\n",
    "    <li>Membros de classe podem ser úteis para criação de bibliotecas de funções, pois as operações definidas não requerem um contexto (tal como o provido pelas variáveis de instância). Ainda assim, devem ser usados com parcimônia.</li>\n",
    "</ul>"
   ]
  },
  {
   "cell_type": "markdown",
   "metadata": {},
   "source": [
    "### FIM\n",
    "### <a href=\"http://github.com/pjandl/opy2\">Oficina Python Intermediário</a>"
   ]
  }
 ],
 "metadata": {
  "kernelspec": {
   "display_name": "Python 3",
   "language": "python",
   "name": "python3"
  },
  "language_info": {
   "codemirror_mode": {
    "name": "ipython",
    "version": 3
   },
   "file_extension": ".py",
   "mimetype": "text/x-python",
   "name": "python",
   "nbconvert_exporter": "python",
   "pygments_lexer": "ipython3",
   "version": "3.8.5"
  }
 },
 "nbformat": 4,
 "nbformat_minor": 4
}
