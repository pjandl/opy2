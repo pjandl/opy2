{
 "cells": [
  {
   "cell_type": "markdown",
   "metadata": {},
   "source": [
    "<img src='op2-u04.png'/>\n",
    "<h2><font color='#7F0000'>OP2-OO-14-Métodos Especiais I</font></h2>"
   ]
  },
  {
   "cell_type": "markdown",
   "metadata": {},
   "source": [
    "<table width='100%'>\n",
    "    <tbody>\n",
    "        <tr>\n",
    "            <td width='33%' style='text-align: left; background-color: #DDDDDD; vertical-align: top;'>Notebook Anterior<br><a href=\"../Notebooks%20U03/OP2-13-OO-Membros-de-Classe-e-de-Instancia.ipynb\">OP2-13-OO-Membros-de-Classe-e-de-Instancia</a></td>\n",
    "            <td width='34%' style='text-align: left; background-color: #DDDDDD; vertical-align: top;'>&nbsp;<br/>\n",
    "            </td>\n",
    "            <td width='33%'style='text-align: left; background-color: #DDDDDD; vertical-align: top;'>Próximo Notebook<br/><a href=\"OP2-15-OO-Metodos-Especiais-II.ipynb\">OP2-15-OO-Metodos-Especiais-II</a></td>\n",
    "        </tr>\n",
    "    </tbody>\n",
    "</table>"
   ]
  },
  {
   "cell_type": "markdown",
   "metadata": {},
   "source": [
    "## Métodos Especiais"
   ]
  },
  {
   "cell_type": "markdown",
   "metadata": {},
   "source": [
    "<p>Além dos métodos que podem ser livremente definidos pelo programador, as classes também podem conter a implementação de métodos ditos especiais (ou 'mágicos'), pois são naturalmente integrados ao ambiente Python e permitem enriquecer sua implementação, facilitando o uso de seus objetos.</p>\n",
    "<p>Os métodos especiais tem a forma <tt>__NOME__(self)</tt> (e por isso conhecidos como <i>dunder methods</i> ou <i>double underline methods</i>). Os mais conhecidos e utilizados são:</p>\n",
    "<ul>\n",
    "    <li><tt>__init__(self)</tt></li>\n",
    "    <li><tt>__str__(self)</tt></li>\n",
    "    <li><tt>__repr__(self)</tt></li>\n",
    "    <li><tt>__len__(self)</tt></li>\n",
    "    <li><tt>__getitem__(self, position)</tt></li>\n",
    "    <li><tt>__setitem__(self, position, value)</tt></li>\n",
    "    <li><tt>__iter__(self)</tt></li>\n",
    "    <li><tt>__next__(self)</tt></li>\n",
    "</ul>\n",
    "<p>Neste notebook veremos a implementação e uso dos métodos <tt>__init__()</tt>, <tt>__str__()</tt>, <tt>__repr__()</tt> e <tt>__len__()</tt>."
   ]
  },
  {
   "cell_type": "markdown",
   "metadata": {},
   "source": [
    "### Pilhas"
   ]
  },
  {
   "cell_type": "markdown",
   "metadata": {},
   "source": [
    "<p>Uma pilha é uma estrutura de dados bastante comum e muito utilizada em diversos sistemas físicos e, por conseguinte, nos softwares que o suportam.</p>\n",
    "<p>Minimamente, uma pilha deve oferecer operações para adicionar/empilhar elementos, como <tt>pop(item)</tt>; e remover/desempilhar elementos, como <tt>push()</tt> Numa pilha os elementos são sempre adicionados e removidos do topo da pilha.</p>\n",
    "<p>Uma pilha simples pode ser implementada como na classe <tt>Pilha</tt> que segue, utilizando uma lista para armazenamento interno de seus elementos.</p>"
   ]
  },
  {
   "cell_type": "code",
   "execution_count": null,
   "metadata": {},
   "outputs": [],
   "source": [
    "class Pilha:\n",
    "    '''Pilha, estrutura de dados LIFO (Last In First Out).'''\n",
    "    # construtor é, de fato, um método especial\n",
    "    def __init__(self):\n",
    "        # variável-membro de instância privada com lista vazia\n",
    "        self.__elemento = []\n",
    "        \n",
    "    def push(self, item):\n",
    "        '''Adiciona um item no topo da pilha'''\n",
    "        self.__elemento.append(item)\n",
    "        \n",
    "    def pop(self):\n",
    "        '''Remove e retorna o item do topo pilha'''\n",
    "        try:\n",
    "            return self.__elemento.pop()\n",
    "        except:\n",
    "            # customização da mensagem de exceção\n",
    "            raise IndexError('pop realizado em pilha vazia')"
   ]
  },
  {
   "cell_type": "markdown",
   "metadata": {},
   "source": [
    "<p>A criação de objetos do tipo <tt>Pilha</tt> é feita por meio do acionamento indireto de seu método especial <tt>__init__</tt>."
   ]
  },
  {
   "cell_type": "code",
   "execution_count": null,
   "metadata": {},
   "outputs": [],
   "source": [
    "# Criação de um objeto da classe Pilha\n",
    "pilha1 = Pilha()"
   ]
  },
  {
   "cell_type": "markdown",
   "metadata": {},
   "source": [
    "<p>As funções <i>built-in</i> <tt>print()</tt> e <tt>str()</tt> acionam o método <tt>__str__()</tt>, exibindo seu resultado.</p>"
   ]
  },
  {
   "cell_type": "code",
   "execution_count": null,
   "metadata": {},
   "outputs": [],
   "source": [
    "# Uso implícito do método __str__()\n",
    "print(pilha1)"
   ]
  },
  {
   "cell_type": "code",
   "execution_count": null,
   "metadata": {},
   "outputs": [],
   "source": [
    "# Função built-in que usa método __str__()\n",
    "str(pilha1)"
   ]
  },
  {
   "cell_type": "markdown",
   "metadata": {},
   "source": [
    "<p>A avaliação de um objeto no console Python aciona implícitamente o método <tt>__repr__()</tt>, cujo resultado também pode ser obtido com uso da função <i>built-in</i> <tt>repr()</tt>.</p>"
   ]
  },
  {
   "cell_type": "code",
   "execution_count": null,
   "metadata": {},
   "outputs": [],
   "source": [
    "# Uso implícito do método __repr__()\n",
    "pilha1"
   ]
  },
  {
   "cell_type": "code",
   "execution_count": null,
   "metadata": {},
   "outputs": [],
   "source": [
    "# Função built-in que usa método __repr__()\n",
    "repr(pilha1)"
   ]
  },
  {
   "cell_type": "markdown",
   "metadata": {},
   "source": [
    "<p>Uma pilha do tipo <tt>Pilha</tt> pode armazenar elementos, que devem ser adicionados com uso de seu método <tt>push()</tt>.</p>"
   ]
  },
  {
   "cell_type": "code",
   "execution_count": null,
   "metadata": {},
   "outputs": [],
   "source": [
    "# Adição de elementos: simples e não causa problemas\n",
    "for e in range(4):\n",
    "    pilha1.push(e)"
   ]
  },
  {
   "cell_type": "markdown",
   "metadata": {},
   "source": [
    "<p>No entanto, não há como verificar a adição prévia de elementos, exceto com o uso de <tt>pop()</tt>, que os retira da pilha!</p>"
   ]
  },
  {
   "cell_type": "code",
   "execution_count": null,
   "metadata": {},
   "outputs": [],
   "source": [
    "# Remoção de elementos: depende da presença de elementos na pilha\n",
    "for e in range(4):\n",
    "    print(pilha1.pop())"
   ]
  },
  {
   "cell_type": "markdown",
   "metadata": {},
   "source": [
    "<p>Também não há como verificar se a remoção de elementos é possível, o que induz à erros!</p>"
   ]
  },
  {
   "cell_type": "code",
   "execution_count": null,
   "metadata": {},
   "outputs": [],
   "source": [
    "# Tentativa de remoção de elementos com a pilha vazia\n",
    "pilha1.pop()"
   ]
  },
  {
   "cell_type": "markdown",
   "metadata": {},
   "source": [
    "<p>Como saber quantos são os elementos presentes na pilha?<br/>\n",
    "    Como acessar individualmente os elementos presentes na pilha?<br/>\n",
    "    Seria possível navegar pelos elementos da pilha, tal como para as demais estruturas de dados do Python?</p>\n",
    "<p>O uso de métodos especiais podem solucionar estas questões e, ao mesmo tempo, integrar os objetos desta classe ao ambiente de execução Python.</p>"
   ]
  },
  {
   "cell_type": "markdown",
   "metadata": {},
   "source": [
    "## Principais Métodos Especiais"
   ]
  },
  {
   "cell_type": "markdown",
   "metadata": {},
   "source": [
    "### Método especial `__init__(self)`"
   ]
  },
  {
   "cell_type": "markdown",
   "metadata": {},
   "source": [
    "<p>Realiza a inicialização de novos objetos, ou seja, funciona como o construtor das instâncias da classe, podendo receber um mais parâmetros obrigatórios ou opcionais. Sua implementação é <b>opcional</b>, mas é necessária para realizar a definição das variáveis-membro de instância.</p>\n",
    "<p>Assim, <tt>__init__()</tt> é o método especial de inicialização de objetos, que atua efetivamente como o construtor das classe onde está presente.</p>\n",
    "<p>Obrigatoriamente <tt>__init__()</tt> deve receber o parâmetro <tt>self</tt>, que constitui a autorreferencia dos objetos e, opcionalmente, outros parâmetros.</p>\n",
    "<p>Observe na classe <tt>Pilha</tt> a implementação do método especial <tt>__init__()</tt>, onde é declarada a variável de instância privada <tt>__elemento</tt>, que conterá os elementos da pilha e, assim, é inicializada como uma lista vazia.</p>"
   ]
  },
  {
   "cell_type": "code",
   "execution_count": null,
   "metadata": {},
   "outputs": [],
   "source": [
    "class Pilha_:\n",
    "    '''Pilha, estrutura de dados LIFO (Last In First Out).'''\n",
    "    def __init__(self):\n",
    "        # variável-membro de instância privada com lista vazia\n",
    "        self.__elemento = []"
   ]
  },
  {
   "cell_type": "code",
   "execution_count": null,
   "metadata": {},
   "outputs": [],
   "source": []
  },
  {
   "cell_type": "code",
   "execution_count": null,
   "metadata": {},
   "outputs": [],
   "source": [
    "# Instanciação de objeto do tipo Pilha\n",
    "pilha2 = Pilha()"
   ]
  },
  {
   "cell_type": "code",
   "execution_count": null,
   "metadata": {},
   "outputs": [],
   "source": [
    "# objeto pilha pode ser usado por meio de seus membros\n",
    "pilha2.push(7)\n",
    "pilha2.push(13)\n",
    "print(pilha2.pop()) # LIFO"
   ]
  },
  {
   "cell_type": "markdown",
   "metadata": {},
   "source": [
    "### Método especial `__str__(self)`"
   ]
  },
  {
   "cell_type": "markdown",
   "metadata": {},
   "source": [
    "<p>Retorna a representação textual do objeto, isto é, uma string contendo a descrição ou outras informações sobre o objeto, como o valor de seus campos. Sua implementação é <b>opcional</b>, ou seja, pode retornar qualquer combinação de dados do objeto, desde que seja retornada uma string (objeto do tipo <tt>str</tt>). Por padrão, seu retorno é semelhante ao obtido pelo uso de <tt>__repr__()</tt>.</p>\n",
    "<p>Este método é acionado <i>implicitamente</i> quando o objeto é concatenado com uma string ou quando é impresso diretamente pela função <tt>print()</tt>. É acionado pela função <i>built-in</i> <tt>str()</tt> e também pode ser acionado <i>explicitamente</i>.</p>"
   ]
  },
  {
   "cell_type": "code",
   "execution_count": null,
   "metadata": {},
   "outputs": [],
   "source": [
    "class Pilha:\n",
    "    # construtor é, de fato, um método especial\n",
    "    def __init__(self):\n",
    "        # variável-membro de instância privada com lista vazia\n",
    "        self.__elemento = []\n",
    "        \n",
    "    def push(self, item):\n",
    "        '''Adiciona um item no topo da pilha'''\n",
    "        self.__elemento.append(item)\n",
    "        \n",
    "    def pop(self):\n",
    "        '''Remove e retorna o item do topo pilha'''\n",
    "        try:\n",
    "            return self.__elemento.pop()\n",
    "        except:\n",
    "            # customização da mensagem de exceção\n",
    "            raise IndexError('pop realizado em pilha vazia')\n",
    "############################################################\n",
    "# Novo método da classe Pilha\n",
    "#\n",
    "    def __str__(self):\n",
    "        # retorna a representação da lista de elementos\n",
    "        return str(self.__elemento)"
   ]
  },
  {
   "cell_type": "code",
   "execution_count": null,
   "metadata": {},
   "outputs": [],
   "source": [
    "# Criação de um objeto da classe Pilha\n",
    "pilha3 = Pilha()"
   ]
  },
  {
   "cell_type": "code",
   "execution_count": null,
   "metadata": {},
   "outputs": [],
   "source": [
    "# Uso implícito de __repr__() --> mesmo resultado de antes!\n",
    "pilha3"
   ]
  },
  {
   "cell_type": "code",
   "execution_count": null,
   "metadata": {},
   "outputs": [],
   "source": [
    "# Função built-in que usa método __repr__() --> mesmo resultado de antes!\n",
    "repr(pilha3)"
   ]
  },
  {
   "cell_type": "code",
   "execution_count": null,
   "metadata": {},
   "outputs": [],
   "source": [
    "# Uso implícito de __str__() --> NOVO RESULTADO!\n",
    "print(pilha3)"
   ]
  },
  {
   "cell_type": "code",
   "execution_count": null,
   "metadata": {},
   "outputs": [],
   "source": [
    "# Função built-in que usa método __str__() --> NOVO RESULTADO!\n",
    "str(pilha3)"
   ]
  },
  {
   "cell_type": "code",
   "execution_count": null,
   "metadata": {},
   "outputs": [],
   "source": [
    "# Uso explícito do método __str__()\n",
    "pilha3.__str__()"
   ]
  },
  {
   "cell_type": "markdown",
   "metadata": {},
   "source": [
    "### Método especial `__repr__(self)`"
   ]
  },
  {
   "cell_type": "markdown",
   "metadata": {},
   "source": [
    "<p>Retorna uma string com representação interna objeto, ou seja, contendo informações pertinentes à criação do objeto. Como padrão produz o nome da classe e seu endereço de memória. Sua implementação é <b>opcional</b>, mas caso realizada, deve produzir um resultado coerente com seu propósito (dados técnicos do objeto) e que deve ser do tipo string (objeto do tipo <tt>str</tt>).</p>\n",
    "<p>Este método é acionado <i>implicitamente</i> quando uma referência do objeto avaliada pelo intepretador Python em modo interativo. É acionado pelo uso da função <i>built-in</i> <tt>repr()</tt> e também pode ser acionado <i>explicitamente</i>.</p>"
   ]
  },
  {
   "cell_type": "code",
   "execution_count": null,
   "metadata": {},
   "outputs": [],
   "source": [
    "class Pilha:\n",
    "    # construtor é, de fato, um método especial\n",
    "    def __init__(self):\n",
    "        # variável-membro de instância privada com lista vazia\n",
    "        self.__elemento = []\n",
    "        \n",
    "    def push(self, item):\n",
    "        '''Adiciona um item no topo da pilha'''\n",
    "        self.__elemento.append(item)\n",
    "        \n",
    "    def pop(self):\n",
    "        '''Remove e retorna o item do topo pilha'''\n",
    "        try:\n",
    "            return self.__elemento.pop()\n",
    "        except:\n",
    "            # customização da mensagem de exceção\n",
    "            raise IndexError('pop realizado em pilha vazia')\n",
    "    def __str__(self):\n",
    "        '''Retorna a representação textual da pilha (a relação de seus elementos)'''\n",
    "        # retorna a representação da lista interna de elementos\n",
    "        return str(self.__elemento)\n",
    "############################################################\n",
    "# Novo método da classe Pilha\n",
    "#\n",
    "    def __repr__(self):\n",
    "        '''Retorna a representação interna da pilha'''\n",
    "        # retorna uma representação interna alternativa\n",
    "        info = super().__repr__() # representação da superclasse\n",
    "        info = info[2:-2]         # remove delimitadores\n",
    "        info = info.split(' ')    # divide string\n",
    "        return f'class: {info[0]}, memory-address: {info[-1]}'"
   ]
  },
  {
   "cell_type": "code",
   "execution_count": null,
   "metadata": {},
   "outputs": [],
   "source": [
    "# Criação de um objeto da classe Pilha\n",
    "pilha4 = Pilha()"
   ]
  },
  {
   "cell_type": "code",
   "execution_count": null,
   "metadata": {},
   "outputs": [],
   "source": [
    "# Uso implícito de __repr__() --> NOVO RESULTADO!\n",
    "pilha4"
   ]
  },
  {
   "cell_type": "code",
   "execution_count": null,
   "metadata": {},
   "outputs": [],
   "source": [
    "# Função built-in que usa método __repr__() --> NOVO RESULTADO!\n",
    "repr(pilha4)"
   ]
  },
  {
   "cell_type": "code",
   "execution_count": null,
   "metadata": {},
   "outputs": [],
   "source": [
    "# Uso explícito de __repr__() --> NOVO RESULTADO!\n",
    "pilha4.__repr__()"
   ]
  },
  {
   "cell_type": "code",
   "execution_count": null,
   "metadata": {},
   "outputs": [],
   "source": [
    "# Resultados do método __str__() não são afetados\n",
    "print(pilha4, str(pilha4), pilha4.__str__())"
   ]
  },
  {
   "cell_type": "markdown",
   "metadata": {},
   "source": [
    "### Método especial `__len__(self)`"
   ]
  },
  {
   "cell_type": "markdown",
   "metadata": {},
   "source": [
    "<p>Retorna o comprimento, tamanho, número de elementos ou outro dado consistente com esta ideia. Por padrão <b>não</b> é implementado, ou seja, deve ser fornecido apenas quando coerente com o projeto da classe, produzindo um resultado do tipo <tt>int</tt>.</p>\n",
    "<p>Este método é acionado por meio da função <i>built-in</i> <tt>len()</tt> e também pode ser acionado <i>explicitamente</i>.</p>"
   ]
  },
  {
   "cell_type": "code",
   "execution_count": null,
   "metadata": {},
   "outputs": [],
   "source": [
    "class Pilha:\n",
    "    # construtor é, de fato, um método especial\n",
    "    def __init__(self):\n",
    "        # variável-membro de instância privada com lista vazia\n",
    "        self.__elemento = []\n",
    "        \n",
    "    def push(self, item):\n",
    "        '''Adiciona um item no topo da pilha'''\n",
    "        self.__elemento.append(item)\n",
    "        \n",
    "    def pop(self):\n",
    "        '''Remove e retorna o item do topo pilha'''\n",
    "        try:\n",
    "            return self.__elemento.pop()\n",
    "        except:\n",
    "            # customização da mensagem de exceção\n",
    "            raise IndexError('pop realizado em pilha vazia')\n",
    "    def __str__(self):\n",
    "        '''Retorna a representação textual da pilha (a relação de seus elementos)'''\n",
    "        # retorna a representação da lista interna de elementos\n",
    "        return str(self.__elemento)\n",
    "\n",
    "    def __repr__(self):\n",
    "        '''Retorna a representação interna da pilha'''\n",
    "        # retorna uma representação interna alternativa\n",
    "        info = super().__repr__() # representação da superclasse\n",
    "        info = info[2:-2]         # remove delimitadores\n",
    "        info = info.split(' ')    # divide string\n",
    "        return f'class: {info[0]}, memory-address: {info[-1]}'\n",
    "############################################################\n",
    "# Novo método da classe Pilha\n",
    "#\n",
    "    def __len__(self):\n",
    "        '''Retorna o número de elementos presentes na pilha'''\n",
    "        # retorna o número de elementos presentes na lista interna\n",
    "        return len(self.__elemento)"
   ]
  },
  {
   "cell_type": "code",
   "execution_count": null,
   "metadata": {},
   "outputs": [],
   "source": [
    "# Criação de um objeto da classe Pilha\n",
    "pilha5 = Pilha()\n",
    "print(pilha5)"
   ]
  },
  {
   "cell_type": "code",
   "execution_count": null,
   "metadata": {},
   "outputs": [],
   "source": [
    "# Função built-in que usa método __len__() --> NOVO RESULTADO!\n",
    "len(pilha5)"
   ]
  },
  {
   "cell_type": "code",
   "execution_count": null,
   "metadata": {},
   "outputs": [],
   "source": [
    "# Uso explícito de __len__() --> NOVO RESULTADO!\n",
    "pilha5.__len__()"
   ]
  },
  {
   "cell_type": "code",
   "execution_count": null,
   "metadata": {},
   "outputs": [],
   "source": [
    "# Adição de elementos\n",
    "for i in range(4):\n",
    "    pilha5.push(i)\n",
    "    print(i, \"-->\", pilha5, \":\", len(pilha5))"
   ]
  },
  {
   "cell_type": "code",
   "execution_count": null,
   "metadata": {},
   "outputs": [],
   "source": [
    "while len(pilha5)>0:\n",
    "    elemento = pilha5.pop()\n",
    "    print(elemento, \"<--\", pilha5, \":\", len(pilha5))"
   ]
  },
  {
   "cell_type": "markdown",
   "metadata": {},
   "source": [
    "<p>Agora é possível saber quantos são os elementos presentes na pilha, o que permite maior controle sobre sua utilização, mas, ainda não é possível acessar individualmente seus elementos, nem realizar a navegação por seu conteúdo, como nas demais estruturas de dados do Python.</p>"
   ]
  },
  {
   "cell_type": "markdown",
   "metadata": {},
   "source": [
    "### FIM\n",
    "### <a href=\"http://github.com/pjandl/opy2\">Oficina Python Intermediário</a>"
   ]
  }
 ],
 "metadata": {
  "kernelspec": {
   "display_name": "Python 3",
   "language": "python",
   "name": "python3"
  },
  "language_info": {
   "codemirror_mode": {
    "name": "ipython",
    "version": 3
   },
   "file_extension": ".py",
   "mimetype": "text/x-python",
   "name": "python",
   "nbconvert_exporter": "python",
   "pygments_lexer": "ipython3",
   "version": "3.8.5"
  }
 },
 "nbformat": 4,
 "nbformat_minor": 4
}
