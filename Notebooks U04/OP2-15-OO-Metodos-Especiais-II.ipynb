{
 "cells": [
  {
   "cell_type": "markdown",
   "metadata": {},
   "source": [
    "<img src='op2-u04.png'/>\n",
    "<h2><font color='#7F0000'>OP2-OO-15-Métodos Especiais II</font></h2>"
   ]
  },
  {
   "cell_type": "markdown",
   "metadata": {},
   "source": [
    "<table width='100%'>\n",
    "    <tbody>\n",
    "        <tr>\n",
    "            <td width='33%' style='text-align: left; background-color: #DDDDDD; vertical-align: top;'>Notebook Anterior<br><a href=\"OP2-14-OO-Metodos-Especiais-I.ipynb\">OP2-14-OO-Metodos-Especiais-I</a></td>\n",
    "            <td width='34%' style='text-align: left; background-color: #DDDDDD; vertical-align: top;'>&nbsp;<br/>\n",
    "            </td>\n",
    "            <td width='33%'style='text-align: left; background-color: #DDDDDD; vertical-align: top;'>Próximo Notebook<br/><a href=\"OP2-16-OO-Heranca.ipynb\">OP2-16-OO-Heranca</a></td>\n",
    "        </tr>\n",
    "    </tbody>\n",
    "</table>"
   ]
  },
  {
   "cell_type": "markdown",
   "metadata": {},
   "source": [
    "## Mais Métodos Especiais"
   ]
  },
  {
   "cell_type": "markdown",
   "metadata": {},
   "source": [
    "<p>Sabemos que as classes podem conter a implementação de métodos especiais (ou 'mágicos'), que tem a forma <tt>__NOME__(self)</tt> e são naturalmente integrados ao ambiente Python. A definição destes métodos acrescentam muitas facilidades ao uso dos objetos de suas classes.</p>\n",
    "<p>Neste notebook vamos estudar os seguintes métodos especiais:</p>\n",
    "<ul>\n",
    "    <li><tt>__getitem__(self, position)</tt></li>\n",
    "    <li><tt>__setitem__(self, position, value)</tt></li>\n",
    "    <li><tt>__iter__(self)</tt></li>\n",
    "    <li><tt>__next__(self)</tt></li>\n",
    "</ul>"
   ]
  },
  {
   "cell_type": "markdown",
   "metadata": {},
   "source": [
    "### A classe Pilha"
   ]
  },
  {
   "cell_type": "markdown",
   "metadata": {},
   "source": [
    "<p>As pilhas são estruturas de dados bastante comuns e muito utilizadas em diferentes tipos de programas.</p>\n",
    "<p>Considere a última versão da classe <tt>Pilha</tt>, tal como definida no <a href='OP2-14-OO-Metodos-Especiais-I.ipynb'>notebook anterior</a>.</p>"
   ]
  },
  {
   "cell_type": "code",
   "execution_count": null,
   "metadata": {},
   "outputs": [],
   "source": [
    "class Pilha:\n",
    "    '''Pilha, estrutura de dados LIFO (Last In First Out).'''\n",
    "    # construtor é, de fato, um método especial\n",
    "    def __init__(self):\n",
    "        # variável-membro de instância privada com lista vazia\n",
    "        self.__elemento = []\n",
    "        \n",
    "    def push(self, item):\n",
    "        '''Adiciona um item no topo da pilha'''\n",
    "        self.__elemento.append(item)\n",
    "        \n",
    "    def pop(self):\n",
    "        '''Remove e retorna o item do topo pilha'''\n",
    "        try:\n",
    "            return self.__elemento.pop()\n",
    "        except:\n",
    "            # customização da mensagem de exceção\n",
    "            raise IndexError('pop realizado em pilha vazia')"
   ]
  },
  {
   "cell_type": "markdown",
   "metadata": {},
   "source": [
    "<p>A partir de um objeto da classe <tt>Pilha</tt> é possível acionar seu métodos"
   ]
  },
  {
   "cell_type": "code",
   "execution_count": null,
   "metadata": {},
   "outputs": [],
   "source": [
    "# Criação de um objeto da classe Pilha\n",
    "pilha1 = Pilha()"
   ]
  },
  {
   "cell_type": "code",
   "execution_count": null,
   "metadata": {},
   "outputs": [],
   "source": [
    "# Uso implícito do método __str__()\n",
    "print(pilha1)"
   ]
  },
  {
   "cell_type": "code",
   "execution_count": null,
   "metadata": {},
   "outputs": [],
   "source": [
    "# Função built-in que usa método __str__()\n",
    "str(pilha1)"
   ]
  },
  {
   "cell_type": "code",
   "execution_count": null,
   "metadata": {},
   "outputs": [],
   "source": [
    "# Uso implícito do método __repr__()\n",
    "pilha1"
   ]
  },
  {
   "cell_type": "code",
   "execution_count": null,
   "metadata": {},
   "outputs": [],
   "source": [
    "# Função built-in que usa método __repr__()\n",
    "repr(pilha1)"
   ]
  },
  {
   "cell_type": "code",
   "execution_count": null,
   "metadata": {},
   "outputs": [],
   "source": [
    "# Adição de elementos: simples e não causa problemas\n",
    "for e in range(4):\n",
    "    pilha1.push(e)"
   ]
  },
  {
   "cell_type": "markdown",
   "metadata": {},
   "source": [
    "<p>Não há como verificar a adição de elementos, exceto com o uso de pop()!</p>"
   ]
  },
  {
   "cell_type": "code",
   "execution_count": null,
   "metadata": {},
   "outputs": [],
   "source": [
    "# Remoção de elementos: depende da presença de elementos na pilha\n",
    "for e in range(4):\n",
    "    print(pilha1.pop())"
   ]
  },
  {
   "cell_type": "markdown",
   "metadata": {},
   "source": [
    "<p>Não há como verificar se uma remoção de elementos é possível!</p>"
   ]
  },
  {
   "cell_type": "code",
   "execution_count": null,
   "metadata": {},
   "outputs": [],
   "source": [
    "# Tentativa de remoção de elementos com a pilha vazia\n",
    "pilha1.pop()"
   ]
  },
  {
   "cell_type": "markdown",
   "metadata": {},
   "source": [
    "<p>Como saber quantos são os elementos presentes na pilha?<br/>\n",
    "    Como acessar individualmente os elementos presentes na pilha?<br/>\n",
    "    Seria possível navegar pelos elementos da pilha, tal como para as demais estruturas de dados do Python?</p>\n",
    "<p>O uso de métodos especiais podem solucionar estas questões e, ao mesmo tempo, integrar os objetos desta classe ao ambiente de execução Python.</p>"
   ]
  },
  {
   "cell_type": "markdown",
   "metadata": {},
   "source": [
    "## Principais Métodos Especiais"
   ]
  },
  {
   "cell_type": "markdown",
   "metadata": {},
   "source": [
    "### Método especial `__init__(self)`"
   ]
  },
  {
   "cell_type": "markdown",
   "metadata": {},
   "source": [
    "<p>Realiza a inicialização de novos objetos, ou seja, funciona como o construtor das instâncias da classe, podendo receber um mais parâmetros obrigatórios ou opcionais. Sua implementação é <b>opcional</b>, mas é necessária para realizar a definição das variáveis-membro de instância.</p>"
   ]
  },
  {
   "cell_type": "code",
   "execution_count": null,
   "metadata": {},
   "outputs": [],
   "source": [
    "# Método especial de inicialização, que atua como construtor da pilha simples.\n",
    "# Define a variável de instância privada __elemento como uma lista para conter os \n",
    "# elementos armazenados pela pilha.\n",
    "class Pilha_:\n",
    "    def __init__(self):\n",
    "        # variável-membro de instância privada com lista vazia\n",
    "        self.__elemento = []"
   ]
  },
  {
   "cell_type": "code",
   "execution_count": null,
   "metadata": {},
   "outputs": [],
   "source": [
    "# Instanciação de objeto do tipo Pilha\n",
    "pilha2 = Pilha()"
   ]
  },
  {
   "cell_type": "code",
   "execution_count": null,
   "metadata": {},
   "outputs": [],
   "source": [
    "# objeto pilha pode ser usado por meio de seus membros\n",
    "pilha2.push(7)\n",
    "pilha2.push(13)\n",
    "print(pilha2.pop()) # LIFO"
   ]
  },
  {
   "cell_type": "markdown",
   "metadata": {},
   "source": [
    "### Método especial `__str__(self)`"
   ]
  },
  {
   "cell_type": "markdown",
   "metadata": {},
   "source": [
    "<p>Retorna a representação textual do objeto, isto é, uma string contendo a descrição ou outras informações sobre o objeto, como o valor de seus campos. Sua implementação é <b>opcional</b>, ou seja, pode retornar qualquer combinação de dados do objeto, desde que seja retornada uma string (objeto do tipo <tt>str</tt>). Por padrão, seu retorno é semelhante ao obtido pelo uso de <tt>__repr__()</tt>.</p>\n",
    "<p>Este método é acionado <i>implicitamente</i> quando o objeto é concatenado com uma string ou quando é impresso diretamente pela função <tt>print()</tt>. É acionado pela função <i>built-in</i> <tt>str()</tt> e também pode ser acionado <i>explicitamente</i>.</p>"
   ]
  },
  {
   "cell_type": "code",
   "execution_count": null,
   "metadata": {},
   "outputs": [],
   "source": [
    "class Pilha:\n",
    "    # construtor é, de fato, um método especial\n",
    "    def __init__(self):\n",
    "        # variável-membro de instância privada com lista vazia\n",
    "        self.__elemento = []\n",
    "        \n",
    "    def push(self, item):\n",
    "        '''Adiciona um item no topo da pilha'''\n",
    "        self.__elemento.append(item)\n",
    "        \n",
    "    def pop(self):\n",
    "        '''Remove e retorna o item do topo pilha'''\n",
    "        try:\n",
    "            return self.__elemento.pop()\n",
    "        except:\n",
    "            # customização da mensagem de exceção\n",
    "            raise IndexError('pop realizado em pilha vazia')\n",
    "############################################################\n",
    "# Novo método da classe Pilha\n",
    "#\n",
    "    def __str__(self):\n",
    "        # retorna a representação da lista de elementos\n",
    "        return str(self.__elemento)"
   ]
  },
  {
   "cell_type": "code",
   "execution_count": null,
   "metadata": {},
   "outputs": [],
   "source": [
    "# Criação de um objeto da classe Pilha\n",
    "pilha3 = Pilha()"
   ]
  },
  {
   "cell_type": "code",
   "execution_count": null,
   "metadata": {},
   "outputs": [],
   "source": [
    "# Uso implícito de __repr__() --> mesmo resultado de antes!\n",
    "pilha3"
   ]
  },
  {
   "cell_type": "code",
   "execution_count": null,
   "metadata": {},
   "outputs": [],
   "source": [
    "# Função built-in que usa método __repr__() --> mesmo resultado de antes!\n",
    "repr(pilha3)"
   ]
  },
  {
   "cell_type": "code",
   "execution_count": null,
   "metadata": {},
   "outputs": [],
   "source": [
    "# Uso implícito de __str__() --> NOVO RESULTADO!\n",
    "print(pilha3)"
   ]
  },
  {
   "cell_type": "code",
   "execution_count": null,
   "metadata": {},
   "outputs": [],
   "source": [
    "# Função built-in que usa método __str__() --> NOVO RESULTADO!\n",
    "str(pilha3)"
   ]
  },
  {
   "cell_type": "code",
   "execution_count": null,
   "metadata": {},
   "outputs": [],
   "source": [
    "# Uso explícito do método __str__()\n",
    "pilha3.__str__()"
   ]
  },
  {
   "cell_type": "markdown",
   "metadata": {},
   "source": [
    "### Método especial `__repr__(self)`"
   ]
  },
  {
   "cell_type": "markdown",
   "metadata": {},
   "source": [
    "<p>Retorna uma string com representação interna objeto, ou seja, contendo informações pertinentes à criação do objeto. Como padrão produz o nome da classe e seu endereço de memória. Sua implementação é <b>opcional</b>, mas caso realizada, deve produzir um resultado coerente com seu propósito (dados técnicos do objeto) e que deve ser do tipo string (objeto do tipo <tt>str</tt>).</p>\n",
    "<p>Este método é acionado <i>implicitamente</i> quando uma referência do objeto avaliada pelo intepretador Python em modo interativo. É acionado pelo uso da função <i>built-in</i> <tt>repr()</tt> e também pode ser acionado <i>explicitamente</i>.</p>"
   ]
  },
  {
   "cell_type": "code",
   "execution_count": null,
   "metadata": {},
   "outputs": [],
   "source": [
    "class Pilha:\n",
    "    # construtor é, de fato, um método especial\n",
    "    def __init__(self):\n",
    "        # variável-membro de instância privada com lista vazia\n",
    "        self.__elemento = []\n",
    "        \n",
    "    def push(self, item):\n",
    "        '''Adiciona um item no topo da pilha'''\n",
    "        self.__elemento.append(item)\n",
    "        \n",
    "    def pop(self):\n",
    "        '''Remove e retorna o item do topo pilha'''\n",
    "        try:\n",
    "            return self.__elemento.pop()\n",
    "        except:\n",
    "            # customização da mensagem de exceção\n",
    "            raise IndexError('pop realizado em pilha vazia')\n",
    "    def __str__(self):\n",
    "        '''Retorna a representação textual da pilha (a relação de seus elementos)'''\n",
    "        # retorna a representação da lista interna de elementos\n",
    "        return str(self.__elemento)\n",
    "############################################################\n",
    "# Novo método da classe Pilha\n",
    "#\n",
    "    def __repr__(self):\n",
    "        '''Retorna a representação interna da pilha'''\n",
    "        # retorna uma representação interna alternativa\n",
    "        info = super().__repr__() # representação da superclasse\n",
    "        info = info[2:-2]         # remove delimitadores\n",
    "        info = info.split(' ')    # divide string\n",
    "        return f'class: {info[0]}, memory-address: {info[-1]}'"
   ]
  },
  {
   "cell_type": "code",
   "execution_count": null,
   "metadata": {},
   "outputs": [],
   "source": [
    "# Criação de um objeto da classe Pilha\n",
    "pilha4 = Pilha()"
   ]
  },
  {
   "cell_type": "code",
   "execution_count": null,
   "metadata": {},
   "outputs": [],
   "source": [
    "# Uso implícito de __repr__() --> NOVO RESULTADO!\n",
    "pilha4"
   ]
  },
  {
   "cell_type": "code",
   "execution_count": null,
   "metadata": {},
   "outputs": [],
   "source": [
    "# Função built-in que usa método __repr__() --> NOVO RESULTADO!\n",
    "repr(pilha4)"
   ]
  },
  {
   "cell_type": "code",
   "execution_count": null,
   "metadata": {},
   "outputs": [],
   "source": [
    "# Uso explícito de __repr__() --> NOVO RESULTADO!\n",
    "pilha4.__repr__()"
   ]
  },
  {
   "cell_type": "code",
   "execution_count": null,
   "metadata": {},
   "outputs": [],
   "source": [
    "# Resultados do método __str__() não são afetados\n",
    "print(pilha4, str(pilha4), pilha4.__str__())"
   ]
  },
  {
   "cell_type": "markdown",
   "metadata": {},
   "source": [
    "### Método especial `__len__(self)`"
   ]
  },
  {
   "cell_type": "markdown",
   "metadata": {},
   "source": [
    "<p>Retorna o comprimento, tamanho, número de elementos ou outro dado consistente com esta ideia. Por padrão <b>não</b> é implementado, ou seja, deve ser fornecido apenas quando coerente com o projeto da classe, produzindo um resultado do tipo <tt>int</tt>.</p>\n",
    "<p>Este método é acionado por meio da função <i>built-in</i> <tt>len()</tt> e também pode ser acionado <i>explicitamente</i>.</p>"
   ]
  },
  {
   "cell_type": "code",
   "execution_count": null,
   "metadata": {},
   "outputs": [],
   "source": [
    "class Pilha:\n",
    "    # construtor é, de fato, um método especial\n",
    "    def __init__(self):\n",
    "        # variável-membro de instância privada com lista vazia\n",
    "        self.__elemento = []\n",
    "        \n",
    "    def push(self, item):\n",
    "        '''Adiciona um item no topo da pilha'''\n",
    "        self.__elemento.append(item)\n",
    "        \n",
    "    def pop(self):\n",
    "        '''Remove e retorna o item do topo pilha'''\n",
    "        try:\n",
    "            return self.__elemento.pop()\n",
    "        except:\n",
    "            # customização da mensagem de exceção\n",
    "            raise IndexError('pop realizado em pilha vazia')\n",
    "    def __str__(self):\n",
    "        '''Retorna a representação textual da pilha (a relação de seus elementos)'''\n",
    "        # retorna a representação da lista interna de elementos\n",
    "        return str(self.__elemento)\n",
    "\n",
    "    def __repr__(self):\n",
    "        '''Retorna a representação interna da pilha'''\n",
    "        # retorna uma representação interna alternativa\n",
    "        info = super().__repr__() # representação da superclasse\n",
    "        info = info[2:-2]         # remove delimitadores\n",
    "        info = info.split(' ')    # divide string\n",
    "        return f'class: {info[0]}, memory-address: {info[-1]}'\n",
    "############################################################\n",
    "# Novo método da classe Pilha\n",
    "#\n",
    "    def __len__(self):\n",
    "        '''Retorna o número de elementos presentes na pilha'''\n",
    "        # retorna o número de elementos presentes na lista interna\n",
    "        return len(self.__elemento)"
   ]
  },
  {
   "cell_type": "code",
   "execution_count": null,
   "metadata": {},
   "outputs": [],
   "source": [
    "# Criação de um objeto da classe Pilha\n",
    "pilha5 = Pilha()\n",
    "print(pilha5)"
   ]
  },
  {
   "cell_type": "code",
   "execution_count": null,
   "metadata": {},
   "outputs": [],
   "source": [
    "# Função built-in que usa método __len__() --> NOVO RESULTADO!\n",
    "len(pilha5)"
   ]
  },
  {
   "cell_type": "code",
   "execution_count": null,
   "metadata": {},
   "outputs": [],
   "source": [
    "# Uso explícito de __len__() --> NOVO RESULTADO!\n",
    "pilha5.__len__()"
   ]
  },
  {
   "cell_type": "code",
   "execution_count": null,
   "metadata": {},
   "outputs": [],
   "source": [
    "# Adição de elementos\n",
    "for i in range(4):\n",
    "    pilha5.push(i)\n",
    "    print(i, \"-->\", pilha5, \":\", len(pilha5))"
   ]
  },
  {
   "cell_type": "code",
   "execution_count": null,
   "metadata": {},
   "outputs": [],
   "source": [
    "while len(pilha5)>0:\n",
    "    elemento = pilha5.pop()\n",
    "    print(elemento, \"<--\", pilha5, \":\", len(pilha5))"
   ]
  },
  {
   "cell_type": "markdown",
   "metadata": {},
   "source": [
    "<h4>Considerações adicionais:</h4>\n",
    "<ul>\n",
    "    <li>?</li>\n",
    "</ul>"
   ]
  },
  {
   "cell_type": "markdown",
   "metadata": {},
   "source": [
    "## ?"
   ]
  },
  {
   "cell_type": "code",
   "execution_count": null,
   "metadata": {},
   "outputs": [],
   "source": [
    "# \n",
    "# \n",
    "# \n",
    "# "
   ]
  },
  {
   "cell_type": "code",
   "execution_count": null,
   "metadata": {},
   "outputs": [],
   "source": []
  },
  {
   "cell_type": "markdown",
   "metadata": {},
   "source": [
    "### FIM\n",
    "### <a href=\"http://github.com/pjandl/opy2\">Oficina Python Intermediário</a>"
   ]
  }
 ],
 "metadata": {
  "kernelspec": {
   "display_name": "Python 3",
   "language": "python",
   "name": "python3"
  },
  "language_info": {
   "codemirror_mode": {
    "name": "ipython",
    "version": 3
   },
   "file_extension": ".py",
   "mimetype": "text/x-python",
   "name": "python",
   "nbconvert_exporter": "python",
   "pygments_lexer": "ipython3",
   "version": "3.8.5"
  }
 },
 "nbformat": 4,
 "nbformat_minor": 4
}
