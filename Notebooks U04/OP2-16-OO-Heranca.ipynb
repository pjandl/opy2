{
 "cells": [
  {
   "cell_type": "markdown",
   "metadata": {},
   "source": [
    "<img src='op2-u04.png'/>\n",
    "<h2><font color='#7F0000'>OP2-OO-16-Herança</font></h2>"
   ]
  },
  {
   "cell_type": "markdown",
   "metadata": {},
   "source": [
    "<table width='100%'>\n",
    "    <tbody>\n",
    "        <tr>\n",
    "            <td width='33%' style='text-align: left; background-color: #DDDDDD; vertical-align: top;'>Notebook Anterior<br><a href=\"OP2-15-OO-Metodos-Especiais-II.ipynb\">OP2-15-OO-Metodos-Especiais-II</a></td>\n",
    "            <td width='34%' style='text-align: left; background-color: #DDDDDD; vertical-align: top;'>&nbsp;<br/>\n",
    "            </td>\n",
    "            <td width='33%'style='text-align: left; background-color: #DDDDDD; vertical-align: top;'>Próximo Notebook<br/><a href=\"OP2-17-OO-Polimorfismo.ipynb\">OP2-17-OO-Polimorfismo</a></td>\n",
    "        </tr>\n",
    "    </tbody>\n",
    "</table>"
   ]
  },
  {
   "cell_type": "markdown",
   "metadata": {},
   "source": [
    "## ?"
   ]
  },
  {
   "cell_type": "code",
   "execution_count": 48,
   "metadata": {},
   "outputs": [],
   "source": [
    "# \n",
    "# \n",
    "# \n",
    "# "
   ]
  },
  {
   "cell_type": "code",
   "execution_count": 1,
   "metadata": {},
   "outputs": [],
   "source": [
    "# Classe para definir uma entidade\n",
    "class Pessoa:\n",
    "    def __init__(self, nome='Anônimo'):\n",
    "        self.nome = nome\n",
    "        \n",
    "    def __str__(self):\n",
    "        return f'Pessoa[nome={self.nome}]'"
   ]
  },
  {
   "cell_type": "code",
   "execution_count": 2,
   "metadata": {},
   "outputs": [
    {
     "name": "stdout",
     "output_type": "stream",
     "text": [
      "Nome: Anônimo\n",
      "Pessoa[nome=Anônimo]\n"
     ]
    }
   ],
   "source": [
    "# Instanciação de objeto tipo Pessoa\n",
    "alguem = Pessoa()\n",
    "print('Nome:', alguem.nome)\n",
    "print(alguem)"
   ]
  },
  {
   "cell_type": "code",
   "execution_count": 3,
   "metadata": {},
   "outputs": [
    {
     "name": "stdout",
     "output_type": "stream",
     "text": [
      "Nome: Peter\n",
      "Pessoa[nome=Peter]\n"
     ]
    }
   ],
   "source": [
    "# Instanciação de outro objeto tipo Pessoa\n",
    "prof = Pessoa('Peter')\n",
    "print('Nome:', prof.nome)\n",
    "print(prof)"
   ]
  },
  {
   "cell_type": "code",
   "execution_count": 4,
   "metadata": {},
   "outputs": [],
   "source": [
    "# Herança (direta, primeiro nível)\n",
    "class Funcionario(Pessoa):\n",
    "    def __init__(self, nome, lotacao):\n",
    "        # aciona construtor da superclasse\n",
    "        super().__init__(nome)\n",
    "        self.lotacao = lotacao\n",
    "    \n",
    "    def __str__(self):\n",
    "        return f'Funcionario[nome={self.nome},' \\\n",
    "               f'lotacao={self.lotacao}]'"
   ]
  },
  {
   "cell_type": "code",
   "execution_count": 5,
   "metadata": {},
   "outputs": [],
   "source": [
    "# Instanciação de objetos tipo Funcionario\n",
    "func1 = Funcionario('Peter Jandl Jr', 114)\n",
    "func2 = Funcionario('Claudio Oliveira', 114)\n",
    "func3 = Funcionario('Viviane Ramalho', 183)\n",
    "func4 = Funcionario('Cristina Becker', 183)"
   ]
  },
  {
   "cell_type": "code",
   "execution_count": 6,
   "metadata": {},
   "outputs": [
    {
     "name": "stdout",
     "output_type": "stream",
     "text": [
      "Funcionario[nome=Peter Jandl Jr,lotacao=114]\n",
      "Funcionario[nome=Claudio Oliveira,lotacao=114]\n",
      "Funcionario[nome=Viviane Ramalho,lotacao=183]\n",
      "Funcionario[nome=Cristina Becker,lotacao=183]\n"
     ]
    }
   ],
   "source": [
    "# Criação de lista de objetos Funcionario\n",
    "listaFunc = [func1, func2, func3, func4]\n",
    "for f in listaFunc:\n",
    "    print(f)"
   ]
  },
  {
   "cell_type": "code",
   "execution_count": 7,
   "metadata": {},
   "outputs": [
    {
     "name": "stdout",
     "output_type": "stream",
     "text": [
      "Funcionario[nome=Viviane Ramalho,lotacao=183]\n",
      "Funcionario[nome=Cristina Becker,lotacao=183]\n"
     ]
    }
   ],
   "source": [
    "# Filtragem de funcionários da lista\n",
    "for f in filter(lambda i : i.lotacao == 183, listaFunc):\n",
    "    print(f)"
   ]
  },
  {
   "cell_type": "code",
   "execution_count": 9,
   "metadata": {},
   "outputs": [],
   "source": [
    "# Herança (indireta, segundo nível)\n",
    "class Gerente(Funcionario):\n",
    "    def __init__(self, nome, lotacao, depto):\n",
    "        # aciona construtor da superclasse\n",
    "        super().__init__(nome, lotacao)\n",
    "        self.depto = depto\n",
    "    \n",
    "    def __str__(self):\n",
    "        return f'Gerente[nome={self.nome},' \\\n",
    "               f'lotacao={self.lotacao},depto={self.depto}]'"
   ]
  },
  {
   "cell_type": "code",
   "execution_count": 10,
   "metadata": {},
   "outputs": [],
   "source": [
    "# Instanciação de objetos tipo Gerente\n",
    "diretor1 = Gerente('Francesco Bordignon', 0, 114)\n",
    "diretor2 = Gerente('Marcos Maia', 0, 183)"
   ]
  },
  {
   "cell_type": "code",
   "execution_count": 11,
   "metadata": {},
   "outputs": [
    {
     "name": "stdout",
     "output_type": "stream",
     "text": [
      "Gerente[nome=Francesco Bordignon,lotacao=0,depto=114]\n",
      "Gerente[nome=Marcos Maia,lotacao=0,depto=183]\n"
     ]
    }
   ],
   "source": [
    "# Criação de lista de objetos Gerente\n",
    "listaDir = [diretor1, diretor2]\n",
    "for d in listaDir:\n",
    "    print(d)"
   ]
  },
  {
   "cell_type": "code",
   "execution_count": 12,
   "metadata": {},
   "outputs": [
    {
     "name": "stdout",
     "output_type": "stream",
     "text": [
      "Gerente[nome=Francesco Bordignon,lotacao=0,depto=114]\n",
      "\t Funcionario[nome=Peter Jandl Jr,lotacao=114]\n",
      "\t Funcionario[nome=Claudio Oliveira,lotacao=114]\n",
      "Gerente[nome=Marcos Maia,lotacao=0,depto=183]\n",
      "\t Funcionario[nome=Viviane Ramalho,lotacao=183]\n",
      "\t Funcionario[nome=Cristina Becker,lotacao=183]\n"
     ]
    }
   ],
   "source": [
    "# Listagem dos funcionários de cada gerente (for aninhados)\n",
    "for d in listaDir:\n",
    "    print(d)\n",
    "    for f in listaFunc:\n",
    "        if f.lotacao == d.depto:\n",
    "            print('\\t', f)"
   ]
  },
  {
   "cell_type": "code",
   "execution_count": 13,
   "metadata": {},
   "outputs": [
    {
     "name": "stdout",
     "output_type": "stream",
     "text": [
      "Gerente[nome=Francesco Bordignon,lotacao=0,depto=114]\n",
      "\t Funcionario[nome=Peter Jandl Jr,lotacao=114]\n",
      "\t Funcionario[nome=Claudio Oliveira,lotacao=114]\n",
      "Gerente[nome=Marcos Maia,lotacao=0,depto=183]\n",
      "\t Funcionario[nome=Viviane Ramalho,lotacao=183]\n",
      "\t Funcionario[nome=Cristina Becker,lotacao=183]\n"
     ]
    }
   ],
   "source": [
    "# Listagem dos funcionários de cada gerente (for e filtragem)\n",
    "for d in listaDir:\n",
    "    print(d)\n",
    "    for f in filter(lambda i : i.lotacao == d.depto, listaFunc):\n",
    "        print('\\t',f)"
   ]
  },
  {
   "cell_type": "markdown",
   "metadata": {},
   "source": [
    "<h4>Considerações adicionais:</h4>\n",
    "<ul>\n",
    "    <li>Python também suporta a herança múltipla, por meio da qual uma classe pode ser descendente de duas ou mais classes. Como o uso de herança múltipla é relativamente limitado (e controverso), este tópico não será tratado nesta oficina.</li>\n",
    "</ul>"
   ]
  },
  {
   "cell_type": "markdown",
   "metadata": {},
   "source": [
    "## ?"
   ]
  },
  {
   "cell_type": "code",
   "execution_count": 61,
   "metadata": {},
   "outputs": [],
   "source": [
    "# \n",
    "# \n",
    "# \n",
    "# "
   ]
  },
  {
   "cell_type": "code",
   "execution_count": null,
   "metadata": {},
   "outputs": [],
   "source": []
  },
  {
   "cell_type": "markdown",
   "metadata": {},
   "source": [
    "### FIM\n",
    "### <a href=\"http://github.com/pjandl/opy2\">Oficina Python Intermediário</a>"
   ]
  }
 ],
 "metadata": {
  "kernelspec": {
   "display_name": "Python 3",
   "language": "python",
   "name": "python3"
  },
  "language_info": {
   "codemirror_mode": {
    "name": "ipython",
    "version": 3
   },
   "file_extension": ".py",
   "mimetype": "text/x-python",
   "name": "python",
   "nbconvert_exporter": "python",
   "pygments_lexer": "ipython3",
   "version": "3.8.5"
  }
 },
 "nbformat": 4,
 "nbformat_minor": 4
}
